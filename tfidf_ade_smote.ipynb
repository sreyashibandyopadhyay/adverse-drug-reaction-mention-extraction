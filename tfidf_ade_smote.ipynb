{
  "nbformat": 4,
  "nbformat_minor": 0,
  "metadata": {
    "colab": {
      "name": "tfidf_ade_smote.ipynb",
      "provenance": [],
      "collapsed_sections": []
    },
    "kernelspec": {
      "display_name": "Python 3",
      "name": "python3"
    },
    "language_info": {
      "name": "python"
    }
  },
  "cells": [
    {
      "cell_type": "code",
      "metadata": {
        "id": "RUXTZDAdRVSv"
      },
      "source": [
        "import numpy as np\n",
        "import pandas as pd \n"
      ],
      "execution_count": 1,
      "outputs": []
    },
    {
      "cell_type": "code",
      "metadata": {
        "id": "Ylz0OuTqRtb8"
      },
      "source": [
        "result=pd.read_csv('/content/preprocessed_ade.csv')"
      ],
      "execution_count": 2,
      "outputs": []
    },
    {
      "cell_type": "code",
      "metadata": {
        "colab": {
          "base_uri": "https://localhost:8080/",
          "height": 402
        },
        "id": "35TbMIa-SNIV",
        "outputId": "788df912-c2ee-4277-9582-ef95fbcb3cd8"
      },
      "source": [
        "result"
      ],
      "execution_count": 3,
      "outputs": [
        {
          "output_type": "execute_result",
          "data": {
            "text/html": [
              "<div>\n",
              "<style scoped>\n",
              "    .dataframe tbody tr th:only-of-type {\n",
              "        vertical-align: middle;\n",
              "    }\n",
              "\n",
              "    .dataframe tbody tr th {\n",
              "        vertical-align: top;\n",
              "    }\n",
              "\n",
              "    .dataframe thead th {\n",
              "        text-align: right;\n",
              "    }\n",
              "</style>\n",
              "<table border=\"1\" class=\"dataframe\">\n",
              "  <thead>\n",
              "    <tr style=\"text-align: right;\">\n",
              "      <th></th>\n",
              "      <th>Unnamed: 0</th>\n",
              "      <th>observation</th>\n",
              "      <th>labels</th>\n",
              "    </tr>\n",
              "  </thead>\n",
              "  <tbody>\n",
              "    <tr>\n",
              "      <th>0</th>\n",
              "      <td>12606</td>\n",
              "      <td>early phase ii semi double blind study of the ...</td>\n",
              "      <td>0</td>\n",
              "    </tr>\n",
              "    <tr>\n",
              "      <th>1</th>\n",
              "      <td>685</td>\n",
              "      <td>cessation of mtx therapy led to complete regre...</td>\n",
              "      <td>0</td>\n",
              "    </tr>\n",
              "    <tr>\n",
              "      <th>2</th>\n",
              "      <td>5127</td>\n",
              "      <td>cutaneous biopsy showed hyphae and round inclu...</td>\n",
              "      <td>0</td>\n",
              "    </tr>\n",
              "    <tr>\n",
              "      <th>3</th>\n",
              "      <td>3158</td>\n",
              "      <td>she was treated with acyclovir and subsequentl...</td>\n",
              "      <td>1</td>\n",
              "    </tr>\n",
              "    <tr>\n",
              "      <th>4</th>\n",
              "      <td>10685</td>\n",
              "      <td>cisplatin was substituted and the patient achi...</td>\n",
              "      <td>0</td>\n",
              "    </tr>\n",
              "    <tr>\n",
              "      <th>...</th>\n",
              "      <td>...</td>\n",
              "      <td>...</td>\n",
              "      <td>...</td>\n",
              "    </tr>\n",
              "    <tr>\n",
              "      <th>23511</th>\n",
              "      <td>982</td>\n",
              "      <td>ticlopidine induced aplastic anemia  two new c...</td>\n",
              "      <td>1</td>\n",
              "    </tr>\n",
              "    <tr>\n",
              "      <th>23512</th>\n",
              "      <td>14487</td>\n",
              "      <td>the risks of sumatriptan administration in pat...</td>\n",
              "      <td>0</td>\n",
              "    </tr>\n",
              "    <tr>\n",
              "      <th>23513</th>\n",
              "      <td>4680</td>\n",
              "      <td>however   the spectrum of hosts and clinical p...</td>\n",
              "      <td>0</td>\n",
              "    </tr>\n",
              "    <tr>\n",
              "      <th>23514</th>\n",
              "      <td>2588</td>\n",
              "      <td>antibiotic treatment should be continued</td>\n",
              "      <td>0</td>\n",
              "    </tr>\n",
              "    <tr>\n",
              "      <th>23515</th>\n",
              "      <td>6571</td>\n",
              "      <td>in case     a total daily dose of    mg sertra...</td>\n",
              "      <td>1</td>\n",
              "    </tr>\n",
              "  </tbody>\n",
              "</table>\n",
              "<p>23516 rows × 3 columns</p>\n",
              "</div>"
            ],
            "text/plain": [
              "       Unnamed: 0                                        observation  labels\n",
              "0           12606  early phase ii semi double blind study of the ...       0\n",
              "1             685  cessation of mtx therapy led to complete regre...       0\n",
              "2            5127  cutaneous biopsy showed hyphae and round inclu...       0\n",
              "3            3158  she was treated with acyclovir and subsequentl...       1\n",
              "4           10685  cisplatin was substituted and the patient achi...       0\n",
              "...           ...                                                ...     ...\n",
              "23511         982  ticlopidine induced aplastic anemia  two new c...       1\n",
              "23512       14487  the risks of sumatriptan administration in pat...       0\n",
              "23513        4680  however   the spectrum of hosts and clinical p...       0\n",
              "23514        2588           antibiotic treatment should be continued       0\n",
              "23515        6571  in case     a total daily dose of    mg sertra...       1\n",
              "\n",
              "[23516 rows x 3 columns]"
            ]
          },
          "metadata": {
            "tags": []
          },
          "execution_count": 3
        }
      ]
    },
    {
      "cell_type": "code",
      "metadata": {
        "id": "hDo2CDogxaoL"
      },
      "source": [
        "validation_data = result.sample(frac = 0.2)\n",
        "result=result.drop(validation_data.index) "
      ],
      "execution_count": 4,
      "outputs": []
    },
    {
      "cell_type": "code",
      "metadata": {
        "colab": {
          "base_uri": "https://localhost:8080/",
          "height": 402
        },
        "id": "kCQ5MhJAxjYt",
        "outputId": "e81bfbb3-80ed-44cf-aab3-d98057c01fe1"
      },
      "source": [
        "validation_data"
      ],
      "execution_count": 5,
      "outputs": [
        {
          "output_type": "execute_result",
          "data": {
            "text/html": [
              "<div>\n",
              "<style scoped>\n",
              "    .dataframe tbody tr th:only-of-type {\n",
              "        vertical-align: middle;\n",
              "    }\n",
              "\n",
              "    .dataframe tbody tr th {\n",
              "        vertical-align: top;\n",
              "    }\n",
              "\n",
              "    .dataframe thead th {\n",
              "        text-align: right;\n",
              "    }\n",
              "</style>\n",
              "<table border=\"1\" class=\"dataframe\">\n",
              "  <thead>\n",
              "    <tr style=\"text-align: right;\">\n",
              "      <th></th>\n",
              "      <th>Unnamed: 0</th>\n",
              "      <th>observation</th>\n",
              "      <th>labels</th>\n",
              "    </tr>\n",
              "  </thead>\n",
              "  <tbody>\n",
              "    <tr>\n",
              "      <th>8085</th>\n",
              "      <td>13525</td>\n",
              "      <td>the other two patients developed immune relate...</td>\n",
              "      <td>0</td>\n",
              "    </tr>\n",
              "    <tr>\n",
              "      <th>4271</th>\n",
              "      <td>516</td>\n",
              "      <td>the day after clozapine was stopped   while he...</td>\n",
              "      <td>1</td>\n",
              "    </tr>\n",
              "    <tr>\n",
              "      <th>6683</th>\n",
              "      <td>7626</td>\n",
              "      <td>they are usually localized reactions such as e...</td>\n",
              "      <td>0</td>\n",
              "    </tr>\n",
              "    <tr>\n",
              "      <th>13674</th>\n",
              "      <td>11616</td>\n",
              "      <td>toxic encephalopathy related to antihistamine ...</td>\n",
              "      <td>0</td>\n",
              "    </tr>\n",
              "    <tr>\n",
              "      <th>13794</th>\n",
              "      <td>1130</td>\n",
              "      <td>other explanations for an exaggerated and dela...</td>\n",
              "      <td>0</td>\n",
              "    </tr>\n",
              "    <tr>\n",
              "      <th>...</th>\n",
              "      <td>...</td>\n",
              "      <td>...</td>\n",
              "      <td>...</td>\n",
              "    </tr>\n",
              "    <tr>\n",
              "      <th>3512</th>\n",
              "      <td>4717</td>\n",
              "      <td>we present four cases in which the use of hepa...</td>\n",
              "      <td>1</td>\n",
              "    </tr>\n",
              "    <tr>\n",
              "      <th>21464</th>\n",
              "      <td>2459</td>\n",
              "      <td>of the eight patients in clinical trials   fiv...</td>\n",
              "      <td>0</td>\n",
              "    </tr>\n",
              "    <tr>\n",
              "      <th>13711</th>\n",
              "      <td>2104</td>\n",
              "      <td>however   they subsequently were shown to be a...</td>\n",
              "      <td>0</td>\n",
              "    </tr>\n",
              "    <tr>\n",
              "      <th>22150</th>\n",
              "      <td>6156</td>\n",
              "      <td>while the pathogenetic and clinical relationsh...</td>\n",
              "      <td>0</td>\n",
              "    </tr>\n",
              "    <tr>\n",
              "      <th>8710</th>\n",
              "      <td>2143</td>\n",
              "      <td>this is a case of pseudoephedrine induced intr...</td>\n",
              "      <td>1</td>\n",
              "    </tr>\n",
              "  </tbody>\n",
              "</table>\n",
              "<p>4703 rows × 3 columns</p>\n",
              "</div>"
            ],
            "text/plain": [
              "       Unnamed: 0                                        observation  labels\n",
              "8085        13525  the other two patients developed immune relate...       0\n",
              "4271          516  the day after clozapine was stopped   while he...       1\n",
              "6683         7626  they are usually localized reactions such as e...       0\n",
              "13674       11616  toxic encephalopathy related to antihistamine ...       0\n",
              "13794        1130  other explanations for an exaggerated and dela...       0\n",
              "...           ...                                                ...     ...\n",
              "3512         4717  we present four cases in which the use of hepa...       1\n",
              "21464        2459  of the eight patients in clinical trials   fiv...       0\n",
              "13711        2104  however   they subsequently were shown to be a...       0\n",
              "22150        6156  while the pathogenetic and clinical relationsh...       0\n",
              "8710         2143  this is a case of pseudoephedrine induced intr...       1\n",
              "\n",
              "[4703 rows x 3 columns]"
            ]
          },
          "metadata": {
            "tags": []
          },
          "execution_count": 5
        }
      ]
    },
    {
      "cell_type": "code",
      "metadata": {
        "colab": {
          "base_uri": "https://localhost:8080/",
          "height": 402
        },
        "id": "79ajEElZzEOf",
        "outputId": "99df822d-8d44-4cf5-ba65-2dfe810b595d"
      },
      "source": [
        "result"
      ],
      "execution_count": 6,
      "outputs": [
        {
          "output_type": "execute_result",
          "data": {
            "text/html": [
              "<div>\n",
              "<style scoped>\n",
              "    .dataframe tbody tr th:only-of-type {\n",
              "        vertical-align: middle;\n",
              "    }\n",
              "\n",
              "    .dataframe tbody tr th {\n",
              "        vertical-align: top;\n",
              "    }\n",
              "\n",
              "    .dataframe thead th {\n",
              "        text-align: right;\n",
              "    }\n",
              "</style>\n",
              "<table border=\"1\" class=\"dataframe\">\n",
              "  <thead>\n",
              "    <tr style=\"text-align: right;\">\n",
              "      <th></th>\n",
              "      <th>Unnamed: 0</th>\n",
              "      <th>observation</th>\n",
              "      <th>labels</th>\n",
              "    </tr>\n",
              "  </thead>\n",
              "  <tbody>\n",
              "    <tr>\n",
              "      <th>0</th>\n",
              "      <td>12606</td>\n",
              "      <td>early phase ii semi double blind study of the ...</td>\n",
              "      <td>0</td>\n",
              "    </tr>\n",
              "    <tr>\n",
              "      <th>1</th>\n",
              "      <td>685</td>\n",
              "      <td>cessation of mtx therapy led to complete regre...</td>\n",
              "      <td>0</td>\n",
              "    </tr>\n",
              "    <tr>\n",
              "      <th>2</th>\n",
              "      <td>5127</td>\n",
              "      <td>cutaneous biopsy showed hyphae and round inclu...</td>\n",
              "      <td>0</td>\n",
              "    </tr>\n",
              "    <tr>\n",
              "      <th>3</th>\n",
              "      <td>3158</td>\n",
              "      <td>she was treated with acyclovir and subsequentl...</td>\n",
              "      <td>1</td>\n",
              "    </tr>\n",
              "    <tr>\n",
              "      <th>4</th>\n",
              "      <td>10685</td>\n",
              "      <td>cisplatin was substituted and the patient achi...</td>\n",
              "      <td>0</td>\n",
              "    </tr>\n",
              "    <tr>\n",
              "      <th>...</th>\n",
              "      <td>...</td>\n",
              "      <td>...</td>\n",
              "      <td>...</td>\n",
              "    </tr>\n",
              "    <tr>\n",
              "      <th>23509</th>\n",
              "      <td>3056</td>\n",
              "      <td>we report a case of a patient with mild chroni...</td>\n",
              "      <td>1</td>\n",
              "    </tr>\n",
              "    <tr>\n",
              "      <th>23510</th>\n",
              "      <td>12159</td>\n",
              "      <td>naratriptan in the prophylaxis of transformed ...</td>\n",
              "      <td>0</td>\n",
              "    </tr>\n",
              "    <tr>\n",
              "      <th>23512</th>\n",
              "      <td>14487</td>\n",
              "      <td>the risks of sumatriptan administration in pat...</td>\n",
              "      <td>0</td>\n",
              "    </tr>\n",
              "    <tr>\n",
              "      <th>23513</th>\n",
              "      <td>4680</td>\n",
              "      <td>however   the spectrum of hosts and clinical p...</td>\n",
              "      <td>0</td>\n",
              "    </tr>\n",
              "    <tr>\n",
              "      <th>23514</th>\n",
              "      <td>2588</td>\n",
              "      <td>antibiotic treatment should be continued</td>\n",
              "      <td>0</td>\n",
              "    </tr>\n",
              "  </tbody>\n",
              "</table>\n",
              "<p>18813 rows × 3 columns</p>\n",
              "</div>"
            ],
            "text/plain": [
              "       Unnamed: 0                                        observation  labels\n",
              "0           12606  early phase ii semi double blind study of the ...       0\n",
              "1             685  cessation of mtx therapy led to complete regre...       0\n",
              "2            5127  cutaneous biopsy showed hyphae and round inclu...       0\n",
              "3            3158  she was treated with acyclovir and subsequentl...       1\n",
              "4           10685  cisplatin was substituted and the patient achi...       0\n",
              "...           ...                                                ...     ...\n",
              "23509        3056  we report a case of a patient with mild chroni...       1\n",
              "23510       12159  naratriptan in the prophylaxis of transformed ...       0\n",
              "23512       14487  the risks of sumatriptan administration in pat...       0\n",
              "23513        4680  however   the spectrum of hosts and clinical p...       0\n",
              "23514        2588           antibiotic treatment should be continued       0\n",
              "\n",
              "[18813 rows x 3 columns]"
            ]
          },
          "metadata": {
            "tags": []
          },
          "execution_count": 6
        }
      ]
    },
    {
      "cell_type": "code",
      "metadata": {
        "id": "ovj9RlJgS9MT"
      },
      "source": [
        "sentences = result['observation'].tolist() "
      ],
      "execution_count": 7,
      "outputs": []
    },
    {
      "cell_type": "code",
      "metadata": {
        "colab": {
          "base_uri": "https://localhost:8080/"
        },
        "id": "Uw0Hhz6WTenY",
        "outputId": "47c7c038-2ac2-4eba-8620-25d1d7d5c30d"
      },
      "source": [
        "sentences"
      ],
      "execution_count": 8,
      "outputs": [
        {
          "output_type": "execute_result",
          "data": {
            "text/plain": [
              "['early phase ii semi double blind study of the new alkaline propanolamine derivative enciprazine   short communication',\n",
              " 'cessation of mtx therapy led to complete regression of the tumor',\n",
              " 'cutaneous biopsy showed hyphae and round inclusions stained with pas and gomori grocott within a polymorphous granuloma',\n",
              " 'she was treated with acyclovir and subsequently developed vzv antigen positive zoster',\n",
              " 'cisplatin was substituted and the patient achieved a complete response to therapy without further hypersensitivity',\n",
              " 'so he underwent surgical treatment',\n",
              " 'one case presented with stevens johnson syndrome   and the other had systemic papular erythema',\n",
              " 'it draws the clinician is attention to unusual susceptibility to extrapyramidal side effects and suggests that if a child shows this type of susceptibility to one neuroleptic   he she may react similarly to other neuroleptics as well',\n",
              " 'on december            he began therapy with recombinant ifn alpha at a dose of   miu three times a week',\n",
              " 'during application   the patient complained of burning sensation of vagina and vulva',\n",
              " 'one previous study of four transplant patients whose immediate post transplantation immunosuppression utilized corticosteroids   cyclosporine   mmf   and anti t lymphocyte globulin noted anemia in     of them',\n",
              " 'conclusion  despite extremely delayed presentation   aggressive cdt was successful in both breast   and head and neck reconstructions with excellent long term flap results',\n",
              " 'we report a case of drug induced kaposi is sarcoma   ks   on the sole of the right foot in a    year old man   treated for   months with corticosteroid therapy   prednisolone    mg day   for pericardial effusion',\n",
              " 'the syndrome commonly presents with pruritus and increased muscle tone',\n",
              " 'the findings may indicate the spectral nature of the reaction phenomena in leprosy and emphasize the importance of the clinic pathological correlation for proper classification',\n",
              " 'aseptic meningitis   hemolytic anemia   hepatitis   and orthostatic hypotension in a patient treated with trimethoprim sulfamethoxazole',\n",
              " 'intravitreal triamcinolone has been suggested as an adjunctive to photodynamic therapy in the treatment of exudative macular degeneration',\n",
              " 'conclusions  this case report showed that the clinical appearance of hashimoto is disease after ifn alpha therapy for chronic c hepatitis in our patient was associated with a specific genetic predisposition   dr    for this pathology',\n",
              " 'acute dystonic reaction with low dose pimozide',\n",
              " 'a more serious development of adrenal insufficiency may occur upon the improper replacement of systemic steroids',\n",
              " 'the uneventful recovery seen in these patients shows the advances made in transplant medicine   including the progress and improvement of immunosuppressive therapy   surgical techniques   myocardial protection   and detection and treatment of infection',\n",
              " 'diagnosis is made primarily by examination of the stool or intestinal secretions for ova and parasites',\n",
              " 'quetiapine induced myoclonus',\n",
              " 'one month after changing to fosinopril therapy   the patient reported complete resolution of the cough',\n",
              " 'anaphylactoid shock   disseminated intravascular coagulation   and anuric renal failure requiring dialysis occurred in a patient receiving zomepirac sodium for toothache',\n",
              " 'the activity of the circulating anticoagulant and the bfp disappeared within days following discontinuation of procainamide and the administration of corticosteroids',\n",
              " 'both patients presented as self referrals to the emergency department',\n",
              " 'later   he had no impulse disorders   no gambling   hypersexuality   excessive shopping     which occur with dopamine agonists   suggesting that levodopa abuse and impulse disorders can result through different mechanisms',\n",
              " 'the thrombolytic therapy   together with heparin prophylaxis   was successfully administered in the hematology ward without the need for intensive care support   i   e   mechanical ventilation',\n",
              " 'steroid induced alterations of mood and behavior in children during treatment for acute lymphoblastic leukemia',\n",
              " 'sixteen hours after the first administration of ifn   ifn was suspended by the symptoms of congestive heart failure   chf',\n",
              " 'higher mk      dose levels were associated with clinical responses and down regulation of crkl phosphorylation in leukemia cells',\n",
              " 'these results indicate that lithium may cause biochemical hyperparathyroidism',\n",
              " 'it appears to be selectively protective to salivary glands and kidneys without being tumor protective',\n",
              " 'ccbs should be considered in the treatment of   fu or capecitabine induced headaches',\n",
              " 'concurrent use of reteplase and lepirudin in the treatment of acute anterior wall myocardial infarction',\n",
              " 'after operation they developed arterial hypotension that failed to respond to epinephrine   adrenaline   or dobutamine treatment',\n",
              " 'toxicological analysis of the blood revealed ghb         mg l   and        mg l in the urine',\n",
              " 'two patients who were receiving tolazoline by infusion developed duodenal ulceration and subsequent intestinal perforation',\n",
              " 'a clinical study was initiated to determine if this mode of treatment would be effective against certain primary and metastatic cutaneous malignancies',\n",
              " 'there are major side effects of anastrozole including decrease in both lumbar spine and total hip bone mineral density   increase in the incidence of all bone fractures   especially fractures of spine   hip and wrist     joint disorders and increase in the cholesterol level',\n",
              " 'however   it was rarely reported in ect sessions for psychiatric patients who needed concurrent antibiotic treatments',\n",
              " 'finally   the world health organization   who   announced a drug alert on halofantrine advising a change in recommendations for its use',\n",
              " 'in severe cardiogenic shock   the patient required an extracorporeal membrane oxygenation system for   days until cardiac recovery',\n",
              " 'conclusion  optometrists   particularly those actively participating in the shared care of refractive surgery patients   must be familiar with diffuse lamellar keratitis so that diagnosis is not delayed',\n",
              " 'we analyze a case of neutropenic enterocolitis which occurred in a patient with acute myeloid leukemia during chemotherapy and we suggest that   as well as intestinal wall thickness   hemodynamic worsening should be considered an indication for surgery',\n",
              " 'in addition to pia  platelet antibodies   this patient had an associated anamnestic recall of multispecific red cell and lymphocytotoxic antibodies',\n",
              " 'resolution of the interface inflammation did not occur until intraocular pressure was controlled',\n",
              " 'to date   with a total of         patient months of follow up study   seven episodes of small intestinal obstruction have developed of which two were definitely and five possibly related to chemotherapy induced adhesion formation',\n",
              " 'the american society for regional anesthesia and pain medicine has specific guidelines for treatment of these patients when they undergo neuraxial anesthetic procedures',\n",
              " 'he was then scheduled to receive adjuvant chemotherapy with high dose mtx      g m  body surface area   followed by leucovorin rescue and ifosfamide',\n",
              " 'fever   lymphadenopathy   eosinophilia   lymphocytosis   hepatitis   and dermatitis  a severe adverse reaction to minocycline',\n",
              " 'case summary  a    year old female suffered from osteomyelitis of the left humerus   with a white blood cell   wbc   count of       x          mm  and absolute neutrophil count   anc   of        x          mm    occurring after    days of vancomycin therapy',\n",
              " 'we compared the serum laboratory values and liver biopsy findings from group   with those from    patients with sporadic autoimmune hepatitis   group',\n",
              " 'after three weeks of carbamazepine therapy   the patient arrived at the emergency department   ed   with severe agitation and aggressive behavior',\n",
              " 'we examined the in vitro inhibition of the clonogenic capacity of bone marrow hematopoietic progenitor cells of this patient by d pen   and found strong inhibition in burst forming unit erythroid and colony forming unit megakaryocyte assays   but not in colony forming unit granulocyte macrophage assays',\n",
              " 'she was placed on adjuvant adriamycin   doxorubicin   chemotherapy   but   months later died of adriamycin toxicity',\n",
              " 'examination revealed a very ill looking pale patient with abdominal distension   tenderness and rectal bleeding and easy bruisability',\n",
              " 'further studies are needed to determine the optimal dose and schedule of dmso application and to assess its efficacy in extravasation injuries from other vesicants',\n",
              " 'we describe a preterm infant with severe idiopathic respiratory distress syndrome   irds   hyaline membrane disease   who needed artificial ventilation with high inspiratory pressure   high frequencies        oxygen and developed a symptomatic patent ductus arteriosus   spda   in the course of the disease',\n",
              " 'salmonella oslo',\n",
              " 'we report a case of sustained hypotension after administration of parenteral verapamil',\n",
              " 'ticlopidine induced marrow aplasia treated with cyclosporine',\n",
              " 'one of the mainstay pharmacologic therapies for adhd has been stimulants',\n",
              " 'results  our patient developed crohn is disease while on copaxone treatment as a consequence of long term immunosuppression',\n",
              " 'we report here a    year old female with diffuse large b cell lymphoma who died of severe pulmonary fibrosis    days after the administration of high dose bcnu       mg m',\n",
              " 'we present findings from three patients who experienced a psoriasiform eruption apparently due to the antiepileptic agents sodium valproate and carbamazepine',\n",
              " 'in one patient   interferon induced hypothyroidism in the absence of pre existing thyroid dysfunction and in the other it aggravated a pre existing thyroid dysfunction',\n",
              " 'in this report we described a case of juvenile idiopathic arthritis patient who developed thymic enlargement   true thymic hyperplasia     mediastinal lymphadenopathy and pleurisy associated with systemic symptoms under etanercept treatment',\n",
              " 'both   mp and aza are widely used and are known to cause hepatotoxicity in a proportion of patients',\n",
              " 'the risk of developing nms under atypical neuroleptics seems lower than under typical neuroleptics',\n",
              " 'recombinant growth factors appear not to help in shortening the neutropenic period',\n",
              " 'since its introduction to the market   there have been various dermatologic side effects reported in the literature   the most well known being hand foot skin reaction',\n",
              " 'sustained hypothyroidism induced by recombinant alpha interferon in patients with chronic hepatitis c',\n",
              " 'we treated a patient with lung cancer in whom a hypercoagulopathy was induced acutely by chemotherapy',\n",
              " 'the patient received two cycles of hdarac over the course of a ten week period',\n",
              " 'videopolysomnographic and pharmacokinetic studies with monitoring of plasma levodopa levels demonstrated marked motor hyperactivity during augmentation   with anarchic discharges of motor unit potentials   tonic grouped discharges and flexor spasms   associated with painful dysesthesia',\n",
              " 'igg  and igg  were the predominant igg subclasses in the glomerular deposits',\n",
              " 'the microorganism was identified with a molecular diagnostic method as schizophyllum commune   which had not been reported in english literature as a pathogen inducing pulmonary nodules after transplantation',\n",
              " 'nocardiosis in a patient with primary anti phospholipid syndrome',\n",
              " 'intracranial pathological changes can occur as a result of impaired craniocervical venous return',\n",
              " 'the patient is platelet count dropped rapidly to a level of      mm  after receiving a single     mg dose of rifampin',\n",
              " 'she subsequently haemorrhaged into the infarcted area with residual neurological deficits',\n",
              " 'a clinical history was taken   and laboratory and imaging tests were performed',\n",
              " 'assuming that maintenance therapy is necessary for optimal efficacy   the issue of bcg toxicity becomes more relevant',\n",
              " 'mr appears to be valuable in the detection of abnormalities induced by treatment with high dose methotrexate',\n",
              " 'bone marrow aplasia and severe skin rash after a single low dose of methotrexate',\n",
              " 'sixteen of    patients developed significant hyponatremia and hypoosmolality during oral treatment with lorcainide',\n",
              " 'we reported a child with refractory partial seizures successfully managed by clinical desensitization to phenytoin',\n",
              " 'following this incident   the patient was seen weekly and treated with conjugated vaginal oestrogen cream',\n",
              " 'hbsag seroconversion was achieved after an additional    months',\n",
              " 'infection of total hip prosthesis by mycobacterium tuberculosis and mycobacterium chelonae in a patient with rheumatoid arthritis',\n",
              " 'usually   these patients develop hepatitis b surface antigen   hbsag   seroreversion during the flare',\n",
              " 'eeg abnormalities were observed in two of the nine children during chlorambucil therapy',\n",
              " 'further observations and reports will help clarify this adverse effect',\n",
              " 'in one patient   treatment with dca was associated with a decrease in blood lactate levels from        mm before treatment to       mm    h later',\n",
              " 'fever   lymphadenopathy   eosinophilia   lymphocytosis   hepatitis   and dermatitis  a severe adverse reaction to minocycline',\n",
              " 'several hypersensitivity reactions to cloxacillin have been reported   although ige mediated allergic reactions to the drug are rare and there is little information about possible tolerance to other semisynthetic penicillins or cephalosporins in patients with cloxacillin allergy',\n",
              " 'bevacizumab is a recently developed monoclonal antibody against vascular endothelial growth factor receptor used to inhibit angiogenesis',\n",
              " 'although nondiphtherial corynebacteria are ubiquitous in nature and commonly colonize the skin and mucous membranes of humans   they rarely account for clinical infection',\n",
              " 'we present a case of typhlitis in a patient with advanced non small cell lung cancer   nsclc   who received pemetrexed   as second line chemotherapy treatment',\n",
              " 'acute vision loss after intravitreal injection of bevacizumab   avastin   associated with ocular ischemic syndrome',\n",
              " 'the symptoms started when the immune status reached normal cd  t cell levels   in response to antiviral tritherapy',\n",
              " 'she was treated with fluid resuscitation   wound dressing   and antibiotics',\n",
              " 'ischaemic colitis in a patient taking meloxicam',\n",
              " 'the patient had recurrence of urticaria and angioedema a year and a half later   at which point the nph was stopped and she was desensitized to regular insulin',\n",
              " 'the first therapeutic schedule included rifampicin   isoniazid and ethambutol   no uniform treatment could be used for these patients',\n",
              " 'an unusual case of lafora body disease',\n",
              " 'after eyelid reconstruction the patient is visual axis has remained unobstructed   and amblyopia has been thus far averted',\n",
              " 'temporary neurologic abnormalities were observed in one out of    patients undergoing chemotherapy with high dose methotrexate   hd mtx   for osteogenic sarcoma',\n",
              " 'the human clinical use of    lindane formulations has become somewhat controversial during the past five years',\n",
              " 'this appears to cause immediate regression of the neovascular frond and allows time for the laser   which is applied subsequently to have its effect',\n",
              " 'we report the case of a    year old female with polyarteritis nodosa   pan   who developed bilateral sensorineural hearing loss    minutes after receiving    mg of intravenous ketoralac',\n",
              " 'cardiopulmonary resuscitation was successful after    minutes',\n",
              " 'most new drug therapies require randomized data to show effects before widespread use and acceptance occur',\n",
              " 'peritonitis remains a significant cause of morbidity in esrd patients undergoing continuous ambulatory peritoneal dialysis   capd',\n",
              " 'due to relatively well preserved cellular immunity until        no antiretroviral therapy   haart   needed to be instituted',\n",
              " 'the clinical features of these nine patients combined with    previously reported cases were analyzed to determine factors associated with hemorrhagic worsening',\n",
              " 'tetracycline induced benign intracranial hypertension',\n",
              " 'follow up magnetic resonance imaging   weeks later showed complete resolution of the abnormalities',\n",
              " 'they also suggest that liver enzymes should be monitored during treatment with riluzole',\n",
              " 'the immunosuppressive effect of intensive polychemotherapy may play a significant role in accelerating the malignant transformation',\n",
              " 'basilar invagination and mid line skeletal abnormalities due to in utero exposure to phenytoin',\n",
              " 'we report a fatal case of toxic epidermal necrolysis   ten   resulting from a high dose of cytosine arabinoside   ara c',\n",
              " 'this was later recognised to be a spurious effect due to the introduction of tolmetin',\n",
              " 'this experience supports the hypothesis that heparin can be readministered early to patients with heparin associated thrombocytopenia and thrombosis   provided antiplatelet therapy is given',\n",
              " 'his illness was also characterized by a palpable spleen tip   marked lower extremity and scrotal edema   and generalized lymphadenopathy',\n",
              " 'thrombocytopenia of grade iii or higher was observed in eight patients',\n",
              " 'the case was a    year old schoolboy presenting with vomiting   features of infection and gastrointestinal tract symptoms',\n",
              " 'although molecular mechanisms have not been fully elucidated   epstein barr virus appears to play a significant role in its etiopathogenesis',\n",
              " 'this case   although rare and atypical   should alert clinicians to consider the possibility of nms as a complication of abrupt neuroleptic drug withdrawal',\n",
              " 'interstitial pneumonitis associated with sirolimus  a dilemma for lung transplantation',\n",
              " 'ifn beta  b therapy was then resumed   and the patient is in remission for both nephrotic syndrome and ms',\n",
              " 'conclusion  the new quinolone derivatives   levofloxacin   sparfloxacin   grepafloxacin   trovafloxacin   gatifloxacin and moxifloxacin     also called gyrase inhibitors   are known for their potential to cause central nervous system related adverse effects   including headache   dizziness and insomnia',\n",
              " 'this case demonstrates that both epoetin alfa and darbepoetin alfa may artificially lower a c levels in a patient with diabetes who is not undergoing dialysis   and therefore this finding can be interpreted as a class effect',\n",
              " 'his fetishistic behavior was treated successfully using mirtazapine    mg day',\n",
              " 'it is entirely excreted through the renal system so this needs to be considered in any patient becoming acutely ill and developing renal failure',\n",
              " 'a diagnosis of trastuzumab induced pneumonitis was made',\n",
              " 'the potential occurrence of emd in all three patients raises the possibility of accelerated myocardial rupture   as emd is one of the clinical hallmarks of this condition',\n",
              " 'as patients survive longer   long term therapy related complications take on greater importance',\n",
              " 'the patient was diagnosed with carbamazepine toxicity related to the introduction of ritonavir',\n",
              " 'attenuation of asparaginase induced hyperglycemia after substitution of the erwinia carotovora for the escherichia coli enzyme preparation',\n",
              " 'we suggested that colchicine should be used with caution in the presence of renal failure especially when other drugs which affect the metabolism of colchicine are also prescribed',\n",
              " 'one of the   patients was reexposed to etanercept later on',\n",
              " 'we report one case of non hodgkin lymphoma in a patient   with a    year history of rheumatoid arthritis   taking low dose methotrexate weekly over a    month period',\n",
              " 'mr   c   was less tired and had more energy following his first and subsequent courses of therapy',\n",
              " 'although ptlds are usually epstein barr virus driven b cell lymphoproliferations   t natural killer cell lymphoproliferations   multiple myeloma   and hodgkin is lymphoma are also recognized as part of the ptld spectrum',\n",
              " 'diagnostic criteria are gi symptoms   eosinophilic infiltration proven by biopsy of the gi tract   and absence of parasitic infection',\n",
              " 'only   death occurred   and most patients            had complete resolution of their symptoms within    hours of presentation',\n",
              " 'eeg was abnormal and somatosensory evoked potentials   seps   showed giant seps   transcortical reflex   c reflex   and jerk locked potentials',\n",
              " 'discussion  amphotericin b deoxycholate has been reported to produce significant cardiac toxicity   with ventricular arrhythmias and bradycardia reported in overdoses in children and in adults with preexisting cardiac disease   even when administered in conventional dosages and infusion rates',\n",
              " 'mucin producing adenocarcinoma has been extensively studied in relation to this phenomenon',\n",
              " 'severe rhabdomyolysis following massive ingestion of oolong tea  caffeine intoxication with coexisting hyponatremia',\n",
              " 'ego alien   suicidal ideas are an extremely rare form of adverse drug reaction',\n",
              " 'to our knowledge   no prior cases of penicillamine induced ttp in ra have been reported',\n",
              " 'we discuss our observations in the cases of two patients with acyclovir neurotoxicity and review the findings of all previous reports in the english language literature',\n",
              " 'while ethambutol treatment is most commonly instituted for pulmonary tuberculosis   it is interesting to note that both of these patients had renal tuberculosis',\n",
              " 'physical exam revealed a patient with aphasia   tremor   and an expressionless face   able to make eye contact and move all four extremities',\n",
              " 'microangiopathic hemolytic anemia   maha   is a late but fatal complication in advanced cancers   cancer associated',\n",
              " 'we found tpo and platelet responses to be generally antagonistic through all cycles',\n",
              " 'this case demonstrates that itraconazole may be effective treatment for dermatophytosis   even in immunocompromised hosts   and that there is no cross reactivity between ketoconazole and itraconazole',\n",
              " 'a case of nephrotic syndrome treated with associated cyclophosphamide and corticosteroids came to our attention after over   years of self administered immunosuppressive therapy which remained unchanged and uncontrolled during this period',\n",
              " 'conclusions  prompt and appropriate identification and intervention are essential for successful management of ss and nms',\n",
              " 'a review of the literature indicates that   with one possible exception   this complication has not occurred in a cs dependent subject with asthma',\n",
              " 'peripheral nervous system disturbances caused by cytosine arabinoside have rarely been reported',\n",
              " 'indinavir associated nephrolithiasis and chronic interstitial nephritis were the only possible causes identified in this patient',\n",
              " 'we regard the association recorded in this case to be a coincidence despite the known association between the drug and the development of immunosuppression and lymphoma',\n",
              " 'patients receiving amifostine who develop only fever should be evaluated for an adverse drug reaction   as well as for sepsis and fevers of neutropenia   and it may be necessary to discontinue the drug',\n",
              " 'however   medications containing ppa still can be found in many homes of those unaware of the voluntary recall',\n",
              " 'paroxysmal supraventricular tachycardia during treatment with cisplatin and etoposide combination',\n",
              " 'a patient developed optic neuropathy while being treated with isoniazid and ethambutol',\n",
              " 'cd   negative t cell rich b cell lymphoma as a progression of a nodular lymphocyte predominant hodgkin is lymphoma treated with rituximab  a molecular analysis using laser capture microdissection',\n",
              " 'subfoveal choroidal neovascularization in a patient with hemicentral vein occlusion',\n",
              " 'we describe two patients with profound hypothalamic pituitary adrenal axis suppression resulting from the unregulated use of super potent topical corticosteroids',\n",
              " 'successful treatment of tardive and spontaneous dyskinesias with corticosteroids',\n",
              " 'relapse in the external auditory canal of acute promyelocytic leukemia after treatment with all trans retinoic acid',\n",
              " 'the patient had no previous history of psychiatric problems',\n",
              " 'neuroleptic malignant syndrome   nms   is a potentially life threatening adverse effect of antipsychotic agents',\n",
              " 'a case of a    year old woman who had developed mild hepatotoxicity while receiving choline magnesium trisalicylate therapy is described',\n",
              " 'anticoagulation was maintained and the prognosis remained good',\n",
              " 'a    year old man with diabetes mellitus for    years was admitted to our hospital in      because of end stage renal failure',\n",
              " 'post transplant lymphoproliferative disorders   ptlds   are well recognized complications of bone marrow and solid organ transplantation   comprising a heterogenous group of lymphoproliferations with a spectrum of morphologic   phenotypic and molecular features',\n",
              " 'the patient died in      march at the age of    years of sudden septic shock related to pseudomonas aeruginosa infection',\n",
              " 'methods  patients successfully treated with maintenance doses of im gold      mg mo and not more than    mg dose   were identified by chart review',\n",
              " 'acute hepatic failure is a rare and potentially lethal complication of propylthiouracil   ptu   use for hyperthyroidism',\n",
              " 'aseptic meningitis   hemolytic anemia   hepatitis   and orthostatic hypotension in a patient treated with trimethoprim sulfamethoxazole',\n",
              " 'reports in the literature of isolated agranulocytosis are few   although they may be associated with significant morbidity and mortality',\n",
              " 'carboplatin is a chemotherapeutic agent approved in the first line setting of numerous malignancies',\n",
              " 'the patient was positive for antibody against complexes of heparin and platelet factor     and was diagnosed as heparin induced thrombocytopenia with thrombosis syndrome   hitts',\n",
              " 'we present a case report of a cytomegalovirus   cmv    seronegative      year old male who received a cmv seropositive donor liver transplant without cmv prophylaxis',\n",
              " 'a potentially fatal complication of these anesthetics is methemoglobinemia   met hgb',\n",
              " 'nms is a drug related response to various medications   such as haloperidol   which the patient was receiving',\n",
              " 'method  we describe a successful rescue of a    year old man with recurrent hepatitis c   hcv genotype  b   using long term interferon   ifn   and ribavirin',\n",
              " 'tacrolimus induced hus  an unusual cause of acute renal failure in nephrotic syndrome',\n",
              " 'refractory hypoglycemia from ciprofloxacin and glyburide interaction',\n",
              " 'surgery and anaesthesia were uneventful and she gained good symptomatic relief',\n",
              " 'fluoxetine related death in a child with cytochrome p      d  genetic deficiency',\n",
              " 'although drug induced allergic nephritis   dian   is one of the most common problems seen by nephrologists   its true frequency is probably underestimated',\n",
              " 'the dental surgeon can play an important role in the diagnosis and treatment of such patients',\n",
              " 'four cases of fat embolism are described in infants receiving prolonged intravenous infusion of fat   intralipid',\n",
              " 'the our case of patient with von willebrand is disease type i indicates that this drug is very effective in bleeding after teeth extractions',\n",
              " 'he died from acute leukaemia',\n",
              " 'objective  to report a case of ciprofloxacin induced psychosis and to discuss occurrence rates   risk factors   possible etiologies   preventive measures   and treatment courses for this adverse reaction',\n",
              " 'results  withdrawal of the drug and initiation of corticosteroid drops resulted in prompt resolution of the choroidal detachment',\n",
              " 'at the time of this writing     y     the patient has had no symptoms and has continued on the chemotherapy protocol as planned',\n",
              " 'ichthyosiform erythrodermas and the  half baby syndrome  treated with an aromatic retinoid',\n",
              " 'therapy with ifn alpha may be associated with a number of neuropsychiatric symptoms   such as parkinsonism   akathisia   seizure   and depressive disorders',\n",
              " 'objectives  to present a very rare case of orally ingested sex hormone pills inducing nondurally attached meningioma in the lumbosacral region',\n",
              " 'neutropenia is an infrequent complication following administration of the angiotensin converting enzyme   ace   inhibitor   captopril',\n",
              " 'the authors report a case of urinary incontinence   ui   that occurred in a woman after administration of venlafaxine',\n",
              " 'the patient was successfully treated by single dose methotrexate   mtx        mg or    mg m  given intramuscularly',\n",
              " 'we report a    year old man with well documented   idiopathic generalized epilepsy who developed petit mal status lasting   weeks',\n",
              " 'l asparaginase is commonly used for induction therapy of acute lymphocytic leukemia of childhood',\n",
              " 'conclusion  a possible pharmacokinetic interaction between dantrolene and oxybutynin should be borne in mind when considering carbamazepine medication for a patient with a spinal cord lesion',\n",
              " 'methods  the investigation included inhalation challenge with the suspected compound combined with monitoring of lung function tests and post challenge bronchoalveolar lavage',\n",
              " 'the difficulty in absorbing vitamin b   when intrinsic factor is not available does not make oral replacement impossible   the dose just needs to be higher',\n",
              " 'swab of punctured vesicles demonstrated hsv type ii by polymerase chain reaction',\n",
              " 'it is suggested that dopaminergic imbalance   as opposed to excessive dopaminergic blockade   may also play a role in the precipitation of nms',\n",
              " 'side effects associated with this medication are usually minor   serious complications are most often due to the delivery system required for continuous infusion',\n",
              " 'milnacipran is a novel serotonin noradrenaline reuptake inhibitor',\n",
              " 'neutropenic enterocolitis   or typhlitis   is an unusual acute complication of chemotherapy induced neutropenia   characterized by inflammatory process involving colon and or small bowel that may progress to necrosis   haemorrhage   perforation and septicaemia',\n",
              " 'ticlopidine induced aplastic anemia   tiaa   is considered very uncommon',\n",
              " 'at the end of each vitrectomy         mg of gentamicin         mg of cefazolin   and        mg of dexamethasone were injected into the vitreous cavity',\n",
              " 'i report a    year old woman with occult coronary artery disease who experienced cardiac arrest within minutes after receiving a first time dose of subcutaneous sumatriptan for migraine',\n",
              " 'we obtained the following results',\n",
              " 'st   anthony is fire may be due to stimulation of alpha adrenergic receptors in the peripheral vasculature',\n",
              " 'a thorough examination at the hospital gave no evidence of underlying diseases that could explain the reaction',\n",
              " 'a    year old woman   who had shad a vp shunt implanted   months previously for hydrocephalus due to intracranial hemorrhage   presented with fever off and on   drowsiness and seizure attacks for   week',\n",
              " 'it was highly suspected that finasteride was associated with the anterior subcapsular opacity on the lens   and the patient therefore discontinued use of finasteride',\n",
              " 'two days  administration of levomepromazine     mg led him to a coma for   days',\n",
              " 'woman interrupted gestation   by labour induction',\n",
              " 'new onset rapid cycling bipolar disorder in an    year old woman',\n",
              " 'a    year old man with relapsing remitting multiple sclerosis   ms   developed primary central nervous system lymphoma   pcnsl   after having received    doses of natalizumab monotherapy',\n",
              " 'after   week   hpa axis function was markedly improved',\n",
              " 'early surgical intervention   as well as appropriate antimicrobial therapy   is usually necessary',\n",
              " 'hydroxyurea is a drug widely used to control myeloproliferative disorders   due in part to its relative lack of severe side effects',\n",
              " 'the drug was identified and quantitated in plasma and urine using an hplc technique with diode array detection',\n",
              " 'we postulate that the bolus of sulprostone resulted in possible coronary spasm that resulted in cardiac arrest',\n",
              " 'case summary  a    year old patient chronically treated with the selective serotonin reuptake inhibitor   ssri   citalopram developed confusion   agitation   tachycardia   tremors   myoclonic jerks and unsteady gait   consistent with serotonin syndrome   following initiation of fentanyl   and all symptoms and signs resolved following discontinuation of fentanyl',\n",
              " 'all   patients developed steroid induced glaucoma and failed traditional immunosuppressant therapy',\n",
              " 'we report an unusual case of simultaneous transitional cell carcinoma of the renal pelvis and distal ureter without transitional cell carcinoma of the bladder occurring after chronic cyclophosphamide therapy for nonhodgkin is lymphoma',\n",
              " 'four of the six experienced renal failure requiring dialysis',\n",
              " 'because of the presence of hemolysis   the patient underwent testing for glucose   phosphate dehydrogenase   g pd   deficiency   for which he tested positive',\n",
              " 'one major source of risk to patients is intraarterial or intraneural injections',\n",
              " 'to the best of our knowledge   this is the first case of lithium associated cdi and ndi presenting concurrently',\n",
              " 'osteonecrosis is a feared complication of corticosteroid use',\n",
              " 'ischaemic complications of glypressin in liver disease  a case series',\n",
              " 'both octreotide and the ppar gamma receptor activating ligands   thiazolidinediones   may be effective for patients with tshoma',\n",
              " 'we report here a rare case of pleuropericarditis due to methotrexate',\n",
              " 'infective endocarditis was diagnosed by duke is criteria   durack et al',\n",
              " 'we describe a continuous ambulatory peritoneal dialysis   capd   patient that developed vancomycin induced agranulocytosis during treatment for methicillin resistant staphylococcus aureus   mrsa    associated external cuff infection and pneumonia',\n",
              " 'an interaction between cytostatic and anticonvulsant drugs',\n",
              " 'to the best of our knowledge   this patient is the youngest   and only the fourth person in the english language literature to develop colonic carcinoma after combination chemotherapy of hodgkin is disease without radiation',\n",
              " 'this case of linezolid associated acute interstitial nephritis within the context of a drug rash with eosinophilia and systemic symptoms   dress   syndrome in a patient treated with linezolid raises concerns about the presumed renal safety of this drug',\n",
              " 'previous studies have demonstrated the interaction of mtx and a variety of non steroidal   anti inflammatory drugs   nsaids   with various clinical manifestations including acute renal failure   pancytopenia   vomiting   diarrhea   elevated liver transaminases   jaundice   mucosal ulcerations   and pyrexia',\n",
              " 'a    year old male patient with living   unrelated kidney transplantation in iran in june        developed plasmodium falciparum p   falciparum infection',\n",
              " 'hyponatraemia developed after rechallenge with controlled release carbamazepine',\n",
              " 'we report a case of graft versus host disease after liver transplantation in which the diagnosis was made by short tandem repeat analysis',\n",
              " 'sudden death in an infant from methemoglobinemia after administration of sweet spirits of nitre',\n",
              " 'we report a patient with linear iga bullous dermatosis and gluten sensitive enteropathy',\n",
              " 'surgeons should consider stopping carbamazepine before operations with cardiopulmonary bypass',\n",
              " 'thrombolytic treatment may be affected by minor to relevant complications such as peripheral or central embolization but in our experience and according to the literature it seems much less hazardous than re do surgery',\n",
              " 'we consider asterixis to be an easily overlooked sign of neurotoxicity   which may occur even at low or moderate dosage levels   if certain drugs as lithium or clozapine are used in combination with cbz',\n",
              " 'mycophenolate mofetil induced neutropenia in liver transplantation',\n",
              " 'this is the fourth published report of adverse hepatic reaction to cyproterone acetate and it substantiates other evidence that cyproterone acetate is potentially hepatotoxic',\n",
              " 'high dose intravenous mannitol infusion in various clinical settings may result in acute renal failure   arf',\n",
              " 'it has been reported that fluoroquinolone antimicrobials prolong the corrected qt interval but rarely cause torsade de pointes',\n",
              " 'a    year old man underwent pterygium excision with a single intraoperative application of mitomycin c            for   minutes',\n",
              " 'immunoblastic sarcoma is also seen in immunosuppressed patients   and the role of the immunoblast in both of these disorders indicates that they may be related',\n",
              " 'a    year old male was diagnosed in february      with stage iv extranodal marginal zone b cell lymphoma involving the mediastinal nodes   lung parenchyma and bone marrow with high ldh',\n",
              " 'however   the patient later succumbed to her leukaemia',\n",
              " 'the diagnosis was confirmed by arteriography',\n",
              " 'amoebic disease precipitated by corticosteroids prescribed for tuberculous pleural effusions',\n",
              " 'severe histological osteomalacia developed in a woman with crohn is disease   years after ileal resection and the start of cholestyramine therapy',\n",
              " 'after analysis of the case   ruling out other possibilities and using the naranjo probability scale   we found that there is a highly probable likelihood that the symptoms presented by our patient were secondary to his drug therapy',\n",
              " 'the isolation of kluyvera as a pathogen in transplant patients emphasizes that this commensal organism may be virulent in this patient population',\n",
              " 'development of pemphigus herpetiformis in a patient with psoriasis receiving uv light treatment',\n",
              " 'chlorpropamide induced hemolytic anemia',\n",
              " 'its etiology has still not yet been fully resolved',\n",
              " 'the patient underwent immediate and delayed hypersensitivity tests',\n",
              " 'a    year old woman with neck pain was prescribed    g of  maqianzi  to be taken in two doses at   hours apart   although the recommended dose was             g',\n",
              " 'human chorionic gonadotrophin   administered exogenously as well as produced endogenously during pregnancy   is responsible for the onset of ohss   and high levels of estradiol appear to worsen the condition',\n",
              " 'this report describes two patients who developed acute myelocytic leukemia only after exposure to cyclophosphamide   methotrexate   and   fluorouracil adjuvant therapy',\n",
              " 'treatment was given as direct observed therapy   dot   and sputum cultures   blood chemistry and neurologic examination were undertaken on a regular basis',\n",
              " 'a    year old boy with osteosarcoma and normal renal function manifested laboratory evidence of impending renal toxicity and extreme elevation of aspartate aminotrasferase and alanine aminotransferase within   hours after the completion of a   hour infusion of high dose methotrexate   mtx        g m      and went on to develop acute renal failure with life threatening hyperkalemia    hours later',\n",
              " 'this condition rapidly diminished after administration of intravenous antihistaminics and did not necessitate cessation of vrc treatment',\n",
              " 'a    year old woman was treated with intraventricular methotrexate   mtx   with a total dose of    mg followed by cytosine arabinoside   ara c   with a total dose of    mg for meningeal metastasis of breast carcinoma',\n",
              " 'she had had her tongue painted with silver nitrate repeatedly   years ago for the treatment of oral ulcers',\n",
              " 'we discuss the possible role of using immunomodulating agents for the treatment of this syndrome and suggest that alternative regimens should be given special consideration especially in those critical clinical situations where supportive measures appear to be unsuccessful',\n",
              " 'polyacrylamide gel may have favorable properties for facial tissue augmentation   but a severe granulomatous inflammatory response induced by injection of polyacrylamide gel may occur',\n",
              " 'eventually she showed apneic spells and hyperglycemia',\n",
              " 'plasma exchange in selected patients with juvenile rheumatoid arthritis',\n",
              " 'brain abscess following insertion of skull traction',\n",
              " 'behavioral side effects associated with clonazepam may include agitation   aggression   hyperactivity   irritability   property destruction   and temper tantrums',\n",
              " 'the coagulation disorders were treated with prothrombin complex concentrate    iu kg iv and vitamin k     mg iv   and values normalized within    hours',\n",
              " 'the pharmacologic agent bisphosphonate has recently received much attention in the dental literature',\n",
              " 'aortic transgraft hemorrhage after systemic thrombolytic therapy',\n",
              " 'this review presents the first case series of dic associated with acute hemoglobinemia or hemoglobinuria following anti d igiv administration for itp',\n",
              " 'thrombosis of central venous access catheters was demonstrated in two neonates born at    and    weeks  gestation',\n",
              " 'possible reasons and clinical significance of this complication are discussed',\n",
              " 'a review of the relevant literature follows the case reports',\n",
              " 'a detailed study has been made of the five hypertensive patients who received minoxidil in dumfries   four have been observed for over a year',\n",
              " 'in our case   a    year old woman   with stage iiia igg lambda multiple myeloma for two years   presented with firm nodular violaceous cutaneous lesions on the left arm without underlying bone osteolytic lesions or subcutaneous tumors   the biopsy was consistent with plasmacytoma',\n",
              " 'in both cases   the timing and dose of disulfiram was known',\n",
              " 'even in typical cases ppg is often misdiagnosed and therefore wrongly treated   the unknown aetiology makes treatment difficult',\n",
              " 'a    year old mand suffering from severe coronary heart disease took digoxin with suicidal intent an was treated for the ensuing complete atrioventricular block with digoxin specific antibody fragments',\n",
              " 'in addition to our reported cases     cases of nephrotic syndrome in similar patients reported elsewhere are analyzed together with our cohort',\n",
              " 'the authors report an open study of    cases of intradiscal injection of triamcinolone hexacetonide in the treatment of sciatica',\n",
              " 'our institution has also adopted a similar combined therapy protocol for patients with stage iii and iv nasopharyngeal cancer and good performance status',\n",
              " 'methanol metabolism was effectively blocked by fomepizole even after ethanol had been eliminated   and the patient recovered       vision by day    with normal fundoscopy',\n",
              " 'we describe a patient who developed hus after treatment with mitomycin c   total dose     mg m    due to a carcinoma of the ascending colon',\n",
              " 'an attempt also was made through case analysis to examine the association between dynamic aspects of personality and adverse drug effect',\n",
              " 'the patient was doing well at   months follow up',\n",
              " 'histological analysis of a lung biopsy showed a diffuse infiltration with pigmented macrophages without granulomas   which particularly involved the pulmonary arterial and venular walls',\n",
              " 'current literature related to the presented case and the ongoing debate regarding repeated prescriptions are considered in this study',\n",
              " 'in this case   it was suspected that a combination of cigarette smoking   pulmonary fibrosis   and low dose methotrexate therapy might have promoted the development of lung cancer',\n",
              " 'iv propranolol was used as the initial treatment for his hyperadrenergic state   resulting in a decrease in heart rate but a paroxsymal increase in blood pressure',\n",
              " 'systemic vasculitis complicating hairy cell leukaemia treatment with cladribine',\n",
              " 'we present a patient with systemic lupus erythematosus who presented with nephrotic range pseudoproteinuria using an acid precipitation method of testing',\n",
              " 'this case suggests that coronary arterial involvement in systemic lupus erythematosus may be related to coronary arterial spasm',\n",
              " 'pyomyositis was completely resolved following the surgical drainage and the antistaphylococcal antibiotic treatment',\n",
              " 'case report  a    year old male presented a corticosteroid resistant nephrotic syndrome secondary to collapsing fgs corticosteroid',\n",
              " 'cyclosporin side effects included hirsutism   hypertension   increased blood levels of urea and creatinine   and abnormalities in liver function tests',\n",
              " 'methods  skin prick test   spt     nasal and intramuscular challenge test with commercial salmon calcitonin   miacalcic   were performed',\n",
              " 'successful treatment of stutter priapism with an antiandrogen',\n",
              " 'retinopathy in hepatitis c patients due to combination therapy with pegylated interferon and ribavirin',\n",
              " 'the role played by repeated drug prescriptions from general practitioners without appropriate clinical and laboratory controls   and that of our patient is depression are discussed',\n",
              " 'in each instance the st segment returned to the isoelectric line within    hours   and subsequent development of q waves or changes in the qrs was not observed',\n",
              " 'similar symptoms developed after each challenge and resolved after discontinuing this preparation',\n",
              " 'however   many of the patients had been treated surgically for recurrences once or several times previously',\n",
              " 'priapism associated with olanzapine',\n",
              " 'a reversible toxic liver damage was observed in a non alcoholic woman treated with disulfiram',\n",
              " 'the patient was discharged on the  th postoperative week in good conditions',\n",
              " 'after the first oral dose of propranolol   syncope developed together with atrioventricular block',\n",
              " 'discussion  eye burns followed by calcifications follow two different major patterns  the corrosive substance contained calcium or the continued therapy was applied with phosphate buffered eye drops',\n",
              " 'although treatment for this syndrome remains controversial and relies heavily on anecdotal evidence   the progression of hepatic injury may be prevented by the addition of n ac',\n",
              " 'six of    outpatients with schizophrenia who participated in a ten week open trial of risperidone had an initial good response to the medication followed by development of intolerable affect   including feelings of agitation and depression and periods of crying and insomnia',\n",
              " 'she died within six weeks of developing congestive heart failure coupled with liver failure due to haemosiderosis despite regular use of desferrioxamine',\n",
              " 'these cases highlight the importance of considering ptld in the differential diagnosis of lymphadenopathy and fever post asct',\n",
              " 'neutropenia and agranulocytosis are risks known to occur with phenothiazines and clozapine',\n",
              " 'prompt hemostasis was achieved in half of the patients with their coagulation profile being restored within   hours after the administration of the first dose of rfviia',\n",
              " 'nocardia is a serious opportunistic infection in renal transplant recipients and nocardial brain abscess in these patients has a high mortality',\n",
              " 'data synthesis  genetic deficiencies in dpd   the rate limiting enzyme responsible for   fu catabolism   may occur in    or more of patients with cancer putting them at increased risk for unusually severe adverse reactions   e   g     diarrhea   stomatitis   mucositis   myelosuppression   neurotoxicity   to standard doses of   fu',\n",
              " 'acute rehabilitation was complicated by a large defect of the abdominal wall and significant critical illness polyneuropathy',\n",
              " 'a case report is presented of a bulimic patient with manic symptoms who was successfully treated with lithium',\n",
              " 'kaposi is sarcoma   a neoplasm that occurs in immunocompromised patients and people of mediterranean origin   usually presents with skin lesions',\n",
              " 'the authors report a case of focal myocardial necrosis   presenting clinically as an acute myocardial infarction during the administration of the antineoplastic drug   amsacrine   in a patient without coronary artery disease',\n",
              " 'patients should be aware that this is a rare   albeit serious   complication of treatment with rituximab',\n",
              " 'diagnosis of tts is one of exclusion as it can mimic many other conditions   and should be considered in patients with unilateral painless ulcerations with a history of trigeminal nerve damage',\n",
              " 'the patient is dental development and pharmacological history suggest prednisone as the offending agent',\n",
              " 'however   a cross correlation analysis indicated that tpo responses preceded platelet responses by approximately one day in all patients',\n",
              " 'the patient is alive and free of disease   years after the treatment of this second malignant neoplasm   smn',\n",
              " 'five of the patients received no radiotherapy',\n",
              " 'both patients experienced the onset of psychiatric symptoms as young adults   showed a prompt response to antipsychotic drug therapy   and were subsequently left on maintenance treatment for indefinite periods',\n",
              " 'treatment is mainly discontinuation of the drug   however   corticosteroid therapy is recommended for severe reactions',\n",
              " 'recommended treatment duration is   to    months with frequent imaging',\n",
              " 'data suggest that addition of amphetamine to varenicline may negate the partial agonism of varenicline   resulting in elimination of the smoking cessation aid is benefits',\n",
              " 'at the same time   physicians cannot yet rely solely on a genetic diagnosis because we have not yet identified a sufficient spectrum of mutations   and it is not currently feasible to examine every patient is full dna sequence for the entire gene   screening an ethnically consistent and clinically positive patient for the   known mutations frequently identifies a mutation on only   chromosome   and genetic analysis of other classic cases will often reveal none of the   mutations',\n",
              " 'methylprednisolone pulse therapy was very effective for the treatment of the hps',\n",
              " 'three of these patients had convulsions attributed to imipenem cilastatin          of the patients had seizure   or    of imipenem cilastatin administrations was followed by a seizure attack',\n",
              " 'the patient had initiated treatment with oral pantoprazole    mg d for gastroesophageal reflux   months prior to admission',\n",
              " 'effects of the methylprednisolone pulse therapy on renal function',\n",
              " 'however   in some patients   pericardial inflammation resolves without progressing to chronic constrictive pericarditis',\n",
              " 'when a gee is encountered   a rigorous management is required to prevent septic embolism',\n",
              " 'a unique case of a transient   nonpigmenting fixed drug eruption caused by the radiopaque contrast medium iothalamate is reported',\n",
              " 'we can speculate that the overexpression of vegf induced by local ischemia and inflammation can make these patients more likely to have cnv',\n",
              " 'after    months of unsuccessful diagnosis and management   the patient was seen at the orofacial pain unit of the oral surgery and implantology master is degree program of the university of barcelona',\n",
              " 'we describe   patients with severe erosive rheumatoid arthritis and rheumatoid vasculitis   respectively   in whom infliximab therapy was associated with peripheral neuropathy due to necrotizing vasculitis in one patient and to progression of preexisting mononeuritis multiplex in the other',\n",
              " 'however   the toxicity profile of leflunomide in patients with underlying gvhd remains to be defined',\n",
              " 'we report   patients with severe hepatocellular damage due to cpa therapy     with fatal fulminant hepatitis',\n",
              " 'we conclude that the presence of this metabolic defect combined with topical   fu   a drug demonstrating a narrow therapeutic index   results in the unusual presentation of life threatening toxicity after treatment with a topical drug',\n",
              " 'in the second case   five cardiac arrests due to ventricular tachycardia and fibrillation occurred during several hours after beginning a trial of bretylium maintenance therapy for complex ventricular ectopy',\n",
              " 'warfarin   coumadin   is the most common oral anticoagulant used for chronic anticoagulant therapy and most patients requiring such therapy are elderly   greater than    years old',\n",
              " 'summary  patients with nste acs for whom a conservative treatment strategy is selected should receive enoxaparin   fondaparinux   or unfractionated heparin   ufh   as anticoagulant therapy',\n",
              " 'at presentation   all patients were presumed to have classic dlk and were treated initially with aggressive topical steroids',\n",
              " 'the association of the use of certain androgenic steroids with hepatic neoplasms histologically resembling hepatocarcinomas   but characterized by lack of metastases and apparent reversibility   suggests the desirability of a new nomenclature for these hepatocellular lesions',\n",
              " 'limited documentation of this adverse effect exists in the literature',\n",
              " 'yoga neuropathy',\n",
              " 'we report four cases of severe corneal ulceration in methamphetamine abusers',\n",
              " 'case summary  an    year old white man presented with an upper gastrointestinal hemorrhage from a gastric ulcer',\n",
              " 'facial soft tissue augmentation has been performed using different materials',\n",
              " 'dcf appears valuable as a second line treatment in non hodgkin is lymphomas and as initial treatment in t cell chronic lymphocytic leukaemia and mycosis fungoides',\n",
              " 'her systemic therapy was initiated at a time when her tumor burden was possibly relatively low and a good response to the aggressive combination chemotherapy including daunomycin was obtained',\n",
              " 'development of essential thrombocythemia in a patient treated with interferon alfa and pentostatin for hairy cell leukemia',\n",
              " 'a fatal pancytopenia occurred in a patient with an history of depression with hypomanic rebounds   admitted for a manic episode and treated with levomepromazine   diazepam and lithium carbonate',\n",
              " 'the authors describe a relation between the in vivo localized consumption of in     platelets and results of laboratory tests in a    year old man with an aortic graft prosthesis who had chronic disseminated intravascular coagulation',\n",
              " 'protease inhibitors   ritonavir and saquinavir   were added to the treatment and the patient developed progressive ataxia related to carbamazepine toxicity',\n",
              " 'thiazide induced hyponatremia',\n",
              " 'the underlying pathogenesis is probably multifactorial',\n",
              " 'discussion  a literature search showed no reports of an interaction between warfarin and levamisole',\n",
              " 'six cases of subacute sclerosing panencephalitis     stage i     stage ii     stage iii   were diagnosed at our institution in the last    years',\n",
              " 'we report a case of unintentional overdose of oral pilocarpine tablets that resulted in bradycardia   mild hypotension   and muscarinic symptoms in a patient with sjogren is syndrome',\n",
              " 'five months after the patient is erythropoietin therapy was discontinued   his a c value increased to         leading us to conclude that management of the insulin dose may have been different without the falsely lowered a c levels',\n",
              " 'adverse effects as observed in these cases have not been reported previously',\n",
              " 'objective  the aim of this study is to describe the efficacy and safety of risperidone   in the treatment of delusions of infestation',\n",
              " 'a further case of anaphylactoid reaction to methylprednisolone is reported',\n",
              " 'conclusion  zidovudine is well a known cause of anaemia and thus should be used with caution in the initiation of antiretroviral therapy',\n",
              " 'to evaluate whether racial factors may be involved in the development of art induced lipodystrophy and or lipid serum abnormalities   we carried out a case control study on all    consecutive anti hiv positive sub saharan black african patients observed from september   fc   to december        cases   and    caucasian  controls  pair matched for sex   age      years     number of cd  cells        cells     clinical stage of hiv infection   overall duration      months   of anti retroviral treatment and type and duration      months   of the last anti retroviral regimen',\n",
              " 'the latter dialysate was prepared by adding sodium phosphate salts to the base concentrate of a dual concentrate   bicarbonate based dialysate delivery system',\n",
              " 'based on the history and clinical features   a diagnosis of insulin induced lipohypertrophy was made',\n",
              " 'although there have been reports of this occurrence   there have been no reports of this overlap syndrome treated with immunomodulators',\n",
              " 'clinical aspects and electrophysiological data such as polygraphic studies   electroencephalography   and measurement of somatosensory evoked potentials support the cortical origin of negative myoclonus',\n",
              " 'endocrine physicians should be alert to this in patients with fixed di and an abnormal thirst threshold',\n",
              " 'since the   patients were relatively old   average age      years old   and had various degrees of micro  and macroangiopathies   these side effects may have been associated with increased micro  and macrocirculatory disturbances in their central nervous systems through alpha glucosidase inhibition of this agent',\n",
              " 'the prognostic significance of this pattern in drug overdose is therefore not definitive by itself',\n",
              " 'his immune system at this time was almost completely depleted',\n",
              " 'because of secondary left ventricular dysfunction   digoxin was administered',\n",
              " 'one child showed massive cell destruction which caused hyperuricemic nephropathy',\n",
              " 'the association of venlafaxine treatment with ischaemic events could be explained by its unique pharmacological and haemodynamic properties',\n",
              " 'local anesthetic switching for intrathecal tachyphylaxis in cancer patients with pain',\n",
              " 'the s typhimurium isolates from this patient   from other ill persons   and from raw milk were resistant to ampicillin   chloramphenicol   kanamycin sulfate   streptomycin   sulfonamide   and tetracycline',\n",
              " 'objective  this case study provides practical information for general practitioners in the detection   assessment and management of patients with cough mixture opioid dependence',\n",
              " 'however   continued low dose mtx led   in spite of normal liver tests     years after the last biopsy to liver failure and death in   of our patients',\n",
              " 'its main mechanism of action is regarded as a switch of the immune reaction from a t helper   th     to a th  cell type',\n",
              " 'presentation of three palliative care patients who were given ketamine as an analgesic and subsequently developed significant and debilitating urological symptoms',\n",
              " 'sodium nitroprusside was stopped and amrinone     mg bolus followed by    micrograms   kg     min   was given in addition to adding peep to the ventilation',\n",
              " 'nummular headache   nh   is a primary headache adopting the form of local pain in a circumscribed area of   cm in diameter in the tuber parietale   albeit it may also be located in other areas of the head',\n",
              " 'tonic seizures occurred immediately and appeared to represent a paradoxical seizure exacerbation',\n",
              " 'hepatitis following cimetidine administration',\n",
              " 'pacemaker pocket infection due to acremonium species',\n",
              " 'a   year old with congenital toxoplasmosis who took pyrimethamine and sulfadiazine for reactivated chorioretinitis developed fever   severe cutaneous involvement   swelling   abdominal pain and transaminitis   persisting weeks after withholding medicines',\n",
              " 'acute cardiogenic pulmonary edema and other causes of respiratory distress were ruled out   diagnosis of adult respiratory distress syndrome   ards   was made',\n",
              " 'the dark adaptation curves were normal for one patient several months after isotretinoin therapy was discontinued',\n",
              " 'purpose  utilization of lead contaminated opium may lead to severe motor neuron impairment and quadriplegia',\n",
              " 'sulfasalazine induced lung disorder is an extremely rare entity which must be considered in all ulcerative colitis patients while on sulfasalazine therapy   despite the absence of pulmonary symptomatology',\n",
              " 'most patients        developed the syndrome   to    months after starting chemotherapy   and     were in remission',\n",
              " 'perospirone has a uniquely high affinity for serotonin  a receptors   and it could be speculated that perospirone   as a serotonin  a receptor agonist combined with sda   may have greater efficacy for treatment refractory symptoms of schizophrenia',\n",
              " 'in three patients   occasional transient episodes of atrial flutter or atrial fibrillation preceded a spontaneous return to normal sinus rhythm',\n",
              " 'two patients with adrenal carcinoma treated with       bis     chlorophenyl   chlorophenyl          dichloroethane   o   p  ddd   as adjuvant therapy were studied',\n",
              " 'acute gvhd developed at the end of therapy and the patient is leukemia went into remission',\n",
              " 'thereafter   mycobacterium tuberculosis was detected in blood cultures and specimens of bronchoalveolar lavage   thus indicating disseminated tb',\n",
              " 'shortly after chemotherapy and an injection of pegfilgrastim   the patient developed poorly defined   rapidly progressive erythema   edema   and pain in his right forearm',\n",
              " 'the aim of this paper is to report the case of rosaceiform eruption induced by erlotinib in an    year old man and to discuss the pathogenetic role of demodex folliculorum mites   found in the present patient   using skin scraping',\n",
              " 'a    year old hypercholestrerolaemic woman taking cerivastatin          mg day   for    days complained of general muscle weakness and muscle pain',\n",
              " 'a case of liver damage following treatment with danazol for fibrocystic breast disease is reported',\n",
              " 'these findings suggested vasospasm or dissection   presumably related to hypertension and or angiitis or vasoconstriction of large cerebral arteries leading to local thrombosis as a result of stasis and sympathomimetic induced platelet activation',\n",
              " 'parvovirus b   was assumed to induce the leukopenia by restraining myeloid proliferation',\n",
              " 'we report a patient who experienced labd shortly after starting carbamazepine therapy',\n",
              " 'negligible reactivity was observed with microsomes from human b lymphoblastoid cell lines expressing cyp a     a     a     d     e     a  or epoxide hydrolase',\n",
              " 'significant clinical improvement of the porphyria followed withdrawal of the diphenylhydantoin',\n",
              " 'the anemia continued because of bloody stool caused by crohn is disease',\n",
              " 'after    days of therapy   he was taken to the emergency department with a   day history of fever   headache   and neck pain',\n",
              " 'successful treatment of poison oak dermatitis treated with grindelia spp     gumweed',\n",
              " 'conclusions  patients receiving intravitreal injections of bevacizumab should be evaluated for potential systemic risk factors such as carotid insufficiency   coagulopathy and poorly controlled diabetes mellitus',\n",
              " 'combination of sodium thiosulphate   cinacalcet   and paricalcitol in the treatment of calciphylaxis with hyperparathyroidism',\n",
              " 'we report marked qt prolongation and torsades de pointes in a setting of flash pulmonary edema resulting from acute myocardial ischemia in a patient who was being treated with dofetilide for atrial fibrillation',\n",
              " 'the epivodes of nms occured under treatment with clozapine   risperidone   and amisulpride',\n",
              " 'in this report   a patient who had undergone a renal transplantation as a result of malignant hypertension   and who was on immunosuppressive therapy consisting of cyclosporin   prednisone and azathioprine   developed thrombosis of the central retinal vein   years following the transplantation',\n",
              " 'objective  anastrozole is a selective aromatase inhibitor and is used for the hormonal treatment of postmenopausal breast cancer',\n",
              " 'localized panniculitis and subsequent lipoatrophy with subcutaneous glatiramer acetate   copaxone   injection for the treatment of multiple sclerosis',\n",
              " 'rapid liver failure related to chronic c hepatitis in an hiv seropositive hemophilic patient with severe immunodepression',\n",
              " 'the third patient had dyspnea on exertion   unchanged over two months',\n",
              " 'three diabetic cases of acute dizziness due to initial administration of voglibose',\n",
              " 'we report the syndrome of inappropriate antidiuresis as a much earlier side effect of carbamazepine administration in a    year nigerian female patient with generalized tonic elonic seizures',\n",
              " 'her serum total cholesterol was     mg dl and triglyceride was      mg dl despite administration of    mg of simvastatin daily',\n",
              " 'we report the case of a young hiv seropositive patient with severe hemophilia a who presented rapid liver failure related to his chronic c hepatitis',\n",
              " 'this trial was designed to evaluate intraarticular delivery of a tumor necrosis factor alpha   tnf alpha   antagonist   through an adeno associated virus   aav   type   delivery system   for inflammatory arthritis',\n",
              " 'nimesulide is a new nonsteroidal anti inflammatory   nsaid   drug with antipyretic and analgesic properties',\n",
              " 'we present two cases of nitrofurantoin induced pulmonary toxicity in which the initial hrct showed a widespread reticular pattern and associated distortion of the lung parenchyma   thought to represent established fibrosis',\n",
              " 'exceptionally long status and stupor increase the risk of medical complications',\n",
              " 'this panic anxiety was not relieved by taking etizolam and flunitrazepam again   but subsided rapidly by the re administration of mianserin    mg day   and because of that the depressive symptom also disappeared',\n",
              " 'an    year old man receiving glipizide    mg bid developed symptomatic hypoglycemia within three days of adding trimethoprim sulfamethoxazole   tmp smx   to his regimen',\n",
              " 'in cases with or without small perforations   the technique minimizes or decreases fluid flow so that the surgeon has a clearer view of these tissues and can perform more thorough and accurate stripping of deeper layers of tissue',\n",
              " 'in case of relapse the clinically important question of discontinuation of lithium versus the concurrent use of ect and lithium may arise',\n",
              " 'the safety profile of this treatment in critically ill patients has not been fully evaluated',\n",
              " 'ck and or alanine aminotransferase and aspartate aminotransferase were increased      times above the normal range in four of these patients   and the muscle biopsy showed focal rml in all five',\n",
              " 'his dibucaine number was      and the michaelis constant was       times that of normal sera',\n",
              " 'the main side effects of lp tae combined with ht were low grade fever   localized pain   myelo suppression and liver dysfunction   but these were transient and eventually disappeared',\n",
              " 'objective  to report a case of toxin positive clostridium difficile induced colitis   cdic   after use of clindamycin phosphate vaginal cream',\n",
              " 'blood   urine   and sputum cultures were positive for trichosporon',\n",
              " 'his serum calcium returned to a normal range in three months with vitamin d and calcium supplement',\n",
              " 'pharmacokinetic modeling suggested that the patient is initial over treatment was as reported and that the predicted maximum serum concentration of chloroquine       micro g l   was within the range seen in fatal chloroquine overdose',\n",
              " 'restless legs syndrome may thus be an adverse effect of ifn alpha treatment',\n",
              " 'a case is reported of theophylline intoxication due to a dramatic decrease in theophylline clearance following concomitant administration of viloxazine',\n",
              " 'further refinements for customization of articulating spacers have been attempted   rand        goldman et al',\n",
              " 'to the best of our knowledge   corneoscleral melting in the first postoperative week after a single intraoperative application of mitomycin c has not been reported',\n",
              " 'one patient also manifested marked disinhibited and disruptive sexual behavior',\n",
              " 'we report a case of intrauterine contraceptive device   iud   associated pelvic actinomycosis due to actinomyces urogenitalis in a previously healthy young adult woman',\n",
              " 'when cyanamide treated alcoholics relapse into drinking   more severe inflammation develops in the liver',\n",
              " 'six of    outpatients with schizophrenia who participated in a ten week open trial of risperidone had an initial good response to the medication followed by development of intolerable affect   including feelings of agitation and depression and periods of crying and insomnia',\n",
              " 'results  coagulase negative staphylococci were identified and isolated from the vitreous specimen of both patients',\n",
              " 'therapy related myelodysplastic syndrome with der        t               q     p     as a new recurrent cytogenetic abnormality after treatment for chronic lymphocytic leukemia',\n",
              " 'the patient was then treated with il         x          u m  for   days per week and       mu m  ifn alpha three times per week',\n",
              " 'both asthma and thyroid disease are common disorders that occasionally occur together',\n",
              " 'gemcitabine related radiation recall in a patient with pancreatic cancer',\n",
              " 'as the use of this drug for off label indications and in pediatric populations increases   it is important for clinicians to better understand the drug is pharmacokinetic profile in these patient populations',\n",
              " 'this syndrome has been associated with the use of aromatic ring containing agents such as phenytoin   carbamazepine   or phenobarbitone',\n",
              " 'prolongation of the qt interval associated with ventricular arrhythmias has been the most common cause of the restriction or withdrawal of drugs from the market in the past    years',\n",
              " 'parathyroid hormone and calcitonin levels were measured along with phosphate clearance and the tubular reabsorption of phosphate',\n",
              " 'the principle treatment for dpd deficient patients with severe acute   fu reactions is supportive care   however   the administration of thymidine potentially may reverse severe   fu induced neurologic symptoms such as encephalopathy and coma',\n",
              " 'we conclude that intoxication with lacosamide   in combination with overdoses of multiple aeds   can be survived without sequelae   even after ingestion of    g lacosamide',\n",
              " 'no relapse of endocarditis was observed after    months of follow up',\n",
              " 'mecasermin rdna   increlex   tercica   inc     is recombinant insulin like growth factor i   igf i   that has been approved to treat growth failure in children with severe primary igf i deficiency',\n",
              " 'summary of background data  meningiomas are known to enlarge in response to female sex hormones',\n",
              " 'treatment was continued for   days   during which the dosage was progressively decreased   and the mare was discharged',\n",
              " 'vitamin k  was infused along with discontinuation of warfarin',\n",
              " 'l asparaginase   an enzyme with established antileukemic activity   increases the induction rate and duration of remission of acute lymphoblastic leukemia when added to vincristine and prednisone for induction therapy',\n",
              " 'a prospective controlled trial comparing the treatment effects of psychostimulants and donepezil on patients having opioid induced sedation is underway',\n",
              " 'twelve patients reported improvement in pain and mood   while    reported improvement in sleep',\n",
              " 'when pilsicainide is prescribed in patients with coronary artery disease or renal dysfunction   close attention must be paid to avoid life threatening arrhythmias due to high plasma concentrations of the drug',\n",
              " 'early bacterial keratitis after laser assisted subepithelial keratectomy',\n",
              " 'rapamycin sirolimus   sr     trade named rapammune   wyeth ayerst   sydney   australia     is a potent immunosuppressive drug associated with myelosuppression   hypertension   hyperlipidemia   and infection',\n",
              " 'he was referred after a percutaneous liver biopsy which revealed a moderately differentiated hcc',\n",
              " 'alopecia is a rare but important side effect of anti parkinsonian medications',\n",
              " 'we postulate that the bolus of sulprostone resulted in possible coronary spasm that resulted in cardiac arrest',\n",
              " 'the potential for adverse system reactions resulting from topical medications should be considered',\n",
              " 'context  acute pancreatitis has been reported in a few cases treated with macrolides or glucocorticoids',\n",
              " 'the pulmonary symptoms recurred after discontinuing corticosteroids   five months after amiodarone was stopped   and were associated with a persistent amiodarone level',\n",
              " 'the rarity of severe complications in this situation warrants presentation of the following unique association',\n",
              " 'it is reversible with discontinuation of drug and administration of corticosteroids',\n",
              " 'we also review the diagnostic and therapeutic implications of this paradoxical complication associated with treatment of bone lesions in mm',\n",
              " 'results  three patients who developed symptoms of inflammatory bowel disease   ibd   during rofecoxib exposure are described along with pathology findings',\n",
              " 'diabetic symptoms dominated the clinical presentation but there was no tendency towards diabetic ketoacidosis',\n",
              " 'they had not been transfusion dependent prior to treatment',\n",
              " 'the current report describes a man who was prescribed zonisamide for epilepsy and subsequently developed widespread skin rash   acute kidney injury   high grade fever   eosinophilia   liver dysfunction   lymphadenopathy and an increase in antihuman herpesvirus   immunoglobulin g titer',\n",
              " 'delayed onset multifocal keratitis is a rare complication of lasik',\n",
              " 'in this case   cips was considered to be probably associated with cyclosporine according to the naranjo probability scale',\n",
              " 'elimination rates for staphylococcus aureus and haemophilus influenzae were similar   adverse reactions did not differ in both arms',\n",
              " 'recurrent hepatitis c and csd were ultimately managed by the application of pegylated interferon',\n",
              " 'intrathecal rituximab treatment for pediatric post transplant lymphoproliferative disorder of the central nervous system',\n",
              " 'the cyclophosphamide     g m       per day   and thiotepa      mg m       per day   doses were based on body surface area   bsa   calculated using total body weight   tbw',\n",
              " 'diffusion weighted mri   dwi   may help to distinguish between ischemic stroke and chemotherapy related leukoencephalopathy',\n",
              " 'although many of the patients have underlying heart disease   there are reports of patients with no evident heart disease where acute alcohol injestion has caused arrhythmias',\n",
              " 'antiretrovirals from three drug classes   nucleoside analogs   nonnucleoside analogs   and protease inhibitors   can be combined to achieve viral suppression',\n",
              " 'cotton wool spots were found in six patients   retinal hemorrhages in four   and branch retinal vein occlusion in one   one eye',\n",
              " 'all patients had symptomatic hypocalcaemia   including a tonic clonic seizure and tachyarrhythmia in one case',\n",
              " 'rhabdomyolysis following clarithromycin monotherapy',\n",
              " 'a    year old man with severe chronic obstructive pulmonary disease presented to our pain medicine clinic for treatment of post herpetic neuralgia',\n",
              " 'it is indicated in many inflammatory skin conditions characterized by polymorphonuclear cell infiltration',\n",
              " 'every year they receive dilated fundoscopic eye examination',\n",
              " 'however     eye had vitreous hemorrhage after repeated injections of tpa',\n",
              " 'under prophylactic treatment with low dose trimipramine      mg   or nefazodone       mg day   therapy with ifn alpha   x   mio ie week was re established after several months and again   years later adding ribavirin      mg day   a virustaticum',\n",
              " 'bilateral simultaneous achilles tendon ruptures are rare   with only ten cases reported in the english literature',\n",
              " 'these symptoms resolved over a period of five days',\n",
              " 'increasing warfarin dosage reductions associated with concurrent warfarin and repeated cycles of   fluorouracil therapy',\n",
              " 'amiodarone induced thyrotoxicosis associated with thyrotropin receptor antibody',\n",
              " 'all lesions resolved with proven histologic clearance',\n",
              " 'the avm was embolized without incident   however   the avf was not accessible',\n",
              " 'conclusions  with increasing clinical use of terlipressin and an increasing incidence of obesity and non alcoholic fatty liver disease related cirrhosis   the incidence of these serious complications is likely to rise',\n",
              " 'our case illustrates an unusual presenting symptom of hemoptysis and the need to identify patients who can be at risk of developing this rare condition',\n",
              " 'we report a case of a patient with mild chronic renal insufficiency who had been taking simvastatin for over a year and developed acute weakness within   weeks after the start of treatment with colchicine for acute gouty bursitis',\n",
              " 'she was transferred to our hospital after she developed pancytopenia   fever   and ileus',\n",
              " 'conclusion  progressive outer retinal necrosis is not limited to the acquired immunodeficiency syndrome but may occur in patients immunocompromised because of other conditions',\n",
              " 'ganciclovir and standard high dose immunoglobulins for the treatment of cytomegalovirus interstitial pneumonia in a bone marrow recipient',\n",
              " 'he was initially treated with intravenous fluids and opiate analgesia',\n",
              " 'the treatment of visceral leishmaniasis   vl   may be complicated by drug toxicity or intolerance   and by drug resistance',\n",
              " 'it has been shown to possess beneficial effects in reducing the relapse rate in relapsing remitting multiple sclerosis',\n",
              " 'the aim was to determine the source of the recurrent lesion based on its morphology and the patient is verbal history',\n",
              " 'he was diagnosed with acute pleuropericarditis by blood tests   electrocardiogram   chest x ray   and echocardiogram',\n",
              " 'a    year old japanese man with chronic myelogenous leukemia developed pityriasis lichenoides like eruptions during chemotherapy',\n",
              " 'the principal types of renal disorders associated with chronic hcv infection are cryoglobulinemia or noncryoglobulinemic membranoproliferative glomerulonephritis   mpgn',\n",
              " 'twenty four months after patient is discharge   her clinical condition   cbc   and bone marrow remained normal',\n",
              " 'the child was on no other medication and had been previously well',\n",
              " 'because of a hypersensitivity reaction   initial therapy with penicillin g and gentamicin was stopped and substituted with cefazolin',\n",
              " 'a dapsone hypersensitivity syndrome   consisting of fever   headache   nausea   vomiting   lymphadenopathy   hepatitis   hemolysis   leukopenia   and mononucleosis   has been described in patients treated with the drug for leprosy',\n",
              " 'we concluded that an adequate dose of steroids can be the first line of therapy for prca after abo mismatched allogeneic stem cell transplantation',\n",
              " 'primary biliary cirrhosis and polymyositis',\n",
              " 'prenatal cytomegalovirus   cmv   infection associated with severe brain damage was detected in an infant whose mother had been treated with prednisolone and azathioprine for systemic lupus erythematosus   sle',\n",
              " 'since propylthiouracil is an equally effective antithyroid agent and has not been associated with acc   it is the preferred thioamide for hyperthyroidism during pregnancy',\n",
              " 'clinical features were those of a cicatricial pemphigoid   with prominent mucosal involvement leading to conjunctival and nasal scarring',\n",
              " 'occasionally   parasites are noted in the sputum',\n",
              " 'objective  to report a case of rhabdomyolysis caused by commiphora mukul   a natural lipid lowering agent',\n",
              " 'she was treated with intravenous fluids and discharged',\n",
              " 'isoniazid and ethambutol as a cause of optic neuropathy',\n",
              " 'the plasma cortisol level was significantly higher in the low dose period   mean                  micrograms ml   than in the high dose period   mean                 micrograms ml   although   paradoxically   the panic attack frequency was significantly lower in the low dose period   mean                 day   than in the high dose period   mean                 day',\n",
              " 'myoclonus and seizures disappeared after discontinuation of l dopa and the introduction of valproate sodium   vpa',\n",
              " 'the granulomatous hepatitis occurred in the apparent absence of mycobacteria from the liver',\n",
              " 'purpose  to report a case of nodular scleritis following alendronate sodium',\n",
              " 'however   even with an initial dose of       mg   hypotension with consciousness disturbance developed in three hypertensive patients with recent cerebral hemorrhage',\n",
              " 'hydatid disease  the alveolar variety in australia',\n",
              " 'we hypothesize that caffeine toxicity injured the muscle cells   which were fragile due to the potassium depletion induced by the coexisting hyponatremia   to result in unusually severe rhabdomyolysis',\n",
              " 'tegaserod associated ischemic colitis',\n",
              " 'two patients are described who developed testicular swelling and pain during treatment with desipramine',\n",
              " 'umbilical artery catheterization is known to be associated with aortoiliac thrombosis in approximately    of newborns in whom catheters are placed',\n",
              " 'however   an increasing number of case reports and clinical studies on thrombolysis during and after cpr highlight an increased frequency of the return of spontaneous circulation and a better neurological outcome of surviving patients',\n",
              " 'optometrists should be familiar with this condition   its signs   symptoms and correct treatment protocol',\n",
              " 'atrioventricular block complicating amiodarone induced hypothyroidism in a patient with pre excitation and rate dependent bilateral bundle branch block',\n",
              " 'though proteinuria and nephrotic syndrome is a rare adverse effect of ifn beta  b therapy   physicians treating ms patients with this agent should pay careful attention to new clinical symptoms and laboratory findings',\n",
              " 'seizures and extrapyramidal symptoms in a patient with tourette is syndrome   asperger is syndrome   and multiple sclerosis treated with interferon beta  a and clomipramine',\n",
              " 'conclusions  amphotericin b overdose can be fatal in children and infants',\n",
              " 'three patients   in whom tumour overkill by cytotoxic treatment   including high dose methotrexate with folinic acid rescue   resulted in the  phosphate shower syndrome    hyper uricaemia   hyperkalaemia and hyperphosphataemia with hypocalcaemia and tetany   with metabolic acidosis and acute renal impairment   are described',\n",
              " 'the patient was treated with intraparotid injections of botulinum toxin',\n",
              " 'purpose  to report a case of severe corticosteroid induced glaucoma after intravitreal injection of triamcinolone acetate in a    year old man without a history of glaucoma',\n",
              " 'neutropenic enterocolitis is a severe and potentially life threatening complication that may affect patients undergoing chemotherapy for acute leukemia or lymphoma',\n",
              " 'on the  th day   these values reached a maximum   i   e      and      of the control   respectively',\n",
              " 'these measurements       before and     on therapy   suggested that both early and late dumping symptoms are causally related to the rate of glucose elevation and decline   rather than to glucose peak and nadir   respectively',\n",
              " 'two attempts at carboplatin desensitization were unsuccessful',\n",
              " 'there is yet no explanation for the occurrence of hallucinations or psychosis',\n",
              " 'when the therapy was discontinued   the frequency and amplitude of the myoclonus increased   and synchronous and weak myoclonus also was observed in the left abdomen',\n",
              " 'proposed mechanisms include von willebrand factor abnormalities   decreased prostacyclin production   and immune complex formation',\n",
              " 'method  case analysis of a poly drug overdose   venlafaxine   topiramate   divalproex sodium   risperidone   and carbamazepine   presenting with mixed ss nms features and whose clinical management suggests a practical algorithm for treatment of undifferentiated ss nms in critical care settings',\n",
              " 'we report an unusually short lived and asymptomatic episode of severe cisplatin induced renal tubular salt wasting in a fit    year old patient with malignant teratoma',\n",
              " 'to the best of our knowledge   this is the first report from japan about contact dermatitis caused by this medication',\n",
              " 'diarrhoea   t cd  lymphopenia and bilateral patchy pulmonary infiltrates developed in a male    yrs of age   who was treated with oxaliplatinum and   fluorouracil for unresectable rectum carcinoma',\n",
              " 'therefore   data from large randomised   multicentre studies are needed to definitely answer the question of the relationship between safety and efficacy of this promising treatment option',\n",
              " 'objective  to report a fatal case of toxic epidermal necrolysis in a man who was treated with oral ofloxacin for epididymitis',\n",
              " 'the activity of dihydropyrimidine dehydrogenase   dpd     the initial enzyme of pyrimidine   and fura   catabolism   in peripheral blood mononuclear cells was measured in each subject by a specific radiometric assay using fura as the substrate',\n",
              " 'it binds to both active and inactive conformations of the abl gene and is     times more potent than imatinib in inhibiting the growth of bcr abl cells in vitro   morelock and sahn   chest                     huggins and sahn   clin chest med',\n",
              " 'this may be related to the dose and duration of therapy with these agents',\n",
              " 'aminoglycoside induced renal tubular dysfunction could result in diffuse damage or manifest as a fanconi like syndrome   bartter like syndrome   or distal renal tubular acidosis',\n",
              " 'a month later this patient developed a fibula osteomyelitis due to the same germs',\n",
              " 'no concrete predisposing factor was found to be associated with the occurrence of the lesions on the face',\n",
              " 'in addition   not enough controlled clinical trials have yet been conducted',\n",
              " 'the variation among different diagnostic criteria makes this syndrome a challenging diagnosis at times   in particular when atypical antipsychotics are suspected as the causative agent',\n",
              " 'four days after intravenous zoledronic acid   the patient presented to emergency room with complaints of carpopedal spasm and bronchospasm',\n",
              " 'cutaneous rashes and eruptions can be caused by many medications   including carbamazepine',\n",
              " 'magnetic resonance spectroscopy in niemann pick disease type c  correlation with diagnosis and clinical response to cholestyramine and lovastatin',\n",
              " 'after a total of    applications the patient developed a port thrombosis resistant to lysis with urokinase',\n",
              " 'shewanella spp   infection following treatment for upper gastrointestinal bleeding',\n",
              " 'conclusion  pancreatic enzyme intolerance   although rare   would be a major problem in the management of patients with cf',\n",
              " 'acute syphilitic posterior placoid chorioretinitis following intravitreal triamcinolone acetonide injection',\n",
              " 'because etoposide induced pulmonary toxicity is an uncommon but serious adverse event   clinicians must be vigilant about the possibility of it   so that the optimal treatment can start as soon as possible',\n",
              " 'quetiapine was assayed in biological specimens by basic extraction with n butyl chloride and derivatized with    microl of mtbstfa and separation by gc npd',\n",
              " 'the former is thought to be related to central nervous system dopaminergic hyperactivity   while the latter is known to be related to dopamine deficiency',\n",
              " 'an unusual complication of a hickman catheter',\n",
              " 'six days after she received a prescription for a   day course of azithromycin   her inr was',\n",
              " 'pressure induced interface keratitis  a late complication following lasik',\n",
              " 'the most remarkable feature was the presence of diamond shaped russell bodies in     of the plasma cells of the second biopsy specimen',\n",
              " 'in one patient there was resolution of symptoms following cessation of ketamine   but some symptoms persisted until death in the other two',\n",
              " 'treatment with cph      a mixture of two benzylidated podophyllotoxin glycosides   has been shown to improve inflammatory activity in patients with ra',\n",
              " 'respiratory distress   severe vod and grade ii acute gastrointestinal gvhd complicated the post transplant period',\n",
              " 'combination therapy with i   a   urokinase   i   a   prostaglandines and i   v   anticoagulation resulted in re opening of the obstructed distal artery and complete cessation of symptoms',\n",
              " 'this case history   however   illustrates the susceptibility to these agents shown by some patients',\n",
              " 'methods  we present the clinical findings   pertinent laboratory data   and follow up course of a patient with graves  disease and bilateral sensorineural hearing loss',\n",
              " 'danazol and multiple hepatic adenomas  peculiar clinical findings in an acromegalic patient',\n",
              " 'the use of botulinum toxin in the treatment of a parotid duct injury during mohs surgery and review of management options',\n",
              " 'alcohol withdrawal syndrome   aws   is a major cause of morbidity and mortality in the acute care setting',\n",
              " 'however   glucose phosphate dehydrogenase was normal in the present case   suggesting that it is not a predisposing condition to the lung injury',\n",
              " 'mycosis fungoides progression and chronic solvent exposure',\n",
              " 'the disease modifying drugs he was taking   cyclosporin and methotrexate   were stopped   and the lymphoma resolved spontaneously without the use of chemotherapy',\n",
              " 'optimal medical management may not be widely recognized',\n",
              " 'transient cardiac arrhythmias related to lopinavir ritonavir in two patients with hiv infection',\n",
              " 'renal function improved rapidly after withdrawal of the drug therapy',\n",
              " 'vincristine overdose         mg m    was accidentally administered to   children with acute lymphoblastic leukemia',\n",
              " 'a    year old woman treated with pranlukast for   months developed interstitial pneumonitis with a high fever',\n",
              " 'linezolid is relatively well tolerated and is not believed to be nephrotoxic',\n",
              " 'we present the first case of a patient with priapism after oral intake of the phenothiazine prothipendylhydrochloride',\n",
              " 'agranulocytosis during clozapine therapy',\n",
              " 'with an increasing trend towards re treating patients with known iirs   clinicians should be aware of this potentially serious and previously unreported complication',\n",
              " 'we recommend the cautious use of alum irrigation in patients with renal impairment and monitoring of serum aluminum levels to prevent excessive accumulation and toxicity',\n",
              " 'eeg with polygraphic recording may detect clinically inapparent tonic seizures in epileptics with unexplained confusion   and when generalized paroxysmal fast activity occurs during eeg recording',\n",
              " 'cytomegalovirus   cmv   pneumonia in the setting of non transplantation patients is a rarity',\n",
              " 'chlorambucil central nervous toxicity  a significant side effect of chlorambucil therapy in childhood nephrotic syndrome',\n",
              " 'we report treatment of a    year old man with minimal change disease   mcd   who developed pneumatosis intestinalis   pi   during administration of immune suppressive agents',\n",
              " 'this patient was started on aminoglutethimide   days prior to radiation therapy   for painful bone metastasis',\n",
              " 'the exogenous origin of the lipid in the bal fluid was confirmed by gas chromatography mass spectrometry',\n",
              " 'severe hepatitis caused by cyproterone acetate',\n",
              " 'these patients were treated with cholinesterase inhibitors within a post marketing surveillance study',\n",
              " 'the good results reported in previous series were only found in this study when the indications were restricted to certain favourable prognostic factors  duration of sciatica less than   months and cat scan appearance of discal hernia',\n",
              " 'therefore doses were adapted on the  rd day of the course',\n",
              " 'she underwent a standard protocol for insulin desensitization twice in a   month period   with persistence in her symptoms',\n",
              " 'acute enlargement and subsequent rupture of an abdominal aortic aneurysm in a patient receiving chemotherapy for pancreatic carcinoma',\n",
              " 'conclusion  fungal infection of icds is a rare but serious complication of device implantation that must be treated aggressively with complete hardware explantation and prolonged antifungal therapy',\n",
              " 'albeit rare among western patients   such lithium associated thyroid dysfunctions appeared to be more likely to occur in hong kong chinese',\n",
              " 'the patient was then treated with gemcitabine and irinotecan',\n",
              " 'prosthetic valve thrombosis is associated with high mortality',\n",
              " 'we report two cases of septic knee arthritis',\n",
              " 'conversely   diffuse interstitial pulmonary fibrosis should be considered in the differential diagnosis of patients receiving methotrexate who develop bilateral pulmonary infiltrates seen on chest roentgenograms',\n",
              " 'fatal hepatic failure caused by chemotherapy induced reactivation of hepatitis b virus in a patient with hematologic malignancy',\n",
              " 'method  a case report',\n",
              " 'after one fall   the patient became delirious',\n",
              " 'broken heart syndrome after separation   from oxycontin',\n",
              " 'fatal pulmonary fibrosis following       bis     chloroethyl      nitrosourea   bcnu   therapy',\n",
              " 'the condition should be suspected in patients who develop unexplained abdominal pain or collapse following vasopressin treatment',\n",
              " 'aplastic anemia and agranulocytosis in patients using methazolamide for glaucoma',\n",
              " 'stanozolol was well tolerated and had minimal side effects',\n",
              " 'these findings were low serum t          micrograms dl     t       ng dl     and a failure of serum tsh to rise after trh injection',\n",
              " 'sirolimus associated pneumonitis has been described in renal transplant patients',\n",
              " 'cmv antigenemia became negative within   weeks and never developed again',\n",
              " 'the incidence of primary osteogenic sarcomas of the skull is about   to    of all skull tumors',\n",
              " 'we describe a patient who experienced chronic nausea and an episode of confusion while treated with a small   stable dose of oral morphine in the setting of mild renal insufficiency',\n",
              " 'intra neural ceroid like pigment following the treatment of lepromatous leprosy with clofazimine   b      lamprene',\n",
              " 'we present a patient who had undergone renal transplantation referred for recurrent sinusitis',\n",
              " 'this series of articles facilitated by the australian cochrane musculoskeletal group   cmsg     aims to place the findings of recent cochrane musculoskeletal reviews in a context immediately relevant to general practitioners',\n",
              " 'however   in        a clinical study involving     patients on the thai burmese border revealed cardiac effects of antimalarial treatment with halofantrine   including one sudden death after the treatment',\n",
              " 'low serum na and hypoosmolality in the absence of volume depletion   clinically manifest edema   and unaltered renal   adrenal   cardiac   or thyroid function suggest that this antiarrhythmic drug produced the syndrome of inappropriate antidiuretic hormone secretion   siadh',\n",
              " 'neurological improvement and rehabilitation potential following toxic myelopathy due to intrathecal injection of doxorubicin',\n",
              " 'at   weeks  gestation   she was started on candesartan cilexetil   an arb',\n",
              " 'cutaneous sarcoidosis during interferon alfa and ribavirin treatment of hepatitis c virus infection  two cases',\n",
              " 'because relapse of histoplasmosis may occur as long as nine years after treatment   immunocompromised patients being treated with ketoconazole must have close long term clinical follow up',\n",
              " 'we present the management of agranulocytosis and neutropenic sepsis secondary to carbimazole with recombinant human granulocyte colony stimulating factor   g csf',\n",
              " 'reported herein are two nms patients with schizophrenia who were found to possess a cyp d  gene deletion allele   cyp d',\n",
              " 'the patient was discharged five days after admission and referred to a hematology clinic for follow up',\n",
              " 'conclusion  a    year old african  american man with g pd deficiency developed hemolytic anemia   hepatitis   orthostatic hypotension   and aseptic meningitis simultaneously after using trimethoprim sulfamethoxazole',\n",
              " 'this report rules out other causes of toxic epidermal necrolysis and implicates ofloxacin in what appears to be an atypical presentation of drug induced toxic epidermal necrolysis',\n",
              " 'objectives  to describe clinical and pathologic findings in patients noted to develop lower gastrointestinal symptoms when exposed to rofecoxib',\n",
              " 'other features of this adverse drug reaction were unremitting fever   leukocytosis with eosinophilia and atypical lymphocytosis   and proteinuria',\n",
              " 'objective  the objective of this study was to assess the efficacy of beta blockade on clinically significant left ventricular outflow tract obstruction in premature infants treated with dexamethasone because of bronchopulmonary dysplasia',\n",
              " 'radiation therapy is a powerful method for the control of cancer',\n",
              " 'here we report on a    month old boy with an anaplastic astrocytoma   who acquired an hhv   variant b infection during chemotherapy',\n",
              " 'three relevant cases are reported and a review of the published literature is made',\n",
              " 'overall   there were no relevant changes in clinical ratings including adverse effects',\n",
              " 'environmental agents have long been thought to be linked to the development of malignancies',\n",
              " 'fever   pulmonary infiltrates   and pleural effusion following acyclovir therapy for herpes zoster ophthalmicus',\n",
              " 'we encountered two girls with acute promyelocytic leukemia   apl   after living donor partial orthotopic liver transplantation',\n",
              " 'lower extremity arterial insufficiency after long term methysergide maleate therapy',\n",
              " 'pirmenol hydrochloride is a new orally effective   long acting antiarrhythmic agent currently used in patients with supraventricular and ventricular tachyarrhythmias',\n",
              " 'tailored therapy of adult acute leukaemia in jehovah is witnesses  unjustified reluctance to treat',\n",
              " 'the patient developed grade   capecitabine induced headache',\n",
              " 'she was commenced on antiretroviral therapy',\n",
              " 'with continued ganciclovir treatment   the graft remained clear and no recurrence or rejection occurred until    months after the last pkp',\n",
              " 'these medications do not require medical prescriptions   so often parents use them   bypassing paediatricians',\n",
              " 'mitomycin c   mmc   is an alkylating agent that has been recently associated with the hemolytic uremic syndrome   hus',\n",
              " 'persistent csf leak may also be present without pdph',\n",
              " 'in this report   we present a rare case of gastro duodenal ulcer following selective internal radiation therapy   sirt',\n",
              " 'bal demonstrated a significant lymphocytic alveolitis typical for hypersensitivity pneumonitis',\n",
              " 'the fifth patient exhibited paraesthesia and agitation caused by olanzapine that was misdiagnosed as psychotic agitation',\n",
              " 'we present two such case of epilepsy induced by video game',\n",
              " 'the interrelationship between the immunosuppressive effects of neoplasia and chemotherapy with the resultant thymic overgrowth remains to be clarified',\n",
              " 'necrotizing pancreatitis after transcatheter arterial chemoembolization for hepatocellular carcinoma',\n",
              " 'results  the treated rabbit eyes and the control eyes showed no light microscopic evidence of ocular toxicity at   month following injection',\n",
              " 'gallstones and bile sludge are common side effects of octreotide therapy but rarely become symptomatic or require treatment',\n",
              " 'there are reports of accelerated ssc syndromes associated in particular with breast cancer',\n",
              " 'conclusions  this report indicates clindamycin phosphate vaginal cream as the most probable cause of cdic due to the temporal relationship between the occurrence of diarrhea and clindamycin administration   lack of concomitant medications   and documentation of c   difficile toxin',\n",
              " 'the case is reported of a    year old woman who was being treated for chronic back and right leg pain with intrathecal morphine administered via a subcutaneous continuous infusion device',\n",
              " 'sms         was also effective in suppressing thyroid stimulating hormone   tsh   and thyroid hormone secretion in a patient with mild thyrotoxicosis due to non tumoural inappropriate tsh hypersecretion',\n",
              " 'the response to pain related treatments and to preventive drugs was poor in the symptomatic as well as in the primary cases',\n",
              " 'three of the six had the ogc develop as a tardive side effect   and in one patient the episodes persisted for some months after the cessation of the offending neuroleptic drug',\n",
              " 'scalp video eeg monitoring was obtained using the standard       system of electrode placement',\n",
              " 'we believe that the acute renal failure in our patient was associated with anastrozole',\n",
              " 'results  one case of recurrent primary peritoneal carcinoma previously treated with a carboplatin based regimen   developed a platinum hypersensitivity',\n",
              " 'we describe a patient in whom impressive hypoglycemia developed following treatment with this agent',\n",
              " 'progressive disseminated aspergillosis in a bone marrow transplant recipient  response with a high dose lipid formulation of amphotericin b',\n",
              " 'according to the naranjo probability scale   the relationship of gemcitabine treatment with cutaneous eruption in our patient is possible',\n",
              " 'mean duration of therapy was       yrs',\n",
              " 'we believe this is a remarkable potentiation on record in the literature',\n",
              " 'behavioral side effects associated with clonazepam may include agitation   aggression   hyperactivity   irritability   property destruction   and temper tantrums',\n",
              " 'combination disease modifying antirheumatic drug therapy was common   with                   taking methotrexate   mtx                      hydroxy chloroquine                    sulfasalazine   and                 anti tumor necrosis factor therapy',\n",
              " 'new serologic tests show promise',\n",
              " 'a    year old man who had been diagnosed with malignant mesothelioma developed malignant lymphoma of b cell origin involving the penis',\n",
              " 'however   in addition to its antiviral activity   ifn is a pleiotropic cytokine able to synergistically amplify t cell autoreactivity',\n",
              " 'successful treatment of cryptococcal ventriculoatrial shunt infection with systemic therapy alone',\n",
              " 'an   year old girl with pauciarticular disease   antinuclear antibody   and uncontrollable iridocyclitis underwent    plasma exchanges with    albumin solution as replacement   despite removal of antinuclear antibody   her eye disease and arthritis were not helped',\n",
              " 'acute pancreatitis is a rare but severe complication of tace',\n",
              " 'this paper contributed to the identification of possible reactions in the oral cavity due to antiretroviral medication',\n",
              " 'the patient was found to have a sigmoidovesical fistula and underwent sigmoidectomy and partial resection of the ileum and urinary bladder',\n",
              " 'a    year old woman presented with fever and cough   weeks after completing the third cycle of fludarabine for chronic lymphocytic leukemia   cll',\n",
              " 'vortex keratopathy associated with atovaquone',\n",
              " 'the vagina was saline irrigated after realising that the acetic acid had not been diluted',\n",
              " 'continuous supplecation of calcium and vitamin d   provoked dehydration and the mechanism of the milk alkali syndrome also contributed to this extremely high calcium level',\n",
              " 'intravenous injection of diazepam caused a rapid normalization of the eeg with disappearance of the clinical manifestations',\n",
              " 'the use of clonidine alone and in combination to treat a variety of problems has increased in child and adolescent patients',\n",
              " 'graft versus host like illness in a child with phenobarbital hypersensitivity',\n",
              " 'background  an infusion of prostaglandin e  is widely used to maintain patency of the ductus arteriosus in neonates with congenital heart disease',\n",
              " 'methotrexate induced hepatic necrosis requiring liver transplantation in a patient with rheumatoid arthritis',\n",
              " 'within    h of pulse therapy   they complained of palpitations and developed atrial fibrillation which reversed spontaneously or after anti arrhythmic therapy',\n",
              " 'two patients were supported with a right vad   one with a left vad   and one with a biventricular vad',\n",
              " 'they should be recognized as a possible side effect of gbp treatment in adults',\n",
              " 'clevudine myopathy in patients with chronic hepatitis b',\n",
              " 'this case suggests the importance of careful observation for extramedullary relapse in patients who are treated with atra',\n",
              " 'ganciclovir and standard high dose immunoglobulins were administered to the patient with resolution of the pneumonia',\n",
              " 'that review suggested that patients receiving anti d igiv be monitored for those and other potential complications of hemoglobinemia   particularly disseminated intravascular coagulation   dic',\n",
              " 'because of serious side effects of an increase in the qt interval causing torsades de pointes   dofetilide must be initiated with close monitoring of the qt interval in an inpatient setting',\n",
              " 'triazolam induced nocturnal bingeing with amnesia',\n",
              " 'indium     labeled leukocyte scintigraphy was performed on three febrile patients   two of whom had no signs or symptoms referable to the respiratory tract',\n",
              " 'symptoms mimicking crohn is disease deteriorated under intensified immunosuppression and surgery',\n",
              " 'well known signs of methotrexate toxicity include bone marrow suppression and oral and gastrointestinal ulceration',\n",
              " 'we postulate that cyclosporin   possibly together with ganciclovir   can produce transient brain stem or neuromuscular dysfunction with eye movement abnormality in occasional patients',\n",
              " 'this is a case report of possible association of methylphenidate and enuresis in an    year old boy with attention deficit hyperactivity disorder',\n",
              " 'in december        he applied to our clinic for a follow up examination',\n",
              " 'design  descriptive case series',\n",
              " 'the authors postulate that two types of combined lithium neuroleptic toxicity occur  a neuroleptic malignant extrapyramidal syndrome and a lithium toxicity that occurs in combination with phenothiazines   primarily thioridazine',\n",
              " 'bisphosphonates inhibit bone turnover and result in increased bone mineral density',\n",
              " 'careful echocardiographic monitoring is indicated in such cases',\n",
              " 'three alzheimer is disease patients with pisa syndrome were presented',\n",
              " 'gold nephropathy',\n",
              " 'we report a child with yolk sac tumor who developed localized pigmentation after the first course of chemotherapy regimen that included cisplatin   etoposide and bleomycin',\n",
              " 'case summary  a    year old white man was admitted for worsening palpable purpura over a two day period',\n",
              " 'infections seem uncommon',\n",
              " 'the study group was composed of four patients who underwent surgery in a   year period and experienced chronic pain resulting from superior cluneal nerve injury',\n",
              " 'we present a fatal case of subacute methanol toxicity with associated diffuse brain involvement   including bilateral putaminal necrosis and cerebral edema with ventricular compression',\n",
              " 'diagnostic procedures did not reveal any liver   kidney   splenic   or pancreatic abnormalities',\n",
              " 'due to paranoia and agitation   the dose was increased to   mg twice daily after   days',\n",
              " 'this resulted in loss of seizure control and a decrease in his serum carbamazepine concentration from        to       micrograms ml',\n",
              " 'overall   five of the seven patients were rated at least minimally improved in behavioural symptoms',\n",
              " 'the patient was successfully treated by anticoagulant therapy',\n",
              " 'although a single case   this report questions the safety of using an intraoperative application of mitomycin c for preventing a recurrence of pterygium',\n",
              " 'propylthiouracil induced cutaneous vasculitis',\n",
              " 'in    to     of patients   adverse effects may involve other organ systems',\n",
              " 'autoimmune hemolytic anemia associated with postirradiation malignant stromal tumor   leiomyosarcoma   of the jejunum',\n",
              " 'sixteen hours after the first administration of ifn   ifn was suspended by the symptoms of congestive heart failure   chf',\n",
              " 'this case is unique in that interstitial lung disease evolved in parallel with colitis and caused severe hypoxemia',\n",
              " 'encephalopathy and seizures induced by intravesical alum irrigations',\n",
              " 'case report  lack of control of diabetes and weight gain in a patient on initiation and rechallenge of therapy with olanzapine',\n",
              " 'we report a case of neh masquerading as cutaneous vasculitis in a woman receiving cyclophosphamide for lupus nephritis',\n",
              " 'fifty two mental hospital cases of acute and chronic schizophrenia and gross behaviour disorders were investigated and observed for      months during treatment with clozapine',\n",
              " 'repeated relapse occurred despite a variety of treatments until the institution of high dose neuroleptic therapy',\n",
              " 'contributory factors probably included pharmacokinetic interactions with co administrated drugs   vitamin k deficiency caused by decreased dietary intake   reduced gut bacterial production   impaired intestinal absorption and hepatic synthetic capacity   and increased consumption of clotting factors',\n",
              " 'a pulmonary artery catheter with the capacity to measure cardiac output and mixed venous oxygen saturation   svo    continuously was used',\n",
              " 'we present a patient with human immunodeficiency virus infection under treatment with foscarnet for cmv retinitis who complained of thirst and polyuria',\n",
              " 'trazodone induced transient hypomanic symptoms and their management',\n",
              " 'severe hypo alpha lipoproteinemia during treatment with rosiglitazone',\n",
              " 'hand made articulating spacers for infected total knee arthroplasty  a technical note',\n",
              " 'visual fields and tiagabine  a quandary',\n",
              " 'the patient developed occipital infarcts and was found to have extremely elevated levels of ppa in his blood and dialysis fluid',\n",
              " 'she had been administered tacrolimus for prophylaxis of graft versus host reaction',\n",
              " 'glycerol and urokinase produced rapid resolution of the symptoms and warfarin prevented further recurrence of pseudotumor cerebri for one year',\n",
              " 'from      to      several medications were changed due to their adverse effects  indinavir   renal colic and fever     nelfinavir   cutaneous rash     and efavirenz   nausea and temporary memory loss',\n",
              " 'how much do novel antipsychotics benefit the patients',\n",
              " 'this report emphasises the clinicopathological features and the diagnostic peculiarities of the acute tumour lysis syndrome   which occurs uncommonly in dogs',\n",
              " 'it has been found to cause a nonanion gap metabolic acidosis in some patients   which is related to carbonic anhydrase inhibition',\n",
              " 'we describe the clinical course   renal function   serial renal histology and urine and blood viral load measurements in two consecutive patients with refractory bkvn who were treated with low dose cidofovir          mg kg iv',\n",
              " 'in all patients   the iop increase was sustained across several visits   requiring control with topical glaucoma therapy   and in two cases the addition of a systemic carbonic anhydrase inhibitor',\n",
              " 'methotrexate may rarely provoke serositis   even with low doses and after just a few weeks of therapy',\n",
              " 'type i second degree av block   mobitz type i   wenckebach av block   during ritodrine therapy for preterm labor',\n",
              " 'in this paper   the authors present a case in which the current american society for regional anesthesia and pain medicine guidelines were strictly followed with respect to withholding and reintroducing warfarin and enoxaparin after an epidural steroid injection   but the patient nevertheless developed a spinal epidural hematoma requiring emergency surgical evacuation',\n",
              " 'conclusions  there was a temporal relationship between the onset of nonconvulsive status epilepticus and initiation of ifosfamide infusion',\n",
              " 'a prospective study is currently underway to determine if a clinically measurable adverse effect on retinal function is seen with greater frequency',\n",
              " 'we report a case of acute generalized exanthematous pustulosis   agep   in a    year old woman that was attributed to the ingestion of nimesulide',\n",
              " 'a    year old woman was scheduled to receive recombinant interferon alpha retreatment for chronic active hepatitis c',\n",
              " 'this was suggestive of type i hypersensitivity reaction',\n",
              " 'magnesium tocolysis as the cause of urinary calculus during pregnancy',\n",
              " 'a patient suffering from heparin associated thrombocytopenia   hat     recurrent arteriothromboses   and acute renal failure after treatment with standard heparin is described',\n",
              " 'case report  mannitol nephrotoxicity syndrome  role of hemodialysis and postulate of mechanisms',\n",
              " 'we review the literature and discuss its pathogenesis',\n",
              " 'thirty nine cases are reviewed in which the patients developed a hemolytic uremic like syndrome   apparently in response to chemotherapy',\n",
              " 'discussion  the main adverse effects of leflunomide consist of diarrhea   nausea   liver enzyme elevation   hypertension   alopecia   and allergic skin reactions',\n",
              " 'methemoglobinemia after axillary block with bupivacaine and additional injection of lidocaine in the operative field',\n",
              " 'we present herein the case of a    year old woman in whom bilateral and recurrent ssp was caused by the rupture of pulmonary lacunae induced by chemotherapy   given for bilateral lung metastases secondary to breast carcinoma',\n",
              " 'treatment with octreotide brought about the remission of diarrhea in this patient',\n",
              " 'the causative relationship was proven by challenge',\n",
              " 'hepatotoxicity induced by cyproterone acetate  a report of three cases',\n",
              " 'extensive forearm deep venous thrombosis following a severe infliximab infusion reaction',\n",
              " 'conclusion  a    year old man with bipolar disorder developed hyperammonemia three weeks after initiating carbamazepine therapy',\n",
              " 'while excisional surgery remains the benchmark management for nonmelanoma skin cancer   topical imiquimod and c c are important options for treating sbccs',\n",
              " 'three days after stopping the infusion she collapsed and died',\n",
              " 'in this case   discontinuing piroxicam   a nonsteroidal anti inflammatory drug   and starting a palliative treatment plan helped resolve a patient is ulcers',\n",
              " 'a colonoscopic examination revealed a sigmoid colonic ulcer and stenosis   the patient was treated conservatively',\n",
              " 'conclusion  this observation suggests that ifn in combination with ribavirin may offer an effective therapeutic option for liver transplant patients with severe recurrent hepatitis c',\n",
              " 'human immunodeficiency virus type     hiv     p   antigen was detected at the beginning of   of the   treatment courses',\n",
              " 'thrombocytosis associated with enoxaparin  a very rare cause in newborns',\n",
              " 'we report a case of portopulmonary hypertension in which the pulmonary hypertension resolved after initial orthotopic liver transplantation',\n",
              " 'the remaining deaths were non mtx related   but all   autopsies showed some degree of cirrhosis',\n",
              " 'all    participants with exclusively scs reported increased sensitivity to one or several odors   with no participants reporting decreased sensitivity',\n",
              " 'although the exact causes for bronchospasm in our case are not clear   cpb factors   such as the release of complements and allergic reactions might have induced the attack under relatively light anesthetic state',\n",
              " 'one of the side effects of intravitreal triamcinolone is the development of cataract   and it is known that cataract extraction can exacerbate macular degeneration',\n",
              " 'severe maternal bradycardia and asystole after combined spinal epidural labor analgesia in a morbidly obese parturient',\n",
              " 'he sustained a myocardial infarction on postoperative day   and progressively deteriorated and expired five days later',\n",
              " 'clinical findings  on auscultation of the lungs and air sacs   crackles were detected   the abdomen was distended and fluctuant on palpation',\n",
              " 'a    year old woman is described in whom amiodarone   disopyramide   and quinidine   administered alone separately   induced atypical ventricular tachycardia   avt   torsade de pointes',\n",
              " 'acute gastrointestinal bleeding following aortic valve replacement in a patient with heyde is sindrome',\n",
              " 'the combinations of clinical manifestations among fmf patients are quite heterogeneous   but our american cohort did not establish any connections between individual mutations and specific clinical pictures  as is seen in other diseases like cystic fibrosis   in which distinct genotypes target certain organ systems',\n",
              " 'during the last    year period   this atypical antipsychotic agent has been administered to     patients managed at the emergency psychiatry services and clinical pharmacology unit of the national institute of psychiatry and neurology   nipandn   budapest   hungary',\n",
              " 'school based methylphenidate placebo protocols  methodological and practical issues',\n",
              " 'stroke like syndrome after gold sodium thiomalate induced vasomotor reaction',\n",
              " 'the possible mechanisms of photo onycholysis development by modern atypical antipsychotics   modulating dopamine receptors   are discussed',\n",
              " 'primary hodgkin is disease of the cns in an immunocompetent patient  a case study and review of the literature',\n",
              " 'extrapyramidal side effects induced by some selective serotonin reuptake inhibitors   ssris     i   e   fluoxetine and sertraline   have been previously reported in patients with depression and obsessive compulsive disorder   ocd',\n",
              " 'we suggest the use of trihexyphenidyl in combination with isoprinosine in patients with subacute sclerosing panencephalitis with myoclonic seizures refractory to valproic acid',\n",
              " 'conclusion  if a parotid duct injury is diagnosed at the time of tumor extirpation   then surgical repair of the duct should be attempted   but if surgical repair is not possible or if an injury remains unrecognized until well after tumor extirpation   then surgery is not necessary',\n",
              " 'toxoplasma gondii infection reactivation predominantly occurs among patients after allogeneic haematopoietic stem cell transplantation',\n",
              " 'to our knowledge   this is the first case of polymyositis associated with dilated cardiomyopathy after the administration of interferon in a patient with hepatitis b',\n",
              " 'we report an additional case of isotretinoin teratogenicity in which the patient had agenesis of the cerebellar vermis   multiple leptomeningeal neuroglial heterotopias   hydrocephalus   and abnormalities of the corticospinal tracts',\n",
              " 'injury of the inferior alveolar nerve after overfilling of the root canal with endodontic cement  a case report',\n",
              " 'results  six eyes had occult subfoveal cnv   and one eye had recurrent classic subfoveal cnv',\n",
              " 'the patient presented with focal seizures which led to epilepsia partialis continua and then progressive obtundation',\n",
              " 'two patients with parkinson is disease with pedunculopontine nucleus   ppn   stimulation for gait impairments reported trembling vision during the setting of the electrical parameters   although there was no clinically observable abnormal eye movement',\n",
              " 'we report a case with chronic hepatitis c   chc   who developed sarcoidosis after the treatment by interferon alpha and ribavirin',\n",
              " 'a    yr old nonsmoking male patient without any history of previous allergies   asthma   hay fever   or urticaria developed attacks of asthma when captopril was added to the nadolol and dyazide treatment for his high blood pressure',\n",
              " 'elevated muscle enzymes and findings on electromyography were consistent with myopathy',\n",
              " 'conclusion  we conclude that stanozolol is a safe and effective treatment of the cutaneous manifestations of cryofibrinogenemia',\n",
              " 'a case of kluver bucy syndrome associated with delayed cerebral necrosis after radiation therapy and chemotherapy is reported',\n",
              " 'after oral l thyroxine treatment the goiter disappeared',\n",
              " 'drug induced hepatitis in an acromegalic patient during combined treatment with pegvisomant and octreotide long acting repeatable attributed to the use of pegvisomant',\n",
              " 'the clinical aspect closely resembled classical transient global amnesia but the episode after clioquinol lasted longer      hours to three days   and a more or less extensive retrograde amnesia persisted permanently',\n",
              " 'paclitaxel is a chemotherapeutic agent with activity directed against several malignancies',\n",
              " 'according to the naranjo adverse drug reaction probability scale   tigecycline was the probable cause of her acute pancreatitis',\n",
              " 'after   months of pharmacological wash out   patient become pregnant and manifested this severe malformation',\n",
              " 'we describe a   year old girl showed recovery of vincristine induced cranial polyneuropathy with pyridoxine and pyridostigmine treatment',\n",
              " 'methods  interventional case report and literature review',\n",
              " 'the evidence suggests that these deaths were the result of causes other than use of the drug',\n",
              " 'we report a patient with pulmonary adenocarcinoma complicated by the syndrome of inappropriate secretion of antidiuretic hormone   siadh   following systemic chemotherapy with cisplatin   cddp   and vindesine   vds',\n",
              " 'a patient with a large hydatid cyst of the left lobe of the liver developed metabolic acidosis following rather liberal use of cetrimide chlorhexidine solution as a scolicidal agent',\n",
              " 'subjects and methods  our case observations attempted to evaluate nine alcoholics after withdrawal suffering from persisting craving   sleep disorder   excitement   depressive symptoms or anxiety symptoms',\n",
              " 'the drug acted through    a   an already known inappropriate release of adh   and   b   a hitherto unreported tubular lesion   which impaired the reabsorption of sodium and other coupled solutes',\n",
              " 'our case is the second one in which hemorrhage from a meningioma may have been induced by aspirin prophylaxis',\n",
              " 'we report a patient with multiple myeloma who suffered from hyperammonemia after a second stem cell autograft',\n",
              " 'thus cabergoline may cause similar pleuropulmonary abnormalities to bromocriptine',\n",
              " 'the authors present a case report of a granulomatous reaction leading to urethral prolapse     months after the transurethral injection of calcium hydroxylapatite',\n",
              " 'forty eight hours later a commercially available cylindrical diffusing laser fiber was inserted into an  f biliary catheter equipped with a         inch side hole at its distal tip',\n",
              " 'objective  to describe and discuss the use of continuous intravenous infusions of haloperidol to treat severe delirium and agitation in   intensive care unit   icu   patients',\n",
              " 'only mild pericellular fibrosis was present in the liver biopsy specimen obtained shortly after abstinence   but after   years the second liver biopsy showed that thin septum like fibrosis that formed portal to portal and portal to central linkage had developed and ground glass hepatocytes had emerged extensively',\n",
              " 'thrombosis of mechanical valve prosthesis  thrombolysis vs surgical treatment',\n",
              " 'the route of transmission may have been direct contamination of the connection device or bacterial translocation through the gastrointestinal tract',\n",
              " 'the patient was ultimately treated with a combination of leflunomide and foscarnet',\n",
              " 'sagittal sinus thrombosis associated with transient free protein s deficiency after l asparaginase treatment  case report and review of the literature',\n",
              " 'ldes can clinically and histologically resemble idiopathic or classic lichen planus',\n",
              " 'it has been demonstrated that bisphosphonate based supportive therapy   pamidronate or zoledronate   reduces skeletal events   onset or progression of osteolytic lesions   both in patients with multiple myeloma   mm   and in cancer patients with bone metastasis',\n",
              " 'one of the subjects who was using extemporaneous topical minoxidil had hypertension and arteriosclerotic disease and the other died of a myocardial infarction',\n",
              " 'in the following case report   a patient developed acute interstitial nephritis with renal failure and exfoliative dermatitis following ampicillin therapy',\n",
              " 'switching patients from olanzapine sot to olanzapine odt treatment resulted in significant weight loss that was maintained during    months in both case reports',\n",
              " 'the pathophysiology of the syndrome is unknown',\n",
              " 'this had been given systemically during the patient is last week of life',\n",
              " 'the diagnosis was based on the rapid onset of renal failure   presence of eosinophilia   skin rash   and characteristic renal biopsy finding   following the administration of ampicillin',\n",
              " 'background  orbital cellulitis after strabismus surgery is uncommon   may cause blindness and may lead to death',\n",
              " 'three years later   multinodular goiter began to develop   and   years after that   the patient became hypothyroid',\n",
              " 'such an occurrence presents a difficult challenge because cardiac function is compromised   the coagulation profile may be altered   the cerebral hematoma is life threatening   and intracranial hemostasis is difficult to achieve',\n",
              " 'posterior reversible encephalopathy syndrome   pres   induced by cyclosporine use in a patient with collapsing focal glomeruloesclerosis',\n",
              " 'the patient had no history of seizures in the past and no gross neurologic deficits',\n",
              " 'interestingly   continuation of the interferon therapy in the presence of a mild to moderate exacerbation of sarcoidosis may be safe in a minority of patients with noncritical organ involvement',\n",
              " 'the reversal of heparin by protamine may cause severe hemodynamic deterioration   characterized by systemic hypotension   pulmonary hypertension   and bronchoconstriction',\n",
              " 'the novel antipsychotics offer great potential for improving compliance',\n",
              " 'we present a unique case of a patient   without any prior history of a movement disorder   who developed tics following a single dose of atomoxetine that did not improve until interventional therapy was initiated',\n",
              " 'symptoms resolved without consequence    hours after discontinuation of venlafaxine',\n",
              " 'we describe a    year old female patient diagnosed with acute lymphoblastic leukemia presenting with status epilepticus after receiving intrathecal methotrexate',\n",
              " 'it is concluded that at least some sensory symptoms originate within the nervous system as a manifestation of the disease process and are not secondary effects of the motor disorder',\n",
              " 'a    year old drug abuser injected flunitrazepam tablets dissolved in tap water into her left femoral artery and presented with clinical signs of acute ischaemia of the left leg',\n",
              " 'cesium induced qt interval prolongation in an adolescent',\n",
              " 'interstitial pneumonitis and alveolar hemorrhage complicating use of rituximab  case report and review of the literature',\n",
              " 'nine patients in whom acute non lymphoblastic leukemia   anll   developed following prolonged alkylating agent therapy are described',\n",
              " 'conclusions  ovulation induction therapy with clomiphene citrate may precipitate uveitis',\n",
              " 'three patients   in whom tumour overkill by cytotoxic treatment   including high dose methotrexate with folinic acid rescue   resulted in the  phosphate shower syndrome    hyper uricaemia   hyperkalaemia and hyperphosphataemia with hypocalcaemia and tetany   with metabolic acidosis and acute renal impairment   are described',\n",
              " 'ocular examinations revealed intraocular pressure   iop   of    mmhg under medication   dense posterior subcapsular opacity of lens   pale disc with advanced cupping   and marked constriction of visual field',\n",
              " 'doses of             mg kg of l ampb were administered intravenously every       hr',\n",
              " 'extensive osseous tophi   resorbed rapidly during therapy with this xanthine oxidase inhibitor and not replaced by new bone matrix   were responsible for the deformity',\n",
              " 'the range of previously administered total cbdca was           mg   and the cbdca area under the concentration curve of the first treatment exhibited appropriate intensity   mean                     range                   in all patients',\n",
              " 'further surveillance and caution are suggested in patients with known coronary artery disease or atrial dysrhythmia',\n",
              " 'she was admitted for observation and all symptoms resolved within    h of admission',\n",
              " 'an enucleation specimen was examined by light microscopy',\n",
              " 'conclusion  the minimum effective dose of im gold is not known',\n",
              " 'the combination of gm csf to accelerate hematological recovery and the possibility of administering large doses of a liposomal form of amphotericin b were the contributing factors to the resolution of the infection',\n",
              " 'nitrofurantoin is commonly used to treat urinary tract infections during pregnancy',\n",
              " 'the patient is other comorbidities and medications have not been suggested as possible interactions with sertraline that can cause rhabdomyolysis',\n",
              " 'results  the ratios of alpha        adrenoceptor occupancy by endogenous norepinephrine during the treatment with milnacipran   fluvoxamine and imipramine to that without drug were estimated to be                 and          respectively',\n",
              " 'hypoglycemia can be a serious side effect of etanercept in patients already on antidiabetic medications known to cause hypoglycemia   such as sulfonylureas   meglitinides   and insulin',\n",
              " 'during hospitalization the patient developed hemolytic anemia   coombs positive   and lung metastases',\n",
              " 'we describe a patient in whom this interaction caused a series of dangerous clinical events',\n",
              " 'reactivation of sarcoidosis during interferon therapy',\n",
              " 'the temporal and dose response relationships suggested a possible association between the depressive symptoms and corticosteroid',\n",
              " 'discussion  this preliminary clinical experience suggests that the addition of caspofungin to trimethoprim sulfamethoxazole   which is active against trophic forms   may provide a synergistic activity against p   jiroveci by fully inhibiting the organism life cycle',\n",
              " 'in march        a    year old woman had uneventful laser in situ keratomileusis in both eyes on the same day',\n",
              " 'patients treated with l asparaginase may present with hemorrhagic and thrombotic cerebrovascular events',\n",
              " 'he developed necrotizing pancreatitis   possibly due to regurgitation of the chemotherapeutic agents to the pancreas',\n",
              " 'churg strauss syndrome   or allergic granulomatous angiitis   is an uncommon vasculitic syndrome',\n",
              " 'gastric tumor   endometrial carcinoma and cervical adenocarcinoma in situ were detected after treatment with tamoxifen for breast cancer',\n",
              " 'although myelosuppression is mild   immunosuppression and superinfection are potential hazards of treatment with dcf',\n",
              " 'in the following days   fever   vomiting   hypertension and arf occurred',\n",
              " 'meperidine associated central nervous system   cns   excitatory toxicities are believed to be caused by accumulation of the active metabolite normeperidine',\n",
              " 'opioid drugs should not be administered for several hours before a diagnostic hepatobiliary scan',\n",
              " 'review of the literature relating to methicillin induced nephropathy suggests a hypersensitivity origin for this disorder   but immunologic and ultrastructural investigation to date has failed to elucidate pathogenesis',\n",
              " 'the patient was diagnosed with carbamazepine toxicity related to the introduction of ritonavir',\n",
              " 'however   the effect of chemotherapy on cord tolerance is unclear',\n",
              " 'the patient subsequently developed polyuria with a low urine osmolality   hypernatremia and   finally   acute renal failure',\n",
              " 'computed tomography was used to demonstrate the increased retro orbital fat',\n",
              " 'a patient who developed necrotizing pancreatitis after transcatheter arterial chemoembolization   tace   for hepatocellular carcinoma   hcc   is presented',\n",
              " 'methylphenidate is a potent central nervous system stimulant that exerts its effects by increasing synaptic levels of dopamine and norepinephrine',\n",
              " 'a double blind challenge with nadolol and captopril decreased fev  by   and      respectively',\n",
              " 'when sasp was changed to   aminosalicylic acid     asa     his skin eruptions were resolved   however   he developed weakness and atrophy in his right arm as well as progressive worsening of the dysesthesia in his legs and gait disturbance',\n",
              " 'hncps with malignant disease require judicious dental treatment planning prior to radiation therapy   rt   and or chemotherapy',\n",
              " 'growth hormone and respiratory compromise in prader willi syndrome',\n",
              " 'immediate postoperative cystogram and pelvic computed tomogram   ct   after the development of seizures demonstrated a fluid collection from the suprapubic catheter site into the anterior abdominal wall',\n",
              " 'we started the subject screening from over     patients with parkinson is disease using strict selection criteria to identify the patients with nocturia who would allow accurate and efficient evaluation of the pergolide effects',\n",
              " 'a    year old woman presented with neurotoxicity correlated to an i   v   regimen of   fluorouracil as episodes of acute confusional state and abnormalities of symmetrically restricted diffusion in the periventricular white matter and corpus callosum',\n",
              " 'until then   clinicians need to be aware of this possible complication associated with zonisamide',\n",
              " 'syndrome of inappropriate secretion of adh   siadh   following cisplatin administration in a pulmonary adenocarcinoma patient with a malignant pleural effusion',\n",
              " 'this case   along with extensive reports in the medical literature   illustrate how treatment with inhibitors of tnf alpha has the potential to result in a wide range of infectious complications   including rapid growing mycobacterium',\n",
              " 'widespread dermatophyte infections that mimic collagen vascular disease',\n",
              " 'botulinum toxin for palliative treatment of epiphora in a patient with canalicular obstruction',\n",
              " 'objective  to report a case of chronic   nonproductive cough secondary to the angiotensin converting enzyme   ace   inhibitor quinapril   with complete resolution after switching to another ace inhibitor   fosinopril',\n",
              " 'propranolol had to be given for eight months after surgery',\n",
              " 'this case shows a combined mechanism of dme resolution by anti vegf and phd',\n",
              " 'namely   that recalcitrant psoriatic skin lesions may have good clearing on one biologic   such as efalizumab   and arthritic symptoms can be well controlled with etanercept   leading patients to be on two different biologics concurrently to control symptoms',\n",
              " 'however   a method to differentiate the neuromuscular block induced by magnesium from that induced by curariform nondepolarizing muscle relaxant in the clinical setting has never been reported',\n",
              " 'premature closure of the ductus arteriosus  variable response among monozygotic twins after in utero exposure to indomethacin',\n",
              " 'conclusion  linezolid seems highly active in combination treatment of mdr tb',\n",
              " 'metformin was stopped',\n",
              " 'we report a case of drug induced pemphigus caused by an angiotensin converting enzyme inhibitor   captopril',\n",
              " 'the eruption cleared on withdrawal of the drug',\n",
              " 'serial electrocardiograms revealed a minimally and asymptomatically prolonged qt interval',\n",
              " 'the optimal diagnostic and therapeutic approach to this entity has not yet been clearly defined',\n",
              " 'we report here two cases of dyserythropoietic anaemia associated with long term linezolid use that share striking similarities to chloramphenicol associated myelotoxicity',\n",
              " 'an acute ischaemic event associated with the use of venlafaxine  a case report and proposed pathophysiological mechanisms',\n",
              " 'in case     a total daily dose of    mg sertraline   with nondetectable sertraline and desmethylsertraline blood levels   resulted in a doubling of the lamotrigine blood level with symptoms of toxicity',\n",
              " 'discussion  rhabdomyolysis is a clinical syndrome resulting from the destruction of skeletal muscle that may progress to renal failure several drugs have been associated with rhabdomyolysis   including lovastatin   a hydroxymethylglutaryl coenzyme a reductase inhibitor',\n",
              " 'a case of high grade endometrial stromal sarcoma   confined into an intrauterine polypoid growth   in a woman with a history of breast cancer who was treated with adjuvant tamoxifen',\n",
              " 'methods  we describe an    year old patient with breast and colon cancer   who complained of a decrease in visual acuity after treatment with low dose antiestrogens',\n",
              " 'polyarthritis   hepatitis and anti native dna antibodies after treatment with ethambutol and rifampicin',\n",
              " 'results  patient was found to have inferonasal nodular scleritis',\n",
              " 'lack of experience with patient reporting in real life was one of the main drawbacks in this debate',\n",
              " 'transient anuria following administration of angiotensin i converting enzyme inhibitor   sq         in a patient with renal artery stenosis of the solitary kidney successfully treated with renal autotransplantation',\n",
              " 'steroid utilization in eosinophilic jejunitis  beneficial or harmful',\n",
              " 'we present a    year old african american man with aids who was admitted on two different occasions within three weeks for signs and symptoms of meningitis after using trimethoprim sulfamethoxazole   tmp smx',\n",
              " 'although both the spontaneous occurrence of sle and the psychosis as a sign of cns involvement of sle cannot be excluded   sle could be considered as an adverse effect of carbamazepine',\n",
              " 'we report a    yr old woman with ovarian carcinoma who developed porphyria cutanea tarda while undergoing treatment with cisplatin and cyclophosphamide',\n",
              " 'treatment of non hodgkin is lymphoma with the chop regimen consists of intravenous cyclophosphamide     mg m    day       intravenous doxorubicin    mg m    day       intravenous vincristine       mg m    day       and oral prednisone     mg   days',\n",
              " 'a case study is included to illustrate the dangers of inappropriate naloxone use',\n",
              " 'tardive dyskinesia in an adolescent',\n",
              " 'we describe   as patients treated with etanercept for active as who developed new onset of cd while as related symptoms responded well to etanercept',\n",
              " 'despite the widespread use of beta sympathomimetic agents for preterm labour there appears to be a limited appreciation of the need for cardiovascular monitoring in the mother',\n",
              " 'the identification of the spider as a brown recluse and the location of the bite over the nerve is usual pathway strongly suggest that the venom was responsible for this complication',\n",
              " 'no evidence of myocardial infarction was detected',\n",
              " 'this finding suggests that conversion of ischemic to hemorrhagic infarction may occur even with appropriate and carefully administered anticoagulation therapy',\n",
              " 'polyarthritis   hepatitis and anti native dna antibodies after treatment with ethambutol and rifampicin',\n",
              " 'parents of children taking high doses of inhaled corticosteroids should be alerted to the clinical features of adrenal insufficiency',\n",
              " 'chronic fentanyl application induces adrenocortical insufficiency',\n",
              " 'gcv resistance during vcv prophylaxis was rare after renal transplantation',\n",
              " 'despite aggressive therapy with amphotericin b   the neonate succumbed to overwhelming systemic candidiasis',\n",
              " 'to our knowledge   this is the first reported case of the use of sodium thiosulfate to treat calciphylaxis in a patient with normal renal function',\n",
              " 'during the first treatment   dysarthria and ataxia were seen after completion of the patient is eighth and final dose of hdarac',\n",
              " 'the child developed the nephrotic syndrome at the age of    months',\n",
              " ...]"
            ]
          },
          "metadata": {
            "tags": []
          },
          "execution_count": 8
        }
      ]
    },
    {
      "cell_type": "code",
      "metadata": {
        "id": "WlrEQLo_UHGH"
      },
      "source": [
        "from sklearn.feature_extraction.text import TfidfVectorizer\n",
        "tfidf_v=TfidfVectorizer(max_features=1000,ngram_range=(2,2))\n",
        "x=tfidf_v.fit_transform(sentences).toarray()"
      ],
      "execution_count": 9,
      "outputs": []
    },
    {
      "cell_type": "code",
      "metadata": {
        "colab": {
          "base_uri": "https://localhost:8080/"
        },
        "id": "eqwWCwPFUL_X",
        "outputId": "1fa5cfdc-c3ac-4db5-c1c3-ddd88946ae87"
      },
      "source": [
        "x.shape"
      ],
      "execution_count": 10,
      "outputs": [
        {
          "output_type": "execute_result",
          "data": {
            "text/plain": [
              "(18813, 1000)"
            ]
          },
          "metadata": {
            "tags": []
          },
          "execution_count": 10
        }
      ]
    },
    {
      "cell_type": "code",
      "metadata": {
        "id": "1wqLGo5gUck1"
      },
      "source": [
        "y=result['labels']"
      ],
      "execution_count": 11,
      "outputs": []
    },
    {
      "cell_type": "code",
      "metadata": {
        "colab": {
          "base_uri": "https://localhost:8080/"
        },
        "id": "TDunSMX9x5kH",
        "outputId": "ffb758c6-8a4a-4179-f3b0-1c54a9336d85"
      },
      "source": [
        "y.shape"
      ],
      "execution_count": 12,
      "outputs": [
        {
          "output_type": "execute_result",
          "data": {
            "text/plain": [
              "(18813,)"
            ]
          },
          "metadata": {
            "tags": []
          },
          "execution_count": 12
        }
      ]
    },
    {
      "cell_type": "markdown",
      "metadata": {
        "id": "rjM-ECreyDCP"
      },
      "source": [
        "**SMOTE**"
      ]
    },
    {
      "cell_type": "code",
      "metadata": {
        "colab": {
          "base_uri": "https://localhost:8080/"
        },
        "id": "LVq6SjCPx_Fa",
        "outputId": "894a4911-d596-416b-9f6b-eadb03f22d1d"
      },
      "source": [
        "pip install -U imbalanced-learn"
      ],
      "execution_count": 13,
      "outputs": [
        {
          "output_type": "stream",
          "text": [
            "Requirement already up-to-date: imbalanced-learn in /usr/local/lib/python3.7/dist-packages (0.8.0)\n",
            "Requirement already satisfied, skipping upgrade: scikit-learn>=0.24 in /usr/local/lib/python3.7/dist-packages (from imbalanced-learn) (0.24.2)\n",
            "Requirement already satisfied, skipping upgrade: scipy>=0.19.1 in /usr/local/lib/python3.7/dist-packages (from imbalanced-learn) (1.4.1)\n",
            "Requirement already satisfied, skipping upgrade: numpy>=1.13.3 in /usr/local/lib/python3.7/dist-packages (from imbalanced-learn) (1.19.5)\n",
            "Requirement already satisfied, skipping upgrade: joblib>=0.11 in /usr/local/lib/python3.7/dist-packages (from imbalanced-learn) (1.0.1)\n",
            "Requirement already satisfied, skipping upgrade: threadpoolctl>=2.0.0 in /usr/local/lib/python3.7/dist-packages (from scikit-learn>=0.24->imbalanced-learn) (2.1.0)\n"
          ],
          "name": "stdout"
        }
      ]
    },
    {
      "cell_type": "code",
      "metadata": {
        "id": "ESyorUbjy1O3"
      },
      "source": [
        "from imblearn.over_sampling import SMOTE "
      ],
      "execution_count": 14,
      "outputs": []
    },
    {
      "cell_type": "code",
      "metadata": {
        "id": "kbqM995kytdR"
      },
      "source": [
        "smote = SMOTE(random_state=2021)\n",
        "x, y = smote.fit_resample(x,y) "
      ],
      "execution_count": 15,
      "outputs": []
    },
    {
      "cell_type": "code",
      "metadata": {
        "colab": {
          "base_uri": "https://localhost:8080/"
        },
        "id": "93V_BQDXytnu",
        "outputId": "d2923e50-c4b4-456d-f7af-28e604fb6923"
      },
      "source": [
        "x.shape"
      ],
      "execution_count": 16,
      "outputs": [
        {
          "output_type": "execute_result",
          "data": {
            "text/plain": [
              "(26752, 1000)"
            ]
          },
          "metadata": {
            "tags": []
          },
          "execution_count": 16
        }
      ]
    },
    {
      "cell_type": "code",
      "metadata": {
        "colab": {
          "base_uri": "https://localhost:8080/"
        },
        "id": "CMyscm_wy8l6",
        "outputId": "2cfe2131-aac4-40a9-9dec-ba70820022c8"
      },
      "source": [
        "y.shape"
      ],
      "execution_count": 17,
      "outputs": [
        {
          "output_type": "execute_result",
          "data": {
            "text/plain": [
              "(26752,)"
            ]
          },
          "metadata": {
            "tags": []
          },
          "execution_count": 17
        }
      ]
    },
    {
      "cell_type": "code",
      "metadata": {
        "colab": {
          "base_uri": "https://localhost:8080/"
        },
        "id": "QHbrdcfR14n2",
        "outputId": "7183315b-829b-49f3-a3e6-242cb5b6b01c"
      },
      "source": [
        "zerocount=0\n",
        "onecount=0\n",
        "for i in y:\n",
        "  if i == 0:\n",
        "    zerocount+=1\n",
        "  else:\n",
        "    onecount+=1\n",
        "print(\"no of negative sample in training class is:\",zerocount)\n",
        "print(\"no of positive sample in training class is:\",onecount)"
      ],
      "execution_count": 18,
      "outputs": [
        {
          "output_type": "stream",
          "text": [
            "no of negative sample in training class is: 13376\n",
            "no of positive sample in training class is: 13376\n"
          ],
          "name": "stdout"
        }
      ]
    },
    {
      "cell_type": "markdown",
      "metadata": {
        "id": "twpMlvLK0BRT"
      },
      "source": [
        "**Creating  validation data**"
      ]
    },
    {
      "cell_type": "code",
      "metadata": {
        "id": "j9ERs3vR0AXA"
      },
      "source": [
        "y_val = validation_data['labels']"
      ],
      "execution_count": 19,
      "outputs": []
    },
    {
      "cell_type": "code",
      "metadata": {
        "id": "14rabeBg0Y2E"
      },
      "source": [
        "sentences_validation = validation_data['observation'].tolist() "
      ],
      "execution_count": 20,
      "outputs": []
    },
    {
      "cell_type": "code",
      "metadata": {
        "id": "QhuAWyxA0P11"
      },
      "source": [
        "x_val=tfidf_v.fit_transform(sentences_validation).toarray()"
      ],
      "execution_count": 21,
      "outputs": []
    },
    {
      "cell_type": "code",
      "metadata": {
        "colab": {
          "base_uri": "https://localhost:8080/"
        },
        "id": "pDWXqxu70mG8",
        "outputId": "0194be2c-2b8a-4216-9022-9a16c34ab9d8"
      },
      "source": [
        "x_val.shape"
      ],
      "execution_count": 22,
      "outputs": [
        {
          "output_type": "execute_result",
          "data": {
            "text/plain": [
              "(4703, 1000)"
            ]
          },
          "metadata": {
            "tags": []
          },
          "execution_count": 22
        }
      ]
    },
    {
      "cell_type": "code",
      "metadata": {
        "colab": {
          "base_uri": "https://localhost:8080/"
        },
        "id": "xvL4i2ca0Ytk",
        "outputId": "b8df0ba8-18ba-4d9e-a989-1aca3528e288"
      },
      "source": [
        "print(x_val.shape)\n",
        "print(y_val.shape)\n",
        "print(x.shape)\n",
        "print(y.shape)"
      ],
      "execution_count": 23,
      "outputs": [
        {
          "output_type": "stream",
          "text": [
            "(4703, 1000)\n",
            "(4703,)\n",
            "(26752, 1000)\n",
            "(26752,)\n"
          ],
          "name": "stdout"
        }
      ]
    },
    {
      "cell_type": "code",
      "metadata": {
        "id": "_j3Ym3gE0r5l"
      },
      "source": [
        ""
      ],
      "execution_count": 23,
      "outputs": []
    },
    {
      "cell_type": "markdown",
      "metadata": {
        "id": "tPmFRW6VX7WG"
      },
      "source": [
        "**LOGISTIC REGRESSION**"
      ]
    },
    {
      "cell_type": "code",
      "metadata": {
        "id": "oy_JTY8IX4js"
      },
      "source": [
        "from sklearn.linear_model import LogisticRegression"
      ],
      "execution_count": 24,
      "outputs": []
    },
    {
      "cell_type": "code",
      "metadata": {
        "id": "MqK2PbZJYDAV"
      },
      "source": [
        "log_model=LogisticRegression(max_iter=1000)"
      ],
      "execution_count": 25,
      "outputs": []
    },
    {
      "cell_type": "code",
      "metadata": {
        "colab": {
          "base_uri": "https://localhost:8080/"
        },
        "id": "CrgR3LqIYGXT",
        "outputId": "1fc3354c-993d-4bdd-e4d0-6fec513fb469"
      },
      "source": [
        "log_model.fit(x,y)"
      ],
      "execution_count": 26,
      "outputs": [
        {
          "output_type": "execute_result",
          "data": {
            "text/plain": [
              "LogisticRegression(max_iter=1000)"
            ]
          },
          "metadata": {
            "tags": []
          },
          "execution_count": 26
        }
      ]
    },
    {
      "cell_type": "code",
      "metadata": {
        "id": "I5fjKnnnYKGI"
      },
      "source": [
        "log_y_pred=log_model.predict(x_val) "
      ],
      "execution_count": 27,
      "outputs": []
    },
    {
      "cell_type": "code",
      "metadata": {
        "id": "7xas3QjyYNm4"
      },
      "source": [
        "from sklearn.metrics import confusion_matrix,classification_report,accuracy_score "
      ],
      "execution_count": 28,
      "outputs": []
    },
    {
      "cell_type": "code",
      "metadata": {
        "colab": {
          "base_uri": "https://localhost:8080/"
        },
        "id": "pMocfi-KYQu5",
        "outputId": "f1df2f0c-1d8d-45ff-dd28-9e7cf61096d3"
      },
      "source": [
        "print(confusion_matrix(y_val,log_y_pred)) "
      ],
      "execution_count": 29,
      "outputs": [
        {
          "output_type": "stream",
          "text": [
            "[[2307 1030]\n",
            " [ 837  529]]\n"
          ],
          "name": "stdout"
        }
      ]
    },
    {
      "cell_type": "code",
      "metadata": {
        "colab": {
          "base_uri": "https://localhost:8080/"
        },
        "id": "GnxK1CKMYa0f",
        "outputId": "003775b9-bd90-489b-acad-8eb163cfbc7f"
      },
      "source": [
        "print((classification_report(y_val,log_y_pred)))"
      ],
      "execution_count": 30,
      "outputs": [
        {
          "output_type": "stream",
          "text": [
            "              precision    recall  f1-score   support\n",
            "\n",
            "           0       0.73      0.69      0.71      3337\n",
            "           1       0.34      0.39      0.36      1366\n",
            "\n",
            "    accuracy                           0.60      4703\n",
            "   macro avg       0.54      0.54      0.54      4703\n",
            "weighted avg       0.62      0.60      0.61      4703\n",
            "\n"
          ],
          "name": "stdout"
        }
      ]
    },
    {
      "cell_type": "code",
      "metadata": {
        "id": "-TkTBB8i2tXP"
      },
      "source": [
        "#calculate training error \n",
        "log_y_pred_train = log_model.predict(x) "
      ],
      "execution_count": 31,
      "outputs": []
    },
    {
      "cell_type": "code",
      "metadata": {
        "colab": {
          "base_uri": "https://localhost:8080/"
        },
        "id": "xEOyPkwB2tmR",
        "outputId": "967036f4-d0fc-4953-b694-03dcd9ba43b8"
      },
      "source": [
        "accuracy_score(y,log_y_pred_train) "
      ],
      "execution_count": 32,
      "outputs": [
        {
          "output_type": "execute_result",
          "data": {
            "text/plain": [
              "0.7523207066926186"
            ]
          },
          "metadata": {
            "tags": []
          },
          "execution_count": 32
        }
      ]
    },
    {
      "cell_type": "markdown",
      "metadata": {
        "id": "ND7xUQhmrdeP"
      },
      "source": [
        "**DECISION TREE**"
      ]
    },
    {
      "cell_type": "code",
      "metadata": {
        "id": "m0p0WXn9Ydl7"
      },
      "source": [
        "from sklearn.tree import DecisionTreeClassifier"
      ],
      "execution_count": 33,
      "outputs": []
    },
    {
      "cell_type": "code",
      "metadata": {
        "id": "XLKuRRAhuK2Q"
      },
      "source": [
        "dt_model=DecisionTreeClassifier()"
      ],
      "execution_count": 34,
      "outputs": []
    },
    {
      "cell_type": "code",
      "metadata": {
        "colab": {
          "base_uri": "https://localhost:8080/"
        },
        "id": "ksGfCVSXuOcl",
        "outputId": "4948f63a-d37b-4b1b-a63a-ff67e9fe0375"
      },
      "source": [
        "dt_model.fit(x,y) "
      ],
      "execution_count": 35,
      "outputs": [
        {
          "output_type": "execute_result",
          "data": {
            "text/plain": [
              "DecisionTreeClassifier()"
            ]
          },
          "metadata": {
            "tags": []
          },
          "execution_count": 35
        }
      ]
    },
    {
      "cell_type": "code",
      "metadata": {
        "id": "yW72N9oIulON"
      },
      "source": [
        "dt_pred=dt_model.predict(x_val)"
      ],
      "execution_count": 36,
      "outputs": []
    },
    {
      "cell_type": "code",
      "metadata": {
        "colab": {
          "base_uri": "https://localhost:8080/"
        },
        "id": "_MoBzOFLvVH2",
        "outputId": "5165cc7d-929d-4341-eaf3-72be659bfedf"
      },
      "source": [
        "print(classification_report(y_val,dt_pred))"
      ],
      "execution_count": 37,
      "outputs": [
        {
          "output_type": "stream",
          "text": [
            "              precision    recall  f1-score   support\n",
            "\n",
            "           0       0.73      0.74      0.74      3337\n",
            "           1       0.35      0.34      0.35      1366\n",
            "\n",
            "    accuracy                           0.63      4703\n",
            "   macro avg       0.54      0.54      0.54      4703\n",
            "weighted avg       0.62      0.63      0.62      4703\n",
            "\n"
          ],
          "name": "stdout"
        }
      ]
    },
    {
      "cell_type": "code",
      "metadata": {
        "colab": {
          "base_uri": "https://localhost:8080/"
        },
        "id": "16kEIeEPvYTe",
        "outputId": "3c8690a6-cbef-4aa9-cf18-278c9bd3a51d"
      },
      "source": [
        "print(confusion_matrix(y_val,dt_pred)) "
      ],
      "execution_count": 38,
      "outputs": [
        {
          "output_type": "stream",
          "text": [
            "[[2478  859]\n",
            " [ 902  464]]\n"
          ],
          "name": "stdout"
        }
      ]
    },
    {
      "cell_type": "code",
      "metadata": {
        "id": "Jg6DPWBT3AXl"
      },
      "source": [
        "#training error \n",
        "dt_pred_train = dt_model.predict(x) \n"
      ],
      "execution_count": 39,
      "outputs": []
    },
    {
      "cell_type": "code",
      "metadata": {
        "colab": {
          "base_uri": "https://localhost:8080/"
        },
        "id": "K0nX4Bdb3Aio",
        "outputId": "524942dc-4dc1-407b-f5b5-4685621e88eb"
      },
      "source": [
        "accuracy_score(y,dt_pred_train ) "
      ],
      "execution_count": 40,
      "outputs": [
        {
          "output_type": "execute_result",
          "data": {
            "text/plain": [
              "0.9512277287019015"
            ]
          },
          "metadata": {
            "tags": []
          },
          "execution_count": 40
        }
      ]
    },
    {
      "cell_type": "markdown",
      "metadata": {
        "id": "0fh6uHJ2_5_x"
      },
      "source": [
        "**RANDOM FOREST**"
      ]
    },
    {
      "cell_type": "code",
      "metadata": {
        "id": "EqOekyAcvni6"
      },
      "source": [
        "from sklearn.ensemble import RandomForestClassifier"
      ],
      "execution_count": 41,
      "outputs": []
    },
    {
      "cell_type": "code",
      "metadata": {
        "id": "D5BkSziQACbA"
      },
      "source": [
        "rfc_model=RandomForestClassifier(n_estimators=1000)"
      ],
      "execution_count": 42,
      "outputs": []
    },
    {
      "cell_type": "code",
      "metadata": {
        "colab": {
          "base_uri": "https://localhost:8080/"
        },
        "id": "y0n__1-pAErs",
        "outputId": "ae8b81d9-042e-4967-ea80-4dad3a761f59"
      },
      "source": [
        "rfc_model.fit(x,y)"
      ],
      "execution_count": 43,
      "outputs": [
        {
          "output_type": "execute_result",
          "data": {
            "text/plain": [
              "RandomForestClassifier(n_estimators=1000)"
            ]
          },
          "metadata": {
            "tags": []
          },
          "execution_count": 43
        }
      ]
    },
    {
      "cell_type": "code",
      "metadata": {
        "id": "1-qsZ98SAGtz"
      },
      "source": [
        "rfc_pred=rfc_model.predict(x_val)"
      ],
      "execution_count": 44,
      "outputs": []
    },
    {
      "cell_type": "code",
      "metadata": {
        "colab": {
          "base_uri": "https://localhost:8080/"
        },
        "id": "7FMbWpwCAK_8",
        "outputId": "c7f4f627-e4ce-428f-9ff3-9b5a683e95fc"
      },
      "source": [
        "print(classification_report(y_val,rfc_pred))"
      ],
      "execution_count": 45,
      "outputs": [
        {
          "output_type": "stream",
          "text": [
            "              precision    recall  f1-score   support\n",
            "\n",
            "           0       0.75      0.81      0.78      3337\n",
            "           1       0.41      0.33      0.37      1366\n",
            "\n",
            "    accuracy                           0.67      4703\n",
            "   macro avg       0.58      0.57      0.57      4703\n",
            "weighted avg       0.65      0.67      0.66      4703\n",
            "\n"
          ],
          "name": "stdout"
        }
      ]
    },
    {
      "cell_type": "code",
      "metadata": {
        "colab": {
          "base_uri": "https://localhost:8080/"
        },
        "id": "dKYbRLnKAOK0",
        "outputId": "69c7d9fe-a9e1-4521-e12e-f0a98ba4be80"
      },
      "source": [
        "print(confusion_matrix(y_val,rfc_pred))"
      ],
      "execution_count": 46,
      "outputs": [
        {
          "output_type": "stream",
          "text": [
            "[[2696  641]\n",
            " [ 915  451]]\n"
          ],
          "name": "stdout"
        }
      ]
    },
    {
      "cell_type": "code",
      "metadata": {
        "id": "lVPBK4VX3iBl"
      },
      "source": [
        "#training error \n",
        "rfc_train = rfc_model.predict(x)"
      ],
      "execution_count": 47,
      "outputs": []
    },
    {
      "cell_type": "code",
      "metadata": {
        "colab": {
          "base_uri": "https://localhost:8080/"
        },
        "id": "jsr8ggPD3iN2",
        "outputId": "f8329c0c-04b3-4925-cf55-c49a5250aec4"
      },
      "source": [
        "accuracy_score(y,rfc_train)"
      ],
      "execution_count": 48,
      "outputs": [
        {
          "output_type": "execute_result",
          "data": {
            "text/plain": [
              "0.9512277287019015"
            ]
          },
          "metadata": {
            "tags": []
          },
          "execution_count": 48
        }
      ]
    },
    {
      "cell_type": "markdown",
      "metadata": {
        "id": "okl1EN5JAqRL"
      },
      "source": [
        "**NAIVE BAYES**"
      ]
    },
    {
      "cell_type": "code",
      "metadata": {
        "id": "NZAo-bWnARCW"
      },
      "source": [
        "from sklearn.naive_bayes import GaussianNB,MultinomialNB"
      ],
      "execution_count": 49,
      "outputs": []
    },
    {
      "cell_type": "code",
      "metadata": {
        "id": "pcHLLGMVA1DF"
      },
      "source": [
        "gnb_model=GaussianNB()\n",
        "mnb_model=MultinomialNB()"
      ],
      "execution_count": 50,
      "outputs": []
    },
    {
      "cell_type": "code",
      "metadata": {
        "colab": {
          "base_uri": "https://localhost:8080/"
        },
        "id": "tC5QQOX1A2IU",
        "outputId": "76be1ebb-498c-459f-b628-b0aa8b1911d5"
      },
      "source": [
        "gnb_model.fit(x,y)"
      ],
      "execution_count": 51,
      "outputs": [
        {
          "output_type": "execute_result",
          "data": {
            "text/plain": [
              "GaussianNB()"
            ]
          },
          "metadata": {
            "tags": []
          },
          "execution_count": 51
        }
      ]
    },
    {
      "cell_type": "code",
      "metadata": {
        "colab": {
          "base_uri": "https://localhost:8080/"
        },
        "id": "dJZaJ1qKA6Dd",
        "outputId": "22ab4029-43bf-4243-adaf-efdd7043c671"
      },
      "source": [
        "mnb_model.fit(x,y)"
      ],
      "execution_count": 52,
      "outputs": [
        {
          "output_type": "execute_result",
          "data": {
            "text/plain": [
              "MultinomialNB()"
            ]
          },
          "metadata": {
            "tags": []
          },
          "execution_count": 52
        }
      ]
    },
    {
      "cell_type": "code",
      "metadata": {
        "id": "2Q3-urpxA8xN"
      },
      "source": [
        "gnb_pred=gnb_model.predict(x_val)"
      ],
      "execution_count": 53,
      "outputs": []
    },
    {
      "cell_type": "code",
      "metadata": {
        "id": "1Tk4Ed_JBIB3"
      },
      "source": [
        "mnb_pred=mnb_model.predict(x_val)"
      ],
      "execution_count": 54,
      "outputs": []
    },
    {
      "cell_type": "code",
      "metadata": {
        "colab": {
          "base_uri": "https://localhost:8080/"
        },
        "id": "AX5JqJB3BL1H",
        "outputId": "b9e31338-7173-4e05-e1f1-c63fe06aee30"
      },
      "source": [
        "print(classification_report(y_val,gnb_pred))"
      ],
      "execution_count": 55,
      "outputs": [
        {
          "output_type": "stream",
          "text": [
            "              precision    recall  f1-score   support\n",
            "\n",
            "           0       0.71      0.60      0.65      3337\n",
            "           1       0.29      0.40      0.34      1366\n",
            "\n",
            "    accuracy                           0.54      4703\n",
            "   macro avg       0.50      0.50      0.49      4703\n",
            "weighted avg       0.59      0.54      0.56      4703\n",
            "\n"
          ],
          "name": "stdout"
        }
      ]
    },
    {
      "cell_type": "code",
      "metadata": {
        "colab": {
          "base_uri": "https://localhost:8080/"
        },
        "id": "gOrXoyepBQoD",
        "outputId": "3c73977a-2ffa-475c-c6a4-97772fde8975"
      },
      "source": [
        "print(classification_report(y_val,mnb_pred))"
      ],
      "execution_count": 56,
      "outputs": [
        {
          "output_type": "stream",
          "text": [
            "              precision    recall  f1-score   support\n",
            "\n",
            "           0       0.74      0.69      0.71      3337\n",
            "           1       0.34      0.39      0.37      1366\n",
            "\n",
            "    accuracy                           0.60      4703\n",
            "   macro avg       0.54      0.54      0.54      4703\n",
            "weighted avg       0.62      0.60      0.61      4703\n",
            "\n"
          ],
          "name": "stdout"
        }
      ]
    },
    {
      "cell_type": "code",
      "metadata": {
        "id": "OL1yyNW04BuQ"
      },
      "source": [
        "#training error \n",
        "gnb_train_pred = gnb_model.predict(x)\n",
        "mnb_train_pred = mnb_model.predict(x)  "
      ],
      "execution_count": 57,
      "outputs": []
    },
    {
      "cell_type": "code",
      "metadata": {
        "colab": {
          "base_uri": "https://localhost:8080/"
        },
        "id": "L58tE53m4Bxu",
        "outputId": "432f14e4-7f9e-4525-cf34-ee651f1911e4"
      },
      "source": [
        "accuracy_score(y,gnb_train_pred)"
      ],
      "execution_count": 58,
      "outputs": [
        {
          "output_type": "execute_result",
          "data": {
            "text/plain": [
              "0.7240979188501273"
            ]
          },
          "metadata": {
            "tags": []
          },
          "execution_count": 58
        }
      ]
    },
    {
      "cell_type": "code",
      "metadata": {
        "colab": {
          "base_uri": "https://localhost:8080/"
        },
        "id": "Lz7ZO8ga4CDS",
        "outputId": "e172dd6e-38db-4495-ab61-482fe66d6e76"
      },
      "source": [
        "accuracy_score(y,mnb_train_pred)"
      ],
      "execution_count": 59,
      "outputs": [
        {
          "output_type": "execute_result",
          "data": {
            "text/plain": [
              "0.7380970205120527"
            ]
          },
          "metadata": {
            "tags": []
          },
          "execution_count": 59
        }
      ]
    },
    {
      "cell_type": "code",
      "metadata": {
        "colab": {
          "base_uri": "https://localhost:8080/"
        },
        "id": "-sBWt1y3NRxc",
        "outputId": "7e8f813e-def4-4bd0-c4fa-67e7c9241cdc"
      },
      "source": [
        "print(confusion_matrix(y_val,gnb_pred))"
      ],
      "execution_count": 60,
      "outputs": [
        {
          "output_type": "stream",
          "text": [
            "[[2013 1324]\n",
            " [ 823  543]]\n"
          ],
          "name": "stdout"
        }
      ]
    },
    {
      "cell_type": "code",
      "metadata": {
        "colab": {
          "base_uri": "https://localhost:8080/"
        },
        "id": "r2aYDyW4NR1Z",
        "outputId": "347e4f24-40df-466f-dd7c-64ff893f4a38"
      },
      "source": [
        "print(confusion_matrix(y_val,mnb_pred))"
      ],
      "execution_count": 61,
      "outputs": [
        {
          "output_type": "stream",
          "text": [
            "[[2308 1029]\n",
            " [ 830  536]]\n"
          ],
          "name": "stdout"
        }
      ]
    },
    {
      "cell_type": "markdown",
      "metadata": {
        "id": "qAslsDJiBXXz"
      },
      "source": [
        "**XG BOOST** "
      ]
    },
    {
      "cell_type": "code",
      "metadata": {
        "colab": {
          "base_uri": "https://localhost:8080/"
        },
        "id": "RkcQHUs_BUWz",
        "outputId": "48931ec7-d461-46f6-8d97-639a4156f1c8"
      },
      "source": [
        "pip install xgboost "
      ],
      "execution_count": 62,
      "outputs": [
        {
          "output_type": "stream",
          "text": [
            "Requirement already satisfied: xgboost in /usr/local/lib/python3.7/dist-packages (0.90)\n",
            "Requirement already satisfied: numpy in /usr/local/lib/python3.7/dist-packages (from xgboost) (1.19.5)\n",
            "Requirement already satisfied: scipy in /usr/local/lib/python3.7/dist-packages (from xgboost) (1.4.1)\n"
          ],
          "name": "stdout"
        }
      ]
    },
    {
      "cell_type": "code",
      "metadata": {
        "id": "dI4q9-w2Bm4k"
      },
      "source": [
        "from xgboost import XGBClassifier"
      ],
      "execution_count": 63,
      "outputs": []
    },
    {
      "cell_type": "code",
      "metadata": {
        "id": "Wo1VEFWtBp_G"
      },
      "source": [
        "xgb_model=XGBClassifier()\n"
      ],
      "execution_count": 64,
      "outputs": []
    },
    {
      "cell_type": "code",
      "metadata": {
        "colab": {
          "base_uri": "https://localhost:8080/"
        },
        "id": "H8eNQU6EE2CP",
        "outputId": "a1784c36-6092-4ea9-cd5d-fceed9b20927"
      },
      "source": [
        "xgb_model.fit(x,y)\n"
      ],
      "execution_count": 65,
      "outputs": [
        {
          "output_type": "execute_result",
          "data": {
            "text/plain": [
              "XGBClassifier()"
            ]
          },
          "metadata": {
            "tags": []
          },
          "execution_count": 65
        }
      ]
    },
    {
      "cell_type": "code",
      "metadata": {
        "id": "0mm2gNZWE5jL"
      },
      "source": [
        "xgb_pred = xgb_model.predict(x_val)"
      ],
      "execution_count": 66,
      "outputs": []
    },
    {
      "cell_type": "code",
      "metadata": {
        "colab": {
          "base_uri": "https://localhost:8080/"
        },
        "id": "YoiVSPbXE8O5",
        "outputId": "6782134d-db21-4c74-d935-320d0b9fcd85"
      },
      "source": [
        "print(classification_report(y_val,xgb_pred))"
      ],
      "execution_count": 67,
      "outputs": [
        {
          "output_type": "stream",
          "text": [
            "              precision    recall  f1-score   support\n",
            "\n",
            "           0       0.74      0.89      0.81      3337\n",
            "           1       0.46      0.24      0.31      1366\n",
            "\n",
            "    accuracy                           0.70      4703\n",
            "   macro avg       0.60      0.56      0.56      4703\n",
            "weighted avg       0.66      0.70      0.66      4703\n",
            "\n"
          ],
          "name": "stdout"
        }
      ]
    },
    {
      "cell_type": "code",
      "metadata": {
        "colab": {
          "base_uri": "https://localhost:8080/"
        },
        "id": "IKuU6N50HF0Z",
        "outputId": "e50868e0-c6a6-498d-d8e1-39dd6015f664"
      },
      "source": [
        "#training error \n",
        "xgb_pred_train = xgb_model.predict(x) \n",
        "accuracy_score(y,xgb_pred_train)  "
      ],
      "execution_count": 68,
      "outputs": [
        {
          "output_type": "execute_result",
          "data": {
            "text/plain": [
              "0.7320332385087588"
            ]
          },
          "metadata": {
            "tags": []
          },
          "execution_count": 68
        }
      ]
    },
    {
      "cell_type": "code",
      "metadata": {
        "colab": {
          "base_uri": "https://localhost:8080/"
        },
        "id": "E-PO6EZf-6R_",
        "outputId": "cdf79fef-8d95-41e6-8482-0bce2c3d6142"
      },
      "source": [
        "print(confusion_matrix(y_val,xgb_pred))"
      ],
      "execution_count": 69,
      "outputs": [
        {
          "output_type": "stream",
          "text": [
            "[[2964  373]\n",
            " [1043  323]]\n"
          ],
          "name": "stdout"
        }
      ]
    },
    {
      "cell_type": "markdown",
      "metadata": {
        "id": "4rbmTqLNomgG"
      },
      "source": [
        "**LSTM**"
      ]
    },
    {
      "cell_type": "code",
      "metadata": {
        "id": "AGm682lTNsMb"
      },
      "source": [
        "import tensorflow as tf\n",
        "from tensorflow.keras.models import Sequential\n",
        "from tensorflow.keras.layers import Dense,LSTM,Embedding \n"
      ],
      "execution_count": 24,
      "outputs": []
    },
    {
      "cell_type": "code",
      "metadata": {
        "colab": {
          "base_uri": "https://localhost:8080/"
        },
        "id": "giKPegXEptAO",
        "outputId": "873789a9-c918-4ca4-88d0-e533ab9324ba"
      },
      "source": [
        "print(x.shape)\n",
        "print(y.shape)\n",
        "print(x_val.shape)\n",
        "print(y_val.shape) "
      ],
      "execution_count": 25,
      "outputs": [
        {
          "output_type": "stream",
          "text": [
            "(26752, 1000)\n",
            "(26752,)\n",
            "(4703, 1000)\n",
            "(4703,)\n"
          ],
          "name": "stdout"
        }
      ]
    },
    {
      "cell_type": "code",
      "metadata": {
        "id": "cMp4dfLBpxzQ"
      },
      "source": [
        "rnn_model=Sequential()\n",
        "\n",
        "rnn_model.add(Embedding(1000, 64, input_length=65))\n",
        "\n",
        "rnn_model.add(LSTM(192))\n",
        "\n",
        "rnn_model.add(Dense(1, activation='sigmoid'))"
      ],
      "execution_count": 26,
      "outputs": []
    },
    {
      "cell_type": "code",
      "metadata": {
        "id": "TONI42UJqP5t"
      },
      "source": [
        "rnn_model.compile(optimizer='adam', loss=\"binary_crossentropy\", metrics=['accuracy'])\n"
      ],
      "execution_count": 73,
      "outputs": []
    },
    {
      "cell_type": "code",
      "metadata": {
        "colab": {
          "base_uri": "https://localhost:8080/"
        },
        "id": "NuH5wZvqqTms",
        "outputId": "e7efe749-4901-481c-baae-5679f0daf251"
      },
      "source": [
        "rnn_model.summary() "
      ],
      "execution_count": 74,
      "outputs": [
        {
          "output_type": "stream",
          "text": [
            "Model: \"sequential\"\n",
            "_________________________________________________________________\n",
            "Layer (type)                 Output Shape              Param #   \n",
            "=================================================================\n",
            "embedding (Embedding)        (None, 65, 64)            64000     \n",
            "_________________________________________________________________\n",
            "lstm (LSTM)                  (None, 192)               197376    \n",
            "_________________________________________________________________\n",
            "dense (Dense)                (None, 1)                 193       \n",
            "=================================================================\n",
            "Total params: 261,569\n",
            "Trainable params: 261,569\n",
            "Non-trainable params: 0\n",
            "_________________________________________________________________\n"
          ],
          "name": "stdout"
        }
      ]
    },
    {
      "cell_type": "code",
      "metadata": {
        "colab": {
          "base_uri": "https://localhost:8080/"
        },
        "id": "eOu-rAmyqlMp",
        "outputId": "bfec9ec2-4796-4945-8607-70aeeebd7edf"
      },
      "source": [
        "history=rnn_model.fit(\n",
        "    x,y,\n",
        "    validation_data = (x_val, y_val),\n",
        "    epochs = 5,batch_size=500)  "
      ],
      "execution_count": 75,
      "outputs": [
        {
          "output_type": "stream",
          "text": [
            "Epoch 1/5\n",
            "WARNING:tensorflow:Model was constructed with shape (None, 65) for input KerasTensor(type_spec=TensorSpec(shape=(None, 65), dtype=tf.float32, name='embedding_input'), name='embedding_input', description=\"created by layer 'embedding_input'\"), but it was called on an input with incompatible shape (None, 1000).\n",
            "WARNING:tensorflow:Model was constructed with shape (None, 65) for input KerasTensor(type_spec=TensorSpec(shape=(None, 65), dtype=tf.float32, name='embedding_input'), name='embedding_input', description=\"created by layer 'embedding_input'\"), but it was called on an input with incompatible shape (None, 1000).\n",
            "54/54 [==============================] - ETA: 0s - loss: 0.6933 - accuracy: 0.4985 WARNING:tensorflow:Model was constructed with shape (None, 65) for input KerasTensor(type_spec=TensorSpec(shape=(None, 65), dtype=tf.float32, name='embedding_input'), name='embedding_input', description=\"created by layer 'embedding_input'\"), but it was called on an input with incompatible shape (None, 1000).\n",
            "54/54 [==============================] - 958s 18s/step - loss: 0.6933 - accuracy: 0.4985 - val_loss: 0.6921 - val_accuracy: 0.7095\n",
            "Epoch 2/5\n",
            "54/54 [==============================] - 901s 17s/step - loss: 0.6933 - accuracy: 0.4987 - val_loss: 0.6952 - val_accuracy: 0.2905\n",
            "Epoch 3/5\n",
            "54/54 [==============================] - 885s 16s/step - loss: 0.6932 - accuracy: 0.4979 - val_loss: 0.7005 - val_accuracy: 0.2905\n",
            "Epoch 4/5\n",
            "54/54 [==============================] - 960s 18s/step - loss: 0.6932 - accuracy: 0.5001 - val_loss: 0.6911 - val_accuracy: 0.7095\n",
            "Epoch 5/5\n",
            "54/54 [==============================] - 934s 17s/step - loss: 0.6932 - accuracy: 0.4941 - val_loss: 0.6943 - val_accuracy: 0.2905\n"
          ],
          "name": "stdout"
        }
      ]
    },
    {
      "cell_type": "code",
      "metadata": {
        "colab": {
          "base_uri": "https://localhost:8080/",
          "height": 295
        },
        "id": "u6MCot0L1G7Y",
        "outputId": "c8bdf743-3517-439f-b7fb-97da0eeff094"
      },
      "source": [
        " import matplotlib.pyplot as plt\n",
        "plt.plot(history.history['loss'])\n",
        "plt.plot(history.history['val_loss'])\n",
        "plt.title('model loss')\n",
        "plt.ylabel('loss')\n",
        "plt.xlabel('epoch')\n",
        "plt.legend(['train', 'validation'])\n",
        "plt.show() "
      ],
      "execution_count": 76,
      "outputs": [
        {
          "output_type": "display_data",
          "data": {
            "image/png": "[encoded data removed]",
            "text/plain": [
              "<Figure size 432x288 with 1 Axes>"
            ]
          },
          "metadata": {
            "tags": [],
            "needs_background": "light"
          }
        }
      ]
    },
    {
      "cell_type": "code",
      "metadata": {
        "id": "V5YbiVtCpatd"
      },
      "source": [
        "import tensorflow as tf"
      ],
      "execution_count": 27,
      "outputs": []
    },
    {
      "cell_type": "code",
      "metadata": {
        "id": "nSWBYBjoAxVe"
      },
      "source": [
        ""
      ],
      "execution_count": 27,
      "outputs": []
    },
    {
      "cell_type": "code",
      "metadata": {
        "id": "FY9ekCHFpDkW"
      },
      "source": [
        "rnn_model.compile(optimizer='adam', loss=\"binary_crossentropy\", metrics=[tf.keras.metrics.Precision(),tf.keras.metrics.Recall(),tf.keras.metrics.SpecificityAtSensitivity(0.5)])\n"
      ],
      "execution_count": 28,
      "outputs": []
    },
    {
      "cell_type": "code",
      "metadata": {
        "colab": {
          "base_uri": "https://localhost:8080/"
        },
        "id": "m2eXuEhepgOm",
        "outputId": "5371ddd5-ab1c-42cf-bb31-a46dba735067"
      },
      "source": [
        "rnn_model.fit(\n",
        "    x,y,\n",
        "    validation_data = (x_val,y_val),\n",
        "    epochs = 3,batch_size=500)  "
      ],
      "execution_count": 29,
      "outputs": [
        {
          "output_type": "stream",
          "text": [
            "Epoch 1/3\n",
            "WARNING:tensorflow:Model was constructed with shape (None, 65) for input KerasTensor(type_spec=TensorSpec(shape=(None, 65), dtype=tf.float32, name='embedding_input'), name='embedding_input', description=\"created by layer 'embedding_input'\"), but it was called on an input with incompatible shape (None, 1000).\n",
            "WARNING:tensorflow:Model was constructed with shape (None, 65) for input KerasTensor(type_spec=TensorSpec(shape=(None, 65), dtype=tf.float32, name='embedding_input'), name='embedding_input', description=\"created by layer 'embedding_input'\"), but it was called on an input with incompatible shape (None, 1000).\n",
            "54/54 [==============================] - ETA: 0s - loss: 0.6934 - precision: 0.5009 - recall: 0.4868 - specificity_at_sensitivity: 0.4570 WARNING:tensorflow:Model was constructed with shape (None, 65) for input KerasTensor(type_spec=TensorSpec(shape=(None, 65), dtype=tf.float32, name='embedding_input'), name='embedding_input', description=\"created by layer 'embedding_input'\"), but it was called on an input with incompatible shape (None, 1000).\n",
            "54/54 [==============================] - 1078s 20s/step - loss: 0.6934 - precision: 0.5009 - recall: 0.4868 - specificity_at_sensitivity: 0.4570 - val_loss: 0.6898 - val_precision: 0.0000e+00 - val_recall: 0.0000e+00 - val_specificity_at_sensitivity: 0.0000e+00\n",
            "Epoch 2/3\n",
            "54/54 [==============================] - 935s 17s/step - loss: 0.6932 - precision: 0.5000 - recall: 0.2150 - specificity_at_sensitivity: 0.0000e+00 - val_loss: 0.6990 - val_precision: 0.2943 - val_recall: 1.0000 - val_specificity_at_sensitivity: 0.0000e+00\n",
            "Epoch 3/3\n",
            "54/54 [==============================] - 978s 18s/step - loss: 0.6932 - precision: 0.4966 - recall: 0.6034 - specificity_at_sensitivity: 0.2586 - val_loss: 0.6942 - val_precision: 0.2943 - val_recall: 1.0000 - val_specificity_at_sensitivity: 0.0000e+00\n"
          ],
          "name": "stdout"
        },
        {
          "output_type": "execute_result",
          "data": {
            "text/plain": [
              "<tensorflow.python.keras.callbacks.History at 0x7f7b5e75e2d0>"
            ]
          },
          "metadata": {
            "tags": []
          },
          "execution_count": 29
        }
      ]
    },
    {
      "cell_type": "code",
      "metadata": {
        "id": "wyXIlNj9pk8N"
      },
      "source": [
        "rnn_model.compile(optimizer='adam', loss=\"binary_crossentropy\", metrics=[tf.keras.metrics.TrueNegatives(),tf.keras.metrics.TruePositives(),tf.keras.metrics.FalsePositives(),tf.keras.metrics.FalseNegatives()])\n"
      ],
      "execution_count": 30,
      "outputs": []
    },
    {
      "cell_type": "code",
      "metadata": {
        "colab": {
          "base_uri": "https://localhost:8080/"
        },
        "id": "qd8zxsgxprW7",
        "outputId": "eb9fce40-9991-487e-a92f-0f70e1562d3d"
      },
      "source": [
        "rnn_model.fit(\n",
        "    x,y,\n",
        "    validation_data = (x_val,y_val),\n",
        "    epochs = 3,batch_size=500)   "
      ],
      "execution_count": 31,
      "outputs": [
        {
          "output_type": "stream",
          "text": [
            "Epoch 1/3\n",
            "WARNING:tensorflow:Model was constructed with shape (None, 65) for input KerasTensor(type_spec=TensorSpec(shape=(None, 65), dtype=tf.float32, name='embedding_input'), name='embedding_input', description=\"created by layer 'embedding_input'\"), but it was called on an input with incompatible shape (None, 1000).\n",
            "WARNING:tensorflow:Model was constructed with shape (None, 65) for input KerasTensor(type_spec=TensorSpec(shape=(None, 65), dtype=tf.float32, name='embedding_input'), name='embedding_input', description=\"created by layer 'embedding_input'\"), but it was called on an input with incompatible shape (None, 1000).\n",
            "54/54 [==============================] - ETA: 0s - loss: 0.6932 - true_negatives: 6602.0000 - true_positives: 6721.0000 - false_positives: 6774.0000 - false_negatives: 6655.0000 WARNING:tensorflow:Model was constructed with shape (None, 65) for input KerasTensor(type_spec=TensorSpec(shape=(None, 65), dtype=tf.float32, name='embedding_input'), name='embedding_input', description=\"created by layer 'embedding_input'\"), but it was called on an input with incompatible shape (None, 1000).\n",
            "54/54 [==============================] - 895s 16s/step - loss: 0.6932 - true_negatives: 6602.0000 - true_positives: 6721.0000 - false_positives: 6774.0000 - false_negatives: 6655.0000 - val_loss: 0.6927 - val_true_negatives: 3319.0000 - val_true_positives: 0.0000e+00 - val_false_positives: 0.0000e+00 - val_false_negatives: 1384.0000\n",
            "Epoch 2/3\n",
            "54/54 [==============================] - 868s 16s/step - loss: 0.6932 - true_negatives: 477.0000 - true_positives: 12853.0000 - false_positives: 12899.0000 - false_negatives: 523.0000 - val_loss: 0.6936 - val_true_negatives: 1.0000 - val_true_positives: 1383.0000 - val_false_positives: 3318.0000 - val_false_negatives: 1.0000\n",
            "Epoch 3/3\n",
            "54/54 [==============================] - 889s 16s/step - loss: 0.6932 - true_negatives: 10302.0000 - true_positives: 2924.0000 - false_positives: 3074.0000 - false_negatives: 10452.0000 - val_loss: 0.6920 - val_true_negatives: 3319.0000 - val_true_positives: 0.0000e+00 - val_false_positives: 0.0000e+00 - val_false_negatives: 1384.0000\n"
          ],
          "name": "stdout"
        },
        {
          "output_type": "execute_result",
          "data": {
            "text/plain": [
              "<tensorflow.python.keras.callbacks.History at 0x7f7b5b0c3050>"
            ]
          },
          "metadata": {
            "tags": []
          },
          "execution_count": 31
        }
      ]
    },
    {
      "cell_type": "code",
      "metadata": {
        "id": "LiiLjh8Ypudk"
      },
      "source": [
        ""
      ],
      "execution_count": null,
      "outputs": []
    }
  ]
}