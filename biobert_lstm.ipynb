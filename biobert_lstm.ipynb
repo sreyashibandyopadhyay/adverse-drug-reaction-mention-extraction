{
  "nbformat": 4,
  "nbformat_minor": 0,
  "metadata": {
    "colab": {
      "name": "biobert_lstm.ipynb",
      "provenance": []
    },
    "kernelspec": {
      "name": "python3",
      "display_name": "Python 3"
    },
    "language_info": {
      "name": "python"
    }
  },
  "cells": [
    {
      "cell_type": "code",
      "metadata": {
        "colab": {
          "base_uri": "https://localhost:8080/"
        },
        "id": "4TundtMw6ln6",
        "outputId": "d1916f04-1978-4138-ae20-2ad4b14d89cc"
      },
      "source": [
        "pip install biobert-embedding==0.1.2 torch==1.2.0 -f https://download.pytorch.org/whl/torch_stable.html "
      ],
      "execution_count": 3,
      "outputs": [
        {
          "output_type": "stream",
          "text": [
            "Looking in links: https://download.pytorch.org/whl/torch_stable.html\n",
            "Collecting biobert-embedding==0.1.2\n",
            "  Downloading https://files.pythonhosted.org/packages/d2/f0/f5bd3fd4a0bcef4d85e5e82347ae73d376d68dc8086afde75838ba0473a2/biobert-embedding-0.1.2.tar.gz\n",
            "Collecting torch==1.2.0\n",
            "\u001b[?25l  Downloading https://download.pytorch.org/whl/cu92/torch-1.2.0%2Bcu92-cp37-cp37m-manylinux1_x86_64.whl (663.1MB)\n",
            "\u001b[K     |████████████████████████████████| 663.1MB 25kB/s \n",
            "\u001b[?25hCollecting pytorch-pretrained-bert==0.6.2\n",
            "\u001b[?25l  Downloading https://files.pythonhosted.org/packages/d7/e0/c08d5553b89973d9a240605b9c12404bcf8227590de62bae27acbcfe076b/pytorch_pretrained_bert-0.6.2-py3-none-any.whl (123kB)\n",
            "\u001b[K     |████████████████████████████████| 133kB 7.3MB/s \n",
            "\u001b[?25hRequirement already satisfied: tensorflow in /usr/local/lib/python3.7/dist-packages (from biobert-embedding==0.1.2) (2.5.0)\n",
            "Requirement already satisfied: numpy in /usr/local/lib/python3.7/dist-packages (from torch==1.2.0) (1.19.5)\n",
            "Requirement already satisfied: requests in /usr/local/lib/python3.7/dist-packages (from pytorch-pretrained-bert==0.6.2->biobert-embedding==0.1.2) (2.23.0)\n",
            "Requirement already satisfied: tqdm in /usr/local/lib/python3.7/dist-packages (from pytorch-pretrained-bert==0.6.2->biobert-embedding==0.1.2) (4.41.1)\n",
            "Requirement already satisfied: regex in /usr/local/lib/python3.7/dist-packages (from pytorch-pretrained-bert==0.6.2->biobert-embedding==0.1.2) (2019.12.20)\n",
            "Collecting boto3\n",
            "\u001b[?25l  Downloading https://files.pythonhosted.org/packages/14/de/807c75923e84530b8a94003d761bcea33ebd5469b3d56c1141208360f39f/boto3-1.17.101-py2.py3-none-any.whl (131kB)\n",
            "\u001b[K     |████████████████████████████████| 133kB 34.5MB/s \n",
            "\u001b[?25hRequirement already satisfied: h5py~=3.1.0 in /usr/local/lib/python3.7/dist-packages (from tensorflow->biobert-embedding==0.1.2) (3.1.0)\n",
            "Requirement already satisfied: flatbuffers~=1.12.0 in /usr/local/lib/python3.7/dist-packages (from tensorflow->biobert-embedding==0.1.2) (1.12)\n",
            "Requirement already satisfied: opt-einsum~=3.3.0 in /usr/local/lib/python3.7/dist-packages (from tensorflow->biobert-embedding==0.1.2) (3.3.0)\n",
            "Requirement already satisfied: tensorboard~=2.5 in /usr/local/lib/python3.7/dist-packages (from tensorflow->biobert-embedding==0.1.2) (2.5.0)\n",
            "Requirement already satisfied: keras-nightly~=2.5.0.dev in /usr/local/lib/python3.7/dist-packages (from tensorflow->biobert-embedding==0.1.2) (2.5.0.dev2021032900)\n",
            "Requirement already satisfied: typing-extensions~=3.7.4 in /usr/local/lib/python3.7/dist-packages (from tensorflow->biobert-embedding==0.1.2) (3.7.4.3)\n",
            "Requirement already satisfied: wrapt~=1.12.1 in /usr/local/lib/python3.7/dist-packages (from tensorflow->biobert-embedding==0.1.2) (1.12.1)\n",
            "Requirement already satisfied: grpcio~=1.34.0 in /usr/local/lib/python3.7/dist-packages (from tensorflow->biobert-embedding==0.1.2) (1.34.1)\n",
            "Requirement already satisfied: astunparse~=1.6.3 in /usr/local/lib/python3.7/dist-packages (from tensorflow->biobert-embedding==0.1.2) (1.6.3)\n",
            "Requirement already satisfied: wheel~=0.35 in /usr/local/lib/python3.7/dist-packages (from tensorflow->biobert-embedding==0.1.2) (0.36.2)\n",
            "Requirement already satisfied: six~=1.15.0 in /usr/local/lib/python3.7/dist-packages (from tensorflow->biobert-embedding==0.1.2) (1.15.0)\n",
            "Requirement already satisfied: keras-preprocessing~=1.1.2 in /usr/local/lib/python3.7/dist-packages (from tensorflow->biobert-embedding==0.1.2) (1.1.2)\n",
            "Requirement already satisfied: tensorflow-estimator<2.6.0,>=2.5.0rc0 in /usr/local/lib/python3.7/dist-packages (from tensorflow->biobert-embedding==0.1.2) (2.5.0)\n",
            "Requirement already satisfied: gast==0.4.0 in /usr/local/lib/python3.7/dist-packages (from tensorflow->biobert-embedding==0.1.2) (0.4.0)\n",
            "Requirement already satisfied: termcolor~=1.1.0 in /usr/local/lib/python3.7/dist-packages (from tensorflow->biobert-embedding==0.1.2) (1.1.0)\n",
            "Requirement already satisfied: google-pasta~=0.2 in /usr/local/lib/python3.7/dist-packages (from tensorflow->biobert-embedding==0.1.2) (0.2.0)\n",
            "Requirement already satisfied: absl-py~=0.10 in /usr/local/lib/python3.7/dist-packages (from tensorflow->biobert-embedding==0.1.2) (0.12.0)\n",
            "Requirement already satisfied: protobuf>=3.9.2 in /usr/local/lib/python3.7/dist-packages (from tensorflow->biobert-embedding==0.1.2) (3.12.4)\n",
            "Requirement already satisfied: idna<3,>=2.5 in /usr/local/lib/python3.7/dist-packages (from requests->pytorch-pretrained-bert==0.6.2->biobert-embedding==0.1.2) (2.10)\n",
            "Requirement already satisfied: chardet<4,>=3.0.2 in /usr/local/lib/python3.7/dist-packages (from requests->pytorch-pretrained-bert==0.6.2->biobert-embedding==0.1.2) (3.0.4)\n",
            "Requirement already satisfied: certifi>=2017.4.17 in /usr/local/lib/python3.7/dist-packages (from requests->pytorch-pretrained-bert==0.6.2->biobert-embedding==0.1.2) (2021.5.30)\n",
            "Requirement already satisfied: urllib3!=1.25.0,!=1.25.1,<1.26,>=1.21.1 in /usr/local/lib/python3.7/dist-packages (from requests->pytorch-pretrained-bert==0.6.2->biobert-embedding==0.1.2) (1.24.3)\n",
            "Collecting jmespath<1.0.0,>=0.7.1\n",
            "  Downloading https://files.pythonhosted.org/packages/07/cb/5f001272b6faeb23c1c9e0acc04d48eaaf5c862c17709d20e3469c6e0139/jmespath-0.10.0-py2.py3-none-any.whl\n",
            "Collecting botocore<1.21.0,>=1.20.101\n",
            "\u001b[?25l  Downloading https://files.pythonhosted.org/packages/01/76/f67a56460eba1997dd89b6b34b68150da1cf8cba0f5161cc4326383b4240/botocore-1.20.101-py2.py3-none-any.whl (7.7MB)\n",
            "\u001b[K     |████████████████████████████████| 7.7MB 35.5MB/s \n",
            "\u001b[?25hCollecting s3transfer<0.5.0,>=0.4.0\n",
            "\u001b[?25l  Downloading https://files.pythonhosted.org/packages/63/d0/693477c688348654ddc21dcdce0817653a294aa43f41771084c25e7ff9c7/s3transfer-0.4.2-py2.py3-none-any.whl (79kB)\n",
            "\u001b[K     |████████████████████████████████| 81kB 10.1MB/s \n",
            "\u001b[?25hRequirement already satisfied: cached-property; python_version < \"3.8\" in /usr/local/lib/python3.7/dist-packages (from h5py~=3.1.0->tensorflow->biobert-embedding==0.1.2) (1.5.2)\n",
            "Requirement already satisfied: tensorboard-data-server<0.7.0,>=0.6.0 in /usr/local/lib/python3.7/dist-packages (from tensorboard~=2.5->tensorflow->biobert-embedding==0.1.2) (0.6.1)\n",
            "Requirement already satisfied: google-auth-oauthlib<0.5,>=0.4.1 in /usr/local/lib/python3.7/dist-packages (from tensorboard~=2.5->tensorflow->biobert-embedding==0.1.2) (0.4.4)\n",
            "Requirement already satisfied: markdown>=2.6.8 in /usr/local/lib/python3.7/dist-packages (from tensorboard~=2.5->tensorflow->biobert-embedding==0.1.2) (3.3.4)\n",
            "Requirement already satisfied: google-auth<2,>=1.6.3 in /usr/local/lib/python3.7/dist-packages (from tensorboard~=2.5->tensorflow->biobert-embedding==0.1.2) (1.31.0)\n",
            "Requirement already satisfied: werkzeug>=0.11.15 in /usr/local/lib/python3.7/dist-packages (from tensorboard~=2.5->tensorflow->biobert-embedding==0.1.2) (1.0.1)\n",
            "Requirement already satisfied: setuptools>=41.0.0 in /usr/local/lib/python3.7/dist-packages (from tensorboard~=2.5->tensorflow->biobert-embedding==0.1.2) (57.0.0)\n",
            "Requirement already satisfied: tensorboard-plugin-wit>=1.6.0 in /usr/local/lib/python3.7/dist-packages (from tensorboard~=2.5->tensorflow->biobert-embedding==0.1.2) (1.8.0)\n",
            "Requirement already satisfied: python-dateutil<3.0.0,>=2.1 in /usr/local/lib/python3.7/dist-packages (from botocore<1.21.0,>=1.20.101->boto3->pytorch-pretrained-bert==0.6.2->biobert-embedding==0.1.2) (2.8.1)\n",
            "Requirement already satisfied: requests-oauthlib>=0.7.0 in /usr/local/lib/python3.7/dist-packages (from google-auth-oauthlib<0.5,>=0.4.1->tensorboard~=2.5->tensorflow->biobert-embedding==0.1.2) (1.3.0)\n",
            "Requirement already satisfied: importlib-metadata; python_version < \"3.8\" in /usr/local/lib/python3.7/dist-packages (from markdown>=2.6.8->tensorboard~=2.5->tensorflow->biobert-embedding==0.1.2) (4.5.0)\n",
            "Requirement already satisfied: rsa<5,>=3.1.4; python_version >= \"3.6\" in /usr/local/lib/python3.7/dist-packages (from google-auth<2,>=1.6.3->tensorboard~=2.5->tensorflow->biobert-embedding==0.1.2) (4.7.2)\n",
            "Requirement already satisfied: cachetools<5.0,>=2.0.0 in /usr/local/lib/python3.7/dist-packages (from google-auth<2,>=1.6.3->tensorboard~=2.5->tensorflow->biobert-embedding==0.1.2) (4.2.2)\n",
            "Requirement already satisfied: pyasn1-modules>=0.2.1 in /usr/local/lib/python3.7/dist-packages (from google-auth<2,>=1.6.3->tensorboard~=2.5->tensorflow->biobert-embedding==0.1.2) (0.2.8)\n",
            "Requirement already satisfied: oauthlib>=3.0.0 in /usr/local/lib/python3.7/dist-packages (from requests-oauthlib>=0.7.0->google-auth-oauthlib<0.5,>=0.4.1->tensorboard~=2.5->tensorflow->biobert-embedding==0.1.2) (3.1.1)\n",
            "Requirement already satisfied: zipp>=0.5 in /usr/local/lib/python3.7/dist-packages (from importlib-metadata; python_version < \"3.8\"->markdown>=2.6.8->tensorboard~=2.5->tensorflow->biobert-embedding==0.1.2) (3.4.1)\n",
            "Requirement already satisfied: pyasn1>=0.1.3 in /usr/local/lib/python3.7/dist-packages (from rsa<5,>=3.1.4; python_version >= \"3.6\"->google-auth<2,>=1.6.3->tensorboard~=2.5->tensorflow->biobert-embedding==0.1.2) (0.4.8)\n",
            "Building wheels for collected packages: biobert-embedding\n",
            "  Building wheel for biobert-embedding (setup.py) ... \u001b[?25l\u001b[?25hdone\n",
            "  Created wheel for biobert-embedding: filename=biobert_embedding-0.1.2-cp37-none-any.whl size=5701 sha256=752a02e54fa812fb1aadea132fcce41f16814aba0ea434251144533a0e5ffece\n",
            "  Stored in directory: /root/.cache/pip/wheels/ad/15/65/3fc6192a7cb7920672bb46d566173decb0875f35bbe03cd09d\n",
            "Successfully built biobert-embedding\n",
            "\u001b[31mERROR: torchvision 0.10.0+cu102 has requirement torch==1.9.0, but you'll have torch 1.2.0+cu92 which is incompatible.\u001b[0m\n",
            "\u001b[31mERROR: torchtext 0.10.0 has requirement torch==1.9.0, but you'll have torch 1.2.0+cu92 which is incompatible.\u001b[0m\n",
            "\u001b[31mERROR: botocore 1.20.101 has requirement urllib3<1.27,>=1.25.4, but you'll have urllib3 1.24.3 which is incompatible.\u001b[0m\n",
            "Installing collected packages: torch, jmespath, botocore, s3transfer, boto3, pytorch-pretrained-bert, biobert-embedding\n",
            "  Found existing installation: torch 1.9.0+cu102\n",
            "    Uninstalling torch-1.9.0+cu102:\n",
            "      Successfully uninstalled torch-1.9.0+cu102\n",
            "Successfully installed biobert-embedding-0.1.2 boto3-1.17.101 botocore-1.20.101 jmespath-0.10.0 pytorch-pretrained-bert-0.6.2 s3transfer-0.4.2 torch-1.2.0+cu92\n"
          ],
          "name": "stdout"
        }
      ]
    },
    {
      "cell_type": "code",
      "metadata": {
        "id": "nFY-K4PF61Gf"
      },
      "source": [
        "from biobert_embedding.embedding import BiobertEmbedding "
      ],
      "execution_count": 4,
      "outputs": []
    },
    {
      "cell_type": "code",
      "metadata": {
        "colab": {
          "base_uri": "https://localhost:8080/"
        },
        "id": "dULZ_qsX7XVL",
        "outputId": "74c05c50-22ab-4028-ca3d-edd7ec53f44f"
      },
      "source": [
        "biobert = BiobertEmbedding()"
      ],
      "execution_count": 5,
      "outputs": [
        {
          "output_type": "stream",
          "text": [
            "Downloading the biobert model, will take a minute...\n"
          ],
          "name": "stdout"
        },
        {
          "output_type": "stream",
          "text": [
            "/usr/local/lib/python3.7/dist-packages/urllib3/connectionpool.py:847: InsecureRequestWarning: Unverified HTTPS request is being made. Adding certificate verification is strongly advised. See: https://urllib3.readthedocs.io/en/latest/advanced-usage.html#ssl-warnings\n",
            "  InsecureRequestWarning)\n",
            "/usr/local/lib/python3.7/dist-packages/urllib3/connectionpool.py:847: InsecureRequestWarning: Unverified HTTPS request is being made. Adding certificate verification is strongly advised. See: https://urllib3.readthedocs.io/en/latest/advanced-usage.html#ssl-warnings\n",
            "  InsecureRequestWarning)\n",
            "/usr/local/lib/python3.7/dist-packages/urllib3/connectionpool.py:847: InsecureRequestWarning: Unverified HTTPS request is being made. Adding certificate verification is strongly advised. See: https://urllib3.readthedocs.io/en/latest/advanced-usage.html#ssl-warnings\n",
            "  InsecureRequestWarning)\n",
            "/usr/local/lib/python3.7/dist-packages/urllib3/connectionpool.py:847: InsecureRequestWarning: Unverified HTTPS request is being made. Adding certificate verification is strongly advised. See: https://urllib3.readthedocs.io/en/latest/advanced-usage.html#ssl-warnings\n",
            "  InsecureRequestWarning)\n",
            "/usr/local/lib/python3.7/dist-packages/urllib3/connectionpool.py:847: InsecureRequestWarning: Unverified HTTPS request is being made. Adding certificate verification is strongly advised. See: https://urllib3.readthedocs.io/en/latest/advanced-usage.html#ssl-warnings\n",
            "  InsecureRequestWarning)\n"
          ],
          "name": "stderr"
        }
      ]
    },
    {
      "cell_type": "code",
      "metadata": {
        "id": "j1WXMpY07dob"
      },
      "source": [
        "import numpy as np\n",
        "import pandas as pd "
      ],
      "execution_count": 6,
      "outputs": []
    },
    {
      "cell_type": "code",
      "metadata": {
        "id": "_62BkXsF7wqp"
      },
      "source": [
        "doc_vectors=pd.read_csv('/content/preprocessed_ade.csv')"
      ],
      "execution_count": 7,
      "outputs": []
    },
    {
      "cell_type": "code",
      "metadata": {
        "colab": {
          "base_uri": "https://localhost:8080/",
          "height": 402
        },
        "id": "fol1qwtT8DwY",
        "outputId": "ab82558c-0473-4ecc-a50e-ec9a60bcf0aa"
      },
      "source": [
        "doc_vectors"
      ],
      "execution_count": 8,
      "outputs": [
        {
          "output_type": "execute_result",
          "data": {
            "text/html": [
              "<div>\n",
              "<style scoped>\n",
              "    .dataframe tbody tr th:only-of-type {\n",
              "        vertical-align: middle;\n",
              "    }\n",
              "\n",
              "    .dataframe tbody tr th {\n",
              "        vertical-align: top;\n",
              "    }\n",
              "\n",
              "    .dataframe thead th {\n",
              "        text-align: right;\n",
              "    }\n",
              "</style>\n",
              "<table border=\"1\" class=\"dataframe\">\n",
              "  <thead>\n",
              "    <tr style=\"text-align: right;\">\n",
              "      <th></th>\n",
              "      <th>Unnamed: 0</th>\n",
              "      <th>observation</th>\n",
              "      <th>labels</th>\n",
              "    </tr>\n",
              "  </thead>\n",
              "  <tbody>\n",
              "    <tr>\n",
              "      <th>0</th>\n",
              "      <td>12606</td>\n",
              "      <td>early phase ii semi double blind study of the ...</td>\n",
              "      <td>0</td>\n",
              "    </tr>\n",
              "    <tr>\n",
              "      <th>1</th>\n",
              "      <td>685</td>\n",
              "      <td>cessation of mtx therapy led to complete regre...</td>\n",
              "      <td>0</td>\n",
              "    </tr>\n",
              "    <tr>\n",
              "      <th>2</th>\n",
              "      <td>5127</td>\n",
              "      <td>cutaneous biopsy showed hyphae and round inclu...</td>\n",
              "      <td>0</td>\n",
              "    </tr>\n",
              "    <tr>\n",
              "      <th>3</th>\n",
              "      <td>3158</td>\n",
              "      <td>she was treated with acyclovir and subsequentl...</td>\n",
              "      <td>1</td>\n",
              "    </tr>\n",
              "    <tr>\n",
              "      <th>4</th>\n",
              "      <td>10685</td>\n",
              "      <td>cisplatin was substituted and the patient achi...</td>\n",
              "      <td>0</td>\n",
              "    </tr>\n",
              "    <tr>\n",
              "      <th>...</th>\n",
              "      <td>...</td>\n",
              "      <td>...</td>\n",
              "      <td>...</td>\n",
              "    </tr>\n",
              "    <tr>\n",
              "      <th>23511</th>\n",
              "      <td>982</td>\n",
              "      <td>ticlopidine induced aplastic anemia  two new c...</td>\n",
              "      <td>1</td>\n",
              "    </tr>\n",
              "    <tr>\n",
              "      <th>23512</th>\n",
              "      <td>14487</td>\n",
              "      <td>the risks of sumatriptan administration in pat...</td>\n",
              "      <td>0</td>\n",
              "    </tr>\n",
              "    <tr>\n",
              "      <th>23513</th>\n",
              "      <td>4680</td>\n",
              "      <td>however   the spectrum of hosts and clinical p...</td>\n",
              "      <td>0</td>\n",
              "    </tr>\n",
              "    <tr>\n",
              "      <th>23514</th>\n",
              "      <td>2588</td>\n",
              "      <td>antibiotic treatment should be continued</td>\n",
              "      <td>0</td>\n",
              "    </tr>\n",
              "    <tr>\n",
              "      <th>23515</th>\n",
              "      <td>6571</td>\n",
              "      <td>in case     a total daily dose of    mg sertra...</td>\n",
              "      <td>1</td>\n",
              "    </tr>\n",
              "  </tbody>\n",
              "</table>\n",
              "<p>23516 rows × 3 columns</p>\n",
              "</div>"
            ],
            "text/plain": [
              "       Unnamed: 0                                        observation  labels\n",
              "0           12606  early phase ii semi double blind study of the ...       0\n",
              "1             685  cessation of mtx therapy led to complete regre...       0\n",
              "2            5127  cutaneous biopsy showed hyphae and round inclu...       0\n",
              "3            3158  she was treated with acyclovir and subsequentl...       1\n",
              "4           10685  cisplatin was substituted and the patient achi...       0\n",
              "...           ...                                                ...     ...\n",
              "23511         982  ticlopidine induced aplastic anemia  two new c...       1\n",
              "23512       14487  the risks of sumatriptan administration in pat...       0\n",
              "23513        4680  however   the spectrum of hosts and clinical p...       0\n",
              "23514        2588           antibiotic treatment should be continued       0\n",
              "23515        6571  in case     a total daily dose of    mg sertra...       1\n",
              "\n",
              "[23516 rows x 3 columns]"
            ]
          },
          "metadata": {
            "tags": []
          },
          "execution_count": 8
        }
      ]
    },
    {
      "cell_type": "code",
      "metadata": {
        "id": "Uao-Afgq8FoH"
      },
      "source": [
        "from tensorflow.python.keras.preprocessing.text import Tokenizer\n",
        "from tensorflow.python.keras.preprocessing.sequence import pad_sequences "
      ],
      "execution_count": 9,
      "outputs": []
    },
    {
      "cell_type": "code",
      "metadata": {
        "id": "txy9w8ZrDBnA"
      },
      "source": [
        "#doc_vectors = pd.read_csv('/content/biobert_embeddings.csv') "
      ],
      "execution_count": 10,
      "outputs": []
    },
    {
      "cell_type": "code",
      "metadata": {
        "id": "y8JBfZq2DYK6"
      },
      "source": [
        "doc_vectors.drop(columns='Unnamed: 0' , inplace= True)"
      ],
      "execution_count": 11,
      "outputs": []
    },
    {
      "cell_type": "code",
      "metadata": {
        "id": "oqUdWLMFFw3N"
      },
      "source": [
        "req_lines = list()\n",
        "lines = doc_vectors[\"observation\"].values.tolist()"
      ],
      "execution_count": 12,
      "outputs": []
    },
    {
      "cell_type": "code",
      "metadata": {
        "colab": {
          "base_uri": "https://localhost:8080/",
          "height": 35
        },
        "id": "7Y2mIDALGSkN",
        "outputId": "6583c47d-5125-4ab6-c133-710730450b58"
      },
      "source": [
        "lines[0]"
      ],
      "execution_count": 13,
      "outputs": [
        {
          "output_type": "execute_result",
          "data": {
            "application/vnd.google.colaboratory.intrinsic+json": {
              "type": "string"
            },
            "text/plain": [
              "'early phase ii semi double blind study of the new alkaline propanolamine derivative enciprazine   short communication'"
            ]
          },
          "metadata": {
            "tags": []
          },
          "execution_count": 13
        }
      ]
    },
    {
      "cell_type": "code",
      "metadata": {
        "colab": {
          "base_uri": "https://localhost:8080/"
        },
        "id": "TqogacKrHJ49",
        "outputId": "865d1379-6bda-4bc0-d4e7-21cf3bf05263"
      },
      "source": [
        "import nltk \n",
        "nltk.download('punkt')\n",
        "nltk.download('stopwords')"
      ],
      "execution_count": 14,
      "outputs": [
        {
          "output_type": "stream",
          "text": [
            "[nltk_data] Downloading package punkt to /root/nltk_data...\n",
            "[nltk_data]   Unzipping tokenizers/punkt.zip.\n",
            "[nltk_data] Downloading package stopwords to /root/nltk_data...\n",
            "[nltk_data]   Unzipping corpora/stopwords.zip.\n"
          ],
          "name": "stdout"
        },
        {
          "output_type": "execute_result",
          "data": {
            "text/plain": [
              "True"
            ]
          },
          "metadata": {
            "tags": []
          },
          "execution_count": 14
        }
      ]
    },
    {
      "cell_type": "code",
      "metadata": {
        "id": "0cz2lAzvHg6T"
      },
      "source": [
        "from nltk import word_tokenize \n",
        "from nltk.corpus import stopwords\n"
      ],
      "execution_count": 15,
      "outputs": []
    },
    {
      "cell_type": "code",
      "metadata": {
        "id": "SpxEZOMAHmpM"
      },
      "source": [
        "import string"
      ],
      "execution_count": 16,
      "outputs": []
    },
    {
      "cell_type": "code",
      "metadata": {
        "id": "9YEjrH_bIKh2"
      },
      "source": [
        "#stopwords = set(nltk.corpus.stopwords.words('english'))"
      ],
      "execution_count": 17,
      "outputs": []
    },
    {
      "cell_type": "code",
      "metadata": {
        "colab": {
          "base_uri": "https://localhost:8080/",
          "height": 102
        },
        "id": "a3tKntOMGbqP",
        "outputId": "771eaa36-2180-43b3-da0f-9d3e0ee39a35"
      },
      "source": [
        "\"\"\"\n",
        "def CleanTokenize(doc_vectors):\n",
        "    req_lines = list()\n",
        "    lines = doc_vectors[\"observation\"].values.tolist()\n",
        "\n",
        "    for line in lines:\n",
        "        #line = clean_text(line)\n",
        "        # tokenize the text\n",
        "        #tokens=biobert.tokens(line)\n",
        "        tokens = word_tokenize(line)\n",
        "        tokens = [w.lower() for w in tokens]\n",
        "        # remove puntuations\n",
        "        table = str.maketrans('', '', string.punctuation)\n",
        "        stripped = [w.translate(table) for w in tokens]\n",
        "        # remove non alphabetic characters\n",
        "        words = [word for word in stripped if word.isalpha()]\n",
        "        stop_words = set(stopwords.words(\"english\"))\n",
        "        # remove stop words\n",
        "        stop_words.discard('not')\n",
        "        words = [w for w in words if not w in stop_words]\n",
        "        req_lines.append(words)    \n",
        "    return req_lines\n",
        "\n",
        "req_lines = CleanTokenize(doc_vectors)\n",
        "req_lines[0]\n",
        "\"\"\""
      ],
      "execution_count": 18,
      "outputs": [
        {
          "output_type": "execute_result",
          "data": {
            "application/vnd.google.colaboratory.intrinsic+json": {
              "type": "string"
            },
            "text/plain": [
              "'\\ndef CleanTokenize(doc_vectors):\\n    req_lines = list()\\n    lines = doc_vectors[\"observation\"].values.tolist()\\n\\n    for line in lines:\\n        #line = clean_text(line)\\n        # tokenize the text\\n        #tokens=biobert.tokens(line)\\n        tokens = word_tokenize(line)\\n        tokens = [w.lower() for w in tokens]\\n        # remove puntuations\\n        table = str.maketrans(\\'\\', \\'\\', string.punctuation)\\n        stripped = [w.translate(table) for w in tokens]\\n        # remove non alphabetic characters\\n        words = [word for word in stripped if word.isalpha()]\\n        stop_words = set(stopwords.words(\"english\"))\\n        # remove stop words\\n        stop_words.discard(\\'not\\')\\n        words = [w for w in words if not w in stop_words]\\n        req_lines.append(words)    \\n    return req_lines\\n\\nreq_lines = CleanTokenize(doc_vectors)\\nreq_lines[0]\\n'"
            ]
          },
          "metadata": {
            "tags": []
          },
          "execution_count": 18
        }
      ]
    },
    {
      "cell_type": "code",
      "metadata": {
        "id": "37oExzgi00S7"
      },
      "source": [
        "max_feature_length = 768\n",
        "tokenizer = Tokenizer(num_words=max_feature_length, split=' ')\n",
        "tokenizer.fit_on_texts(doc_vectors['observation'].values)\n",
        "x = tokenizer.texts_to_sequences(doc_vectors['observation'].values)\n",
        "x = pad_sequences(x,maxlen=max_feature_length)\n",
        "word_index = tokenizer.word_index "
      ],
      "execution_count": 19,
      "outputs": []
    },
    {
      "cell_type": "code",
      "metadata": {
        "colab": {
          "base_uri": "https://localhost:8080/"
        },
        "id": "zn2f_Kq7YM4l",
        "outputId": "81fac839-4bd1-4a2b-84c9-921af0e8a160"
      },
      "source": [
        "len(word_index)"
      ],
      "execution_count": 20,
      "outputs": [
        {
          "output_type": "execute_result",
          "data": {
            "text/plain": [
              "16445"
            ]
          },
          "metadata": {
            "tags": []
          },
          "execution_count": 20
        }
      ]
    },
    {
      "cell_type": "code",
      "metadata": {
        "id": "ljH7k0Jy2Pxg"
      },
      "source": [
        "y = doc_vectors['labels'].values"
      ],
      "execution_count": 21,
      "outputs": []
    },
    {
      "cell_type": "code",
      "metadata": {
        "colab": {
          "base_uri": "https://localhost:8080/"
        },
        "id": "7RaqLKwX4vbl",
        "outputId": "ded5572f-f98c-445d-c178-93307bf35489"
      },
      "source": [
        "print(x.shape)\n",
        "print(y.shape)"
      ],
      "execution_count": 22,
      "outputs": [
        {
          "output_type": "stream",
          "text": [
            "(23516, 768)\n",
            "(23516,)\n"
          ],
          "name": "stdout"
        }
      ]
    },
    {
      "cell_type": "code",
      "metadata": {
        "id": "xlHqTgUv8kbD"
      },
      "source": [
        "from sklearn.model_selection import train_test_split"
      ],
      "execution_count": 23,
      "outputs": []
    },
    {
      "cell_type": "code",
      "metadata": {
        "id": "iG_FK1CKXYqO"
      },
      "source": [
        "x_train,x_test,y_train,y_test = train_test_split(x,y,test_size=0.2,random_state=2021)"
      ],
      "execution_count": 24,
      "outputs": []
    },
    {
      "cell_type": "code",
      "metadata": {
        "id": "tiooRca1KDH3"
      },
      "source": [
        "embedding_dim = 768\n",
        "embedding_matrix = np.zeros((len(word_index) + 1, embedding_dim))\n",
        "for word, i in word_index.items():\n",
        "    #if word in word2vec_model: \n",
        "        embedding_vector = biobert.sentence_vector(word)\n",
        "        embedding_matrix[i] = embedding_vector "
      ],
      "execution_count": 25,
      "outputs": []
    },
    {
      "cell_type": "code",
      "metadata": {
        "id": "bqFRsCxXYohq"
      },
      "source": [
        "from keras.layers import Embedding"
      ],
      "execution_count": 26,
      "outputs": []
    },
    {
      "cell_type": "code",
      "metadata": {
        "id": "WGUIyF2wKYqd"
      },
      "source": [
        "embedding_layer = Embedding(len(word_index) + 1,\n",
        "                            embedding_dim,\n",
        "                            weights=[embedding_matrix],\n",
        "                            trainable=False) "
      ],
      "execution_count": 27,
      "outputs": []
    },
    {
      "cell_type": "code",
      "metadata": {
        "id": "WqvwDn8TYgdN"
      },
      "source": [
        "import tensorflow as tf "
      ],
      "execution_count": 28,
      "outputs": []
    },
    {
      "cell_type": "code",
      "metadata": {
        "id": "xkbV9g6ZY9Xe"
      },
      "source": [
        "from keras.models import Sequential\n",
        "from keras.layers import Dense, Embedding, GRU, LSTM\n",
        "from keras.layers.embeddings import Embedding\n",
        "from keras.initializers import Constant\n",
        "from keras.callbacks import ModelCheckpoint\n",
        "from keras.models import load_model "
      ],
      "execution_count": 29,
      "outputs": []
    },
    {
      "cell_type": "code",
      "metadata": {
        "colab": {
          "base_uri": "https://localhost:8080/"
        },
        "id": "Y8SyVX9_2hKv",
        "outputId": "fad207d4-bd46-44fb-e9b3-f8e1bead8ff3"
      },
      "source": [
        "print(x_train.shape , y_train.shape)\n",
        "print(x_test.shape, y_test.shape)"
      ],
      "execution_count": 30,
      "outputs": [
        {
          "output_type": "stream",
          "text": [
            "(18812, 768) (18812,)\n",
            "(4704, 768) (4704,)\n"
          ],
          "name": "stdout"
        }
      ]
    },
    {
      "cell_type": "code",
      "metadata": {
        "id": "7cnRZogUYx8w"
      },
      "source": [
        "model_biobert = Sequential()\n",
        "model_biobert.add(embedding_layer) \n",
        "model_biobert.add(LSTM(192))\n",
        "\n",
        "model_biobert.add(Dense(1, activation='sigmoid'))\n",
        "\n",
        "\n",
        "model_biobert.compile(loss='binary_crossentropy', optimizer='adam', metrics=['accuracy'])"
      ],
      "execution_count": 31,
      "outputs": []
    },
    {
      "cell_type": "code",
      "metadata": {
        "colab": {
          "base_uri": "https://localhost:8080/"
        },
        "id": "daTXgwvMY_6b",
        "outputId": "6ba650b3-c846-4079-a37a-3c5d32b2ad9e"
      },
      "source": [
        "history=model_biobert.fit(x_train,y_train, batch_size=500, epochs=10, validation_data=(x_test, y_test),shuffle=True) \n"
      ],
      "execution_count": 32,
      "outputs": [
        {
          "output_type": "stream",
          "text": [
            "Epoch 1/10\n",
            "38/38 [==============================] - 1107s 28s/step - loss: 0.6595 - accuracy: 0.6889 - val_loss: 0.5731 - val_accuracy: 0.7192\n",
            "Epoch 2/10\n",
            "38/38 [==============================] - 1111s 29s/step - loss: 0.5584 - accuracy: 0.7246 - val_loss: 0.5026 - val_accuracy: 0.7519\n",
            "Epoch 3/10\n",
            "38/38 [==============================] - 1079s 28s/step - loss: 0.4945 - accuracy: 0.7590 - val_loss: 0.4563 - val_accuracy: 0.7832\n",
            "Epoch 4/10\n",
            "38/38 [==============================] - 1110s 29s/step - loss: 0.4582 - accuracy: 0.7841 - val_loss: 0.4437 - val_accuracy: 0.7957\n",
            "Epoch 5/10\n",
            "38/38 [==============================] - 1067s 28s/step - loss: 0.4419 - accuracy: 0.7908 - val_loss: 0.4258 - val_accuracy: 0.8048\n",
            "Epoch 6/10\n",
            "38/38 [==============================] - 1056s 28s/step - loss: 0.4257 - accuracy: 0.8064 - val_loss: 0.4089 - val_accuracy: 0.8138\n",
            "Epoch 7/10\n",
            "38/38 [==============================] - 1056s 28s/step - loss: 0.4055 - accuracy: 0.8153 - val_loss: 0.4031 - val_accuracy: 0.8142\n",
            "Epoch 8/10\n",
            "38/38 [==============================] - 1095s 29s/step - loss: 0.3956 - accuracy: 0.8214 - val_loss: 0.4137 - val_accuracy: 0.8125\n",
            "Epoch 9/10\n",
            "38/38 [==============================] - 1049s 28s/step - loss: 0.3852 - accuracy: 0.8288 - val_loss: 0.3813 - val_accuracy: 0.8314\n",
            "Epoch 10/10\n",
            "38/38 [==============================] - 1071s 28s/step - loss: 0.3701 - accuracy: 0.8369 - val_loss: 0.3761 - val_accuracy: 0.8310\n"
          ],
          "name": "stdout"
        }
      ]
    },
    {
      "cell_type": "code",
      "metadata": {
        "id": "Hw4aNcn-kA_m"
      },
      "source": [
        "import matplotlib.pyplot as plt "
      ],
      "execution_count": 33,
      "outputs": []
    },
    {
      "cell_type": "code",
      "metadata": {
        "colab": {
          "base_uri": "https://localhost:8080/",
          "height": 295
        },
        "id": "Oze25eNqj_8L",
        "outputId": "7f9e9735-8674-43af-d980-4f1527b16ecd"
      },
      "source": [
        "plt.plot(history.history['loss'])\n",
        "plt.plot(history.history['val_loss'])\n",
        "plt.title('model loss')\n",
        "plt.ylabel('loss')\n",
        "plt.xlabel('epoch')\n",
        "plt.legend(['train', 'validation'])\n",
        "plt.show() "
      ],
      "execution_count": 34,
      "outputs": [
        {
          "output_type": "display_data",
          "data": {
            "image/png": "[encoded data removed]",
            "text/plain": [
              "<Figure size 432x288 with 1 Axes>"
            ]
          },
          "metadata": {
            "tags": [],
            "needs_background": "light"
          }
        }
      ]
    },
    {
      "cell_type": "code",
      "metadata": {
        "colab": {
          "base_uri": "https://localhost:8080/"
        },
        "id": "uXtedvwHlcju",
        "outputId": "88512226-967d-4615-f83d-478e6e6ef1ae"
      },
      "source": [
        "y_pred = model_biobert.predict_classes(x_test)"
      ],
      "execution_count": 35,
      "outputs": [
        {
          "output_type": "stream",
          "text": [
            "/usr/local/lib/python3.7/dist-packages/keras/engine/sequential.py:450: UserWarning: `model.predict_classes()` is deprecated and will be removed after 2021-01-01. Please use instead:* `np.argmax(model.predict(x), axis=-1)`,   if your model does multi-class classification   (e.g. if it uses a `softmax` last-layer activation).* `(model.predict(x) > 0.5).astype(\"int32\")`,   if your model does binary classification   (e.g. if it uses a `sigmoid` last-layer activation).\n",
            "  warnings.warn('`model.predict_classes()` is deprecated and '\n"
          ],
          "name": "stderr"
        }
      ]
    },
    {
      "cell_type": "code",
      "metadata": {
        "id": "Q7MKUHxTlhDM"
      },
      "source": [
        "from sklearn.metrics import confusion_matrix,classification_report"
      ],
      "execution_count": 36,
      "outputs": []
    },
    {
      "cell_type": "code",
      "metadata": {
        "colab": {
          "base_uri": "https://localhost:8080/"
        },
        "id": "CyBSMFGKmTzd",
        "outputId": "2b70c9ce-cb1b-4ff9-921d-4f1cfafbbf7c"
      },
      "source": [
        "print(confusion_matrix(y_test,y_pred))"
      ],
      "execution_count": 37,
      "outputs": [
        {
          "output_type": "stream",
          "text": [
            "[[3133  227]\n",
            " [ 568  776]]\n"
          ],
          "name": "stdout"
        }
      ]
    },
    {
      "cell_type": "code",
      "metadata": {
        "colab": {
          "base_uri": "https://localhost:8080/"
        },
        "id": "0X3EdryPmgWy",
        "outputId": "2a7f52b1-4ff6-418e-ad20-9090b940e1a1"
      },
      "source": [
        "print(classification_report(y_test,y_pred))"
      ],
      "execution_count": 38,
      "outputs": [
        {
          "output_type": "stream",
          "text": [
            "              precision    recall  f1-score   support\n",
            "\n",
            "           0       0.85      0.93      0.89      3360\n",
            "           1       0.77      0.58      0.66      1344\n",
            "\n",
            "    accuracy                           0.83      4704\n",
            "   macro avg       0.81      0.75      0.77      4704\n",
            "weighted avg       0.83      0.83      0.82      4704\n",
            "\n"
          ],
          "name": "stdout"
        }
      ]
    }
  ]
}