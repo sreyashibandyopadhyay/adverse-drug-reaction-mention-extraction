{
  "nbformat": 4,
  "nbformat_minor": 0,
  "metadata": {
    "colab": {
      "name": "countvec_ade_smote.ipynb",
      "provenance": [],
      "collapsed_sections": []
    },
    "kernelspec": {
      "name": "python3",
      "display_name": "Python 3"
    },
    "language_info": {
      "name": "python"
    }
  },
  "cells": [
    {
      "cell_type": "code",
      "metadata": {
        "id": "eEt0Mv23FeH1"
      },
      "source": [
        "import numpy as np\n",
        "import pandas as pd \n",
        " \n"
      ],
      "execution_count": 1,
      "outputs": []
    },
    {
      "cell_type": "code",
      "metadata": {
        "id": "UWSrxTutFqj_"
      },
      "source": [
        "result=pd.read_csv(\"/content/preprocessed_ade.csv\") "
      ],
      "execution_count": 2,
      "outputs": []
    },
    {
      "cell_type": "code",
      "metadata": {
        "colab": {
          "base_uri": "https://localhost:8080/",
          "height": 402
        },
        "id": "0FzHXVcJF57x",
        "outputId": "d9f5c28e-9100-4307-daa4-648527cdaeeb"
      },
      "source": [
        "result"
      ],
      "execution_count": 3,
      "outputs": [
        {
          "output_type": "execute_result",
          "data": {
            "text/html": [
              "<div>\n",
              "<style scoped>\n",
              "    .dataframe tbody tr th:only-of-type {\n",
              "        vertical-align: middle;\n",
              "    }\n",
              "\n",
              "    .dataframe tbody tr th {\n",
              "        vertical-align: top;\n",
              "    }\n",
              "\n",
              "    .dataframe thead th {\n",
              "        text-align: right;\n",
              "    }\n",
              "</style>\n",
              "<table border=\"1\" class=\"dataframe\">\n",
              "  <thead>\n",
              "    <tr style=\"text-align: right;\">\n",
              "      <th></th>\n",
              "      <th>Unnamed: 0</th>\n",
              "      <th>observation</th>\n",
              "      <th>labels</th>\n",
              "    </tr>\n",
              "  </thead>\n",
              "  <tbody>\n",
              "    <tr>\n",
              "      <th>0</th>\n",
              "      <td>12606</td>\n",
              "      <td>early phase ii semi double blind study of the ...</td>\n",
              "      <td>0</td>\n",
              "    </tr>\n",
              "    <tr>\n",
              "      <th>1</th>\n",
              "      <td>685</td>\n",
              "      <td>cessation of mtx therapy led to complete regre...</td>\n",
              "      <td>0</td>\n",
              "    </tr>\n",
              "    <tr>\n",
              "      <th>2</th>\n",
              "      <td>5127</td>\n",
              "      <td>cutaneous biopsy showed hyphae and round inclu...</td>\n",
              "      <td>0</td>\n",
              "    </tr>\n",
              "    <tr>\n",
              "      <th>3</th>\n",
              "      <td>3158</td>\n",
              "      <td>she was treated with acyclovir and subsequentl...</td>\n",
              "      <td>1</td>\n",
              "    </tr>\n",
              "    <tr>\n",
              "      <th>4</th>\n",
              "      <td>10685</td>\n",
              "      <td>cisplatin was substituted and the patient achi...</td>\n",
              "      <td>0</td>\n",
              "    </tr>\n",
              "    <tr>\n",
              "      <th>...</th>\n",
              "      <td>...</td>\n",
              "      <td>...</td>\n",
              "      <td>...</td>\n",
              "    </tr>\n",
              "    <tr>\n",
              "      <th>23511</th>\n",
              "      <td>982</td>\n",
              "      <td>ticlopidine induced aplastic anemia  two new c...</td>\n",
              "      <td>1</td>\n",
              "    </tr>\n",
              "    <tr>\n",
              "      <th>23512</th>\n",
              "      <td>14487</td>\n",
              "      <td>the risks of sumatriptan administration in pat...</td>\n",
              "      <td>0</td>\n",
              "    </tr>\n",
              "    <tr>\n",
              "      <th>23513</th>\n",
              "      <td>4680</td>\n",
              "      <td>however   the spectrum of hosts and clinical p...</td>\n",
              "      <td>0</td>\n",
              "    </tr>\n",
              "    <tr>\n",
              "      <th>23514</th>\n",
              "      <td>2588</td>\n",
              "      <td>antibiotic treatment should be continued</td>\n",
              "      <td>0</td>\n",
              "    </tr>\n",
              "    <tr>\n",
              "      <th>23515</th>\n",
              "      <td>6571</td>\n",
              "      <td>in case     a total daily dose of    mg sertra...</td>\n",
              "      <td>1</td>\n",
              "    </tr>\n",
              "  </tbody>\n",
              "</table>\n",
              "<p>23516 rows × 3 columns</p>\n",
              "</div>"
            ],
            "text/plain": [
              "       Unnamed: 0                                        observation  labels\n",
              "0           12606  early phase ii semi double blind study of the ...       0\n",
              "1             685  cessation of mtx therapy led to complete regre...       0\n",
              "2            5127  cutaneous biopsy showed hyphae and round inclu...       0\n",
              "3            3158  she was treated with acyclovir and subsequentl...       1\n",
              "4           10685  cisplatin was substituted and the patient achi...       0\n",
              "...           ...                                                ...     ...\n",
              "23511         982  ticlopidine induced aplastic anemia  two new c...       1\n",
              "23512       14487  the risks of sumatriptan administration in pat...       0\n",
              "23513        4680  however   the spectrum of hosts and clinical p...       0\n",
              "23514        2588           antibiotic treatment should be continued       0\n",
              "23515        6571  in case     a total daily dose of    mg sertra...       1\n",
              "\n",
              "[23516 rows x 3 columns]"
            ]
          },
          "metadata": {
            "tags": []
          },
          "execution_count": 3
        }
      ]
    },
    {
      "cell_type": "code",
      "metadata": {
        "id": "-k8XeK0ni8RV"
      },
      "source": [
        "validation_data = result.sample(frac = 0.2)\n",
        "result=result.drop(validation_data.index) "
      ],
      "execution_count": 4,
      "outputs": []
    },
    {
      "cell_type": "code",
      "metadata": {
        "colab": {
          "base_uri": "https://localhost:8080/",
          "height": 402
        },
        "id": "3Rx-NcgLjCv3",
        "outputId": "5ab3ab74-7535-4eb3-bc04-25f13ea2a97d"
      },
      "source": [
        "validation_data"
      ],
      "execution_count": 5,
      "outputs": [
        {
          "output_type": "execute_result",
          "data": {
            "text/html": [
              "<div>\n",
              "<style scoped>\n",
              "    .dataframe tbody tr th:only-of-type {\n",
              "        vertical-align: middle;\n",
              "    }\n",
              "\n",
              "    .dataframe tbody tr th {\n",
              "        vertical-align: top;\n",
              "    }\n",
              "\n",
              "    .dataframe thead th {\n",
              "        text-align: right;\n",
              "    }\n",
              "</style>\n",
              "<table border=\"1\" class=\"dataframe\">\n",
              "  <thead>\n",
              "    <tr style=\"text-align: right;\">\n",
              "      <th></th>\n",
              "      <th>Unnamed: 0</th>\n",
              "      <th>observation</th>\n",
              "      <th>labels</th>\n",
              "    </tr>\n",
              "  </thead>\n",
              "  <tbody>\n",
              "    <tr>\n",
              "      <th>3325</th>\n",
              "      <td>13279</td>\n",
              "      <td>the discontinuation of heavy caffeine intake a...</td>\n",
              "      <td>0</td>\n",
              "    </tr>\n",
              "    <tr>\n",
              "      <th>2706</th>\n",
              "      <td>232</td>\n",
              "      <td>repeat neuropsychological testing   weeks afte...</td>\n",
              "      <td>0</td>\n",
              "    </tr>\n",
              "    <tr>\n",
              "      <th>21235</th>\n",
              "      <td>8202</td>\n",
              "      <td>the isotretinoin   a    cis retinoic acid   ha...</td>\n",
              "      <td>0</td>\n",
              "    </tr>\n",
              "    <tr>\n",
              "      <th>13048</th>\n",
              "      <td>13408</td>\n",
              "      <td>it cannot be assumed that the development of a...</td>\n",
              "      <td>0</td>\n",
              "    </tr>\n",
              "    <tr>\n",
              "      <th>4129</th>\n",
              "      <td>6265</td>\n",
              "      <td>this case report stresses the need for control...</td>\n",
              "      <td>0</td>\n",
              "    </tr>\n",
              "    <tr>\n",
              "      <th>...</th>\n",
              "      <td>...</td>\n",
              "      <td>...</td>\n",
              "      <td>...</td>\n",
              "    </tr>\n",
              "    <tr>\n",
              "      <th>7296</th>\n",
              "      <td>1261</td>\n",
              "      <td>we report in detail an unusual adverse reactio...</td>\n",
              "      <td>1</td>\n",
              "    </tr>\n",
              "    <tr>\n",
              "      <th>19779</th>\n",
              "      <td>4466</td>\n",
              "      <td>myoclonic spasms following intrathecal morphine</td>\n",
              "      <td>1</td>\n",
              "    </tr>\n",
              "    <tr>\n",
              "      <th>13154</th>\n",
              "      <td>8760</td>\n",
              "      <td>eleven consecutive jw adult patients with acut...</td>\n",
              "      <td>0</td>\n",
              "    </tr>\n",
              "    <tr>\n",
              "      <th>14410</th>\n",
              "      <td>3540</td>\n",
              "      <td>thalidomide as elective treatment in persisten...</td>\n",
              "      <td>0</td>\n",
              "    </tr>\n",
              "    <tr>\n",
              "      <th>1229</th>\n",
              "      <td>2388</td>\n",
              "      <td>lack of experience with patient reporting in r...</td>\n",
              "      <td>0</td>\n",
              "    </tr>\n",
              "  </tbody>\n",
              "</table>\n",
              "<p>4703 rows × 3 columns</p>\n",
              "</div>"
            ],
            "text/plain": [
              "       Unnamed: 0                                        observation  labels\n",
              "3325        13279  the discontinuation of heavy caffeine intake a...       0\n",
              "2706          232  repeat neuropsychological testing   weeks afte...       0\n",
              "21235        8202  the isotretinoin   a    cis retinoic acid   ha...       0\n",
              "13048       13408  it cannot be assumed that the development of a...       0\n",
              "4129         6265  this case report stresses the need for control...       0\n",
              "...           ...                                                ...     ...\n",
              "7296         1261  we report in detail an unusual adverse reactio...       1\n",
              "19779        4466    myoclonic spasms following intrathecal morphine       1\n",
              "13154        8760  eleven consecutive jw adult patients with acut...       0\n",
              "14410        3540  thalidomide as elective treatment in persisten...       0\n",
              "1229         2388  lack of experience with patient reporting in r...       0\n",
              "\n",
              "[4703 rows x 3 columns]"
            ]
          },
          "metadata": {
            "tags": []
          },
          "execution_count": 5
        }
      ]
    },
    {
      "cell_type": "code",
      "metadata": {
        "colab": {
          "base_uri": "https://localhost:8080/",
          "height": 402
        },
        "id": "HOHFHubWjOiE",
        "outputId": "f7a90e03-0d36-4431-aa49-90f6e7aaab71"
      },
      "source": [
        "result "
      ],
      "execution_count": 6,
      "outputs": [
        {
          "output_type": "execute_result",
          "data": {
            "text/html": [
              "<div>\n",
              "<style scoped>\n",
              "    .dataframe tbody tr th:only-of-type {\n",
              "        vertical-align: middle;\n",
              "    }\n",
              "\n",
              "    .dataframe tbody tr th {\n",
              "        vertical-align: top;\n",
              "    }\n",
              "\n",
              "    .dataframe thead th {\n",
              "        text-align: right;\n",
              "    }\n",
              "</style>\n",
              "<table border=\"1\" class=\"dataframe\">\n",
              "  <thead>\n",
              "    <tr style=\"text-align: right;\">\n",
              "      <th></th>\n",
              "      <th>Unnamed: 0</th>\n",
              "      <th>observation</th>\n",
              "      <th>labels</th>\n",
              "    </tr>\n",
              "  </thead>\n",
              "  <tbody>\n",
              "    <tr>\n",
              "      <th>0</th>\n",
              "      <td>12606</td>\n",
              "      <td>early phase ii semi double blind study of the ...</td>\n",
              "      <td>0</td>\n",
              "    </tr>\n",
              "    <tr>\n",
              "      <th>3</th>\n",
              "      <td>3158</td>\n",
              "      <td>she was treated with acyclovir and subsequentl...</td>\n",
              "      <td>1</td>\n",
              "    </tr>\n",
              "    <tr>\n",
              "      <th>5</th>\n",
              "      <td>15871</td>\n",
              "      <td>severe hypomagnesemia occurred in this patient...</td>\n",
              "      <td>0</td>\n",
              "    </tr>\n",
              "    <tr>\n",
              "      <th>6</th>\n",
              "      <td>7601</td>\n",
              "      <td>so he underwent surgical treatment</td>\n",
              "      <td>0</td>\n",
              "    </tr>\n",
              "    <tr>\n",
              "      <th>7</th>\n",
              "      <td>1374</td>\n",
              "      <td>one case presented with stevens johnson syndro...</td>\n",
              "      <td>0</td>\n",
              "    </tr>\n",
              "    <tr>\n",
              "      <th>...</th>\n",
              "      <td>...</td>\n",
              "      <td>...</td>\n",
              "      <td>...</td>\n",
              "    </tr>\n",
              "    <tr>\n",
              "      <th>23511</th>\n",
              "      <td>982</td>\n",
              "      <td>ticlopidine induced aplastic anemia  two new c...</td>\n",
              "      <td>1</td>\n",
              "    </tr>\n",
              "    <tr>\n",
              "      <th>23512</th>\n",
              "      <td>14487</td>\n",
              "      <td>the risks of sumatriptan administration in pat...</td>\n",
              "      <td>0</td>\n",
              "    </tr>\n",
              "    <tr>\n",
              "      <th>23513</th>\n",
              "      <td>4680</td>\n",
              "      <td>however   the spectrum of hosts and clinical p...</td>\n",
              "      <td>0</td>\n",
              "    </tr>\n",
              "    <tr>\n",
              "      <th>23514</th>\n",
              "      <td>2588</td>\n",
              "      <td>antibiotic treatment should be continued</td>\n",
              "      <td>0</td>\n",
              "    </tr>\n",
              "    <tr>\n",
              "      <th>23515</th>\n",
              "      <td>6571</td>\n",
              "      <td>in case     a total daily dose of    mg sertra...</td>\n",
              "      <td>1</td>\n",
              "    </tr>\n",
              "  </tbody>\n",
              "</table>\n",
              "<p>18813 rows × 3 columns</p>\n",
              "</div>"
            ],
            "text/plain": [
              "       Unnamed: 0                                        observation  labels\n",
              "0           12606  early phase ii semi double blind study of the ...       0\n",
              "3            3158  she was treated with acyclovir and subsequentl...       1\n",
              "5           15871  severe hypomagnesemia occurred in this patient...       0\n",
              "6            7601                 so he underwent surgical treatment       0\n",
              "7            1374  one case presented with stevens johnson syndro...       0\n",
              "...           ...                                                ...     ...\n",
              "23511         982  ticlopidine induced aplastic anemia  two new c...       1\n",
              "23512       14487  the risks of sumatriptan administration in pat...       0\n",
              "23513        4680  however   the spectrum of hosts and clinical p...       0\n",
              "23514        2588           antibiotic treatment should be continued       0\n",
              "23515        6571  in case     a total daily dose of    mg sertra...       1\n",
              "\n",
              "[18813 rows x 3 columns]"
            ]
          },
          "metadata": {
            "tags": []
          },
          "execution_count": 6
        }
      ]
    },
    {
      "cell_type": "code",
      "metadata": {
        "id": "-AW-0si1F8TP"
      },
      "source": [
        "#count vectorizing "
      ],
      "execution_count": 7,
      "outputs": []
    },
    {
      "cell_type": "code",
      "metadata": {
        "id": "0lrXE6hJGKki"
      },
      "source": [
        "from sklearn.feature_extraction.text import CountVectorizer "
      ],
      "execution_count": 8,
      "outputs": []
    },
    {
      "cell_type": "code",
      "metadata": {
        "id": "w65lM8LUGNEo"
      },
      "source": [
        "cv = CountVectorizer(max_features=500)\n",
        "x= cv.fit_transform(result['observation']).toarray() "
      ],
      "execution_count": 9,
      "outputs": []
    },
    {
      "cell_type": "code",
      "metadata": {
        "id": "YNUdcs6gGhD3"
      },
      "source": [
        "y=result['labels']"
      ],
      "execution_count": 10,
      "outputs": []
    },
    {
      "cell_type": "code",
      "metadata": {
        "colab": {
          "base_uri": "https://localhost:8080/"
        },
        "id": "3PDh3ZcQucFF",
        "outputId": "0130e822-3811-48a0-9b48-e813a522cd1a"
      },
      "source": [
        "result['labels'].value_counts() "
      ],
      "execution_count": 11,
      "outputs": [
        {
          "output_type": "execute_result",
          "data": {
            "text/plain": [
              "0    13335\n",
              "1     5478\n",
              "Name: labels, dtype: int64"
            ]
          },
          "metadata": {
            "tags": []
          },
          "execution_count": 11
        }
      ]
    },
    {
      "cell_type": "code",
      "metadata": {
        "colab": {
          "base_uri": "https://localhost:8080/"
        },
        "id": "oCaH-7V7Xw3V",
        "outputId": "14cfe9ac-29c6-468a-c79d-4885454de0d9"
      },
      "source": [
        "pip install -U imbalanced-learn"
      ],
      "execution_count": 12,
      "outputs": [
        {
          "output_type": "stream",
          "text": [
            "Requirement already up-to-date: imbalanced-learn in /usr/local/lib/python3.7/dist-packages (0.8.0)\n",
            "Requirement already satisfied, skipping upgrade: numpy>=1.13.3 in /usr/local/lib/python3.7/dist-packages (from imbalanced-learn) (1.19.5)\n",
            "Requirement already satisfied, skipping upgrade: scikit-learn>=0.24 in /usr/local/lib/python3.7/dist-packages (from imbalanced-learn) (0.24.2)\n",
            "Requirement already satisfied, skipping upgrade: joblib>=0.11 in /usr/local/lib/python3.7/dist-packages (from imbalanced-learn) (1.0.1)\n",
            "Requirement already satisfied, skipping upgrade: scipy>=0.19.1 in /usr/local/lib/python3.7/dist-packages (from imbalanced-learn) (1.4.1)\n",
            "Requirement already satisfied, skipping upgrade: threadpoolctl>=2.0.0 in /usr/local/lib/python3.7/dist-packages (from scikit-learn>=0.24->imbalanced-learn) (2.1.0)\n"
          ],
          "name": "stdout"
        }
      ]
    },
    {
      "cell_type": "markdown",
      "metadata": {
        "id": "_qHiNhpPcyLd"
      },
      "source": [
        "**SMOTE**"
      ]
    },
    {
      "cell_type": "code",
      "metadata": {
        "id": "AIMWTPc0X2b5"
      },
      "source": [
        "from imblearn.over_sampling import SMOTE "
      ],
      "execution_count": 13,
      "outputs": []
    },
    {
      "cell_type": "code",
      "metadata": {
        "id": "AbrGy2INX21U"
      },
      "source": [
        "smote = SMOTE(random_state = 2021)\n",
        "x, y = smote.fit_resample(x,y)"
      ],
      "execution_count": 14,
      "outputs": []
    },
    {
      "cell_type": "code",
      "metadata": {
        "colab": {
          "base_uri": "https://localhost:8080/"
        },
        "id": "EJK4A2vHcgs-",
        "outputId": "0bd17640-eaaf-4dbe-f078-c46e4426afaa"
      },
      "source": [
        "x.shape"
      ],
      "execution_count": 15,
      "outputs": [
        {
          "output_type": "execute_result",
          "data": {
            "text/plain": [
              "(26670, 500)"
            ]
          },
          "metadata": {
            "tags": []
          },
          "execution_count": 15
        }
      ]
    },
    {
      "cell_type": "code",
      "metadata": {
        "colab": {
          "base_uri": "https://localhost:8080/"
        },
        "id": "qb-K103eckYo",
        "outputId": "5fcc4bad-4557-4ffc-b325-094d73570dd2"
      },
      "source": [
        "y.shape "
      ],
      "execution_count": 16,
      "outputs": [
        {
          "output_type": "execute_result",
          "data": {
            "text/plain": [
              "(26670,)"
            ]
          },
          "metadata": {
            "tags": []
          },
          "execution_count": 16
        }
      ]
    },
    {
      "cell_type": "code",
      "metadata": {
        "colab": {
          "base_uri": "https://localhost:8080/"
        },
        "id": "Kd0dR5d8GLPh",
        "outputId": "4bc527f1-984a-43da-b6e7-08790c99d3b2"
      },
      "source": [
        "zerocount=0\n",
        "onecount=0\n",
        "for i in y:\n",
        "  if i == 0:\n",
        "    zerocount+=1\n",
        "  else:\n",
        "    onecount+=1\n",
        "print(\"no of negative sample in training class is:\",zerocount)\n",
        "print(\"no of positive sample in training class is:\",onecount)"
      ],
      "execution_count": 17,
      "outputs": [
        {
          "output_type": "stream",
          "text": [
            "no of negative sample in training class is: 13335\n",
            "no of positive sample in training class is: 13335\n"
          ],
          "name": "stdout"
        }
      ]
    },
    {
      "cell_type": "markdown",
      "metadata": {
        "id": "9EFr8idlj-VF"
      },
      "source": [
        "**Creating validation data** "
      ]
    },
    {
      "cell_type": "code",
      "metadata": {
        "id": "13kBK9sKkGt9"
      },
      "source": [
        "x_val = cv.fit_transform(validation_data['observation']).toarray() "
      ],
      "execution_count": 18,
      "outputs": []
    },
    {
      "cell_type": "code",
      "metadata": {
        "id": "ESAUKJ9CkUkD"
      },
      "source": [
        "y_val = validation_data['labels']"
      ],
      "execution_count": 19,
      "outputs": []
    },
    {
      "cell_type": "code",
      "metadata": {
        "colab": {
          "base_uri": "https://localhost:8080/"
        },
        "id": "pIDUEu2L6MjT",
        "outputId": "e129cf03-1c0c-444b-c50d-c3972bd923ba"
      },
      "source": [
        "print(x_val.shape)\n",
        "print(y_val.shape)"
      ],
      "execution_count": 20,
      "outputs": [
        {
          "output_type": "stream",
          "text": [
            "(4703, 500)\n",
            "(4703,)\n"
          ],
          "name": "stdout"
        }
      ]
    },
    {
      "cell_type": "markdown",
      "metadata": {
        "id": "evm7USutG7Xu"
      },
      "source": [
        "**LOGISTIC REGRESSION**"
      ]
    },
    {
      "cell_type": "code",
      "metadata": {
        "id": "yjkTdxf7HDLh"
      },
      "source": [
        "from sklearn.linear_model import LogisticRegression "
      ],
      "execution_count": 21,
      "outputs": []
    },
    {
      "cell_type": "code",
      "metadata": {
        "id": "ebdBEGpJHX3e"
      },
      "source": [
        "log_model=LogisticRegression(max_iter=1000)"
      ],
      "execution_count": 22,
      "outputs": []
    },
    {
      "cell_type": "code",
      "metadata": {
        "colab": {
          "base_uri": "https://localhost:8080/"
        },
        "id": "AiW8V7NVHaDd",
        "outputId": "fdede669-f29f-4ad1-9e54-eb5944dbfbfe"
      },
      "source": [
        "log_model.fit(x,y)"
      ],
      "execution_count": 23,
      "outputs": [
        {
          "output_type": "execute_result",
          "data": {
            "text/plain": [
              "LogisticRegression(max_iter=1000)"
            ]
          },
          "metadata": {
            "tags": []
          },
          "execution_count": 23
        }
      ]
    },
    {
      "cell_type": "code",
      "metadata": {
        "id": "lvUgyI1gHdX9"
      },
      "source": [
        "log_y_pred=log_model.predict(x_val)"
      ],
      "execution_count": 24,
      "outputs": []
    },
    {
      "cell_type": "code",
      "metadata": {
        "id": "JN_Lu6ubHn0U"
      },
      "source": [
        "from sklearn.metrics import confusion_matrix,classification_report"
      ],
      "execution_count": 25,
      "outputs": []
    },
    {
      "cell_type": "code",
      "metadata": {
        "colab": {
          "base_uri": "https://localhost:8080/"
        },
        "id": "dGWUcTpYH-hS",
        "outputId": "03f4a103-4984-4191-ccbc-0b121388f8da"
      },
      "source": [
        "print(confusion_matrix(y_val,log_y_pred))"
      ],
      "execution_count": 26,
      "outputs": [
        {
          "output_type": "stream",
          "text": [
            "[[2846  514]\n",
            " [1137  206]]\n"
          ],
          "name": "stdout"
        }
      ]
    },
    {
      "cell_type": "code",
      "metadata": {
        "colab": {
          "base_uri": "https://localhost:8080/"
        },
        "id": "mIqhdm_ZIBDM",
        "outputId": "3b46885e-5916-42eb-d1f4-9899e9822497"
      },
      "source": [
        "print((classification_report(y_val,log_y_pred)))"
      ],
      "execution_count": 27,
      "outputs": [
        {
          "output_type": "stream",
          "text": [
            "              precision    recall  f1-score   support\n",
            "\n",
            "           0       0.71      0.85      0.78      3360\n",
            "           1       0.29      0.15      0.20      1343\n",
            "\n",
            "    accuracy                           0.65      4703\n",
            "   macro avg       0.50      0.50      0.49      4703\n",
            "weighted avg       0.59      0.65      0.61      4703\n",
            "\n"
          ],
          "name": "stdout"
        }
      ]
    },
    {
      "cell_type": "code",
      "metadata": {
        "id": "j2A96gy-JGwU"
      },
      "source": [
        "#training accuracy "
      ],
      "execution_count": 28,
      "outputs": []
    },
    {
      "cell_type": "code",
      "metadata": {
        "id": "-tVYOsK0HnRP"
      },
      "source": [
        "from sklearn.metrics import accuracy_score"
      ],
      "execution_count": 29,
      "outputs": []
    },
    {
      "cell_type": "code",
      "metadata": {
        "id": "e9av8NSlHnYd"
      },
      "source": [
        "log_y_pred_train = log_model.predict(x)"
      ],
      "execution_count": 30,
      "outputs": []
    },
    {
      "cell_type": "code",
      "metadata": {
        "colab": {
          "base_uri": "https://localhost:8080/"
        },
        "id": "dIaHM3Y3H4Op",
        "outputId": "c1c2dc31-d0c4-4eb0-c30b-596be24ff2a2"
      },
      "source": [
        "accuracy_score(y,log_y_pred_train) "
      ],
      "execution_count": 31,
      "outputs": [
        {
          "output_type": "execute_result",
          "data": {
            "text/plain": [
              "0.8243344581927259"
            ]
          },
          "metadata": {
            "tags": []
          },
          "execution_count": 31
        }
      ]
    },
    {
      "cell_type": "markdown",
      "metadata": {
        "id": "q0coHauAISs6"
      },
      "source": [
        "**DECISION TREE**"
      ]
    },
    {
      "cell_type": "code",
      "metadata": {
        "id": "zmXA_p1rIYjv"
      },
      "source": [
        "from sklearn.tree import DecisionTreeClassifier"
      ],
      "execution_count": 32,
      "outputs": []
    },
    {
      "cell_type": "code",
      "metadata": {
        "id": "8e7ZLzx0Iqzm"
      },
      "source": [
        "dt_model=DecisionTreeClassifier(max_depth=5)"
      ],
      "execution_count": 33,
      "outputs": []
    },
    {
      "cell_type": "code",
      "metadata": {
        "colab": {
          "base_uri": "https://localhost:8080/"
        },
        "id": "7u2pqi3lItN0",
        "outputId": "cea128d4-89db-4e4a-c80e-c008b71dacbd"
      },
      "source": [
        "dt_model.fit(x,y) "
      ],
      "execution_count": 34,
      "outputs": [
        {
          "output_type": "execute_result",
          "data": {
            "text/plain": [
              "DecisionTreeClassifier(max_depth=5)"
            ]
          },
          "metadata": {
            "tags": []
          },
          "execution_count": 34
        }
      ]
    },
    {
      "cell_type": "code",
      "metadata": {
        "id": "AQrzOzZoIxpr"
      },
      "source": [
        "dt_pred=dt_model.predict(x_val)"
      ],
      "execution_count": 35,
      "outputs": []
    },
    {
      "cell_type": "code",
      "metadata": {
        "colab": {
          "base_uri": "https://localhost:8080/"
        },
        "id": "27_N2gFlI179",
        "outputId": "afc3e83b-ca7a-49ec-b295-fae979f8e895"
      },
      "source": [
        "print(classification_report(y_val,dt_pred))"
      ],
      "execution_count": 36,
      "outputs": [
        {
          "output_type": "stream",
          "text": [
            "              precision    recall  f1-score   support\n",
            "\n",
            "           0       0.73      0.94      0.82      3360\n",
            "           1       0.49      0.14      0.21      1343\n",
            "\n",
            "    accuracy                           0.71      4703\n",
            "   macro avg       0.61      0.54      0.52      4703\n",
            "weighted avg       0.66      0.71      0.65      4703\n",
            "\n"
          ],
          "name": "stdout"
        }
      ]
    },
    {
      "cell_type": "code",
      "metadata": {
        "colab": {
          "base_uri": "https://localhost:8080/"
        },
        "id": "a-zfDKlTI62n",
        "outputId": "31595151-fc7b-44e1-aaa1-07b5d18bcaee"
      },
      "source": [
        "print(confusion_matrix(y_val,dt_pred))"
      ],
      "execution_count": 37,
      "outputs": [
        {
          "output_type": "stream",
          "text": [
            "[[3166  194]\n",
            " [1159  184]]\n"
          ],
          "name": "stdout"
        }
      ]
    },
    {
      "cell_type": "code",
      "metadata": {
        "id": "AAtCIcQhJZYu"
      },
      "source": [
        "#training error "
      ],
      "execution_count": 38,
      "outputs": []
    },
    {
      "cell_type": "code",
      "metadata": {
        "id": "aWuQShtIJbdx"
      },
      "source": [
        "dt_pred_train = dt_model.predict(x)"
      ],
      "execution_count": 39,
      "outputs": []
    },
    {
      "cell_type": "code",
      "metadata": {
        "colab": {
          "base_uri": "https://localhost:8080/"
        },
        "id": "1b1UmkABJbhW",
        "outputId": "ebb2c320-7941-4639-bf9f-b3e434e13c28"
      },
      "source": [
        "accuracy_score(y,dt_pred_train )"
      ],
      "execution_count": 40,
      "outputs": [
        {
          "output_type": "execute_result",
          "data": {
            "text/plain": [
              "0.6419197600299963"
            ]
          },
          "metadata": {
            "tags": []
          },
          "execution_count": 40
        }
      ]
    },
    {
      "cell_type": "markdown",
      "metadata": {
        "id": "J4twOTptNduW"
      },
      "source": [
        "**RANDOM FOREST MODEL**"
      ]
    },
    {
      "cell_type": "code",
      "metadata": {
        "id": "984EU8vzI9PW"
      },
      "source": [
        "from sklearn.ensemble import RandomForestClassifier"
      ],
      "execution_count": 41,
      "outputs": []
    },
    {
      "cell_type": "code",
      "metadata": {
        "id": "HO80Uq2NNsCv"
      },
      "source": [
        "rfc_model=RandomForestClassifier(n_estimators=1000,max_leaf_nodes=80)"
      ],
      "execution_count": 42,
      "outputs": []
    },
    {
      "cell_type": "code",
      "metadata": {
        "colab": {
          "base_uri": "https://localhost:8080/"
        },
        "id": "XNA7lrk-NuUL",
        "outputId": "efe708b2-cc12-4b73-bc5d-fb7b6d09cf8b"
      },
      "source": [
        "rfc_model.fit(x,y)"
      ],
      "execution_count": 43,
      "outputs": [
        {
          "output_type": "execute_result",
          "data": {
            "text/plain": [
              "RandomForestClassifier(max_leaf_nodes=80, n_estimators=1000)"
            ]
          },
          "metadata": {
            "tags": []
          },
          "execution_count": 43
        }
      ]
    },
    {
      "cell_type": "code",
      "metadata": {
        "id": "LVoyPJZjOnSo"
      },
      "source": [
        "rfc_pred=rfc_model.predict(x_val)"
      ],
      "execution_count": 44,
      "outputs": []
    },
    {
      "cell_type": "code",
      "metadata": {
        "colab": {
          "base_uri": "https://localhost:8080/"
        },
        "id": "oYIy71ZXNw5x",
        "outputId": "8ce38345-81c6-4805-a1f5-dd744ef405b5"
      },
      "source": [
        "print(classification_report(y_val,rfc_pred))"
      ],
      "execution_count": 45,
      "outputs": [
        {
          "output_type": "stream",
          "text": [
            "              precision    recall  f1-score   support\n",
            "\n",
            "           0       0.72      0.64      0.68      3360\n",
            "           1       0.30      0.38      0.33      1343\n",
            "\n",
            "    accuracy                           0.57      4703\n",
            "   macro avg       0.51      0.51      0.51      4703\n",
            "weighted avg       0.60      0.57      0.58      4703\n",
            "\n"
          ],
          "name": "stdout"
        }
      ]
    },
    {
      "cell_type": "code",
      "metadata": {
        "colab": {
          "base_uri": "https://localhost:8080/"
        },
        "id": "gm5FYk15OjXa",
        "outputId": "9796952e-463d-4a8c-9573-2fc8dc6a280e"
      },
      "source": [
        "print(confusion_matrix(y_val,rfc_pred))"
      ],
      "execution_count": 46,
      "outputs": [
        {
          "output_type": "stream",
          "text": [
            "[[2158 1202]\n",
            " [ 836  507]]\n"
          ],
          "name": "stdout"
        }
      ]
    },
    {
      "cell_type": "code",
      "metadata": {
        "id": "ZLLGWdb3KoZ_"
      },
      "source": [
        "rfc_train = rfc_model.predict(x) "
      ],
      "execution_count": 47,
      "outputs": []
    },
    {
      "cell_type": "code",
      "metadata": {
        "colab": {
          "base_uri": "https://localhost:8080/"
        },
        "id": "Whu0kT0PKomL",
        "outputId": "c47acdc7-5915-4385-aba9-d041ab2b8111"
      },
      "source": [
        "accuracy_score(y,rfc_train) "
      ],
      "execution_count": 48,
      "outputs": [
        {
          "output_type": "execute_result",
          "data": {
            "text/plain": [
              "0.792275965504312"
            ]
          },
          "metadata": {
            "tags": []
          },
          "execution_count": 48
        }
      ]
    },
    {
      "cell_type": "markdown",
      "metadata": {
        "id": "Vf1v_36HPUga"
      },
      "source": [
        "**NAIVE BAYES MODEL** "
      ]
    },
    {
      "cell_type": "code",
      "metadata": {
        "id": "VfovgfQzParn"
      },
      "source": [
        "from sklearn.naive_bayes import GaussianNB,MultinomialNB"
      ],
      "execution_count": 49,
      "outputs": []
    },
    {
      "cell_type": "code",
      "metadata": {
        "id": "TMGR7op6Py8H"
      },
      "source": [
        "gnb_model=GaussianNB()\n",
        "mnb_model=MultinomialNB()"
      ],
      "execution_count": 50,
      "outputs": []
    },
    {
      "cell_type": "code",
      "metadata": {
        "colab": {
          "base_uri": "https://localhost:8080/"
        },
        "id": "t6fMLPLnP2YR",
        "outputId": "c43178b4-49ca-4521-a512-76061c587cec"
      },
      "source": [
        "gnb_model.fit(x,y)"
      ],
      "execution_count": 51,
      "outputs": [
        {
          "output_type": "execute_result",
          "data": {
            "text/plain": [
              "GaussianNB()"
            ]
          },
          "metadata": {
            "tags": []
          },
          "execution_count": 51
        }
      ]
    },
    {
      "cell_type": "code",
      "metadata": {
        "colab": {
          "base_uri": "https://localhost:8080/"
        },
        "id": "tZYlGUInP4qo",
        "outputId": "7194d966-91fe-4582-d769-2775de6af3fb"
      },
      "source": [
        "mnb_model.fit(x,y)"
      ],
      "execution_count": 52,
      "outputs": [
        {
          "output_type": "execute_result",
          "data": {
            "text/plain": [
              "MultinomialNB()"
            ]
          },
          "metadata": {
            "tags": []
          },
          "execution_count": 52
        }
      ]
    },
    {
      "cell_type": "code",
      "metadata": {
        "id": "FSIZN9HLP769"
      },
      "source": [
        "gnb_pred=gnb_model.predict(x_val)"
      ],
      "execution_count": 53,
      "outputs": []
    },
    {
      "cell_type": "code",
      "metadata": {
        "id": "2o-TiTzoP_7O"
      },
      "source": [
        "mnb_pred=mnb_model.predict(x_val)"
      ],
      "execution_count": 54,
      "outputs": []
    },
    {
      "cell_type": "code",
      "metadata": {
        "id": "4JFJEBmRQCHT"
      },
      "source": [
        "from sklearn.metrics import classification_report "
      ],
      "execution_count": 55,
      "outputs": []
    },
    {
      "cell_type": "code",
      "metadata": {
        "colab": {
          "base_uri": "https://localhost:8080/"
        },
        "id": "07ELTd9nQF7O",
        "outputId": "8c743609-da20-4459-f16f-26882f15707b"
      },
      "source": [
        "print(classification_report(y_val,gnb_pred))"
      ],
      "execution_count": 56,
      "outputs": [
        {
          "output_type": "stream",
          "text": [
            "              precision    recall  f1-score   support\n",
            "\n",
            "           0       0.71      0.87      0.78      3360\n",
            "           1       0.28      0.13      0.17      1343\n",
            "\n",
            "    accuracy                           0.66      4703\n",
            "   macro avg       0.49      0.50      0.48      4703\n",
            "weighted avg       0.59      0.66      0.61      4703\n",
            "\n"
          ],
          "name": "stdout"
        }
      ]
    },
    {
      "cell_type": "code",
      "metadata": {
        "colab": {
          "base_uri": "https://localhost:8080/"
        },
        "id": "Wi7KYdnQUTMo",
        "outputId": "2a6e5379-2b3c-4a75-bf97-8b018c64ad61"
      },
      "source": [
        "print(confusion_matrix(y_val,gnb_pred))"
      ],
      "execution_count": 57,
      "outputs": [
        {
          "output_type": "stream",
          "text": [
            "[[2913  447]\n",
            " [1173  170]]\n"
          ],
          "name": "stdout"
        }
      ]
    },
    {
      "cell_type": "code",
      "metadata": {
        "colab": {
          "base_uri": "https://localhost:8080/"
        },
        "id": "NdTk_2MOQIdX",
        "outputId": "56623fe9-07a8-4765-89e3-4aa0975667e8"
      },
      "source": [
        "print(classification_report(y_val,mnb_pred))"
      ],
      "execution_count": 58,
      "outputs": [
        {
          "output_type": "stream",
          "text": [
            "              precision    recall  f1-score   support\n",
            "\n",
            "           0       0.72      0.87      0.79      3360\n",
            "           1       0.35      0.17      0.23      1343\n",
            "\n",
            "    accuracy                           0.67      4703\n",
            "   macro avg       0.54      0.52      0.51      4703\n",
            "weighted avg       0.62      0.67      0.63      4703\n",
            "\n"
          ],
          "name": "stdout"
        }
      ]
    },
    {
      "cell_type": "code",
      "metadata": {
        "colab": {
          "base_uri": "https://localhost:8080/"
        },
        "id": "Qj4otuguU-4Z",
        "outputId": "d944b448-d655-4641-84d7-4e274640cb16"
      },
      "source": [
        "print(confusion_matrix(y_val,mnb_pred))"
      ],
      "execution_count": 59,
      "outputs": [
        {
          "output_type": "stream",
          "text": [
            "[[2923  437]\n",
            " [1111  232]]\n"
          ],
          "name": "stdout"
        }
      ]
    },
    {
      "cell_type": "code",
      "metadata": {
        "id": "z2dWN0GbVPbB"
      },
      "source": [
        "gnb_train_pred = gnb_model.predict(x)\n",
        "mnb_train_pred = mnb_model.predict(x)\n"
      ],
      "execution_count": 60,
      "outputs": []
    },
    {
      "cell_type": "code",
      "metadata": {
        "colab": {
          "base_uri": "https://localhost:8080/"
        },
        "id": "Pr7Yr9YOVPeo",
        "outputId": "6f6002e2-1f16-44b2-a255-bc01d5f81899"
      },
      "source": [
        "accuracy_score(y,gnb_train_pred)"
      ],
      "execution_count": 61,
      "outputs": [
        {
          "output_type": "execute_result",
          "data": {
            "text/plain": [
              "0.7476190476190476"
            ]
          },
          "metadata": {
            "tags": []
          },
          "execution_count": 61
        }
      ]
    },
    {
      "cell_type": "code",
      "metadata": {
        "colab": {
          "base_uri": "https://localhost:8080/"
        },
        "id": "7E7-zQUfVYtw",
        "outputId": "cd99394c-6aba-4780-d1f6-8dab2eae5c8f"
      },
      "source": [
        "accuracy_score(y,mnb_train_pred)"
      ],
      "execution_count": 62,
      "outputs": [
        {
          "output_type": "execute_result",
          "data": {
            "text/plain": [
              "0.7739782527184103"
            ]
          },
          "metadata": {
            "tags": []
          },
          "execution_count": 62
        }
      ]
    },
    {
      "cell_type": "markdown",
      "metadata": {
        "id": "mx9ByoX9avsU"
      },
      "source": [
        "**XG BOOSTING**"
      ]
    },
    {
      "cell_type": "code",
      "metadata": {
        "colab": {
          "base_uri": "https://localhost:8080/"
        },
        "id": "iJ_0-5-8_TfI",
        "outputId": "cfa13c70-ef0b-4dec-8d88-547359479baf"
      },
      "source": [
        "pip install xgboost"
      ],
      "execution_count": 63,
      "outputs": [
        {
          "output_type": "stream",
          "text": [
            "Requirement already satisfied: xgboost in /usr/local/lib/python3.7/dist-packages (0.90)\n",
            "Requirement already satisfied: scipy in /usr/local/lib/python3.7/dist-packages (from xgboost) (1.4.1)\n",
            "Requirement already satisfied: numpy in /usr/local/lib/python3.7/dist-packages (from xgboost) (1.19.5)\n"
          ],
          "name": "stdout"
        }
      ]
    },
    {
      "cell_type": "code",
      "metadata": {
        "id": "wJ6uNAujCjnM"
      },
      "source": [
        "from xgboost import XGBClassifier"
      ],
      "execution_count": 64,
      "outputs": []
    },
    {
      "cell_type": "code",
      "metadata": {
        "id": "kym7KQCBeTlD"
      },
      "source": [
        "xgb_model=XGBClassifier()"
      ],
      "execution_count": 65,
      "outputs": []
    },
    {
      "cell_type": "code",
      "metadata": {
        "colab": {
          "base_uri": "https://localhost:8080/"
        },
        "id": "i2iSfGCSDJCH",
        "outputId": "ea06c919-1278-4244-d038-224e9bac25e0"
      },
      "source": [
        "xgb_model.fit(x,y)"
      ],
      "execution_count": 66,
      "outputs": [
        {
          "output_type": "execute_result",
          "data": {
            "text/plain": [
              "XGBClassifier()"
            ]
          },
          "metadata": {
            "tags": []
          },
          "execution_count": 66
        }
      ]
    },
    {
      "cell_type": "code",
      "metadata": {
        "id": "DZvSkRShDgsF"
      },
      "source": [
        "xgb_pred = xgb_model.predict(x_val)"
      ],
      "execution_count": 67,
      "outputs": []
    },
    {
      "cell_type": "code",
      "metadata": {
        "colab": {
          "base_uri": "https://localhost:8080/"
        },
        "id": "BK3t3zA6Evrt",
        "outputId": "b111bb2d-2176-4740-e5ce-4a155e992c61"
      },
      "source": [
        "print(classification_report(y_val,xgb_pred))"
      ],
      "execution_count": 68,
      "outputs": [
        {
          "output_type": "stream",
          "text": [
            "              precision    recall  f1-score   support\n",
            "\n",
            "           0       0.74      0.63      0.68      3360\n",
            "           1       0.32      0.44      0.37      1343\n",
            "\n",
            "    accuracy                           0.58      4703\n",
            "   macro avg       0.53      0.54      0.53      4703\n",
            "weighted avg       0.62      0.58      0.59      4703\n",
            "\n"
          ],
          "name": "stdout"
        }
      ]
    },
    {
      "cell_type": "code",
      "metadata": {
        "id": "eNOsj3pWN0vm",
        "colab": {
          "base_uri": "https://localhost:8080/"
        },
        "outputId": "b70fe59c-7e53-4b86-a99d-c21c825e075b"
      },
      "source": [
        "print(confusion_matrix(y_val,xgb_pred))"
      ],
      "execution_count": 69,
      "outputs": [
        {
          "output_type": "stream",
          "text": [
            "[[2130 1230]\n",
            " [ 755  588]]\n"
          ],
          "name": "stdout"
        }
      ]
    },
    {
      "cell_type": "code",
      "metadata": {
        "id": "-UcJNTPLWRDA"
      },
      "source": [
        "xgb_pred_train = xgb_model.predict(x) "
      ],
      "execution_count": 70,
      "outputs": []
    },
    {
      "cell_type": "code",
      "metadata": {
        "colab": {
          "base_uri": "https://localhost:8080/"
        },
        "id": "u0YD42VcWkHa",
        "outputId": "e6188b90-cc4a-4d52-fb9b-4c55c6986f04"
      },
      "source": [
        "accuracy_score(y,xgb_pred_train) "
      ],
      "execution_count": 71,
      "outputs": [
        {
          "output_type": "execute_result",
          "data": {
            "text/plain": [
              "0.7746906636670416"
            ]
          },
          "metadata": {
            "tags": []
          },
          "execution_count": 71
        }
      ]
    },
    {
      "cell_type": "markdown",
      "metadata": {
        "id": "iv9nZ8xUWu2i"
      },
      "source": [
        "**LSTM**"
      ]
    },
    {
      "cell_type": "code",
      "metadata": {
        "colab": {
          "base_uri": "https://localhost:8080/"
        },
        "id": "_G-L0XMOWuNO",
        "outputId": "779498eb-118c-41da-9bbd-d42c81b8aaac"
      },
      "source": [
        "print(x.shape)\n",
        "print(y.shape)\n",
        "print(x_val.shape)\n",
        "print(y_val.shape)"
      ],
      "execution_count": 72,
      "outputs": [
        {
          "output_type": "stream",
          "text": [
            "(26670, 500)\n",
            "(26670,)\n",
            "(4703, 500)\n",
            "(4703,)\n"
          ],
          "name": "stdout"
        }
      ]
    },
    {
      "cell_type": "code",
      "metadata": {
        "id": "0KzrsiJNXvkw"
      },
      "source": [
        "from tensorflow .keras.models import Sequential\n",
        "from tensorflow.keras.layers import Dense,LSTM,Embedding"
      ],
      "execution_count": 73,
      "outputs": []
    },
    {
      "cell_type": "code",
      "metadata": {
        "id": "IwzlijUHX9Fd"
      },
      "source": [
        "import tensorflow as tf "
      ],
      "execution_count": 74,
      "outputs": []
    },
    {
      "cell_type": "code",
      "metadata": {
        "id": "X1iIwYJSWoBd"
      },
      "source": [
        "rnn_model=Sequential()\n",
        "\n",
        "rnn_model.add(Embedding(500, 64, input_length=65))\n",
        "\n",
        "rnn_model.add(LSTM(192))\n",
        "\n",
        "rnn_model.add(Dense(1, activation='sigmoid'))  "
      ],
      "execution_count": 83,
      "outputs": []
    },
    {
      "cell_type": "code",
      "metadata": {
        "id": "BZvLa23vXuo_"
      },
      "source": [
        "rnn_model.compile(optimizer='adam', loss=\"binary_crossentropy\", metrics=['accuracy'])\n"
      ],
      "execution_count": 76,
      "outputs": []
    },
    {
      "cell_type": "code",
      "metadata": {
        "colab": {
          "base_uri": "https://localhost:8080/"
        },
        "id": "-o7J3RhMYE99",
        "outputId": "a53c8e9a-b077-433c-d81f-6dbfa9de2e07"
      },
      "source": [
        "rnn_model.summary()"
      ],
      "execution_count": 77,
      "outputs": [
        {
          "output_type": "stream",
          "text": [
            "Model: \"sequential\"\n",
            "_________________________________________________________________\n",
            "Layer (type)                 Output Shape              Param #   \n",
            "=================================================================\n",
            "embedding (Embedding)        (None, 65, 64)            32000     \n",
            "_________________________________________________________________\n",
            "lstm (LSTM)                  (None, 192)               197376    \n",
            "_________________________________________________________________\n",
            "dense (Dense)                (None, 1)                 193       \n",
            "=================================================================\n",
            "Total params: 229,569\n",
            "Trainable params: 229,569\n",
            "Non-trainable params: 0\n",
            "_________________________________________________________________\n"
          ],
          "name": "stdout"
        }
      ]
    },
    {
      "cell_type": "code",
      "metadata": {
        "colab": {
          "base_uri": "https://localhost:8080/"
        },
        "id": "np7kI02XYJw9",
        "outputId": "bd5b9f2c-ebbf-4b05-9989-f9c0f18894dd"
      },
      "source": [
        "history=rnn_model.fit(\n",
        "    x,y,\n",
        "    validation_data = (x_val,y_val),\n",
        "    epochs = 5,batch_size=500)  "
      ],
      "execution_count": 78,
      "outputs": [
        {
          "output_type": "stream",
          "text": [
            "Epoch 1/5\n",
            "WARNING:tensorflow:Model was constructed with shape (None, 65) for input KerasTensor(type_spec=TensorSpec(shape=(None, 65), dtype=tf.float32, name='embedding_input'), name='embedding_input', description=\"created by layer 'embedding_input'\"), but it was called on an input with incompatible shape (None, 500).\n",
            "WARNING:tensorflow:Model was constructed with shape (None, 65) for input KerasTensor(type_spec=TensorSpec(shape=(None, 65), dtype=tf.float32, name='embedding_input'), name='embedding_input', description=\"created by layer 'embedding_input'\"), but it was called on an input with incompatible shape (None, 500).\n",
            "54/54 [==============================] - ETA: 0s - loss: 0.8103 - accuracy: 0.4945WARNING:tensorflow:Model was constructed with shape (None, 65) for input KerasTensor(type_spec=TensorSpec(shape=(None, 65), dtype=tf.float32, name='embedding_input'), name='embedding_input', description=\"created by layer 'embedding_input'\"), but it was called on an input with incompatible shape (None, 500).\n",
            "54/54 [==============================] - 484s 9s/step - loss: 0.8103 - accuracy: 0.4945 - val_loss: 0.6991 - val_accuracy: 0.4025\n",
            "Epoch 2/5\n",
            "54/54 [==============================] - 505s 9s/step - loss: 0.6969 - accuracy: 0.4513 - val_loss: 0.6870 - val_accuracy: 0.7144\n",
            "Epoch 3/5\n",
            "54/54 [==============================] - 516s 10s/step - loss: 0.6939 - accuracy: 0.4995 - val_loss: 0.6933 - val_accuracy: 0.5907\n",
            "Epoch 4/5\n",
            "54/54 [==============================] - 517s 10s/step - loss: 0.6913 - accuracy: 0.5275 - val_loss: 0.6806 - val_accuracy: 0.6130\n",
            "Epoch 5/5\n",
            "54/54 [==============================] - 548s 10s/step - loss: 0.6890 - accuracy: 0.5377 - val_loss: 0.6957 - val_accuracy: 0.5932\n"
          ],
          "name": "stdout"
        }
      ]
    },
    {
      "cell_type": "code",
      "metadata": {
        "id": "ipGPvnKoZO2c"
      },
      "source": [
        "import matplotlib.pyplot as plt"
      ],
      "execution_count": 79,
      "outputs": []
    },
    {
      "cell_type": "code",
      "metadata": {
        "id": "YB101DuCZl_G",
        "colab": {
          "base_uri": "https://localhost:8080/",
          "height": 295
        },
        "outputId": "2b0a9026-3681-4920-f418-959e6a7bdc94"
      },
      "source": [
        "plt.plot(history.history['loss'])\n",
        "plt.plot(history.history['val_loss'])\n",
        "plt.title('model loss')\n",
        "plt.ylabel('loss')\n",
        "plt.xlabel('epoch')\n",
        "plt.legend(['train', 'validation'], loc='upper left')\n",
        "plt.show() "
      ],
      "execution_count": 80,
      "outputs": [
        {
          "output_type": "display_data",
          "data": {
            "image/png": "[encoded data removed]",
            "text/plain": [
              "<Figure size 432x288 with 1 Axes>"
            ]
          },
          "metadata": {
            "tags": [],
            "needs_background": "light"
          }
        }
      ]
    },
    {
      "cell_type": "code",
      "metadata": {
        "id": "0dvlYGi1ZrHg"
      },
      "source": [
        "rnn_model.compile(optimizer='adam', loss=\"binary_crossentropy\", metrics=[tf.keras.metrics.Precision(),tf.keras.metrics.Recall(),tf.keras.metrics.SpecificityAtSensitivity(0.5)])\n"
      ],
      "execution_count": 84,
      "outputs": []
    },
    {
      "cell_type": "code",
      "metadata": {
        "id": "2vs_RaV-xc2o",
        "outputId": "b63e5403-cf77-4598-dd2e-47c9d1525120",
        "colab": {
          "base_uri": "https://localhost:8080/"
        }
      },
      "source": [
        "rnn_model.fit(\n",
        "    x,y,\n",
        "    validation_data = (x_val,y_val),\n",
        "    epochs = 5,batch_size=500)  "
      ],
      "execution_count": 85,
      "outputs": [
        {
          "output_type": "stream",
          "text": [
            "Epoch 1/5\n",
            "WARNING:tensorflow:Model was constructed with shape (None, 65) for input KerasTensor(type_spec=TensorSpec(shape=(None, 65), dtype=tf.float32, name='embedding_1_input'), name='embedding_1_input', description=\"created by layer 'embedding_1_input'\"), but it was called on an input with incompatible shape (None, 500).\n",
            "WARNING:tensorflow:Model was constructed with shape (None, 65) for input KerasTensor(type_spec=TensorSpec(shape=(None, 65), dtype=tf.float32, name='embedding_1_input'), name='embedding_1_input', description=\"created by layer 'embedding_1_input'\"), but it was called on an input with incompatible shape (None, 500).\n",
            "54/54 [==============================] - ETA: 0s - loss: 0.6903 - precision_1: 0.5248 - recall_1: 0.5547 - specificity_at_sensitivity_1: 0.5534WARNING:tensorflow:Model was constructed with shape (None, 65) for input KerasTensor(type_spec=TensorSpec(shape=(None, 65), dtype=tf.float32, name='embedding_1_input'), name='embedding_1_input', description=\"created by layer 'embedding_1_input'\"), but it was called on an input with incompatible shape (None, 500).\n",
            "54/54 [==============================] - 530s 10s/step - loss: 0.6903 - precision_1: 0.5248 - recall_1: 0.5547 - specificity_at_sensitivity_1: 0.5534 - val_loss: 0.6752 - val_precision_1: 0.3815 - val_recall_1: 0.4423 - val_specificity_at_sensitivity_1: 0.6455\n",
            "Epoch 2/5\n",
            "54/54 [==============================] - 525s 10s/step - loss: 0.6829 - precision_1: 0.5786 - recall_1: 0.4471 - specificity_at_sensitivity_1: 0.5732 - val_loss: 0.6865 - val_precision_1: 0.3634 - val_recall_1: 0.5212 - val_specificity_at_sensitivity_1: 0.6506\n",
            "Epoch 3/5\n",
            "54/54 [==============================] - 564s 10s/step - loss: 0.6815 - precision_1: 0.5719 - recall_1: 0.4649 - specificity_at_sensitivity_1: 0.5685 - val_loss: 0.6847 - val_precision_1: 0.3701 - val_recall_1: 0.5019 - val_specificity_at_sensitivity_1: 0.6598\n",
            "Epoch 4/5\n",
            "54/54 [==============================] - 559s 10s/step - loss: 0.6780 - precision_1: 0.5745 - recall_1: 0.4797 - specificity_at_sensitivity_1: 0.6241 - val_loss: 0.6540 - val_precision_1: 0.3941 - val_recall_1: 0.4170 - val_specificity_at_sensitivity_1: 0.6357\n",
            "Epoch 5/5\n",
            "54/54 [==============================] - 544s 10s/step - loss: 0.6762 - precision_1: 0.5841 - recall_1: 0.5850 - specificity_at_sensitivity_1: 0.6580 - val_loss: 0.7139 - val_precision_1: 0.3087 - val_recall_1: 0.7409 - val_specificity_at_sensitivity_1: 0.5997\n"
          ],
          "name": "stdout"
        },
        {
          "output_type": "execute_result",
          "data": {
            "text/plain": [
              "<tensorflow.python.keras.callbacks.History at 0x7fd40a9b2990>"
            ]
          },
          "metadata": {
            "tags": []
          },
          "execution_count": 85
        }
      ]
    },
    {
      "cell_type": "code",
      "metadata": {
        "id": "AZa4QESYxi3d"
      },
      "source": [
        "rnn_model.compile(optimizer='adam', loss=\"binary_crossentropy\", metrics=[tf.keras.metrics.TrueNegatives(),tf.keras.metrics.TruePositives(),tf.keras.metrics.FalsePositives(),tf.keras.metrics.FalseNegatives()])\n"
      ],
      "execution_count": 87,
      "outputs": []
    },
    {
      "cell_type": "code",
      "metadata": {
        "id": "u0qWBrkrB87V",
        "outputId": "3c38b0fd-52f2-4f4c-ceed-ff7a94a9019e",
        "colab": {
          "base_uri": "https://localhost:8080/"
        }
      },
      "source": [
        "rnn_model.fit(\n",
        "    x,y,\n",
        "    validation_data = (x_val,y_val),\n",
        "    epochs = 5,batch_size=500)  "
      ],
      "execution_count": 88,
      "outputs": [
        {
          "output_type": "stream",
          "text": [
            "Epoch 1/5\n",
            "WARNING:tensorflow:Model was constructed with shape (None, 65) for input KerasTensor(type_spec=TensorSpec(shape=(None, 65), dtype=tf.float32, name='embedding_1_input'), name='embedding_1_input', description=\"created by layer 'embedding_1_input'\"), but it was called on an input with incompatible shape (None, 500).\n",
            "WARNING:tensorflow:Model was constructed with shape (None, 65) for input KerasTensor(type_spec=TensorSpec(shape=(None, 65), dtype=tf.float32, name='embedding_1_input'), name='embedding_1_input', description=\"created by layer 'embedding_1_input'\"), but it was called on an input with incompatible shape (None, 500).\n",
            "54/54 [==============================] - ETA: 0s - loss: 0.6727 - true_negatives: 8321.0000 - true_positives: 7066.0000 - false_positives: 5014.0000 - false_negatives: 6269.0000WARNING:tensorflow:Model was constructed with shape (None, 65) for input KerasTensor(type_spec=TensorSpec(shape=(None, 65), dtype=tf.float32, name='embedding_1_input'), name='embedding_1_input', description=\"created by layer 'embedding_1_input'\"), but it was called on an input with incompatible shape (None, 500).\n",
            "54/54 [==============================] - 538s 10s/step - loss: 0.6727 - true_negatives: 8321.0000 - true_positives: 7066.0000 - false_positives: 5014.0000 - false_negatives: 6269.0000 - val_loss: 0.6918 - val_true_negatives: 1712.0000 - val_true_positives: 845.0000 - val_false_positives: 1648.0000 - val_false_negatives: 498.0000\n",
            "Epoch 2/5\n",
            "54/54 [==============================] - 565s 10s/step - loss: 0.6713 - true_negatives: 8450.0000 - true_positives: 6799.0000 - false_positives: 4885.0000 - false_negatives: 6536.0000 - val_loss: 0.6698 - val_true_negatives: 1895.0000 - val_true_positives: 762.0000 - val_false_positives: 1465.0000 - val_false_negatives: 581.0000\n",
            "Epoch 3/5\n",
            "54/54 [==============================] - 597s 11s/step - loss: 0.6666 - true_negatives: 7000.0000 - true_positives: 8767.0000 - false_positives: 6335.0000 - false_negatives: 4568.0000 - val_loss: 0.6660 - val_true_negatives: 1805.0000 - val_true_positives: 799.0000 - val_false_positives: 1555.0000 - val_false_negatives: 544.0000\n",
            "Epoch 4/5\n",
            "54/54 [==============================] - 545s 10s/step - loss: 0.6588 - true_negatives: 8577.0000 - true_positives: 7763.0000 - false_positives: 4758.0000 - false_negatives: 5572.0000 - val_loss: 0.6545 - val_true_negatives: 2659.0000 - val_true_positives: 408.0000 - val_false_positives: 701.0000 - val_false_negatives: 935.0000\n",
            "Epoch 5/5\n",
            "54/54 [==============================] - 584s 10s/step - loss: 0.6801 - true_negatives: 8271.0000 - true_positives: 6700.0000 - false_positives: 5064.0000 - false_negatives: 6635.0000 - val_loss: 0.6901 - val_true_negatives: 2180.0000 - val_true_positives: 691.0000 - val_false_positives: 1180.0000 - val_false_negatives: 652.0000\n"
          ],
          "name": "stdout"
        },
        {
          "output_type": "execute_result",
          "data": {
            "text/plain": [
              "<tensorflow.python.keras.callbacks.History at 0x7fd407991510>"
            ]
          },
          "metadata": {
            "tags": []
          },
          "execution_count": 88
        }
      ]
    },
    {
      "cell_type": "code",
      "metadata": {
        "id": "sOTxrl_FCJAh"
      },
      "source": [
        ""
      ],
      "execution_count": null,
      "outputs": []
    }
  ]
}