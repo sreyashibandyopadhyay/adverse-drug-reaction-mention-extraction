{
  "nbformat": 4,
  "nbformat_minor": 0,
  "metadata": {
    "colab": {
      "name": "countvec_ade.ipynb",
      "provenance": [],
      "collapsed_sections": []
    },
    "kernelspec": {
      "display_name": "Python 3",
      "name": "python3"
    },
    "language_info": {
      "name": "python"
    }
  },
  "cells": [
    {
      "cell_type": "code",
      "metadata": {
        "id": "eEt0Mv23FeH1"
      },
      "source": [
        "import numpy as np\n",
        "import pandas as pd \n",
        "   \n"
      ],
      "execution_count": 1,
      "outputs": []
    },
    {
      "cell_type": "code",
      "metadata": {
        "id": "UWSrxTutFqj_"
      },
      "source": [
        "result=pd.read_csv('/content/preprocessed_ade.csv')"
      ],
      "execution_count": 2,
      "outputs": []
    },
    {
      "cell_type": "code",
      "metadata": {
        "colab": {
          "base_uri": "https://localhost:8080/",
          "height": 402
        },
        "id": "0FzHXVcJF57x",
        "outputId": "d5be82a9-5d6f-4a5e-a575-5b935f9e6e07"
      },
      "source": [
        "result"
      ],
      "execution_count": 3,
      "outputs": [
        {
          "output_type": "execute_result",
          "data": {
            "text/html": [
              "<div>\n",
              "<style scoped>\n",
              "    .dataframe tbody tr th:only-of-type {\n",
              "        vertical-align: middle;\n",
              "    }\n",
              "\n",
              "    .dataframe tbody tr th {\n",
              "        vertical-align: top;\n",
              "    }\n",
              "\n",
              "    .dataframe thead th {\n",
              "        text-align: right;\n",
              "    }\n",
              "</style>\n",
              "<table border=\"1\" class=\"dataframe\">\n",
              "  <thead>\n",
              "    <tr style=\"text-align: right;\">\n",
              "      <th></th>\n",
              "      <th>Unnamed: 0</th>\n",
              "      <th>observation</th>\n",
              "      <th>labels</th>\n",
              "    </tr>\n",
              "  </thead>\n",
              "  <tbody>\n",
              "    <tr>\n",
              "      <th>0</th>\n",
              "      <td>12606</td>\n",
              "      <td>early phase ii semi double blind study of the ...</td>\n",
              "      <td>0</td>\n",
              "    </tr>\n",
              "    <tr>\n",
              "      <th>1</th>\n",
              "      <td>685</td>\n",
              "      <td>cessation of mtx therapy led to complete regre...</td>\n",
              "      <td>0</td>\n",
              "    </tr>\n",
              "    <tr>\n",
              "      <th>2</th>\n",
              "      <td>5127</td>\n",
              "      <td>cutaneous biopsy showed hyphae and round inclu...</td>\n",
              "      <td>0</td>\n",
              "    </tr>\n",
              "    <tr>\n",
              "      <th>3</th>\n",
              "      <td>3158</td>\n",
              "      <td>she was treated with acyclovir and subsequentl...</td>\n",
              "      <td>1</td>\n",
              "    </tr>\n",
              "    <tr>\n",
              "      <th>4</th>\n",
              "      <td>10685</td>\n",
              "      <td>cisplatin was substituted and the patient achi...</td>\n",
              "      <td>0</td>\n",
              "    </tr>\n",
              "    <tr>\n",
              "      <th>...</th>\n",
              "      <td>...</td>\n",
              "      <td>...</td>\n",
              "      <td>...</td>\n",
              "    </tr>\n",
              "    <tr>\n",
              "      <th>23511</th>\n",
              "      <td>982</td>\n",
              "      <td>ticlopidine induced aplastic anemia  two new c...</td>\n",
              "      <td>1</td>\n",
              "    </tr>\n",
              "    <tr>\n",
              "      <th>23512</th>\n",
              "      <td>14487</td>\n",
              "      <td>the risks of sumatriptan administration in pat...</td>\n",
              "      <td>0</td>\n",
              "    </tr>\n",
              "    <tr>\n",
              "      <th>23513</th>\n",
              "      <td>4680</td>\n",
              "      <td>however   the spectrum of hosts and clinical p...</td>\n",
              "      <td>0</td>\n",
              "    </tr>\n",
              "    <tr>\n",
              "      <th>23514</th>\n",
              "      <td>2588</td>\n",
              "      <td>antibiotic treatment should be continued</td>\n",
              "      <td>0</td>\n",
              "    </tr>\n",
              "    <tr>\n",
              "      <th>23515</th>\n",
              "      <td>6571</td>\n",
              "      <td>in case     a total daily dose of    mg sertra...</td>\n",
              "      <td>1</td>\n",
              "    </tr>\n",
              "  </tbody>\n",
              "</table>\n",
              "<p>23516 rows × 3 columns</p>\n",
              "</div>"
            ],
            "text/plain": [
              "       Unnamed: 0                                        observation  labels\n",
              "0           12606  early phase ii semi double blind study of the ...       0\n",
              "1             685  cessation of mtx therapy led to complete regre...       0\n",
              "2            5127  cutaneous biopsy showed hyphae and round inclu...       0\n",
              "3            3158  she was treated with acyclovir and subsequentl...       1\n",
              "4           10685  cisplatin was substituted and the patient achi...       0\n",
              "...           ...                                                ...     ...\n",
              "23511         982  ticlopidine induced aplastic anemia  two new c...       1\n",
              "23512       14487  the risks of sumatriptan administration in pat...       0\n",
              "23513        4680  however   the spectrum of hosts and clinical p...       0\n",
              "23514        2588           antibiotic treatment should be continued       0\n",
              "23515        6571  in case     a total daily dose of    mg sertra...       1\n",
              "\n",
              "[23516 rows x 3 columns]"
            ]
          },
          "metadata": {
            "tags": []
          },
          "execution_count": 3
        }
      ]
    },
    {
      "cell_type": "code",
      "metadata": {
        "id": "-AW-0si1F8TP"
      },
      "source": [
        "#count vectorizing "
      ],
      "execution_count": 4,
      "outputs": []
    },
    {
      "cell_type": "code",
      "metadata": {
        "id": "0lrXE6hJGKki"
      },
      "source": [
        "from sklearn.feature_extraction.text import CountVectorizer"
      ],
      "execution_count": 5,
      "outputs": []
    },
    {
      "cell_type": "code",
      "metadata": {
        "id": "w65lM8LUGNEo"
      },
      "source": [
        "cv = CountVectorizer(max_features=500)\n",
        "x= cv.fit_transform(result['observation']).toarray() "
      ],
      "execution_count": 6,
      "outputs": []
    },
    {
      "cell_type": "code",
      "metadata": {
        "id": "YNUdcs6gGhD3"
      },
      "source": [
        "y=result['labels']"
      ],
      "execution_count": 7,
      "outputs": []
    },
    {
      "cell_type": "code",
      "metadata": {
        "colab": {
          "base_uri": "https://localhost:8080/"
        },
        "id": "5IM7O-yx3A7e",
        "outputId": "67597275-9693-4be4-e7cb-5a893e4d83fa"
      },
      "source": [
        "print(x.shape)\n",
        "print(y.shape)"
      ],
      "execution_count": 8,
      "outputs": [
        {
          "output_type": "stream",
          "text": [
            "(23516, 500)\n",
            "(23516,)\n"
          ],
          "name": "stdout"
        }
      ]
    },
    {
      "cell_type": "code",
      "metadata": {
        "colab": {
          "base_uri": "https://localhost:8080/"
        },
        "id": "XEapqeIULJwl",
        "outputId": "163c8103-ffc4-434e-d138-8cc9c1dd7901"
      },
      "source": [
        "result['labels'].value_counts()"
      ],
      "execution_count": 9,
      "outputs": [
        {
          "output_type": "execute_result",
          "data": {
            "text/plain": [
              "0    16695\n",
              "1     6821\n",
              "Name: labels, dtype: int64"
            ]
          },
          "metadata": {
            "tags": []
          },
          "execution_count": 9
        }
      ]
    },
    {
      "cell_type": "markdown",
      "metadata": {
        "id": "0ldEpo7iGivz"
      },
      "source": [
        " **SPLITTING THE DATASET INTO TRAINING AND TESTING**"
      ]
    },
    {
      "cell_type": "code",
      "metadata": {
        "id": "hs_POE1xGQOv"
      },
      "source": [
        "from sklearn.model_selection import train_test_split "
      ],
      "execution_count": 10,
      "outputs": []
    },
    {
      "cell_type": "code",
      "metadata": {
        "id": "4iVqnSEYGaEO"
      },
      "source": [
        "x_train,x_test,y_train,y_test=train_test_split(x,y,test_size=0.2,random_state=2021) "
      ],
      "execution_count": 11,
      "outputs": []
    },
    {
      "cell_type": "code",
      "metadata": {
        "colab": {
          "base_uri": "https://localhost:8080/"
        },
        "id": "81sHvQkcMPJP",
        "outputId": "b038fa91-1729-4f56-e477-655e610b89ab"
      },
      "source": [
        "print(x_train.shape)\n",
        "print(x_test.shape)\n"
      ],
      "execution_count": 12,
      "outputs": [
        {
          "output_type": "stream",
          "text": [
            "(18812, 500)\n",
            "(4704, 500)\n"
          ],
          "name": "stdout"
        }
      ]
    },
    {
      "cell_type": "code",
      "metadata": {
        "colab": {
          "base_uri": "https://localhost:8080/"
        },
        "id": "d6HlntmvPBKL",
        "outputId": "bda83693-8d07-435e-ed98-42e17770c41c"
      },
      "source": [
        "zerocount=0\n",
        "onecount=0\n",
        "for i in y_train:\n",
        "  if i == 0:\n",
        "    zerocount+=1\n",
        "  else:\n",
        "    onecount+=1\n",
        "print(\"no of negative sample in training class is:\",zerocount)\n",
        "print(\"no of positive sample in training class is:\",onecount)"
      ],
      "execution_count": 13,
      "outputs": [
        {
          "output_type": "stream",
          "text": [
            "no of negative sample in training class is: 13335\n",
            "no of positive sample in training class is: 5477\n"
          ],
          "name": "stdout"
        }
      ]
    },
    {
      "cell_type": "markdown",
      "metadata": {
        "id": "evm7USutG7Xu"
      },
      "source": [
        "**LOGISTIC REGRESSION**"
      ]
    },
    {
      "cell_type": "code",
      "metadata": {
        "id": "yjkTdxf7HDLh"
      },
      "source": [
        "from sklearn.linear_model import LogisticRegression"
      ],
      "execution_count": null,
      "outputs": []
    },
    {
      "cell_type": "code",
      "metadata": {
        "id": "ebdBEGpJHX3e"
      },
      "source": [
        "log_model=LogisticRegression(max_iter=1000)"
      ],
      "execution_count": null,
      "outputs": []
    },
    {
      "cell_type": "code",
      "metadata": {
        "colab": {
          "base_uri": "https://localhost:8080/"
        },
        "id": "AiW8V7NVHaDd",
        "outputId": "676e10be-713c-45a5-ce67-cb80baa344e8"
      },
      "source": [
        "log_model.fit(x_train,y_train)"
      ],
      "execution_count": null,
      "outputs": [
        {
          "output_type": "execute_result",
          "data": {
            "text/plain": [
              "LogisticRegression(C=1.0, class_weight=None, dual=False, fit_intercept=True,\n",
              "                   intercept_scaling=1, l1_ratio=None, max_iter=1000,\n",
              "                   multi_class='auto', n_jobs=None, penalty='l2',\n",
              "                   random_state=None, solver='lbfgs', tol=0.0001, verbose=0,\n",
              "                   warm_start=False)"
            ]
          },
          "metadata": {
            "tags": []
          },
          "execution_count": 16
        }
      ]
    },
    {
      "cell_type": "code",
      "metadata": {
        "id": "lvUgyI1gHdX9"
      },
      "source": [
        "log_y_pred=log_model.predict(x_test)"
      ],
      "execution_count": null,
      "outputs": []
    },
    {
      "cell_type": "code",
      "metadata": {
        "id": "JN_Lu6ubHn0U"
      },
      "source": [
        "from sklearn.metrics import confusion_matrix,classification_report ,accuracy_score"
      ],
      "execution_count": null,
      "outputs": []
    },
    {
      "cell_type": "code",
      "metadata": {
        "colab": {
          "base_uri": "https://localhost:8080/"
        },
        "id": "dGWUcTpYH-hS",
        "outputId": "a58c65a7-68e6-4208-c7a7-b6faf1b740d8"
      },
      "source": [
        "print(confusion_matrix(y_test,log_y_pred))"
      ],
      "execution_count": null,
      "outputs": [
        {
          "output_type": "stream",
          "text": [
            "[[3076  284]\n",
            " [ 520  824]]\n"
          ],
          "name": "stdout"
        }
      ]
    },
    {
      "cell_type": "code",
      "metadata": {
        "colab": {
          "base_uri": "https://localhost:8080/"
        },
        "id": "mIqhdm_ZIBDM",
        "outputId": "4ff69d7f-4c43-4ba5-b18d-e53646c85f54"
      },
      "source": [
        "print((classification_report(y_test,log_y_pred))) "
      ],
      "execution_count": null,
      "outputs": [
        {
          "output_type": "stream",
          "text": [
            "              precision    recall  f1-score   support\n",
            "\n",
            "           0       0.86      0.92      0.88      3360\n",
            "           1       0.74      0.61      0.67      1344\n",
            "\n",
            "    accuracy                           0.83      4704\n",
            "   macro avg       0.80      0.76      0.78      4704\n",
            "weighted avg       0.82      0.83      0.82      4704\n",
            "\n"
          ],
          "name": "stdout"
        }
      ]
    },
    {
      "cell_type": "code",
      "metadata": {
        "id": "W1slYnFxtp5X"
      },
      "source": [
        "#calculate training error \n",
        "log_y_pred_train = log_model.predict(x_train)"
      ],
      "execution_count": null,
      "outputs": []
    },
    {
      "cell_type": "code",
      "metadata": {
        "colab": {
          "base_uri": "https://localhost:8080/"
        },
        "id": "HEZsFOXP1guh",
        "outputId": "edd14d51-9711-4fa2-d867-68bdba1beab3"
      },
      "source": [
        "print((classification_report(y_train,log_y_pred_train)))"
      ],
      "execution_count": null,
      "outputs": [
        {
          "output_type": "stream",
          "text": [
            "              precision    recall  f1-score   support\n",
            "\n",
            "           0       0.86      0.92      0.89     13335\n",
            "           1       0.77      0.63      0.70      5477\n",
            "\n",
            "    accuracy                           0.84     18812\n",
            "   macro avg       0.82      0.78      0.79     18812\n",
            "weighted avg       0.84      0.84      0.83     18812\n",
            "\n"
          ],
          "name": "stdout"
        }
      ]
    },
    {
      "cell_type": "code",
      "metadata": {
        "colab": {
          "base_uri": "https://localhost:8080/"
        },
        "id": "dyyb_i4lgxAU",
        "outputId": "6280c3d9-5834-41f3-a35e-7253fb9053af"
      },
      "source": [
        "accuracy_score(y_train,log_y_pred_train)"
      ],
      "execution_count": null,
      "outputs": [
        {
          "output_type": "execute_result",
          "data": {
            "text/plain": [
              "0.8396236444822454"
            ]
          },
          "metadata": {
            "tags": []
          },
          "execution_count": 23
        }
      ]
    },
    {
      "cell_type": "markdown",
      "metadata": {
        "id": "q0coHauAISs6"
      },
      "source": [
        "**DECISION TREE**"
      ]
    },
    {
      "cell_type": "code",
      "metadata": {
        "id": "zmXA_p1rIYjv"
      },
      "source": [
        "from sklearn.tree import DecisionTreeClassifier"
      ],
      "execution_count": null,
      "outputs": []
    },
    {
      "cell_type": "code",
      "metadata": {
        "id": "8e7ZLzx0Iqzm"
      },
      "source": [
        "dt_model=DecisionTreeClassifier(max_depth= 5)"
      ],
      "execution_count": null,
      "outputs": []
    },
    {
      "cell_type": "code",
      "metadata": {
        "colab": {
          "base_uri": "https://localhost:8080/"
        },
        "id": "7u2pqi3lItN0",
        "outputId": "69e42684-83b5-43b6-be2a-11d1a9b60c94"
      },
      "source": [
        "dt_model.fit(x_train,y_train) "
      ],
      "execution_count": null,
      "outputs": [
        {
          "output_type": "execute_result",
          "data": {
            "text/plain": [
              "DecisionTreeClassifier(ccp_alpha=0.0, class_weight=None, criterion='gini',\n",
              "                       max_depth=5, max_features=None, max_leaf_nodes=None,\n",
              "                       min_impurity_decrease=0.0, min_impurity_split=None,\n",
              "                       min_samples_leaf=1, min_samples_split=2,\n",
              "                       min_weight_fraction_leaf=0.0, presort='deprecated',\n",
              "                       random_state=None, splitter='best')"
            ]
          },
          "metadata": {
            "tags": []
          },
          "execution_count": 26
        }
      ]
    },
    {
      "cell_type": "code",
      "metadata": {
        "id": "AQrzOzZoIxpr"
      },
      "source": [
        "dt_pred=dt_model.predict(x_test)"
      ],
      "execution_count": null,
      "outputs": []
    },
    {
      "cell_type": "code",
      "metadata": {
        "colab": {
          "base_uri": "https://localhost:8080/"
        },
        "id": "27_N2gFlI179",
        "outputId": "831b05a2-cd7e-41e3-aeb0-8b2e14d7fbfc"
      },
      "source": [
        "print(classification_report(y_test,dt_pred)) "
      ],
      "execution_count": null,
      "outputs": [
        {
          "output_type": "stream",
          "text": [
            "              precision    recall  f1-score   support\n",
            "\n",
            "           0       0.80      0.92      0.86      3360\n",
            "           1       0.68      0.42      0.52      1344\n",
            "\n",
            "    accuracy                           0.78      4704\n",
            "   macro avg       0.74      0.67      0.69      4704\n",
            "weighted avg       0.77      0.78      0.76      4704\n",
            "\n"
          ],
          "name": "stdout"
        }
      ]
    },
    {
      "cell_type": "code",
      "metadata": {
        "colab": {
          "base_uri": "https://localhost:8080/"
        },
        "id": "a-zfDKlTI62n",
        "outputId": "d3d07bdd-3d4a-49c2-bebb-d678bda015f7"
      },
      "source": [
        "print(confusion_matrix(y_test,dt_pred))"
      ],
      "execution_count": null,
      "outputs": [
        {
          "output_type": "stream",
          "text": [
            "[[3102  258]\n",
            " [ 784  560]]\n"
          ],
          "name": "stdout"
        }
      ]
    },
    {
      "cell_type": "code",
      "metadata": {
        "id": "oo2K8M8YZe68"
      },
      "source": [
        "dt_pred_train = dt_model.predict(x_train)"
      ],
      "execution_count": null,
      "outputs": []
    },
    {
      "cell_type": "code",
      "metadata": {
        "colab": {
          "base_uri": "https://localhost:8080/"
        },
        "id": "h5SEPDfYgd9A",
        "outputId": "1b4067a9-ea6a-4b92-f601-626ccbff0082"
      },
      "source": [
        " accuracy_score(y_train,dt_pred_train )"
      ],
      "execution_count": null,
      "outputs": [
        {
          "output_type": "execute_result",
          "data": {
            "text/plain": [
              "0.7851903040612375"
            ]
          },
          "metadata": {
            "tags": []
          },
          "execution_count": 31
        }
      ]
    },
    {
      "cell_type": "markdown",
      "metadata": {
        "id": "J4twOTptNduW"
      },
      "source": [
        "**RANDOM FOREST MODEL**"
      ]
    },
    {
      "cell_type": "code",
      "metadata": {
        "id": "984EU8vzI9PW"
      },
      "source": [
        "from sklearn.ensemble import RandomForestClassifier"
      ],
      "execution_count": null,
      "outputs": []
    },
    {
      "cell_type": "code",
      "metadata": {
        "id": "HO80Uq2NNsCv"
      },
      "source": [
        "rfc_model=RandomForestClassifier(n_estimators=1000,max_leaf_nodes=80)"
      ],
      "execution_count": null,
      "outputs": []
    },
    {
      "cell_type": "code",
      "metadata": {
        "colab": {
          "base_uri": "https://localhost:8080/"
        },
        "id": "XNA7lrk-NuUL",
        "outputId": "d3322f58-0222-409a-e7fa-072be9546aa1"
      },
      "source": [
        "rfc_model.fit(x_train,y_train)"
      ],
      "execution_count": null,
      "outputs": [
        {
          "output_type": "execute_result",
          "data": {
            "text/plain": [
              "RandomForestClassifier(bootstrap=True, ccp_alpha=0.0, class_weight=None,\n",
              "                       criterion='gini', max_depth=None, max_features='auto',\n",
              "                       max_leaf_nodes=80, max_samples=None,\n",
              "                       min_impurity_decrease=0.0, min_impurity_split=None,\n",
              "                       min_samples_leaf=1, min_samples_split=2,\n",
              "                       min_weight_fraction_leaf=0.0, n_estimators=1000,\n",
              "                       n_jobs=None, oob_score=False, random_state=None,\n",
              "                       verbose=0, warm_start=False)"
            ]
          },
          "metadata": {
            "tags": []
          },
          "execution_count": 34
        }
      ]
    },
    {
      "cell_type": "code",
      "metadata": {
        "id": "LVoyPJZjOnSo"
      },
      "source": [
        "rfc_pred=rfc_model.predict(x_test)"
      ],
      "execution_count": null,
      "outputs": []
    },
    {
      "cell_type": "code",
      "metadata": {
        "colab": {
          "base_uri": "https://localhost:8080/"
        },
        "id": "oYIy71ZXNw5x",
        "outputId": "c15529f3-babc-493f-fed2-ed4edf9f7ed1"
      },
      "source": [
        "print(classification_report(y_test,rfc_pred))"
      ],
      "execution_count": null,
      "outputs": [
        {
          "output_type": "stream",
          "text": [
            "              precision    recall  f1-score   support\n",
            "\n",
            "           0       0.80      0.97      0.87      3360\n",
            "           1       0.82      0.39      0.53      1344\n",
            "\n",
            "    accuracy                           0.80      4704\n",
            "   macro avg       0.81      0.68      0.70      4704\n",
            "weighted avg       0.80      0.80      0.77      4704\n",
            "\n"
          ],
          "name": "stdout"
        }
      ]
    },
    {
      "cell_type": "code",
      "metadata": {
        "colab": {
          "base_uri": "https://localhost:8080/"
        },
        "id": "gm5FYk15OjXa",
        "outputId": "8527049e-714c-4b45-99c7-9188b0a4ff38"
      },
      "source": [
        "print(confusion_matrix(y_test,rfc_pred))"
      ],
      "execution_count": null,
      "outputs": [
        {
          "output_type": "stream",
          "text": [
            "[[3246  114]\n",
            " [ 825  519]]\n"
          ],
          "name": "stdout"
        }
      ]
    },
    {
      "cell_type": "code",
      "metadata": {
        "id": "g8OsVDcnfsB-"
      },
      "source": [
        "rfc_train = rfc_model.predict(x_train)"
      ],
      "execution_count": null,
      "outputs": []
    },
    {
      "cell_type": "code",
      "metadata": {
        "colab": {
          "base_uri": "https://localhost:8080/"
        },
        "id": "7f86Eongf4R4",
        "outputId": "e92b6bec-8ce2-4cfa-8893-dabf2849e8db"
      },
      "source": [
        "accuracy_score(y_train,rfc_train)"
      ],
      "execution_count": null,
      "outputs": [
        {
          "output_type": "execute_result",
          "data": {
            "text/plain": [
              "0.8062406974271742"
            ]
          },
          "metadata": {
            "tags": []
          },
          "execution_count": 39
        }
      ]
    },
    {
      "cell_type": "markdown",
      "metadata": {
        "id": "Vf1v_36HPUga"
      },
      "source": [
        "**NAIVE BAYES MODEL** "
      ]
    },
    {
      "cell_type": "code",
      "metadata": {
        "id": "VfovgfQzParn"
      },
      "source": [
        "from sklearn.naive_bayes import GaussianNB,MultinomialNB"
      ],
      "execution_count": null,
      "outputs": []
    },
    {
      "cell_type": "code",
      "metadata": {
        "id": "TMGR7op6Py8H"
      },
      "source": [
        "gnb_model=GaussianNB()\n",
        "mnb_model=MultinomialNB()"
      ],
      "execution_count": null,
      "outputs": []
    },
    {
      "cell_type": "code",
      "metadata": {
        "colab": {
          "base_uri": "https://localhost:8080/"
        },
        "id": "t6fMLPLnP2YR",
        "outputId": "2359bca6-2101-430b-802a-68e6ccc10f1d"
      },
      "source": [
        "gnb_model.fit(x_train,y_train)"
      ],
      "execution_count": null,
      "outputs": [
        {
          "output_type": "execute_result",
          "data": {
            "text/plain": [
              "GaussianNB(priors=None, var_smoothing=1e-09)"
            ]
          },
          "metadata": {
            "tags": []
          },
          "execution_count": 42
        }
      ]
    },
    {
      "cell_type": "code",
      "metadata": {
        "colab": {
          "base_uri": "https://localhost:8080/"
        },
        "id": "tZYlGUInP4qo",
        "outputId": "7edbd651-770a-4c19-be83-4bc62c0cce99"
      },
      "source": [
        "mnb_model.fit(x_train,y_train)"
      ],
      "execution_count": null,
      "outputs": [
        {
          "output_type": "execute_result",
          "data": {
            "text/plain": [
              "MultinomialNB(alpha=1.0, class_prior=None, fit_prior=True)"
            ]
          },
          "metadata": {
            "tags": []
          },
          "execution_count": 43
        }
      ]
    },
    {
      "cell_type": "code",
      "metadata": {
        "id": "FSIZN9HLP769"
      },
      "source": [
        "gnb_pred=gnb_model.predict(x_test)"
      ],
      "execution_count": null,
      "outputs": []
    },
    {
      "cell_type": "code",
      "metadata": {
        "id": "2o-TiTzoP_7O"
      },
      "source": [
        "mnb_pred=mnb_model.predict(x_test)"
      ],
      "execution_count": null,
      "outputs": []
    },
    {
      "cell_type": "code",
      "metadata": {
        "id": "4JFJEBmRQCHT"
      },
      "source": [
        "from sklearn.metrics import classification_report"
      ],
      "execution_count": null,
      "outputs": []
    },
    {
      "cell_type": "code",
      "metadata": {
        "colab": {
          "base_uri": "https://localhost:8080/"
        },
        "id": "07ELTd9nQF7O",
        "outputId": "3658f5ab-3229-4257-83ea-3e7d5d12a8ed"
      },
      "source": [
        "print(classification_report(y_test,gnb_pred))"
      ],
      "execution_count": null,
      "outputs": [
        {
          "output_type": "stream",
          "text": [
            "              precision    recall  f1-score   support\n",
            "\n",
            "           0       0.87      0.75      0.81      3360\n",
            "           1       0.54      0.72      0.61      1344\n",
            "\n",
            "    accuracy                           0.74      4704\n",
            "   macro avg       0.70      0.74      0.71      4704\n",
            "weighted avg       0.77      0.74      0.75      4704\n",
            "\n"
          ],
          "name": "stdout"
        }
      ]
    },
    {
      "cell_type": "code",
      "metadata": {
        "colab": {
          "base_uri": "https://localhost:8080/"
        },
        "id": "NdTk_2MOQIdX",
        "outputId": "7e59f38c-3520-4869-919a-2006d1228476"
      },
      "source": [
        "print(classification_report(y_test,mnb_pred))"
      ],
      "execution_count": null,
      "outputs": [
        {
          "output_type": "stream",
          "text": [
            "              precision    recall  f1-score   support\n",
            "\n",
            "           0       0.86      0.87      0.87      3360\n",
            "           1       0.67      0.64      0.65      1344\n",
            "\n",
            "    accuracy                           0.81      4704\n",
            "   macro avg       0.76      0.76      0.76      4704\n",
            "weighted avg       0.80      0.81      0.80      4704\n",
            "\n"
          ],
          "name": "stdout"
        }
      ]
    },
    {
      "cell_type": "code",
      "metadata": {
        "colab": {
          "base_uri": "https://localhost:8080/"
        },
        "id": "QV6dqzkE2ubg",
        "outputId": "0130c861-ae60-40f3-ce06-5792d95ff363"
      },
      "source": [
        "print(confusion_matrix(y_test,gnb_pred)) "
      ],
      "execution_count": null,
      "outputs": [
        {
          "output_type": "stream",
          "text": [
            "[[2525  835]\n",
            " [ 378  966]]\n"
          ],
          "name": "stdout"
        }
      ]
    },
    {
      "cell_type": "code",
      "metadata": {
        "colab": {
          "base_uri": "https://localhost:8080/"
        },
        "id": "xUI_mQ1Q2unw",
        "outputId": "1d1ac3da-a099-423c-d45a-f8fb8ca0258a"
      },
      "source": [
        "print(confusion_matrix(y_test,mnb_pred))"
      ],
      "execution_count": null,
      "outputs": [
        {
          "output_type": "stream",
          "text": [
            "[[2939  421]\n",
            " [ 490  854]]\n"
          ],
          "name": "stdout"
        }
      ]
    },
    {
      "cell_type": "code",
      "metadata": {
        "id": "sXZDHpwh4Rry"
      },
      "source": [
        "gnb_train_pred = gnb_model.predict(x_train)"
      ],
      "execution_count": null,
      "outputs": []
    },
    {
      "cell_type": "code",
      "metadata": {
        "colab": {
          "base_uri": "https://localhost:8080/"
        },
        "id": "p4-T_y3d6WMc",
        "outputId": "3175860e-aeae-42c2-ea42-32f307aeac2a"
      },
      "source": [
        "accuracy_score(y_train,gnb_train_pred)"
      ],
      "execution_count": null,
      "outputs": [
        {
          "output_type": "execute_result",
          "data": {
            "text/plain": [
              "0.7495747395279608"
            ]
          },
          "metadata": {
            "tags": []
          },
          "execution_count": 52
        }
      ]
    },
    {
      "cell_type": "code",
      "metadata": {
        "id": "GWEVHVd66WP7"
      },
      "source": [
        "mnb_train_pred = mnb_model.predict(x_train)"
      ],
      "execution_count": null,
      "outputs": []
    },
    {
      "cell_type": "code",
      "metadata": {
        "colab": {
          "base_uri": "https://localhost:8080/"
        },
        "id": "-mJweT2H6sMN",
        "outputId": "5414321b-eef3-4aab-a6a2-fde7749d786e"
      },
      "source": [
        "accuracy_score(y_train,mnb_train_pred)"
      ],
      "execution_count": null,
      "outputs": [
        {
          "output_type": "execute_result",
          "data": {
            "text/plain": [
              "0.8008186264086753"
            ]
          },
          "metadata": {
            "tags": []
          },
          "execution_count": 54
        }
      ]
    },
    {
      "cell_type": "markdown",
      "metadata": {
        "id": "mx9ByoX9avsU"
      },
      "source": [
        "**XG BOOSTING**"
      ]
    },
    {
      "cell_type": "code",
      "metadata": {
        "colab": {
          "base_uri": "https://localhost:8080/"
        },
        "id": "iJ_0-5-8_TfI",
        "outputId": "a2347277-058e-49d5-fba5-0632033374d9"
      },
      "source": [
        "pip install xgboost"
      ],
      "execution_count": null,
      "outputs": [
        {
          "output_type": "stream",
          "text": [
            "Requirement already satisfied: xgboost in /usr/local/lib/python3.7/dist-packages (0.90)\n",
            "Requirement already satisfied: scipy in /usr/local/lib/python3.7/dist-packages (from xgboost) (1.4.1)\n",
            "Requirement already satisfied: numpy in /usr/local/lib/python3.7/dist-packages (from xgboost) (1.19.5)\n"
          ],
          "name": "stdout"
        }
      ]
    },
    {
      "cell_type": "code",
      "metadata": {
        "id": "wJ6uNAujCjnM"
      },
      "source": [
        "from xgboost import XGBClassifier"
      ],
      "execution_count": null,
      "outputs": []
    },
    {
      "cell_type": "code",
      "metadata": {
        "id": "kym7KQCBeTlD"
      },
      "source": [
        "xgb_model=XGBClassifier()"
      ],
      "execution_count": null,
      "outputs": []
    },
    {
      "cell_type": "code",
      "metadata": {
        "colab": {
          "base_uri": "https://localhost:8080/"
        },
        "id": "i2iSfGCSDJCH",
        "outputId": "379b18ad-48d0-4655-eb8d-aface40860eb"
      },
      "source": [
        "xgb_model.fit(x_train,y_train)"
      ],
      "execution_count": null,
      "outputs": [
        {
          "output_type": "execute_result",
          "data": {
            "text/plain": [
              "XGBClassifier(base_score=0.5, booster='gbtree', colsample_bylevel=1,\n",
              "              colsample_bynode=1, colsample_bytree=1, gamma=0,\n",
              "              learning_rate=0.1, max_delta_step=0, max_depth=3,\n",
              "              min_child_weight=1, missing=None, n_estimators=100, n_jobs=1,\n",
              "              nthread=None, objective='binary:logistic', random_state=0,\n",
              "              reg_alpha=0, reg_lambda=1, scale_pos_weight=1, seed=None,\n",
              "              silent=None, subsample=1, verbosity=1)"
            ]
          },
          "metadata": {
            "tags": []
          },
          "execution_count": 58
        }
      ]
    },
    {
      "cell_type": "code",
      "metadata": {
        "id": "DZvSkRShDgsF"
      },
      "source": [
        "xgb_pred = xgb_model.predict(x_test)"
      ],
      "execution_count": null,
      "outputs": []
    },
    {
      "cell_type": "code",
      "metadata": {
        "colab": {
          "base_uri": "https://localhost:8080/"
        },
        "id": "BK3t3zA6Evrt",
        "outputId": "4760f55b-a233-47a0-aa00-27d580bcc097"
      },
      "source": [
        "print(classification_report(y_test,xgb_pred))"
      ],
      "execution_count": null,
      "outputs": [
        {
          "output_type": "stream",
          "text": [
            "              precision    recall  f1-score   support\n",
            "\n",
            "           0       0.81      0.95      0.87      3360\n",
            "           1       0.78      0.44      0.56      1344\n",
            "\n",
            "    accuracy                           0.80      4704\n",
            "   macro avg       0.79      0.69      0.72      4704\n",
            "weighted avg       0.80      0.80      0.78      4704\n",
            "\n"
          ],
          "name": "stdout"
        }
      ]
    },
    {
      "cell_type": "code",
      "metadata": {
        "colab": {
          "base_uri": "https://localhost:8080/"
        },
        "id": "iwntRYuT84aX",
        "outputId": "1bafaef4-e1e0-4a67-e7be-57362e9d80fa"
      },
      "source": [
        "print(confusion_matrix(y_test,xgb_pred))   "
      ],
      "execution_count": null,
      "outputs": [
        {
          "output_type": "stream",
          "text": [
            "[[3194  166]\n",
            " [ 756  588]]\n"
          ],
          "name": "stdout"
        }
      ]
    },
    {
      "cell_type": "code",
      "metadata": {
        "id": "DyPdt2fwF1R1"
      },
      "source": [
        "xgb_pred_train = xgb_model.predict(x_train)"
      ],
      "execution_count": null,
      "outputs": []
    },
    {
      "cell_type": "code",
      "metadata": {
        "colab": {
          "base_uri": "https://localhost:8080/"
        },
        "id": "KtXvCCbYGYKh",
        "outputId": "06b56c22-e933-4737-8707-9552a13e88bf"
      },
      "source": [
        "accuracy_score(y_train,xgb_pred_train) "
      ],
      "execution_count": null,
      "outputs": [
        {
          "output_type": "execute_result",
          "data": {
            "text/plain": [
              "0.8119817137997023"
            ]
          },
          "metadata": {
            "tags": []
          },
          "execution_count": 63
        }
      ]
    },
    {
      "cell_type": "code",
      "metadata": {
        "id": "eNOsj3pWN0vm"
      },
      "source": [
        "from tensorflow .keras.models import Sequential\n",
        "\n",
        "from tensorflow.keras.layers import Dense,LSTM,Embedding\n"
      ],
      "execution_count": 14,
      "outputs": []
    },
    {
      "cell_type": "code",
      "metadata": {
        "colab": {
          "base_uri": "https://localhost:8080/"
        },
        "id": "esv7buA3HJyL",
        "outputId": "19761e36-e3fc-442d-d395-eecde82993cb"
      },
      "source": [
        "print(x_train.shape)\n",
        "print(y_train.shape)\n",
        "print(x_test.shape)\n",
        "print(y_test.shape)"
      ],
      "execution_count": 15,
      "outputs": [
        {
          "output_type": "stream",
          "text": [
            "(18812, 500)\n",
            "(18812,)\n",
            "(4704, 500)\n",
            "(4704,)\n"
          ],
          "name": "stdout"
        }
      ]
    },
    {
      "cell_type": "code",
      "metadata": {
        "id": "OUUZ7tRC5q2d"
      },
      "source": [
        "import nltk"
      ],
      "execution_count": 16,
      "outputs": []
    },
    {
      "cell_type": "code",
      "metadata": {
        "colab": {
          "base_uri": "https://localhost:8080/"
        },
        "id": "ntj4WR2t5rHI",
        "outputId": "9719e3d2-f7ed-4ecc-a2f1-9f0d79da06b5"
      },
      "source": [
        "from nltk import word_tokenize\n",
        "nltk.download('punkt')\n",
        "nltk.download('stopwords') \n"
      ],
      "execution_count": 17,
      "outputs": [
        {
          "output_type": "stream",
          "text": [
            "[nltk_data] Downloading package punkt to /root/nltk_data...\n",
            "[nltk_data]   Unzipping tokenizers/punkt.zip.\n",
            "[nltk_data] Downloading package stopwords to /root/nltk_data...\n",
            "[nltk_data]   Unzipping corpora/stopwords.zip.\n"
          ],
          "name": "stdout"
        },
        {
          "output_type": "execute_result",
          "data": {
            "text/plain": [
              "True"
            ]
          },
          "metadata": {
            "tags": []
          },
          "execution_count": 17
        }
      ]
    },
    {
      "cell_type": "code",
      "metadata": {
        "id": "tmuErfka5rRJ"
      },
      "source": [
        "tokens = [word_tokenize(sen) for sen in result['observation']]"
      ],
      "execution_count": 18,
      "outputs": []
    },
    {
      "cell_type": "code",
      "metadata": {
        "id": "mUP9jKlm6fB5"
      },
      "source": [
        "from nltk.corpus import stopwords\n",
        "stoplist = stopwords.words('english')"
      ],
      "execution_count": 19,
      "outputs": []
    },
    {
      "cell_type": "code",
      "metadata": {
        "id": "L20VTl-s6GHR"
      },
      "source": [
        "def lower_token(tokens): \n",
        "    return [w.lower() for w in tokens]    \n",
        "    \n",
        "lower_tokens = [lower_token(token) for token in tokens]\n",
        "\n",
        "def remove_stop_words(tokens): \n",
        "    return [word for word in tokens if word not in stoplist]\n"
      ],
      "execution_count": 20,
      "outputs": []
    },
    {
      "cell_type": "code",
      "metadata": {
        "id": "Gg7G9i3N6PQJ"
      },
      "source": [
        "filtered_words = [remove_stop_words(sen) for sen in lower_tokens]"
      ],
      "execution_count": 21,
      "outputs": []
    },
    {
      "cell_type": "code",
      "metadata": {
        "id": "0jiAYxSN6Pbf"
      },
      "source": [
        "res = [' '.join(sen) for sen in filtered_words]  "
      ],
      "execution_count": 22,
      "outputs": []
    },
    {
      "cell_type": "code",
      "metadata": {
        "id": "-VCBUz5B7ALN"
      },
      "source": [
        "result['tokens'] = filtered_words "
      ],
      "execution_count": 23,
      "outputs": []
    },
    {
      "cell_type": "code",
      "metadata": {
        "colab": {
          "base_uri": "https://localhost:8080/",
          "height": 402
        },
        "id": "9O80qGud718C",
        "outputId": "c80e0423-db29-48b9-983b-fd0449b2b383"
      },
      "source": [
        "result"
      ],
      "execution_count": 24,
      "outputs": [
        {
          "output_type": "execute_result",
          "data": {
            "text/html": [
              "<div>\n",
              "<style scoped>\n",
              "    .dataframe tbody tr th:only-of-type {\n",
              "        vertical-align: middle;\n",
              "    }\n",
              "\n",
              "    .dataframe tbody tr th {\n",
              "        vertical-align: top;\n",
              "    }\n",
              "\n",
              "    .dataframe thead th {\n",
              "        text-align: right;\n",
              "    }\n",
              "</style>\n",
              "<table border=\"1\" class=\"dataframe\">\n",
              "  <thead>\n",
              "    <tr style=\"text-align: right;\">\n",
              "      <th></th>\n",
              "      <th>Unnamed: 0</th>\n",
              "      <th>observation</th>\n",
              "      <th>labels</th>\n",
              "      <th>tokens</th>\n",
              "    </tr>\n",
              "  </thead>\n",
              "  <tbody>\n",
              "    <tr>\n",
              "      <th>0</th>\n",
              "      <td>12606</td>\n",
              "      <td>early phase ii semi double blind study of the ...</td>\n",
              "      <td>0</td>\n",
              "      <td>[early, phase, ii, semi, double, blind, study,...</td>\n",
              "    </tr>\n",
              "    <tr>\n",
              "      <th>1</th>\n",
              "      <td>685</td>\n",
              "      <td>cessation of mtx therapy led to complete regre...</td>\n",
              "      <td>0</td>\n",
              "      <td>[cessation, mtx, therapy, led, complete, regre...</td>\n",
              "    </tr>\n",
              "    <tr>\n",
              "      <th>2</th>\n",
              "      <td>5127</td>\n",
              "      <td>cutaneous biopsy showed hyphae and round inclu...</td>\n",
              "      <td>0</td>\n",
              "      <td>[cutaneous, biopsy, showed, hyphae, round, inc...</td>\n",
              "    </tr>\n",
              "    <tr>\n",
              "      <th>3</th>\n",
              "      <td>3158</td>\n",
              "      <td>she was treated with acyclovir and subsequentl...</td>\n",
              "      <td>1</td>\n",
              "      <td>[treated, acyclovir, subsequently, developed, ...</td>\n",
              "    </tr>\n",
              "    <tr>\n",
              "      <th>4</th>\n",
              "      <td>10685</td>\n",
              "      <td>cisplatin was substituted and the patient achi...</td>\n",
              "      <td>0</td>\n",
              "      <td>[cisplatin, substituted, patient, achieved, co...</td>\n",
              "    </tr>\n",
              "    <tr>\n",
              "      <th>...</th>\n",
              "      <td>...</td>\n",
              "      <td>...</td>\n",
              "      <td>...</td>\n",
              "      <td>...</td>\n",
              "    </tr>\n",
              "    <tr>\n",
              "      <th>23511</th>\n",
              "      <td>982</td>\n",
              "      <td>ticlopidine induced aplastic anemia  two new c...</td>\n",
              "      <td>1</td>\n",
              "      <td>[ticlopidine, induced, aplastic, anemia, two, ...</td>\n",
              "    </tr>\n",
              "    <tr>\n",
              "      <th>23512</th>\n",
              "      <td>14487</td>\n",
              "      <td>the risks of sumatriptan administration in pat...</td>\n",
              "      <td>0</td>\n",
              "      <td>[risks, sumatriptan, administration, patients,...</td>\n",
              "    </tr>\n",
              "    <tr>\n",
              "      <th>23513</th>\n",
              "      <td>4680</td>\n",
              "      <td>however   the spectrum of hosts and clinical p...</td>\n",
              "      <td>0</td>\n",
              "      <td>[however, spectrum, hosts, clinical, presentat...</td>\n",
              "    </tr>\n",
              "    <tr>\n",
              "      <th>23514</th>\n",
              "      <td>2588</td>\n",
              "      <td>antibiotic treatment should be continued</td>\n",
              "      <td>0</td>\n",
              "      <td>[antibiotic, treatment, continued]</td>\n",
              "    </tr>\n",
              "    <tr>\n",
              "      <th>23515</th>\n",
              "      <td>6571</td>\n",
              "      <td>in case     a total daily dose of    mg sertra...</td>\n",
              "      <td>1</td>\n",
              "      <td>[case, total, daily, dose, mg, sertraline, non...</td>\n",
              "    </tr>\n",
              "  </tbody>\n",
              "</table>\n",
              "<p>23516 rows × 4 columns</p>\n",
              "</div>"
            ],
            "text/plain": [
              "       Unnamed: 0  ...                                             tokens\n",
              "0           12606  ...  [early, phase, ii, semi, double, blind, study,...\n",
              "1             685  ...  [cessation, mtx, therapy, led, complete, regre...\n",
              "2            5127  ...  [cutaneous, biopsy, showed, hyphae, round, inc...\n",
              "3            3158  ...  [treated, acyclovir, subsequently, developed, ...\n",
              "4           10685  ...  [cisplatin, substituted, patient, achieved, co...\n",
              "...           ...  ...                                                ...\n",
              "23511         982  ...  [ticlopidine, induced, aplastic, anemia, two, ...\n",
              "23512       14487  ...  [risks, sumatriptan, administration, patients,...\n",
              "23513        4680  ...  [however, spectrum, hosts, clinical, presentat...\n",
              "23514        2588  ...                 [antibiotic, treatment, continued]\n",
              "23515        6571  ...  [case, total, daily, dose, mg, sertraline, non...\n",
              "\n",
              "[23516 rows x 4 columns]"
            ]
          },
          "metadata": {
            "tags": []
          },
          "execution_count": 24
        }
      ]
    },
    {
      "cell_type": "code",
      "metadata": {
        "colab": {
          "base_uri": "https://localhost:8080/"
        },
        "id": "Hvx8xgi96x9W",
        "outputId": "dd34dbf9-6387-4cdd-bb1e-f8a603d14ab8"
      },
      "source": [
        "sentence_lengths = [len(tokens) for tokens in result[\"tokens\"]]\n",
        "print(\"Max sentence length is %s\" % max(sentence_lengths))"
      ],
      "execution_count": 25,
      "outputs": [
        {
          "output_type": "stream",
          "text": [
            "Max sentence length is 65\n"
          ],
          "name": "stdout"
        }
      ]
    },
    {
      "cell_type": "code",
      "metadata": {
        "id": "k8UeKJBKHnxi"
      },
      "source": [
        "rnn_model=Sequential()\n",
        "\n",
        "rnn_model.add(Embedding(500, 64, input_length=65))\n",
        "\n",
        "rnn_model.add(LSTM(192))\n",
        "\n",
        "rnn_model.add(Dense(1, activation='sigmoid'))  "
      ],
      "execution_count": 26,
      "outputs": []
    },
    {
      "cell_type": "code",
      "metadata": {
        "id": "-jAIods6IXvd"
      },
      "source": [
        "rnn_model.compile(optimizer='adam', loss=\"binary_crossentropy\", metrics=['accuracy'])\n"
      ],
      "execution_count": 27,
      "outputs": []
    },
    {
      "cell_type": "code",
      "metadata": {
        "colab": {
          "base_uri": "https://localhost:8080/"
        },
        "id": "ROPUjeUwIdrl",
        "outputId": "41bb34f7-8682-452f-b146-273a173a800d"
      },
      "source": [
        "rnn_model.summary()"
      ],
      "execution_count": 28,
      "outputs": [
        {
          "output_type": "stream",
          "text": [
            "Model: \"sequential\"\n",
            "_________________________________________________________________\n",
            "Layer (type)                 Output Shape              Param #   \n",
            "=================================================================\n",
            "embedding (Embedding)        (None, 65, 64)            32000     \n",
            "_________________________________________________________________\n",
            "lstm (LSTM)                  (None, 192)               197376    \n",
            "_________________________________________________________________\n",
            "dense (Dense)                (None, 1)                 193       \n",
            "=================================================================\n",
            "Total params: 229,569\n",
            "Trainable params: 229,569\n",
            "Non-trainable params: 0\n",
            "_________________________________________________________________\n"
          ],
          "name": "stdout"
        }
      ]
    },
    {
      "cell_type": "code",
      "metadata": {
        "colab": {
          "base_uri": "https://localhost:8080/"
        },
        "id": "qAYD0RntIgZt",
        "outputId": "3433f9ac-d73f-473e-c557-e8b478fba374"
      },
      "source": [
        "history=rnn_model.fit(\n",
        "    x_train, y_train,\n",
        "    validation_data = (x_test, y_test),\n",
        "    epochs = 5,batch_size=500) "
      ],
      "execution_count": 30,
      "outputs": [
        {
          "output_type": "stream",
          "text": [
            "Epoch 1/5\n",
            "38/38 [==============================] - ETA: 0s - loss: 0.6043 - accuracy: 0.7089WARNING:tensorflow:Model was constructed with shape (None, 65) for input KerasTensor(type_spec=TensorSpec(shape=(None, 65), dtype=tf.float32, name='embedding_input'), name='embedding_input', description=\"created by layer 'embedding_input'\"), but it was called on an input with incompatible shape (None, 500).\n",
            "38/38 [==============================] - 379s 10s/step - loss: 0.6043 - accuracy: 0.7089 - val_loss: 0.5874 - val_accuracy: 0.7143\n",
            "Epoch 2/5\n",
            "38/38 [==============================] - 385s 10s/step - loss: 0.5876 - accuracy: 0.7104 - val_loss: 0.5811 - val_accuracy: 0.7232\n",
            "Epoch 3/5\n",
            "38/38 [==============================] - 338s 9s/step - loss: 0.5828 - accuracy: 0.7139 - val_loss: 0.5726 - val_accuracy: 0.7177\n",
            "Epoch 4/5\n",
            "38/38 [==============================] - 331s 9s/step - loss: 0.5835 - accuracy: 0.7099 - val_loss: 0.5739 - val_accuracy: 0.7228\n",
            "Epoch 5/5\n",
            "38/38 [==============================] - 329s 9s/step - loss: 0.5823 - accuracy: 0.7150 - val_loss: 0.5694 - val_accuracy: 0.7224\n"
          ],
          "name": "stdout"
        }
      ]
    },
    {
      "cell_type": "code",
      "metadata": {
        "id": "0qro0xTWw-uf"
      },
      "source": [
        "import matplotlib.pyplot as plt\n"
      ],
      "execution_count": 31,
      "outputs": []
    },
    {
      "cell_type": "code",
      "metadata": {
        "id": "WPXRt88EInih",
        "colab": {
          "base_uri": "https://localhost:8080/",
          "height": 295
        },
        "outputId": "e0d95c35-4128-4575-f5f4-2f51f3cc8c05"
      },
      "source": [
        "plt.plot(history.history['loss'])\n",
        "plt.plot(history.history['val_loss'])\n",
        "plt.title('model loss')\n",
        "plt.ylabel('loss')\n",
        "plt.xlabel('epoch')\n",
        "plt.legend(['train', 'validation'])\n",
        "plt.show() "
      ],
      "execution_count": 33,
      "outputs": [
        {
          "output_type": "display_data",
          "data": {
            "image/png": "[encoded data removed]",
            "text/plain": [
              "<Figure size 432x288 with 1 Axes>"
            ]
          },
          "metadata": {
            "tags": [],
            "needs_background": "light"
          }
        }
      ]
    },
    {
      "cell_type": "code",
      "metadata": {
        "id": "I5R3PeuUwT6U"
      },
      "source": [
        "import tensorflow as tf\n"
      ],
      "execution_count": 35,
      "outputs": []
    },
    {
      "cell_type": "code",
      "metadata": {
        "id": "AYa6VNRhxDdT"
      },
      "source": [
        "rnn_model.compile(optimizer='adam', loss=\"binary_crossentropy\", metrics=[tf.keras.metrics.Precision(),tf.keras.metrics.Recall(),tf.keras.metrics.SpecificityAtSensitivity(0.5)])\n",
        " "
      ],
      "execution_count": 36,
      "outputs": []
    },
    {
      "cell_type": "code",
      "metadata": {
        "colab": {
          "base_uri": "https://localhost:8080/"
        },
        "id": "tTsdkUbUwRl4",
        "outputId": "1fc3ebad-766b-4d14-d6d0-576df0f43256"
      },
      "source": [
        "rnn_model.fit(\n",
        "    x_train, y_train,\n",
        "    validation_data = (x_test, y_test),\n",
        "    epochs = 5,batch_size=500) "
      ],
      "execution_count": 37,
      "outputs": [
        {
          "output_type": "stream",
          "text": [
            "Epoch 1/5\n",
            "WARNING:tensorflow:Model was constructed with shape (None, 65) for input KerasTensor(type_spec=TensorSpec(shape=(None, 65), dtype=tf.float32, name='embedding_input'), name='embedding_input', description=\"created by layer 'embedding_input'\"), but it was called on an input with incompatible shape (None, 500).\n",
            "WARNING:tensorflow:Model was constructed with shape (None, 65) for input KerasTensor(type_spec=TensorSpec(shape=(None, 65), dtype=tf.float32, name='embedding_input'), name='embedding_input', description=\"created by layer 'embedding_input'\"), but it was called on an input with incompatible shape (None, 500).\n",
            "38/38 [==============================] - ETA: 0s - loss: 0.5856 - precision: 0.5462 - recall: 0.0712 - specificity_at_sensitivity: 0.6488WARNING:tensorflow:Model was constructed with shape (None, 65) for input KerasTensor(type_spec=TensorSpec(shape=(None, 65), dtype=tf.float32, name='embedding_input'), name='embedding_input', description=\"created by layer 'embedding_input'\"), but it was called on an input with incompatible shape (None, 500).\n",
            "38/38 [==============================] - 333s 9s/step - loss: 0.5856 - precision: 0.5462 - recall: 0.0712 - specificity_at_sensitivity: 0.6488 - val_loss: 0.5744 - val_precision: 0.5825 - val_recall: 0.0446 - val_specificity_at_sensitivity: 0.6958\n",
            "Epoch 2/5\n",
            "38/38 [==============================] - 328s 9s/step - loss: 0.5822 - precision: 0.5581 - recall: 0.0816 - specificity_at_sensitivity: 0.6739 - val_loss: 0.5905 - val_precision: 0.5106 - val_recall: 0.1257 - val_specificity_at_sensitivity: 0.6515\n",
            "Epoch 3/5\n",
            "38/38 [==============================] - 328s 9s/step - loss: 0.5851 - precision: 0.5471 - recall: 0.0509 - specificity_at_sensitivity: 0.6746 - val_loss: 0.5707 - val_precision: 0.5749 - val_recall: 0.1057 - val_specificity_at_sensitivity: 0.7074\n",
            "Epoch 4/5\n",
            "38/38 [==============================] - 326s 9s/step - loss: 0.5807 - precision: 0.5618 - recall: 0.0955 - specificity_at_sensitivity: 0.6721 - val_loss: 0.5679 - val_precision: 0.6101 - val_recall: 0.0990 - val_specificity_at_sensitivity: 0.7086\n",
            "Epoch 5/5\n",
            "38/38 [==============================] - 326s 9s/step - loss: 0.5812 - precision: 0.5711 - recall: 0.0822 - specificity_at_sensitivity: 0.6768 - val_loss: 0.5720 - val_precision: 0.5874 - val_recall: 0.0625 - val_specificity_at_sensitivity: 0.7003\n"
          ],
          "name": "stdout"
        },
        {
          "output_type": "execute_result",
          "data": {
            "text/plain": [
              "<tensorflow.python.keras.callbacks.History at 0x7fe1412b0890>"
            ]
          },
          "metadata": {
            "tags": []
          },
          "execution_count": 37
        }
      ]
    },
    {
      "cell_type": "code",
      "metadata": {
        "id": "5e0FouAUxuVJ"
      },
      "source": [
        "rnn_model.compile(optimizer='adam', loss=\"binary_crossentropy\", metrics=[tf.keras.metrics.TrueNegatives(),tf.keras.metrics.TruePositives(),tf.keras.metrics.FalsePositives(),tf.keras.metrics.FalseNegatives()])\n"
      ],
      "execution_count": 39,
      "outputs": []
    },
    {
      "cell_type": "code",
      "metadata": {
        "colab": {
          "base_uri": "https://localhost:8080/"
        },
        "id": "aZcohlfA4UBZ",
        "outputId": "0a989376-72ef-4b0c-b650-8a5a47043c4a"
      },
      "source": [
        "rnn_model.fit(\n",
        "    x_train,y_train,\n",
        "    validation_data = (x_test,y_test),\n",
        "    epochs = 5,batch_size=500)  "
      ],
      "execution_count": 40,
      "outputs": [
        {
          "output_type": "stream",
          "text": [
            "Epoch 1/5\n",
            "WARNING:tensorflow:Model was constructed with shape (None, 65) for input KerasTensor(type_spec=TensorSpec(shape=(None, 65), dtype=tf.float32, name='embedding_input'), name='embedding_input', description=\"created by layer 'embedding_input'\"), but it was called on an input with incompatible shape (None, 500).\n",
            "WARNING:tensorflow:Model was constructed with shape (None, 65) for input KerasTensor(type_spec=TensorSpec(shape=(None, 65), dtype=tf.float32, name='embedding_input'), name='embedding_input', description=\"created by layer 'embedding_input'\"), but it was called on an input with incompatible shape (None, 500).\n",
            "38/38 [==============================] - ETA: 0s - loss: 0.5809 - true_negatives_1: 12974.0000 - true_positives_1: 501.0000 - false_positives_1: 361.0000 - false_negatives_1: 4976.0000WARNING:tensorflow:Model was constructed with shape (None, 65) for input KerasTensor(type_spec=TensorSpec(shape=(None, 65), dtype=tf.float32, name='embedding_input'), name='embedding_input', description=\"created by layer 'embedding_input'\"), but it was called on an input with incompatible shape (None, 500).\n",
            "38/38 [==============================] - 358s 9s/step - loss: 0.5809 - true_negatives_1: 12974.0000 - true_positives_1: 501.0000 - false_positives_1: 361.0000 - false_negatives_1: 4976.0000 - val_loss: 0.5692 - val_true_negatives_1: 3299.0000 - val_true_positives_1: 92.0000 - val_false_positives_1: 61.0000 - val_false_negatives_1: 1252.0000\n",
            "Epoch 2/5\n",
            "38/38 [==============================] - 327s 9s/step - loss: 0.5810 - true_negatives_1: 12984.0000 - true_positives_1: 460.0000 - false_positives_1: 351.0000 - false_negatives_1: 5017.0000 - val_loss: 0.5677 - val_true_negatives_1: 3210.0000 - val_true_positives_1: 192.0000 - val_false_positives_1: 150.0000 - val_false_negatives_1: 1152.0000\n",
            "Epoch 3/5\n",
            "38/38 [==============================] - 326s 9s/step - loss: 0.5824 - true_negatives_1: 13033.0000 - true_positives_1: 413.0000 - false_positives_1: 302.0000 - false_negatives_1: 5064.0000 - val_loss: 0.5723 - val_true_negatives_1: 3299.0000 - val_true_positives_1: 95.0000 - val_false_positives_1: 61.0000 - val_false_negatives_1: 1249.0000\n",
            "Epoch 4/5\n",
            "38/38 [==============================] - 325s 9s/step - loss: 0.5811 - true_negatives_1: 12989.0000 - true_positives_1: 474.0000 - false_positives_1: 346.0000 - false_negatives_1: 5003.0000 - val_loss: 0.5762 - val_true_negatives_1: 3326.0000 - val_true_positives_1: 62.0000 - val_false_positives_1: 34.0000 - val_false_negatives_1: 1282.0000\n",
            "Epoch 5/5\n",
            "38/38 [==============================] - 327s 9s/step - loss: 0.5830 - true_negatives_1: 13018.0000 - true_positives_1: 433.0000 - false_positives_1: 317.0000 - false_negatives_1: 5044.0000 - val_loss: 0.5760 - val_true_negatives_1: 3321.0000 - val_true_positives_1: 63.0000 - val_false_positives_1: 39.0000 - val_false_negatives_1: 1281.0000\n"
          ],
          "name": "stdout"
        },
        {
          "output_type": "execute_result",
          "data": {
            "text/plain": [
              "<tensorflow.python.keras.callbacks.History at 0x7fe1409f2910>"
            ]
          },
          "metadata": {
            "tags": []
          },
          "execution_count": 40
        }
      ]
    },
    {
      "cell_type": "code",
      "metadata": {
        "id": "cj2FKxto5AVb"
      },
      "source": [
        ""
      ],
      "execution_count": null,
      "outputs": []
    }
  ]
}