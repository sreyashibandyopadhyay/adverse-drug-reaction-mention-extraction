{
  "nbformat": 4,
  "nbformat_minor": 0,
  "metadata": {
    "colab": {
      "name": "word2vec_ML.ipynb",
      "provenance": []
    },
    "kernelspec": {
      "name": "python3",
      "display_name": "Python 3"
    },
    "language_info": {
      "name": "python"
    }
  },
  "cells": [
    {
      "cell_type": "code",
      "metadata": {
        "id": "NZqNzm6vEul2"
      },
      "source": [
        "import numpy as np \n",
        "import pandas as pd "
      ],
      "execution_count": null,
      "outputs": []
    },
    {
      "cell_type": "code",
      "metadata": {
        "id": "ueCKZhOhFHlr"
      },
      "source": [
        "data=pd.read_csv('/content/preprocessed_ade.csv')"
      ],
      "execution_count": null,
      "outputs": []
    },
    {
      "cell_type": "code",
      "metadata": {
        "colab": {
          "base_uri": "https://localhost:8080/",
          "height": 402
        },
        "id": "_drP0Ym9F32U",
        "outputId": "e71faab9-68f7-4f8d-db52-2607610527ac"
      },
      "source": [
        "data"
      ],
      "execution_count": null,
      "outputs": [
        {
          "output_type": "execute_result",
          "data": {
            "text/html": [
              "<div>\n",
              "<style scoped>\n",
              "    .dataframe tbody tr th:only-of-type {\n",
              "        vertical-align: middle;\n",
              "    }\n",
              "\n",
              "    .dataframe tbody tr th {\n",
              "        vertical-align: top;\n",
              "    }\n",
              "\n",
              "    .dataframe thead th {\n",
              "        text-align: right;\n",
              "    }\n",
              "</style>\n",
              "<table border=\"1\" class=\"dataframe\">\n",
              "  <thead>\n",
              "    <tr style=\"text-align: right;\">\n",
              "      <th></th>\n",
              "      <th>Unnamed: 0</th>\n",
              "      <th>observation</th>\n",
              "      <th>labels</th>\n",
              "    </tr>\n",
              "  </thead>\n",
              "  <tbody>\n",
              "    <tr>\n",
              "      <th>0</th>\n",
              "      <td>12606</td>\n",
              "      <td>early phase ii semi double blind study of the ...</td>\n",
              "      <td>0</td>\n",
              "    </tr>\n",
              "    <tr>\n",
              "      <th>1</th>\n",
              "      <td>685</td>\n",
              "      <td>cessation of mtx therapy led to complete regre...</td>\n",
              "      <td>0</td>\n",
              "    </tr>\n",
              "    <tr>\n",
              "      <th>2</th>\n",
              "      <td>5127</td>\n",
              "      <td>cutaneous biopsy showed hyphae and round inclu...</td>\n",
              "      <td>0</td>\n",
              "    </tr>\n",
              "    <tr>\n",
              "      <th>3</th>\n",
              "      <td>3158</td>\n",
              "      <td>she was treated with acyclovir and subsequentl...</td>\n",
              "      <td>1</td>\n",
              "    </tr>\n",
              "    <tr>\n",
              "      <th>4</th>\n",
              "      <td>10685</td>\n",
              "      <td>cisplatin was substituted and the patient achi...</td>\n",
              "      <td>0</td>\n",
              "    </tr>\n",
              "    <tr>\n",
              "      <th>...</th>\n",
              "      <td>...</td>\n",
              "      <td>...</td>\n",
              "      <td>...</td>\n",
              "    </tr>\n",
              "    <tr>\n",
              "      <th>23511</th>\n",
              "      <td>982</td>\n",
              "      <td>ticlopidine induced aplastic anemia  two new c...</td>\n",
              "      <td>1</td>\n",
              "    </tr>\n",
              "    <tr>\n",
              "      <th>23512</th>\n",
              "      <td>14487</td>\n",
              "      <td>the risks of sumatriptan administration in pat...</td>\n",
              "      <td>0</td>\n",
              "    </tr>\n",
              "    <tr>\n",
              "      <th>23513</th>\n",
              "      <td>4680</td>\n",
              "      <td>however   the spectrum of hosts and clinical p...</td>\n",
              "      <td>0</td>\n",
              "    </tr>\n",
              "    <tr>\n",
              "      <th>23514</th>\n",
              "      <td>2588</td>\n",
              "      <td>antibiotic treatment should be continued</td>\n",
              "      <td>0</td>\n",
              "    </tr>\n",
              "    <tr>\n",
              "      <th>23515</th>\n",
              "      <td>6571</td>\n",
              "      <td>in case     a total daily dose of    mg sertra...</td>\n",
              "      <td>1</td>\n",
              "    </tr>\n",
              "  </tbody>\n",
              "</table>\n",
              "<p>23516 rows × 3 columns</p>\n",
              "</div>"
            ],
            "text/plain": [
              "       Unnamed: 0                                        observation  labels\n",
              "0           12606  early phase ii semi double blind study of the ...       0\n",
              "1             685  cessation of mtx therapy led to complete regre...       0\n",
              "2            5127  cutaneous biopsy showed hyphae and round inclu...       0\n",
              "3            3158  she was treated with acyclovir and subsequentl...       1\n",
              "4           10685  cisplatin was substituted and the patient achi...       0\n",
              "...           ...                                                ...     ...\n",
              "23511         982  ticlopidine induced aplastic anemia  two new c...       1\n",
              "23512       14487  the risks of sumatriptan administration in pat...       0\n",
              "23513        4680  however   the spectrum of hosts and clinical p...       0\n",
              "23514        2588           antibiotic treatment should be continued       0\n",
              "23515        6571  in case     a total daily dose of    mg sertra...       1\n",
              "\n",
              "[23516 rows x 3 columns]"
            ]
          },
          "metadata": {
            "tags": []
          },
          "execution_count": 3
        }
      ]
    },
    {
      "cell_type": "code",
      "metadata": {
        "id": "PFFGDoTeF45v"
      },
      "source": [
        "import gensim\n",
        "import os\n",
        "import nltk"
      ],
      "execution_count": null,
      "outputs": []
    },
    {
      "cell_type": "code",
      "metadata": {
        "colab": {
          "base_uri": "https://localhost:8080/"
        },
        "id": "sW8vYTmyGCFa",
        "outputId": "98f9ec5b-fac7-42a5-8cc3-458a82099dec"
      },
      "source": [
        "nltk.download('punkt')"
      ],
      "execution_count": null,
      "outputs": [
        {
          "output_type": "stream",
          "text": [
            "[nltk_data] Downloading package punkt to /root/nltk_data...\n",
            "[nltk_data]   Unzipping tokenizers/punkt.zip.\n"
          ],
          "name": "stdout"
        },
        {
          "output_type": "execute_result",
          "data": {
            "text/plain": [
              "True"
            ]
          },
          "metadata": {
            "tags": []
          },
          "execution_count": 5
        }
      ]
    },
    {
      "cell_type": "code",
      "metadata": {
        "colab": {
          "base_uri": "https://localhost:8080/"
        },
        "id": "iiYPtizvGRBy",
        "outputId": "e529f7c4-b5d4-4683-c76f-5d0792192ee5"
      },
      "source": [
        "nltk.download('stopwords')"
      ],
      "execution_count": null,
      "outputs": [
        {
          "output_type": "stream",
          "text": [
            "[nltk_data] Downloading package stopwords to /root/nltk_data...\n",
            "[nltk_data]   Unzipping corpora/stopwords.zip.\n"
          ],
          "name": "stdout"
        },
        {
          "output_type": "execute_result",
          "data": {
            "text/plain": [
              "True"
            ]
          },
          "metadata": {
            "tags": []
          },
          "execution_count": 6
        }
      ]
    },
    {
      "cell_type": "code",
      "metadata": {
        "id": "TkCesugdGTsk"
      },
      "source": [
        "import string\n",
        "from nltk.tokenize import word_tokenize\n",
        "from nltk.corpus import stopwords\n"
      ],
      "execution_count": null,
      "outputs": []
    },
    {
      "cell_type": "code",
      "metadata": {
        "colab": {
          "base_uri": "https://localhost:8080/",
          "height": 402
        },
        "id": "E-2EzJz_GkqS",
        "outputId": "6982bf8a-3c92-444e-fbcb-8c0a519b8dc0"
      },
      "source": [
        "data"
      ],
      "execution_count": null,
      "outputs": [
        {
          "output_type": "execute_result",
          "data": {
            "text/html": [
              "<div>\n",
              "<style scoped>\n",
              "    .dataframe tbody tr th:only-of-type {\n",
              "        vertical-align: middle;\n",
              "    }\n",
              "\n",
              "    .dataframe tbody tr th {\n",
              "        vertical-align: top;\n",
              "    }\n",
              "\n",
              "    .dataframe thead th {\n",
              "        text-align: right;\n",
              "    }\n",
              "</style>\n",
              "<table border=\"1\" class=\"dataframe\">\n",
              "  <thead>\n",
              "    <tr style=\"text-align: right;\">\n",
              "      <th></th>\n",
              "      <th>Unnamed: 0</th>\n",
              "      <th>observation</th>\n",
              "      <th>labels</th>\n",
              "    </tr>\n",
              "  </thead>\n",
              "  <tbody>\n",
              "    <tr>\n",
              "      <th>0</th>\n",
              "      <td>12606</td>\n",
              "      <td>early phase ii semi double blind study of the ...</td>\n",
              "      <td>0</td>\n",
              "    </tr>\n",
              "    <tr>\n",
              "      <th>1</th>\n",
              "      <td>685</td>\n",
              "      <td>cessation of mtx therapy led to complete regre...</td>\n",
              "      <td>0</td>\n",
              "    </tr>\n",
              "    <tr>\n",
              "      <th>2</th>\n",
              "      <td>5127</td>\n",
              "      <td>cutaneous biopsy showed hyphae and round inclu...</td>\n",
              "      <td>0</td>\n",
              "    </tr>\n",
              "    <tr>\n",
              "      <th>3</th>\n",
              "      <td>3158</td>\n",
              "      <td>she was treated with acyclovir and subsequentl...</td>\n",
              "      <td>1</td>\n",
              "    </tr>\n",
              "    <tr>\n",
              "      <th>4</th>\n",
              "      <td>10685</td>\n",
              "      <td>cisplatin was substituted and the patient achi...</td>\n",
              "      <td>0</td>\n",
              "    </tr>\n",
              "    <tr>\n",
              "      <th>...</th>\n",
              "      <td>...</td>\n",
              "      <td>...</td>\n",
              "      <td>...</td>\n",
              "    </tr>\n",
              "    <tr>\n",
              "      <th>23511</th>\n",
              "      <td>982</td>\n",
              "      <td>ticlopidine induced aplastic anemia  two new c...</td>\n",
              "      <td>1</td>\n",
              "    </tr>\n",
              "    <tr>\n",
              "      <th>23512</th>\n",
              "      <td>14487</td>\n",
              "      <td>the risks of sumatriptan administration in pat...</td>\n",
              "      <td>0</td>\n",
              "    </tr>\n",
              "    <tr>\n",
              "      <th>23513</th>\n",
              "      <td>4680</td>\n",
              "      <td>however   the spectrum of hosts and clinical p...</td>\n",
              "      <td>0</td>\n",
              "    </tr>\n",
              "    <tr>\n",
              "      <th>23514</th>\n",
              "      <td>2588</td>\n",
              "      <td>antibiotic treatment should be continued</td>\n",
              "      <td>0</td>\n",
              "    </tr>\n",
              "    <tr>\n",
              "      <th>23515</th>\n",
              "      <td>6571</td>\n",
              "      <td>in case     a total daily dose of    mg sertra...</td>\n",
              "      <td>1</td>\n",
              "    </tr>\n",
              "  </tbody>\n",
              "</table>\n",
              "<p>23516 rows × 3 columns</p>\n",
              "</div>"
            ],
            "text/plain": [
              "       Unnamed: 0                                        observation  labels\n",
              "0           12606  early phase ii semi double blind study of the ...       0\n",
              "1             685  cessation of mtx therapy led to complete regre...       0\n",
              "2            5127  cutaneous biopsy showed hyphae and round inclu...       0\n",
              "3            3158  she was treated with acyclovir and subsequentl...       1\n",
              "4           10685  cisplatin was substituted and the patient achi...       0\n",
              "...           ...                                                ...     ...\n",
              "23511         982  ticlopidine induced aplastic anemia  two new c...       1\n",
              "23512       14487  the risks of sumatriptan administration in pat...       0\n",
              "23513        4680  however   the spectrum of hosts and clinical p...       0\n",
              "23514        2588           antibiotic treatment should be continued       0\n",
              "23515        6571  in case     a total daily dose of    mg sertra...       1\n",
              "\n",
              "[23516 rows x 3 columns]"
            ]
          },
          "metadata": {
            "tags": []
          },
          "execution_count": 8
        }
      ]
    },
    {
      "cell_type": "code",
      "metadata": {
        "colab": {
          "base_uri": "https://localhost:8080/"
        },
        "id": "pgDzvYcaG_Uq",
        "outputId": "ebc3977c-2338-446a-ca91-c8ac286f0b3d"
      },
      "source": [
        "!wget -P /root/input/ -c \"https://s3.amazonaws.com/dl4j-distribution/GoogleNews-vectors-negative300.bin.gz\""
      ],
      "execution_count": null,
      "outputs": [
        {
          "output_type": "stream",
          "text": [
            "--2021-06-24 07:28:42--  https://s3.amazonaws.com/dl4j-distribution/GoogleNews-vectors-negative300.bin.gz\n",
            "Resolving s3.amazonaws.com (s3.amazonaws.com)... 52.216.154.38\n",
            "Connecting to s3.amazonaws.com (s3.amazonaws.com)|52.216.154.38|:443... connected.\n",
            "HTTP request sent, awaiting response... 200 OK\n",
            "Length: 1647046227 (1.5G) [application/x-gzip]\n",
            "Saving to: ‘/root/input/GoogleNews-vectors-negative300.bin.gz’\n",
            "\n",
            "GoogleNews-vectors- 100%[===================>]   1.53G  55.5MB/s    in 30s     \n",
            "\n",
            "2021-06-24 07:29:13 (52.3 MB/s) - ‘/root/input/GoogleNews-vectors-negative300.bin.gz’ saved [1647046227/1647046227]\n",
            "\n"
          ],
          "name": "stdout"
        }
      ]
    },
    {
      "cell_type": "code",
      "metadata": {
        "id": "9s01ESftHNcm"
      },
      "source": [
        "url=\"https://s3.amazonaws.com/dl4j-distribution/GoogleNews-vectors-negative300.bin.gz\""
      ],
      "execution_count": null,
      "outputs": []
    },
    {
      "cell_type": "code",
      "metadata": {
        "id": "2JMc-0QFHm3t"
      },
      "source": [
        "embeddings = gensim.models.KeyedVectors.load_word2vec_format(url, binary=True)"
      ],
      "execution_count": null,
      "outputs": []
    },
    {
      "cell_type": "code",
      "metadata": {
        "colab": {
          "base_uri": "https://localhost:8080/"
        },
        "id": "vlUREQiHHqb_",
        "outputId": "75791832-f9f1-40f8-96f6-1fd8f5c5849b"
      },
      "source": [
        "docs_vectors = pd.DataFrame() # creating empty final dataframe\n",
        "stopwords = nltk.corpus.stopwords.words('english') # removing stop words\n",
        "for doc in data['observation'].str.lower().str.replace('[^a-z ]', ''): # looping through each document and cleaning it\n",
        "    temp = pd.DataFrame()  # creating a temporary dataframe(store value for 1st doc & for 2nd doc remove the details of 1st & proced through 2nd and so on..)\n",
        "    for word in doc.split(' '): # looping through each word of a single document and spliting through space\n",
        "        if word not in stopwords: # if word is not present in stopwords then (try)\n",
        "            try:\n",
        "                word_vec = embeddings[word] # if word is present in embeddings(goole provides weights associate with words(300)) then proceed\n",
        "                temp = temp.append(pd.Series(word_vec), ignore_index = True) # if word is present then append it to temporary dataframe\n",
        "            except:\n",
        "                pass\n",
        "    doc_vector = temp.mean() # take the average of each column(w0, w1, w2,........w300)\n",
        "    docs_vectors = docs_vectors.append(doc_vector, ignore_index = True) # append each document value to the final dataframe\n",
        "docs_vectors.shape"
      ],
      "execution_count": null,
      "outputs": [
        {
          "output_type": "execute_result",
          "data": {
            "text/plain": [
              "(23516, 300)"
            ]
          },
          "metadata": {
            "tags": []
          },
          "execution_count": 12
        }
      ]
    },
    {
      "cell_type": "code",
      "metadata": {
        "id": "d_GHc7yjKC70"
      },
      "source": [
        " docs_vectors['labels'] = data['labels']"
      ],
      "execution_count": null,
      "outputs": []
    },
    {
      "cell_type": "code",
      "metadata": {
        "id": "RtC7wVxUS2bT"
      },
      "source": [
        "docs_vectors = docs_vectors.dropna()"
      ],
      "execution_count": null,
      "outputs": []
    },
    {
      "cell_type": "code",
      "metadata": {
        "colab": {
          "base_uri": "https://localhost:8080/",
          "height": 422
        },
        "id": "hI0fLFw8P3Cs",
        "outputId": "f0771172-71f8-4b4e-ce0b-a2eb0fc04371"
      },
      "source": [
        "docs_vectors"
      ],
      "execution_count": null,
      "outputs": [
        {
          "output_type": "execute_result",
          "data": {
            "text/html": [
              "<div>\n",
              "<style scoped>\n",
              "    .dataframe tbody tr th:only-of-type {\n",
              "        vertical-align: middle;\n",
              "    }\n",
              "\n",
              "    .dataframe tbody tr th {\n",
              "        vertical-align: top;\n",
              "    }\n",
              "\n",
              "    .dataframe thead th {\n",
              "        text-align: right;\n",
              "    }\n",
              "</style>\n",
              "<table border=\"1\" class=\"dataframe\">\n",
              "  <thead>\n",
              "    <tr style=\"text-align: right;\">\n",
              "      <th></th>\n",
              "      <th>0</th>\n",
              "      <th>1</th>\n",
              "      <th>2</th>\n",
              "      <th>3</th>\n",
              "      <th>4</th>\n",
              "      <th>5</th>\n",
              "      <th>6</th>\n",
              "      <th>7</th>\n",
              "      <th>8</th>\n",
              "      <th>9</th>\n",
              "      <th>10</th>\n",
              "      <th>11</th>\n",
              "      <th>12</th>\n",
              "      <th>13</th>\n",
              "      <th>14</th>\n",
              "      <th>15</th>\n",
              "      <th>16</th>\n",
              "      <th>17</th>\n",
              "      <th>18</th>\n",
              "      <th>19</th>\n",
              "      <th>20</th>\n",
              "      <th>21</th>\n",
              "      <th>22</th>\n",
              "      <th>23</th>\n",
              "      <th>24</th>\n",
              "      <th>25</th>\n",
              "      <th>26</th>\n",
              "      <th>27</th>\n",
              "      <th>28</th>\n",
              "      <th>29</th>\n",
              "      <th>30</th>\n",
              "      <th>31</th>\n",
              "      <th>32</th>\n",
              "      <th>33</th>\n",
              "      <th>34</th>\n",
              "      <th>35</th>\n",
              "      <th>36</th>\n",
              "      <th>37</th>\n",
              "      <th>38</th>\n",
              "      <th>39</th>\n",
              "      <th>...</th>\n",
              "      <th>261</th>\n",
              "      <th>262</th>\n",
              "      <th>263</th>\n",
              "      <th>264</th>\n",
              "      <th>265</th>\n",
              "      <th>266</th>\n",
              "      <th>267</th>\n",
              "      <th>268</th>\n",
              "      <th>269</th>\n",
              "      <th>270</th>\n",
              "      <th>271</th>\n",
              "      <th>272</th>\n",
              "      <th>273</th>\n",
              "      <th>274</th>\n",
              "      <th>275</th>\n",
              "      <th>276</th>\n",
              "      <th>277</th>\n",
              "      <th>278</th>\n",
              "      <th>279</th>\n",
              "      <th>280</th>\n",
              "      <th>281</th>\n",
              "      <th>282</th>\n",
              "      <th>283</th>\n",
              "      <th>284</th>\n",
              "      <th>285</th>\n",
              "      <th>286</th>\n",
              "      <th>287</th>\n",
              "      <th>288</th>\n",
              "      <th>289</th>\n",
              "      <th>290</th>\n",
              "      <th>291</th>\n",
              "      <th>292</th>\n",
              "      <th>293</th>\n",
              "      <th>294</th>\n",
              "      <th>295</th>\n",
              "      <th>296</th>\n",
              "      <th>297</th>\n",
              "      <th>298</th>\n",
              "      <th>299</th>\n",
              "      <th>labels</th>\n",
              "    </tr>\n",
              "  </thead>\n",
              "  <tbody>\n",
              "    <tr>\n",
              "      <th>0</th>\n",
              "      <td>-0.050695</td>\n",
              "      <td>-0.013357</td>\n",
              "      <td>-0.008664</td>\n",
              "      <td>0.066528</td>\n",
              "      <td>-0.052307</td>\n",
              "      <td>-0.042175</td>\n",
              "      <td>0.077194</td>\n",
              "      <td>-0.106771</td>\n",
              "      <td>0.094014</td>\n",
              "      <td>0.025045</td>\n",
              "      <td>-0.002279</td>\n",
              "      <td>-0.073015</td>\n",
              "      <td>-0.062754</td>\n",
              "      <td>0.023458</td>\n",
              "      <td>-0.113424</td>\n",
              "      <td>0.005196</td>\n",
              "      <td>-0.003326</td>\n",
              "      <td>0.046899</td>\n",
              "      <td>0.092621</td>\n",
              "      <td>-0.086620</td>\n",
              "      <td>-0.030538</td>\n",
              "      <td>-0.061499</td>\n",
              "      <td>-0.107239</td>\n",
              "      <td>-0.073883</td>\n",
              "      <td>-0.008952</td>\n",
              "      <td>0.003123</td>\n",
              "      <td>-0.046076</td>\n",
              "      <td>0.072083</td>\n",
              "      <td>0.063965</td>\n",
              "      <td>0.034098</td>\n",
              "      <td>-0.001490</td>\n",
              "      <td>-0.015025</td>\n",
              "      <td>0.024556</td>\n",
              "      <td>-0.051412</td>\n",
              "      <td>-0.079405</td>\n",
              "      <td>-0.059469</td>\n",
              "      <td>0.018873</td>\n",
              "      <td>-0.052607</td>\n",
              "      <td>0.112142</td>\n",
              "      <td>-0.071477</td>\n",
              "      <td>...</td>\n",
              "      <td>-0.039042</td>\n",
              "      <td>-0.066981</td>\n",
              "      <td>0.039108</td>\n",
              "      <td>0.031909</td>\n",
              "      <td>0.104273</td>\n",
              "      <td>-0.026176</td>\n",
              "      <td>-0.130332</td>\n",
              "      <td>-0.123133</td>\n",
              "      <td>0.029694</td>\n",
              "      <td>0.054385</td>\n",
              "      <td>0.017690</td>\n",
              "      <td>0.007355</td>\n",
              "      <td>-0.070262</td>\n",
              "      <td>0.055140</td>\n",
              "      <td>0.007670</td>\n",
              "      <td>-0.037689</td>\n",
              "      <td>-0.070933</td>\n",
              "      <td>-0.019201</td>\n",
              "      <td>0.056788</td>\n",
              "      <td>0.044965</td>\n",
              "      <td>0.039923</td>\n",
              "      <td>0.023499</td>\n",
              "      <td>0.012102</td>\n",
              "      <td>0.052272</td>\n",
              "      <td>-0.067769</td>\n",
              "      <td>0.005969</td>\n",
              "      <td>-0.063703</td>\n",
              "      <td>0.014497</td>\n",
              "      <td>0.013255</td>\n",
              "      <td>-0.005880</td>\n",
              "      <td>0.069450</td>\n",
              "      <td>-0.066691</td>\n",
              "      <td>-0.055615</td>\n",
              "      <td>-0.068281</td>\n",
              "      <td>-0.005549</td>\n",
              "      <td>-0.106692</td>\n",
              "      <td>0.031687</td>\n",
              "      <td>-0.025411</td>\n",
              "      <td>0.035197</td>\n",
              "      <td>0</td>\n",
              "    </tr>\n",
              "    <tr>\n",
              "      <th>1</th>\n",
              "      <td>-0.003021</td>\n",
              "      <td>0.127523</td>\n",
              "      <td>0.022970</td>\n",
              "      <td>0.078756</td>\n",
              "      <td>-0.108480</td>\n",
              "      <td>-0.006226</td>\n",
              "      <td>-0.025464</td>\n",
              "      <td>-0.258464</td>\n",
              "      <td>0.102407</td>\n",
              "      <td>-0.010974</td>\n",
              "      <td>-0.041590</td>\n",
              "      <td>-0.183228</td>\n",
              "      <td>0.019145</td>\n",
              "      <td>0.065308</td>\n",
              "      <td>0.030192</td>\n",
              "      <td>0.245097</td>\n",
              "      <td>0.080068</td>\n",
              "      <td>-0.014318</td>\n",
              "      <td>0.003296</td>\n",
              "      <td>-0.170492</td>\n",
              "      <td>0.016622</td>\n",
              "      <td>0.125977</td>\n",
              "      <td>-0.055054</td>\n",
              "      <td>0.191996</td>\n",
              "      <td>-0.136230</td>\n",
              "      <td>0.046834</td>\n",
              "      <td>-0.257161</td>\n",
              "      <td>-0.001546</td>\n",
              "      <td>0.073795</td>\n",
              "      <td>-0.008087</td>\n",
              "      <td>0.038411</td>\n",
              "      <td>-0.253988</td>\n",
              "      <td>-0.172902</td>\n",
              "      <td>0.072103</td>\n",
              "      <td>-0.274129</td>\n",
              "      <td>-0.037720</td>\n",
              "      <td>-0.071818</td>\n",
              "      <td>-0.001750</td>\n",
              "      <td>0.019694</td>\n",
              "      <td>-0.058512</td>\n",
              "      <td>...</td>\n",
              "      <td>0.023560</td>\n",
              "      <td>-0.005086</td>\n",
              "      <td>-0.016195</td>\n",
              "      <td>0.122925</td>\n",
              "      <td>0.153564</td>\n",
              "      <td>0.092306</td>\n",
              "      <td>-0.107666</td>\n",
              "      <td>-0.094686</td>\n",
              "      <td>-0.038452</td>\n",
              "      <td>0.129679</td>\n",
              "      <td>0.189931</td>\n",
              "      <td>-0.090637</td>\n",
              "      <td>-0.015818</td>\n",
              "      <td>0.167480</td>\n",
              "      <td>0.069153</td>\n",
              "      <td>-0.120809</td>\n",
              "      <td>0.080282</td>\n",
              "      <td>0.039800</td>\n",
              "      <td>0.011545</td>\n",
              "      <td>0.092285</td>\n",
              "      <td>0.134562</td>\n",
              "      <td>0.054606</td>\n",
              "      <td>-0.062337</td>\n",
              "      <td>-0.047445</td>\n",
              "      <td>-0.135681</td>\n",
              "      <td>0.168050</td>\n",
              "      <td>0.019450</td>\n",
              "      <td>0.060410</td>\n",
              "      <td>-0.014730</td>\n",
              "      <td>-0.113851</td>\n",
              "      <td>0.076541</td>\n",
              "      <td>0.077482</td>\n",
              "      <td>-0.045329</td>\n",
              "      <td>-0.001383</td>\n",
              "      <td>-0.022359</td>\n",
              "      <td>-0.056244</td>\n",
              "      <td>0.130605</td>\n",
              "      <td>0.129150</td>\n",
              "      <td>0.039032</td>\n",
              "      <td>0</td>\n",
              "    </tr>\n",
              "    <tr>\n",
              "      <th>2</th>\n",
              "      <td>-0.029696</td>\n",
              "      <td>0.117454</td>\n",
              "      <td>0.070279</td>\n",
              "      <td>0.049297</td>\n",
              "      <td>-0.143677</td>\n",
              "      <td>0.020880</td>\n",
              "      <td>-0.034909</td>\n",
              "      <td>-0.225763</td>\n",
              "      <td>0.071650</td>\n",
              "      <td>0.107422</td>\n",
              "      <td>-0.133434</td>\n",
              "      <td>-0.185225</td>\n",
              "      <td>-0.064337</td>\n",
              "      <td>0.098145</td>\n",
              "      <td>-0.072820</td>\n",
              "      <td>0.187689</td>\n",
              "      <td>0.063008</td>\n",
              "      <td>0.230735</td>\n",
              "      <td>-0.073231</td>\n",
              "      <td>0.010345</td>\n",
              "      <td>-0.069647</td>\n",
              "      <td>-0.056596</td>\n",
              "      <td>-0.062522</td>\n",
              "      <td>0.020130</td>\n",
              "      <td>-0.188754</td>\n",
              "      <td>-0.137140</td>\n",
              "      <td>-0.148304</td>\n",
              "      <td>0.077767</td>\n",
              "      <td>-0.025036</td>\n",
              "      <td>-0.118508</td>\n",
              "      <td>-0.092396</td>\n",
              "      <td>0.002475</td>\n",
              "      <td>0.010717</td>\n",
              "      <td>-0.007025</td>\n",
              "      <td>-0.138278</td>\n",
              "      <td>0.005085</td>\n",
              "      <td>0.043518</td>\n",
              "      <td>0.064731</td>\n",
              "      <td>0.043790</td>\n",
              "      <td>0.038613</td>\n",
              "      <td>...</td>\n",
              "      <td>0.048273</td>\n",
              "      <td>-0.010312</td>\n",
              "      <td>-0.112371</td>\n",
              "      <td>0.046531</td>\n",
              "      <td>0.120449</td>\n",
              "      <td>0.060059</td>\n",
              "      <td>-0.127644</td>\n",
              "      <td>0.040558</td>\n",
              "      <td>-0.075150</td>\n",
              "      <td>-0.036205</td>\n",
              "      <td>0.173329</td>\n",
              "      <td>-0.076527</td>\n",
              "      <td>-0.005085</td>\n",
              "      <td>0.192204</td>\n",
              "      <td>-0.018815</td>\n",
              "      <td>-0.092661</td>\n",
              "      <td>0.006947</td>\n",
              "      <td>0.019054</td>\n",
              "      <td>0.138184</td>\n",
              "      <td>0.096868</td>\n",
              "      <td>0.022367</td>\n",
              "      <td>0.050756</td>\n",
              "      <td>-0.051164</td>\n",
              "      <td>-0.029707</td>\n",
              "      <td>-0.083724</td>\n",
              "      <td>0.039218</td>\n",
              "      <td>-0.012851</td>\n",
              "      <td>-0.146107</td>\n",
              "      <td>0.018256</td>\n",
              "      <td>-0.018488</td>\n",
              "      <td>-0.023948</td>\n",
              "      <td>0.089930</td>\n",
              "      <td>0.033869</td>\n",
              "      <td>-0.042969</td>\n",
              "      <td>0.057861</td>\n",
              "      <td>-0.091569</td>\n",
              "      <td>-0.049128</td>\n",
              "      <td>0.084306</td>\n",
              "      <td>0.066426</td>\n",
              "      <td>0</td>\n",
              "    </tr>\n",
              "    <tr>\n",
              "      <th>3</th>\n",
              "      <td>-0.034995</td>\n",
              "      <td>0.044120</td>\n",
              "      <td>0.062256</td>\n",
              "      <td>0.079346</td>\n",
              "      <td>-0.163993</td>\n",
              "      <td>-0.040091</td>\n",
              "      <td>-0.057486</td>\n",
              "      <td>-0.120919</td>\n",
              "      <td>0.014265</td>\n",
              "      <td>0.075091</td>\n",
              "      <td>-0.192383</td>\n",
              "      <td>-0.232945</td>\n",
              "      <td>0.041138</td>\n",
              "      <td>0.021345</td>\n",
              "      <td>-0.151341</td>\n",
              "      <td>0.085903</td>\n",
              "      <td>-0.082441</td>\n",
              "      <td>0.236258</td>\n",
              "      <td>0.020050</td>\n",
              "      <td>0.091936</td>\n",
              "      <td>0.004220</td>\n",
              "      <td>0.075405</td>\n",
              "      <td>0.031786</td>\n",
              "      <td>-0.028285</td>\n",
              "      <td>-0.077676</td>\n",
              "      <td>-0.140102</td>\n",
              "      <td>-0.061558</td>\n",
              "      <td>0.049909</td>\n",
              "      <td>-0.002860</td>\n",
              "      <td>0.038225</td>\n",
              "      <td>-0.122105</td>\n",
              "      <td>-0.236049</td>\n",
              "      <td>-0.023071</td>\n",
              "      <td>0.013157</td>\n",
              "      <td>-0.068324</td>\n",
              "      <td>0.045576</td>\n",
              "      <td>0.005197</td>\n",
              "      <td>0.019531</td>\n",
              "      <td>-0.029465</td>\n",
              "      <td>-0.038295</td>\n",
              "      <td>...</td>\n",
              "      <td>-0.009234</td>\n",
              "      <td>-0.005153</td>\n",
              "      <td>-0.133806</td>\n",
              "      <td>0.153460</td>\n",
              "      <td>0.087899</td>\n",
              "      <td>0.072405</td>\n",
              "      <td>-0.104771</td>\n",
              "      <td>-0.013811</td>\n",
              "      <td>0.003383</td>\n",
              "      <td>0.105730</td>\n",
              "      <td>0.146362</td>\n",
              "      <td>-0.050642</td>\n",
              "      <td>-0.025257</td>\n",
              "      <td>0.165414</td>\n",
              "      <td>-0.028983</td>\n",
              "      <td>-0.061070</td>\n",
              "      <td>0.136161</td>\n",
              "      <td>0.002921</td>\n",
              "      <td>0.026228</td>\n",
              "      <td>-0.047032</td>\n",
              "      <td>0.073661</td>\n",
              "      <td>0.012591</td>\n",
              "      <td>-0.096392</td>\n",
              "      <td>-0.066232</td>\n",
              "      <td>-0.169316</td>\n",
              "      <td>0.125610</td>\n",
              "      <td>0.111904</td>\n",
              "      <td>-0.083758</td>\n",
              "      <td>0.105756</td>\n",
              "      <td>-0.125488</td>\n",
              "      <td>0.016497</td>\n",
              "      <td>-0.001325</td>\n",
              "      <td>0.106097</td>\n",
              "      <td>0.092913</td>\n",
              "      <td>0.194301</td>\n",
              "      <td>-0.168597</td>\n",
              "      <td>0.067226</td>\n",
              "      <td>0.183340</td>\n",
              "      <td>-0.034546</td>\n",
              "      <td>1</td>\n",
              "    </tr>\n",
              "    <tr>\n",
              "      <th>4</th>\n",
              "      <td>0.015993</td>\n",
              "      <td>0.063070</td>\n",
              "      <td>-0.002374</td>\n",
              "      <td>0.145820</td>\n",
              "      <td>-0.082438</td>\n",
              "      <td>0.000461</td>\n",
              "      <td>0.064053</td>\n",
              "      <td>-0.192383</td>\n",
              "      <td>0.125637</td>\n",
              "      <td>0.018826</td>\n",
              "      <td>-0.172716</td>\n",
              "      <td>-0.213867</td>\n",
              "      <td>0.005659</td>\n",
              "      <td>0.001294</td>\n",
              "      <td>0.017849</td>\n",
              "      <td>0.249525</td>\n",
              "      <td>0.088019</td>\n",
              "      <td>0.018311</td>\n",
              "      <td>-0.027913</td>\n",
              "      <td>-0.134142</td>\n",
              "      <td>0.034424</td>\n",
              "      <td>0.093031</td>\n",
              "      <td>-0.089423</td>\n",
              "      <td>0.083279</td>\n",
              "      <td>-0.061584</td>\n",
              "      <td>-0.042616</td>\n",
              "      <td>-0.188856</td>\n",
              "      <td>-0.040602</td>\n",
              "      <td>0.014445</td>\n",
              "      <td>0.056342</td>\n",
              "      <td>0.032718</td>\n",
              "      <td>-0.126126</td>\n",
              "      <td>-0.226671</td>\n",
              "      <td>-0.081546</td>\n",
              "      <td>-0.199599</td>\n",
              "      <td>-0.025684</td>\n",
              "      <td>0.005062</td>\n",
              "      <td>0.018643</td>\n",
              "      <td>0.045939</td>\n",
              "      <td>-0.028630</td>\n",
              "      <td>...</td>\n",
              "      <td>-0.041456</td>\n",
              "      <td>-0.042101</td>\n",
              "      <td>-0.080397</td>\n",
              "      <td>0.130995</td>\n",
              "      <td>0.052138</td>\n",
              "      <td>0.089925</td>\n",
              "      <td>-0.214205</td>\n",
              "      <td>-0.121718</td>\n",
              "      <td>-0.065077</td>\n",
              "      <td>0.069255</td>\n",
              "      <td>0.155545</td>\n",
              "      <td>-0.040944</td>\n",
              "      <td>0.047689</td>\n",
              "      <td>0.095893</td>\n",
              "      <td>-0.055393</td>\n",
              "      <td>-0.195258</td>\n",
              "      <td>-0.037672</td>\n",
              "      <td>0.029673</td>\n",
              "      <td>0.011854</td>\n",
              "      <td>0.120734</td>\n",
              "      <td>0.132958</td>\n",
              "      <td>-0.021444</td>\n",
              "      <td>-0.061561</td>\n",
              "      <td>-0.047670</td>\n",
              "      <td>-0.111681</td>\n",
              "      <td>0.130615</td>\n",
              "      <td>-0.031660</td>\n",
              "      <td>0.005324</td>\n",
              "      <td>0.039551</td>\n",
              "      <td>-0.141086</td>\n",
              "      <td>0.047343</td>\n",
              "      <td>0.018546</td>\n",
              "      <td>0.111294</td>\n",
              "      <td>-0.011664</td>\n",
              "      <td>0.049018</td>\n",
              "      <td>-0.085734</td>\n",
              "      <td>0.107395</td>\n",
              "      <td>0.117784</td>\n",
              "      <td>0.017456</td>\n",
              "      <td>0</td>\n",
              "    </tr>\n",
              "    <tr>\n",
              "      <th>...</th>\n",
              "      <td>...</td>\n",
              "      <td>...</td>\n",
              "      <td>...</td>\n",
              "      <td>...</td>\n",
              "      <td>...</td>\n",
              "      <td>...</td>\n",
              "      <td>...</td>\n",
              "      <td>...</td>\n",
              "      <td>...</td>\n",
              "      <td>...</td>\n",
              "      <td>...</td>\n",
              "      <td>...</td>\n",
              "      <td>...</td>\n",
              "      <td>...</td>\n",
              "      <td>...</td>\n",
              "      <td>...</td>\n",
              "      <td>...</td>\n",
              "      <td>...</td>\n",
              "      <td>...</td>\n",
              "      <td>...</td>\n",
              "      <td>...</td>\n",
              "      <td>...</td>\n",
              "      <td>...</td>\n",
              "      <td>...</td>\n",
              "      <td>...</td>\n",
              "      <td>...</td>\n",
              "      <td>...</td>\n",
              "      <td>...</td>\n",
              "      <td>...</td>\n",
              "      <td>...</td>\n",
              "      <td>...</td>\n",
              "      <td>...</td>\n",
              "      <td>...</td>\n",
              "      <td>...</td>\n",
              "      <td>...</td>\n",
              "      <td>...</td>\n",
              "      <td>...</td>\n",
              "      <td>...</td>\n",
              "      <td>...</td>\n",
              "      <td>...</td>\n",
              "      <td>...</td>\n",
              "      <td>...</td>\n",
              "      <td>...</td>\n",
              "      <td>...</td>\n",
              "      <td>...</td>\n",
              "      <td>...</td>\n",
              "      <td>...</td>\n",
              "      <td>...</td>\n",
              "      <td>...</td>\n",
              "      <td>...</td>\n",
              "      <td>...</td>\n",
              "      <td>...</td>\n",
              "      <td>...</td>\n",
              "      <td>...</td>\n",
              "      <td>...</td>\n",
              "      <td>...</td>\n",
              "      <td>...</td>\n",
              "      <td>...</td>\n",
              "      <td>...</td>\n",
              "      <td>...</td>\n",
              "      <td>...</td>\n",
              "      <td>...</td>\n",
              "      <td>...</td>\n",
              "      <td>...</td>\n",
              "      <td>...</td>\n",
              "      <td>...</td>\n",
              "      <td>...</td>\n",
              "      <td>...</td>\n",
              "      <td>...</td>\n",
              "      <td>...</td>\n",
              "      <td>...</td>\n",
              "      <td>...</td>\n",
              "      <td>...</td>\n",
              "      <td>...</td>\n",
              "      <td>...</td>\n",
              "      <td>...</td>\n",
              "      <td>...</td>\n",
              "      <td>...</td>\n",
              "      <td>...</td>\n",
              "      <td>...</td>\n",
              "      <td>...</td>\n",
              "    </tr>\n",
              "    <tr>\n",
              "      <th>23511</th>\n",
              "      <td>-0.037612</td>\n",
              "      <td>-0.003371</td>\n",
              "      <td>-0.043265</td>\n",
              "      <td>0.060829</td>\n",
              "      <td>-0.077900</td>\n",
              "      <td>0.035510</td>\n",
              "      <td>0.062455</td>\n",
              "      <td>-0.100464</td>\n",
              "      <td>0.101638</td>\n",
              "      <td>0.018494</td>\n",
              "      <td>-0.090628</td>\n",
              "      <td>-0.073918</td>\n",
              "      <td>-0.000499</td>\n",
              "      <td>0.056472</td>\n",
              "      <td>-0.130061</td>\n",
              "      <td>0.071543</td>\n",
              "      <td>-0.024954</td>\n",
              "      <td>0.068062</td>\n",
              "      <td>-0.116436</td>\n",
              "      <td>-0.070378</td>\n",
              "      <td>0.042861</td>\n",
              "      <td>-0.054393</td>\n",
              "      <td>-0.105666</td>\n",
              "      <td>-0.012996</td>\n",
              "      <td>-0.020193</td>\n",
              "      <td>-0.019555</td>\n",
              "      <td>-0.028226</td>\n",
              "      <td>0.068575</td>\n",
              "      <td>-0.059411</td>\n",
              "      <td>0.009813</td>\n",
              "      <td>-0.007258</td>\n",
              "      <td>-0.090210</td>\n",
              "      <td>-0.007754</td>\n",
              "      <td>-0.038959</td>\n",
              "      <td>-0.091341</td>\n",
              "      <td>-0.028813</td>\n",
              "      <td>-0.004066</td>\n",
              "      <td>-0.056622</td>\n",
              "      <td>0.083790</td>\n",
              "      <td>0.003812</td>\n",
              "      <td>...</td>\n",
              "      <td>0.049697</td>\n",
              "      <td>-0.048626</td>\n",
              "      <td>0.013390</td>\n",
              "      <td>0.017353</td>\n",
              "      <td>0.063120</td>\n",
              "      <td>-0.060248</td>\n",
              "      <td>0.005474</td>\n",
              "      <td>-0.074578</td>\n",
              "      <td>-0.061257</td>\n",
              "      <td>0.110971</td>\n",
              "      <td>0.140644</td>\n",
              "      <td>0.027607</td>\n",
              "      <td>-0.037203</td>\n",
              "      <td>0.095501</td>\n",
              "      <td>0.039283</td>\n",
              "      <td>-0.026846</td>\n",
              "      <td>-0.035515</td>\n",
              "      <td>0.077969</td>\n",
              "      <td>0.032222</td>\n",
              "      <td>-0.074379</td>\n",
              "      <td>0.016733</td>\n",
              "      <td>-0.009831</td>\n",
              "      <td>-0.007709</td>\n",
              "      <td>-0.013878</td>\n",
              "      <td>-0.067721</td>\n",
              "      <td>0.026790</td>\n",
              "      <td>0.050683</td>\n",
              "      <td>0.044800</td>\n",
              "      <td>0.008489</td>\n",
              "      <td>0.022705</td>\n",
              "      <td>-0.045044</td>\n",
              "      <td>0.041720</td>\n",
              "      <td>0.073773</td>\n",
              "      <td>-0.018536</td>\n",
              "      <td>0.036471</td>\n",
              "      <td>-0.045362</td>\n",
              "      <td>-0.050205</td>\n",
              "      <td>0.091285</td>\n",
              "      <td>0.045650</td>\n",
              "      <td>1</td>\n",
              "    </tr>\n",
              "    <tr>\n",
              "      <th>23512</th>\n",
              "      <td>0.003700</td>\n",
              "      <td>0.071014</td>\n",
              "      <td>-0.004820</td>\n",
              "      <td>0.158752</td>\n",
              "      <td>-0.061707</td>\n",
              "      <td>-0.020960</td>\n",
              "      <td>-0.036949</td>\n",
              "      <td>-0.118683</td>\n",
              "      <td>0.126301</td>\n",
              "      <td>-0.060120</td>\n",
              "      <td>-0.075760</td>\n",
              "      <td>-0.186272</td>\n",
              "      <td>-0.123383</td>\n",
              "      <td>0.173462</td>\n",
              "      <td>-0.051178</td>\n",
              "      <td>0.162476</td>\n",
              "      <td>-0.064240</td>\n",
              "      <td>0.039627</td>\n",
              "      <td>-0.009872</td>\n",
              "      <td>-0.049927</td>\n",
              "      <td>-0.024487</td>\n",
              "      <td>-0.049332</td>\n",
              "      <td>0.093262</td>\n",
              "      <td>0.040314</td>\n",
              "      <td>-0.090790</td>\n",
              "      <td>-0.028717</td>\n",
              "      <td>-0.104034</td>\n",
              "      <td>-0.028282</td>\n",
              "      <td>-0.030167</td>\n",
              "      <td>-0.084167</td>\n",
              "      <td>-0.009079</td>\n",
              "      <td>-0.083191</td>\n",
              "      <td>-0.041458</td>\n",
              "      <td>-0.034035</td>\n",
              "      <td>-0.185638</td>\n",
              "      <td>-0.092236</td>\n",
              "      <td>0.017303</td>\n",
              "      <td>0.007244</td>\n",
              "      <td>-0.005356</td>\n",
              "      <td>-0.014282</td>\n",
              "      <td>...</td>\n",
              "      <td>0.050598</td>\n",
              "      <td>0.068748</td>\n",
              "      <td>-0.061462</td>\n",
              "      <td>-0.153748</td>\n",
              "      <td>0.098999</td>\n",
              "      <td>-0.008041</td>\n",
              "      <td>-0.091873</td>\n",
              "      <td>-0.082703</td>\n",
              "      <td>-0.195190</td>\n",
              "      <td>-0.041576</td>\n",
              "      <td>0.056549</td>\n",
              "      <td>0.027466</td>\n",
              "      <td>-0.085241</td>\n",
              "      <td>0.087189</td>\n",
              "      <td>0.000580</td>\n",
              "      <td>-0.050431</td>\n",
              "      <td>0.054474</td>\n",
              "      <td>0.002136</td>\n",
              "      <td>0.006409</td>\n",
              "      <td>-0.050631</td>\n",
              "      <td>0.066696</td>\n",
              "      <td>-0.021244</td>\n",
              "      <td>-0.066956</td>\n",
              "      <td>-0.000626</td>\n",
              "      <td>-0.064774</td>\n",
              "      <td>0.066849</td>\n",
              "      <td>-0.002258</td>\n",
              "      <td>0.058861</td>\n",
              "      <td>0.041109</td>\n",
              "      <td>0.101761</td>\n",
              "      <td>-0.040702</td>\n",
              "      <td>0.004974</td>\n",
              "      <td>-0.019695</td>\n",
              "      <td>-0.137497</td>\n",
              "      <td>0.171402</td>\n",
              "      <td>-0.036266</td>\n",
              "      <td>0.147522</td>\n",
              "      <td>0.142891</td>\n",
              "      <td>0.104774</td>\n",
              "      <td>0</td>\n",
              "    </tr>\n",
              "    <tr>\n",
              "      <th>23513</th>\n",
              "      <td>-0.051111</td>\n",
              "      <td>0.146917</td>\n",
              "      <td>-0.019682</td>\n",
              "      <td>0.086093</td>\n",
              "      <td>-0.102982</td>\n",
              "      <td>0.056725</td>\n",
              "      <td>0.080206</td>\n",
              "      <td>-0.114224</td>\n",
              "      <td>0.084534</td>\n",
              "      <td>-0.022417</td>\n",
              "      <td>-0.084183</td>\n",
              "      <td>-0.182635</td>\n",
              "      <td>-0.009181</td>\n",
              "      <td>0.108895</td>\n",
              "      <td>-0.036973</td>\n",
              "      <td>0.093502</td>\n",
              "      <td>0.032000</td>\n",
              "      <td>0.123628</td>\n",
              "      <td>-0.016803</td>\n",
              "      <td>0.029843</td>\n",
              "      <td>0.030721</td>\n",
              "      <td>-0.023426</td>\n",
              "      <td>0.011954</td>\n",
              "      <td>0.076741</td>\n",
              "      <td>-0.078477</td>\n",
              "      <td>-0.049872</td>\n",
              "      <td>-0.148042</td>\n",
              "      <td>-0.023638</td>\n",
              "      <td>-0.030293</td>\n",
              "      <td>-0.061593</td>\n",
              "      <td>-0.040818</td>\n",
              "      <td>-0.059878</td>\n",
              "      <td>-0.044519</td>\n",
              "      <td>-0.054693</td>\n",
              "      <td>-0.088408</td>\n",
              "      <td>-0.021659</td>\n",
              "      <td>-0.022339</td>\n",
              "      <td>0.042212</td>\n",
              "      <td>0.047070</td>\n",
              "      <td>0.003325</td>\n",
              "      <td>...</td>\n",
              "      <td>-0.002157</td>\n",
              "      <td>-0.003417</td>\n",
              "      <td>0.001617</td>\n",
              "      <td>0.042870</td>\n",
              "      <td>0.062366</td>\n",
              "      <td>-0.082857</td>\n",
              "      <td>-0.038144</td>\n",
              "      <td>-0.105296</td>\n",
              "      <td>-0.082960</td>\n",
              "      <td>0.028753</td>\n",
              "      <td>0.109869</td>\n",
              "      <td>0.027820</td>\n",
              "      <td>-0.061951</td>\n",
              "      <td>0.118007</td>\n",
              "      <td>-0.057885</td>\n",
              "      <td>-0.050414</td>\n",
              "      <td>0.051653</td>\n",
              "      <td>0.004143</td>\n",
              "      <td>0.040027</td>\n",
              "      <td>0.095886</td>\n",
              "      <td>0.021422</td>\n",
              "      <td>0.062185</td>\n",
              "      <td>-0.017383</td>\n",
              "      <td>-0.054121</td>\n",
              "      <td>-0.044428</td>\n",
              "      <td>0.125668</td>\n",
              "      <td>-0.024727</td>\n",
              "      <td>0.034831</td>\n",
              "      <td>0.041553</td>\n",
              "      <td>-0.026454</td>\n",
              "      <td>-0.027222</td>\n",
              "      <td>-0.117949</td>\n",
              "      <td>0.084025</td>\n",
              "      <td>0.019043</td>\n",
              "      <td>0.096360</td>\n",
              "      <td>-0.073184</td>\n",
              "      <td>0.052422</td>\n",
              "      <td>0.156669</td>\n",
              "      <td>0.086036</td>\n",
              "      <td>0</td>\n",
              "    </tr>\n",
              "    <tr>\n",
              "      <th>23514</th>\n",
              "      <td>-0.108724</td>\n",
              "      <td>0.262695</td>\n",
              "      <td>-0.012207</td>\n",
              "      <td>0.074382</td>\n",
              "      <td>-0.040365</td>\n",
              "      <td>-0.028483</td>\n",
              "      <td>0.034922</td>\n",
              "      <td>-0.249512</td>\n",
              "      <td>0.019938</td>\n",
              "      <td>-0.072754</td>\n",
              "      <td>-0.196289</td>\n",
              "      <td>-0.247152</td>\n",
              "      <td>0.075195</td>\n",
              "      <td>0.076823</td>\n",
              "      <td>-0.074992</td>\n",
              "      <td>0.036133</td>\n",
              "      <td>-0.075439</td>\n",
              "      <td>0.119100</td>\n",
              "      <td>0.005981</td>\n",
              "      <td>-0.003845</td>\n",
              "      <td>0.086589</td>\n",
              "      <td>0.103841</td>\n",
              "      <td>0.184652</td>\n",
              "      <td>0.119751</td>\n",
              "      <td>-0.164632</td>\n",
              "      <td>-0.128581</td>\n",
              "      <td>-0.036051</td>\n",
              "      <td>0.057780</td>\n",
              "      <td>-0.029948</td>\n",
              "      <td>0.071615</td>\n",
              "      <td>-0.047201</td>\n",
              "      <td>-0.165649</td>\n",
              "      <td>-0.134033</td>\n",
              "      <td>-0.062988</td>\n",
              "      <td>-0.182170</td>\n",
              "      <td>0.217448</td>\n",
              "      <td>0.069132</td>\n",
              "      <td>-0.006002</td>\n",
              "      <td>0.068166</td>\n",
              "      <td>-0.078451</td>\n",
              "      <td>...</td>\n",
              "      <td>0.007568</td>\n",
              "      <td>-0.069173</td>\n",
              "      <td>0.050008</td>\n",
              "      <td>0.190104</td>\n",
              "      <td>0.047445</td>\n",
              "      <td>-0.009481</td>\n",
              "      <td>-0.184408</td>\n",
              "      <td>-0.088877</td>\n",
              "      <td>0.006144</td>\n",
              "      <td>0.107056</td>\n",
              "      <td>0.135986</td>\n",
              "      <td>-0.066895</td>\n",
              "      <td>-0.112956</td>\n",
              "      <td>0.175944</td>\n",
              "      <td>-0.055013</td>\n",
              "      <td>-0.179688</td>\n",
              "      <td>0.053935</td>\n",
              "      <td>0.150675</td>\n",
              "      <td>0.130371</td>\n",
              "      <td>0.144694</td>\n",
              "      <td>0.066650</td>\n",
              "      <td>0.158366</td>\n",
              "      <td>-0.031413</td>\n",
              "      <td>-0.146484</td>\n",
              "      <td>0.059733</td>\n",
              "      <td>0.159831</td>\n",
              "      <td>0.260864</td>\n",
              "      <td>0.099935</td>\n",
              "      <td>0.015137</td>\n",
              "      <td>-0.115316</td>\n",
              "      <td>-0.007202</td>\n",
              "      <td>-0.097331</td>\n",
              "      <td>0.163900</td>\n",
              "      <td>-0.006063</td>\n",
              "      <td>0.100586</td>\n",
              "      <td>-0.055339</td>\n",
              "      <td>0.288737</td>\n",
              "      <td>0.284668</td>\n",
              "      <td>0.115234</td>\n",
              "      <td>0</td>\n",
              "    </tr>\n",
              "    <tr>\n",
              "      <th>23515</th>\n",
              "      <td>-0.116017</td>\n",
              "      <td>0.087541</td>\n",
              "      <td>0.000201</td>\n",
              "      <td>0.116304</td>\n",
              "      <td>0.016904</td>\n",
              "      <td>0.007917</td>\n",
              "      <td>0.096838</td>\n",
              "      <td>-0.138991</td>\n",
              "      <td>0.137035</td>\n",
              "      <td>0.105365</td>\n",
              "      <td>-0.013352</td>\n",
              "      <td>-0.147637</td>\n",
              "      <td>0.054386</td>\n",
              "      <td>0.113662</td>\n",
              "      <td>-0.123009</td>\n",
              "      <td>0.071120</td>\n",
              "      <td>-0.107758</td>\n",
              "      <td>0.072343</td>\n",
              "      <td>0.037081</td>\n",
              "      <td>-0.120792</td>\n",
              "      <td>-0.022685</td>\n",
              "      <td>-0.098615</td>\n",
              "      <td>-0.031587</td>\n",
              "      <td>-0.045063</td>\n",
              "      <td>-0.103085</td>\n",
              "      <td>-0.085579</td>\n",
              "      <td>-0.158118</td>\n",
              "      <td>0.122343</td>\n",
              "      <td>-0.070725</td>\n",
              "      <td>-0.031710</td>\n",
              "      <td>-0.000273</td>\n",
              "      <td>-0.077206</td>\n",
              "      <td>-0.054944</td>\n",
              "      <td>-0.035329</td>\n",
              "      <td>-0.288280</td>\n",
              "      <td>-0.102636</td>\n",
              "      <td>0.008314</td>\n",
              "      <td>-0.034546</td>\n",
              "      <td>-0.000381</td>\n",
              "      <td>0.056484</td>\n",
              "      <td>...</td>\n",
              "      <td>-0.005105</td>\n",
              "      <td>0.043542</td>\n",
              "      <td>-0.133130</td>\n",
              "      <td>0.067972</td>\n",
              "      <td>0.137509</td>\n",
              "      <td>0.000625</td>\n",
              "      <td>-0.101261</td>\n",
              "      <td>0.014630</td>\n",
              "      <td>-0.157986</td>\n",
              "      <td>0.018892</td>\n",
              "      <td>0.166784</td>\n",
              "      <td>-0.033469</td>\n",
              "      <td>0.005773</td>\n",
              "      <td>0.085596</td>\n",
              "      <td>0.039389</td>\n",
              "      <td>-0.104693</td>\n",
              "      <td>0.062760</td>\n",
              "      <td>0.060933</td>\n",
              "      <td>-0.005312</td>\n",
              "      <td>-0.014699</td>\n",
              "      <td>0.031377</td>\n",
              "      <td>0.071102</td>\n",
              "      <td>-0.049047</td>\n",
              "      <td>-0.125458</td>\n",
              "      <td>-0.094827</td>\n",
              "      <td>0.114646</td>\n",
              "      <td>0.088590</td>\n",
              "      <td>0.012954</td>\n",
              "      <td>0.049113</td>\n",
              "      <td>-0.108596</td>\n",
              "      <td>0.002915</td>\n",
              "      <td>0.039371</td>\n",
              "      <td>0.026193</td>\n",
              "      <td>-0.027983</td>\n",
              "      <td>0.038054</td>\n",
              "      <td>-0.067692</td>\n",
              "      <td>0.058649</td>\n",
              "      <td>0.140864</td>\n",
              "      <td>0.032995</td>\n",
              "      <td>1</td>\n",
              "    </tr>\n",
              "  </tbody>\n",
              "</table>\n",
              "<p>23508 rows × 301 columns</p>\n",
              "</div>"
            ],
            "text/plain": [
              "              0         1         2  ...       298       299  labels\n",
              "0     -0.050695 -0.013357 -0.008664  ... -0.025411  0.035197       0\n",
              "1     -0.003021  0.127523  0.022970  ...  0.129150  0.039032       0\n",
              "2     -0.029696  0.117454  0.070279  ...  0.084306  0.066426       0\n",
              "3     -0.034995  0.044120  0.062256  ...  0.183340 -0.034546       1\n",
              "4      0.015993  0.063070 -0.002374  ...  0.117784  0.017456       0\n",
              "...         ...       ...       ...  ...       ...       ...     ...\n",
              "23511 -0.037612 -0.003371 -0.043265  ...  0.091285  0.045650       1\n",
              "23512  0.003700  0.071014 -0.004820  ...  0.142891  0.104774       0\n",
              "23513 -0.051111  0.146917 -0.019682  ...  0.156669  0.086036       0\n",
              "23514 -0.108724  0.262695 -0.012207  ...  0.284668  0.115234       0\n",
              "23515 -0.116017  0.087541  0.000201  ...  0.140864  0.032995       1\n",
              "\n",
              "[23508 rows x 301 columns]"
            ]
          },
          "metadata": {
            "tags": []
          },
          "execution_count": 15
        }
      ]
    },
    {
      "cell_type": "code",
      "metadata": {
        "id": "vnmk824TP6lI"
      },
      "source": [
        "from sklearn.model_selection import train_test_split "
      ],
      "execution_count": null,
      "outputs": []
    },
    {
      "cell_type": "code",
      "metadata": {
        "id": "BE8bqAoRRJs2"
      },
      "source": [
        "x=docs_vectors.drop('labels' , axis=1)"
      ],
      "execution_count": null,
      "outputs": []
    },
    {
      "cell_type": "code",
      "metadata": {
        "id": "6I5zmeAWR8SC"
      },
      "source": [
        "y=docs_vectors['labels']"
      ],
      "execution_count": null,
      "outputs": []
    },
    {
      "cell_type": "code",
      "metadata": {
        "id": "rL1pYlrjQ-YN"
      },
      "source": [
        "x_train,x_test,y_train,y_test= train_test_split(x,y,test_size=0.2 , random_state=2021)"
      ],
      "execution_count": null,
      "outputs": []
    },
    {
      "cell_type": "code",
      "metadata": {
        "colab": {
          "base_uri": "https://localhost:8080/"
        },
        "id": "o0OjnxHLFgXD",
        "outputId": "21e6e479-c1c2-4e83-a470-2c81b52e31af"
      },
      "source": [
        "zerocount=0\n",
        "onecount=0\n",
        "for i in y_train:\n",
        "  if i == 0:\n",
        "    zerocount+=1\n",
        "  else:\n",
        "    onecount+=1\n",
        "print(\"no of negative sample in training class is:\",zerocount)\n",
        "print(\"no of positive sample in training class is:\",onecount) "
      ],
      "execution_count": null,
      "outputs": [
        {
          "output_type": "stream",
          "text": [
            "no of negative sample in training class is: 13328\n",
            "no of positive sample in training class is: 5478\n"
          ],
          "name": "stdout"
        }
      ]
    },
    {
      "cell_type": "markdown",
      "metadata": {
        "id": "iKGdVkbyVgvn"
      },
      "source": [
        "**DECISION TREE**"
      ]
    },
    {
      "cell_type": "code",
      "metadata": {
        "id": "H9Cim_FEE2SB"
      },
      "source": [
        "from sklearn.metrics import accuracy_score"
      ],
      "execution_count": null,
      "outputs": []
    },
    {
      "cell_type": "code",
      "metadata": {
        "id": "pLvE7wAbSJfA"
      },
      "source": [
        "from sklearn.tree import DecisionTreeClassifier\n"
      ],
      "execution_count": null,
      "outputs": []
    },
    {
      "cell_type": "code",
      "metadata": {
        "id": "VZW8sfzbSStw"
      },
      "source": [
        "dt_model= DecisionTreeClassifier(max_depth=5)"
      ],
      "execution_count": null,
      "outputs": []
    },
    {
      "cell_type": "code",
      "metadata": {
        "colab": {
          "base_uri": "https://localhost:8080/"
        },
        "id": "JVKPuQ7DShl3",
        "outputId": "176912df-8b25-4707-cd2f-dae56efc84cb"
      },
      "source": [
        "dt_model.fit(x_train,y_train)"
      ],
      "execution_count": null,
      "outputs": [
        {
          "output_type": "execute_result",
          "data": {
            "text/plain": [
              "DecisionTreeClassifier(ccp_alpha=0.0, class_weight=None, criterion='gini',\n",
              "                       max_depth=5, max_features=None, max_leaf_nodes=None,\n",
              "                       min_impurity_decrease=0.0, min_impurity_split=None,\n",
              "                       min_samples_leaf=1, min_samples_split=2,\n",
              "                       min_weight_fraction_leaf=0.0, presort='deprecated',\n",
              "                       random_state=None, splitter='best')"
            ]
          },
          "metadata": {
            "tags": []
          },
          "execution_count": 41
        }
      ]
    },
    {
      "cell_type": "code",
      "metadata": {
        "id": "wXY8Tw_LSp5e"
      },
      "source": [
        "dt_pred=dt_model.predict(x_test)"
      ],
      "execution_count": null,
      "outputs": []
    },
    {
      "cell_type": "code",
      "metadata": {
        "colab": {
          "base_uri": "https://localhost:8080/"
        },
        "id": "DBUOrVeXTZr8",
        "outputId": "ad905302-3cb4-4763-d59e-2bd92f1d9ecb"
      },
      "source": [
        "dt_pred"
      ],
      "execution_count": null,
      "outputs": [
        {
          "output_type": "execute_result",
          "data": {
            "text/plain": [
              "array([0, 0, 1, ..., 0, 0, 0])"
            ]
          },
          "metadata": {
            "tags": []
          },
          "execution_count": 43
        }
      ]
    },
    {
      "cell_type": "code",
      "metadata": {
        "id": "ibpcvhjZTa4H"
      },
      "source": [
        "from sklearn.metrics import confusion_matrix,classification_report"
      ],
      "execution_count": null,
      "outputs": []
    },
    {
      "cell_type": "code",
      "metadata": {
        "colab": {
          "base_uri": "https://localhost:8080/"
        },
        "id": "DfxAvdSEUd0Y",
        "outputId": "c7a0539f-075c-4ad7-806d-a94425241e99"
      },
      "source": [
        "print(classification_report(y_test,dt_pred))"
      ],
      "execution_count": null,
      "outputs": [
        {
          "output_type": "stream",
          "text": [
            "              precision    recall  f1-score   support\n",
            "\n",
            "           0       0.82      0.81      0.81      3359\n",
            "           1       0.53      0.55      0.54      1343\n",
            "\n",
            "    accuracy                           0.73      4702\n",
            "   macro avg       0.67      0.68      0.67      4702\n",
            "weighted avg       0.73      0.73      0.73      4702\n",
            "\n"
          ],
          "name": "stdout"
        }
      ]
    },
    {
      "cell_type": "code",
      "metadata": {
        "colab": {
          "base_uri": "https://localhost:8080/"
        },
        "id": "W21ZCxt7Ug6M",
        "outputId": "f0aad1ae-c63c-469a-81fb-ae62dd64318b"
      },
      "source": [
        "print(confusion_matrix(y_test,dt_pred))"
      ],
      "execution_count": null,
      "outputs": [
        {
          "output_type": "stream",
          "text": [
            "[[2709  650]\n",
            " [ 610  733]]\n"
          ],
          "name": "stdout"
        }
      ]
    },
    {
      "cell_type": "code",
      "metadata": {
        "colab": {
          "base_uri": "https://localhost:8080/"
        },
        "id": "jeYOI0L0FJtT",
        "outputId": "b3f62ea0-bd3f-4e10-99e6-201554d96e63"
      },
      "source": [
        "#training error \n",
        "dt_pred_train = dt_model.predict(x_train)\n",
        "accuracy_score(y_train,dt_pred_train )  \n"
      ],
      "execution_count": null,
      "outputs": [
        {
          "output_type": "execute_result",
          "data": {
            "text/plain": [
              "0.7340210571094331"
            ]
          },
          "metadata": {
            "tags": []
          },
          "execution_count": 47
        }
      ]
    },
    {
      "cell_type": "markdown",
      "metadata": {
        "id": "hL8ihbrsdg7e"
      },
      "source": [
        "**LOGISTIC REGRESSION** "
      ]
    },
    {
      "cell_type": "code",
      "metadata": {
        "id": "MOq7Is_aUnz5"
      },
      "source": [
        "from sklearn.linear_model import LogisticRegression"
      ],
      "execution_count": null,
      "outputs": []
    },
    {
      "cell_type": "code",
      "metadata": {
        "id": "lD4YU7fPngtJ"
      },
      "source": [
        "log_model=LogisticRegression(max_iter=1500)"
      ],
      "execution_count": null,
      "outputs": []
    },
    {
      "cell_type": "code",
      "metadata": {
        "colab": {
          "base_uri": "https://localhost:8080/"
        },
        "id": "5sreO8funloW",
        "outputId": "19bc6bab-01ef-4eda-c7f3-1e03bdbe61ac"
      },
      "source": [
        "log_model.fit(x_train,y_train)"
      ],
      "execution_count": null,
      "outputs": [
        {
          "output_type": "execute_result",
          "data": {
            "text/plain": [
              "LogisticRegression(C=1.0, class_weight=None, dual=False, fit_intercept=True,\n",
              "                   intercept_scaling=1, l1_ratio=None, max_iter=1500,\n",
              "                   multi_class='auto', n_jobs=None, penalty='l2',\n",
              "                   random_state=None, solver='lbfgs', tol=0.0001, verbose=0,\n",
              "                   warm_start=False)"
            ]
          },
          "metadata": {
            "tags": []
          },
          "execution_count": 95
        }
      ]
    },
    {
      "cell_type": "code",
      "metadata": {
        "id": "OTjTF1AknpUX"
      },
      "source": [
        "log_pred=log_model.predict(x_test)"
      ],
      "execution_count": null,
      "outputs": []
    },
    {
      "cell_type": "code",
      "metadata": {
        "colab": {
          "base_uri": "https://localhost:8080/"
        },
        "id": "jpn6OmmHn5vu",
        "outputId": "582b0b65-c9fb-4947-946d-f86723566695"
      },
      "source": [
        "log_pred"
      ],
      "execution_count": null,
      "outputs": [
        {
          "output_type": "execute_result",
          "data": {
            "text/plain": [
              "array([0, 0, 0, ..., 0, 1, 0])"
            ]
          },
          "metadata": {
            "tags": []
          },
          "execution_count": 97
        }
      ]
    },
    {
      "cell_type": "code",
      "metadata": {
        "colab": {
          "base_uri": "https://localhost:8080/"
        },
        "id": "cPlv8tXWn7Kb",
        "outputId": "88330d5b-3bb4-4d8e-8ceb-7d16749a178b"
      },
      "source": [
        "print(classification_report(log_pred,y_test))"
      ],
      "execution_count": null,
      "outputs": [
        {
          "output_type": "stream",
          "text": [
            "              precision    recall  f1-score   support\n",
            "\n",
            "           0       0.91      0.83      0.87      3682\n",
            "           1       0.53      0.69      0.60      1020\n",
            "\n",
            "    accuracy                           0.80      4702\n",
            "   macro avg       0.72      0.76      0.73      4702\n",
            "weighted avg       0.82      0.80      0.81      4702\n",
            "\n"
          ],
          "name": "stdout"
        }
      ]
    },
    {
      "cell_type": "code",
      "metadata": {
        "colab": {
          "base_uri": "https://localhost:8080/"
        },
        "id": "Aeh25g5OoABa",
        "outputId": "1c39eb04-b63a-4d97-88a0-9fe094ab4310"
      },
      "source": [
        "print(confusion_matrix(log_pred,y_test))"
      ],
      "execution_count": null,
      "outputs": [
        {
          "output_type": "stream",
          "text": [
            "[[3047  635]\n",
            " [ 312  708]]\n"
          ],
          "name": "stdout"
        }
      ]
    },
    {
      "cell_type": "code",
      "metadata": {
        "colab": {
          "base_uri": "https://localhost:8080/"
        },
        "id": "RD5_UF_BGk67",
        "outputId": "13113728-53fa-4263-ed6f-343ab3414f6b"
      },
      "source": [
        "#calculate training error \n",
        "log_y_pred_train = log_model.predict(x_train) \n",
        "accuracy_score(y_train,log_y_pred_train) "
      ],
      "execution_count": null,
      "outputs": [
        {
          "output_type": "execute_result",
          "data": {
            "text/plain": [
              "0.7994257151972775"
            ]
          },
          "metadata": {
            "tags": []
          },
          "execution_count": 100
        }
      ]
    },
    {
      "cell_type": "markdown",
      "metadata": {
        "id": "0CrQZVOhorph"
      },
      "source": [
        "**NAIVE BAYES MODELS**"
      ]
    },
    {
      "cell_type": "code",
      "metadata": {
        "id": "Ubu7_V-poHO6"
      },
      "source": [
        "from sklearn.naive_bayes import GaussianNB"
      ],
      "execution_count": null,
      "outputs": []
    },
    {
      "cell_type": "code",
      "metadata": {
        "id": "NkyiIy9Bo-WF"
      },
      "source": [
        "gnb_model=GaussianNB()\n"
      ],
      "execution_count": null,
      "outputs": []
    },
    {
      "cell_type": "code",
      "metadata": {
        "colab": {
          "base_uri": "https://localhost:8080/"
        },
        "id": "V_lgTlFApAZH",
        "outputId": "ca83882d-cf89-463d-82a8-df582b8d344f"
      },
      "source": [
        "gnb_model.fit(x_train,y_train)"
      ],
      "execution_count": null,
      "outputs": [
        {
          "output_type": "execute_result",
          "data": {
            "text/plain": [
              "GaussianNB(priors=None, var_smoothing=1e-09)"
            ]
          },
          "metadata": {
            "tags": []
          },
          "execution_count": 103
        }
      ]
    },
    {
      "cell_type": "code",
      "metadata": {
        "id": "3F1AaQEmpFnM"
      },
      "source": [
        "gnb_pred=gnb_model.predict(x_test)"
      ],
      "execution_count": null,
      "outputs": []
    },
    {
      "cell_type": "code",
      "metadata": {
        "colab": {
          "base_uri": "https://localhost:8080/"
        },
        "id": "opK112vOpVlW",
        "outputId": "fde3bc39-6078-438e-bda8-bbd93a2bf77a"
      },
      "source": [
        "print(classification_report(y_test,gnb_pred))"
      ],
      "execution_count": null,
      "outputs": [
        {
          "output_type": "stream",
          "text": [
            "              precision    recall  f1-score   support\n",
            "\n",
            "           0       0.90      0.70      0.79      3359\n",
            "           1       0.52      0.81      0.63      1343\n",
            "\n",
            "    accuracy                           0.73      4702\n",
            "   macro avg       0.71      0.75      0.71      4702\n",
            "weighted avg       0.79      0.73      0.74      4702\n",
            "\n"
          ],
          "name": "stdout"
        }
      ]
    },
    {
      "cell_type": "code",
      "metadata": {
        "colab": {
          "base_uri": "https://localhost:8080/"
        },
        "id": "bkk5Ld8HpZlK",
        "outputId": "39eeede7-5a24-4d10-e5eb-bbc8662a879b"
      },
      "source": [
        "print(confusion_matrix(y_test,gnb_pred))"
      ],
      "execution_count": null,
      "outputs": [
        {
          "output_type": "stream",
          "text": [
            "[[2339 1020]\n",
            " [ 259 1084]]\n"
          ],
          "name": "stdout"
        }
      ]
    },
    {
      "cell_type": "code",
      "metadata": {
        "colab": {
          "base_uri": "https://localhost:8080/"
        },
        "id": "SDuTIwuXHTRg",
        "outputId": "8fec8f70-8580-4caf-c894-e1edea18d20a"
      },
      "source": [
        "gnb_train_pred = gnb_model.predict(x_train)\n",
        "accuracy_score(y_train,gnb_train_pred)"
      ],
      "execution_count": null,
      "outputs": [
        {
          "output_type": "execute_result",
          "data": {
            "text/plain": [
              "0.7184409231096459"
            ]
          },
          "metadata": {
            "tags": []
          },
          "execution_count": 107
        }
      ]
    },
    {
      "cell_type": "markdown",
      "metadata": {
        "id": "PJbVAAXtvN9s"
      },
      "source": [
        "**RANDOM FOREST CLASSIFIER**"
      ]
    },
    {
      "cell_type": "code",
      "metadata": {
        "id": "PMCMZ0EyphEr"
      },
      "source": [
        "from sklearn.ensemble import RandomForestClassifier"
      ],
      "execution_count": null,
      "outputs": []
    },
    {
      "cell_type": "code",
      "metadata": {
        "id": "THdSSSwtvU5u"
      },
      "source": [
        "rfc_model=RandomForestClassifier(n_estimators=1000,max_leaf_nodes=50)"
      ],
      "execution_count": null,
      "outputs": []
    },
    {
      "cell_type": "code",
      "metadata": {
        "colab": {
          "base_uri": "https://localhost:8080/"
        },
        "id": "NGjFckaOvXrL",
        "outputId": "20c79465-158a-495d-a52c-48e7da598068"
      },
      "source": [
        "rfc_model.fit(x_train,y_train)"
      ],
      "execution_count": null,
      "outputs": [
        {
          "output_type": "execute_result",
          "data": {
            "text/plain": [
              "RandomForestClassifier(bootstrap=True, ccp_alpha=0.0, class_weight=None,\n",
              "                       criterion='gini', max_depth=None, max_features='auto',\n",
              "                       max_leaf_nodes=50, max_samples=None,\n",
              "                       min_impurity_decrease=0.0, min_impurity_split=None,\n",
              "                       min_samples_leaf=1, min_samples_split=2,\n",
              "                       min_weight_fraction_leaf=0.0, n_estimators=1000,\n",
              "                       n_jobs=None, oob_score=False, random_state=None,\n",
              "                       verbose=0, warm_start=False)"
            ]
          },
          "metadata": {
            "tags": []
          },
          "execution_count": 116
        }
      ]
    },
    {
      "cell_type": "code",
      "metadata": {
        "id": "YqhEwnZFvaC9"
      },
      "source": [
        "rfc_pred=rfc_model.predict(x_test)"
      ],
      "execution_count": null,
      "outputs": []
    },
    {
      "cell_type": "code",
      "metadata": {
        "colab": {
          "base_uri": "https://localhost:8080/"
        },
        "id": "VgnYN8CkvdpY",
        "outputId": "c71e3c9d-c2cd-4b28-e739-a6d9d226eff9"
      },
      "source": [
        "print(classification_report(y_test,rfc_pred))"
      ],
      "execution_count": null,
      "outputs": [
        {
          "output_type": "stream",
          "text": [
            "              precision    recall  f1-score   support\n",
            "\n",
            "           0       0.78      0.99      0.87      3359\n",
            "           1       0.91      0.31      0.46      1343\n",
            "\n",
            "    accuracy                           0.79      4702\n",
            "   macro avg       0.85      0.65      0.67      4702\n",
            "weighted avg       0.82      0.79      0.76      4702\n",
            "\n"
          ],
          "name": "stdout"
        }
      ]
    },
    {
      "cell_type": "code",
      "metadata": {
        "colab": {
          "base_uri": "https://localhost:8080/"
        },
        "id": "w-cCYMY5vgMG",
        "outputId": "647fda76-21fd-48ec-c721-e85491fba0bb"
      },
      "source": [
        "print(confusion_matrix(y_test,rfc_pred))"
      ],
      "execution_count": null,
      "outputs": [
        {
          "output_type": "stream",
          "text": [
            "[[3320   39]\n",
            " [ 927  416]]\n"
          ],
          "name": "stdout"
        }
      ]
    },
    {
      "cell_type": "code",
      "metadata": {
        "colab": {
          "base_uri": "https://localhost:8080/"
        },
        "id": "4d247y_wHRcU",
        "outputId": "3b6e9c18-d347-49f0-8309-93a2db8beeef"
      },
      "source": [
        "#training error \n",
        "rfc_train = rfc_model.predict(x_train)\n",
        "accuracy_score(y_train,rfc_train)"
      ],
      "execution_count": null,
      "outputs": [
        {
          "output_type": "execute_result",
          "data": {
            "text/plain": [
              "0.8006487291290014"
            ]
          },
          "metadata": {
            "tags": []
          },
          "execution_count": 120
        }
      ]
    },
    {
      "cell_type": "markdown",
      "metadata": {
        "id": "vC4AXHLYvqbe"
      },
      "source": [
        "**XG BOOST**"
      ]
    },
    {
      "cell_type": "code",
      "metadata": {
        "colab": {
          "base_uri": "https://localhost:8080/"
        },
        "id": "ffZuc4v1vj_o",
        "outputId": "8916a69c-b16b-407f-9481-53305a9e99f4"
      },
      "source": [
        "pip install xgboost "
      ],
      "execution_count": null,
      "outputs": [
        {
          "output_type": "stream",
          "text": [
            "Requirement already satisfied: xgboost in /usr/local/lib/python3.7/dist-packages (0.90)\n",
            "Requirement already satisfied: scipy in /usr/local/lib/python3.7/dist-packages (from xgboost) (1.4.1)\n",
            "Requirement already satisfied: numpy in /usr/local/lib/python3.7/dist-packages (from xgboost) (1.19.5)\n"
          ],
          "name": "stdout"
        }
      ]
    },
    {
      "cell_type": "code",
      "metadata": {
        "id": "m_5_9Gngvuvr"
      },
      "source": [
        "from xgboost import XGBClassifier"
      ],
      "execution_count": null,
      "outputs": []
    },
    {
      "cell_type": "code",
      "metadata": {
        "id": "5KR-Fi-yvzVE"
      },
      "source": [
        "xgb_model=XGBClassifier()"
      ],
      "execution_count": null,
      "outputs": []
    },
    {
      "cell_type": "code",
      "metadata": {
        "colab": {
          "base_uri": "https://localhost:8080/"
        },
        "id": "jfZdGkGUv1ok",
        "outputId": "72cc620a-5947-49a3-8508-f87244ac4a00"
      },
      "source": [
        "xgb_model.fit(x_train,y_train)"
      ],
      "execution_count": null,
      "outputs": [
        {
          "output_type": "execute_result",
          "data": {
            "text/plain": [
              "XGBClassifier(base_score=0.5, booster='gbtree', colsample_bylevel=1,\n",
              "              colsample_bynode=1, colsample_bytree=1, gamma=0,\n",
              "              learning_rate=0.1, max_delta_step=0, max_depth=3,\n",
              "              min_child_weight=1, missing=None, n_estimators=100, n_jobs=1,\n",
              "              nthread=None, objective='binary:logistic', random_state=0,\n",
              "              reg_alpha=0, reg_lambda=1, scale_pos_weight=1, seed=None,\n",
              "              silent=None, subsample=1, verbosity=1)"
            ]
          },
          "metadata": {
            "tags": []
          },
          "execution_count": 23
        }
      ]
    },
    {
      "cell_type": "code",
      "metadata": {
        "id": "ZkJvyXttv4f1"
      },
      "source": [
        "xgb_pred = xgb_model.predict(x_test)\n"
      ],
      "execution_count": null,
      "outputs": []
    },
    {
      "cell_type": "code",
      "metadata": {
        "colab": {
          "base_uri": "https://localhost:8080/"
        },
        "id": "Nd14f9Q7v-cv",
        "outputId": "5b3f2327-56db-49e1-f884-aa1b80f968a0"
      },
      "source": [
        "print(classification_report(y_test,xgb_pred))"
      ],
      "execution_count": null,
      "outputs": [
        {
          "output_type": "stream",
          "text": [
            "              precision    recall  f1-score   support\n",
            "\n",
            "           0       0.85      0.93      0.89      3359\n",
            "           1       0.77      0.57      0.66      1343\n",
            "\n",
            "    accuracy                           0.83      4702\n",
            "   macro avg       0.81      0.75      0.77      4702\n",
            "weighted avg       0.82      0.83      0.82      4702\n",
            "\n"
          ],
          "name": "stdout"
        }
      ]
    },
    {
      "cell_type": "code",
      "metadata": {
        "id": "m5-CKnnb0Mkl",
        "colab": {
          "base_uri": "https://localhost:8080/"
        },
        "outputId": "2bb1860a-c562-436f-a2c9-4514fb997d05"
      },
      "source": [
        "#training error \n",
        "xgb_pred_train = xgb_model.predict(x_train) \n",
        "accuracy_score(y_train,xgb_pred_train)  "
      ],
      "execution_count": null,
      "outputs": [
        {
          "output_type": "execute_result",
          "data": {
            "text/plain": [
              "0.8540891204934595"
            ]
          },
          "metadata": {
            "tags": []
          },
          "execution_count": 31
        }
      ]
    },
    {
      "cell_type": "code",
      "metadata": {
        "colab": {
          "base_uri": "https://localhost:8080/"
        },
        "id": "FFyZUDAM7Hs6",
        "outputId": "b62630ad-fe11-44ef-88cf-1f79b0fcec56"
      },
      "source": [
        "print(confusion_matrix(y_test,xgb_pred))"
      ],
      "execution_count": null,
      "outputs": [
        {
          "output_type": "stream",
          "text": [
            "[[3130  229]\n",
            " [ 572  771]]\n"
          ],
          "name": "stdout"
        }
      ]
    },
    {
      "cell_type": "code",
      "metadata": {
        "id": "jPnFcKP87NRD"
      },
      "source": [
        ""
      ],
      "execution_count": null,
      "outputs": []
    }
  ]
}