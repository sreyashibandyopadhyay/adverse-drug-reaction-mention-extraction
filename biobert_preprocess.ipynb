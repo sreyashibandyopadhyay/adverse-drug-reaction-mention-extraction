{
  "nbformat": 4,
  "nbformat_minor": 0,
  "metadata": {
    "colab": {
      "name": "biobert_preprocess.ipynb",
      "provenance": []
    },
    "kernelspec": {
      "name": "python3",
      "display_name": "Python 3"
    },
    "language_info": {
      "name": "python"
    }
  },
  "cells": [
    {
      "cell_type": "code",
      "metadata": {
        "id": "jOEwY4cO58_o"
      },
      "source": [
        "import pandas as pd \n",
        "import numpy as np "
      ],
      "execution_count": null,
      "outputs": []
    },
    {
      "cell_type": "code",
      "metadata": {
        "id": "dCepVAKc6RRW"
      },
      "source": [
        "df=pd.read_csv('/content/preprocessed_ade.csv')\n"
      ],
      "execution_count": null,
      "outputs": []
    },
    {
      "cell_type": "code",
      "metadata": {
        "colab": {
          "base_uri": "https://localhost:8080/"
        },
        "id": "cEWUNXPW6xyD",
        "outputId": "a646080a-9498-447a-dfc9-77b8946238cc"
      },
      "source": [
        "pip install biobert-embedding==0.1.2 torch==1.2.0 -f https://download.pytorch.org/whl/torch_stable.html "
      ],
      "execution_count": null,
      "outputs": [
        {
          "output_type": "stream",
          "text": [
            "Looking in links: https://download.pytorch.org/whl/torch_stable.html\n",
            "Collecting biobert-embedding==0.1.2\n",
            "  Downloading https://files.pythonhosted.org/packages/d2/f0/f5bd3fd4a0bcef4d85e5e82347ae73d376d68dc8086afde75838ba0473a2/biobert-embedding-0.1.2.tar.gz\n",
            "Collecting torch==1.2.0\n",
            "\u001b[?25l  Downloading https://download.pytorch.org/whl/cu92/torch-1.2.0%2Bcu92-cp37-cp37m-manylinux1_x86_64.whl (663.1MB)\n",
            "\u001b[K     |████████████████████████████████| 663.1MB 25kB/s \n",
            "\u001b[?25hCollecting pytorch-pretrained-bert==0.6.2\n",
            "\u001b[?25l  Downloading https://files.pythonhosted.org/packages/d7/e0/c08d5553b89973d9a240605b9c12404bcf8227590de62bae27acbcfe076b/pytorch_pretrained_bert-0.6.2-py3-none-any.whl (123kB)\n",
            "\u001b[K     |████████████████████████████████| 133kB 4.2MB/s \n",
            "\u001b[?25hRequirement already satisfied: tensorflow in /usr/local/lib/python3.7/dist-packages (from biobert-embedding==0.1.2) (2.5.0)\n",
            "Requirement already satisfied: numpy in /usr/local/lib/python3.7/dist-packages (from torch==1.2.0) (1.19.5)\n",
            "Requirement already satisfied: regex in /usr/local/lib/python3.7/dist-packages (from pytorch-pretrained-bert==0.6.2->biobert-embedding==0.1.2) (2019.12.20)\n",
            "Collecting boto3\n",
            "\u001b[?25l  Downloading https://files.pythonhosted.org/packages/a3/7c/f7fadb2d3d001d6fb9b8aab6038520e8aab2bb174e2fdb98505df5bbff19/boto3-1.17.86-py2.py3-none-any.whl (131kB)\n",
            "\u001b[K     |████████████████████████████████| 133kB 17.2MB/s \n",
            "\u001b[?25hRequirement already satisfied: requests in /usr/local/lib/python3.7/dist-packages (from pytorch-pretrained-bert==0.6.2->biobert-embedding==0.1.2) (2.23.0)\n",
            "Requirement already satisfied: tqdm in /usr/local/lib/python3.7/dist-packages (from pytorch-pretrained-bert==0.6.2->biobert-embedding==0.1.2) (4.41.1)\n",
            "Requirement already satisfied: tensorflow-estimator<2.6.0,>=2.5.0rc0 in /usr/local/lib/python3.7/dist-packages (from tensorflow->biobert-embedding==0.1.2) (2.5.0)\n",
            "Requirement already satisfied: keras-preprocessing~=1.1.2 in /usr/local/lib/python3.7/dist-packages (from tensorflow->biobert-embedding==0.1.2) (1.1.2)\n",
            "Requirement already satisfied: opt-einsum~=3.3.0 in /usr/local/lib/python3.7/dist-packages (from tensorflow->biobert-embedding==0.1.2) (3.3.0)\n",
            "Requirement already satisfied: six~=1.15.0 in /usr/local/lib/python3.7/dist-packages (from tensorflow->biobert-embedding==0.1.2) (1.15.0)\n",
            "Requirement already satisfied: h5py~=3.1.0 in /usr/local/lib/python3.7/dist-packages (from tensorflow->biobert-embedding==0.1.2) (3.1.0)\n",
            "Requirement already satisfied: tensorboard~=2.5 in /usr/local/lib/python3.7/dist-packages (from tensorflow->biobert-embedding==0.1.2) (2.5.0)\n",
            "Requirement already satisfied: absl-py~=0.10 in /usr/local/lib/python3.7/dist-packages (from tensorflow->biobert-embedding==0.1.2) (0.12.0)\n",
            "Requirement already satisfied: protobuf>=3.9.2 in /usr/local/lib/python3.7/dist-packages (from tensorflow->biobert-embedding==0.1.2) (3.12.4)\n",
            "Requirement already satisfied: wheel~=0.35 in /usr/local/lib/python3.7/dist-packages (from tensorflow->biobert-embedding==0.1.2) (0.36.2)\n",
            "Requirement already satisfied: grpcio~=1.34.0 in /usr/local/lib/python3.7/dist-packages (from tensorflow->biobert-embedding==0.1.2) (1.34.1)\n",
            "Requirement already satisfied: flatbuffers~=1.12.0 in /usr/local/lib/python3.7/dist-packages (from tensorflow->biobert-embedding==0.1.2) (1.12)\n",
            "Requirement already satisfied: keras-nightly~=2.5.0.dev in /usr/local/lib/python3.7/dist-packages (from tensorflow->biobert-embedding==0.1.2) (2.5.0.dev2021032900)\n",
            "Requirement already satisfied: google-pasta~=0.2 in /usr/local/lib/python3.7/dist-packages (from tensorflow->biobert-embedding==0.1.2) (0.2.0)\n",
            "Requirement already satisfied: gast==0.4.0 in /usr/local/lib/python3.7/dist-packages (from tensorflow->biobert-embedding==0.1.2) (0.4.0)\n",
            "Requirement already satisfied: astunparse~=1.6.3 in /usr/local/lib/python3.7/dist-packages (from tensorflow->biobert-embedding==0.1.2) (1.6.3)\n",
            "Requirement already satisfied: wrapt~=1.12.1 in /usr/local/lib/python3.7/dist-packages (from tensorflow->biobert-embedding==0.1.2) (1.12.1)\n",
            "Requirement already satisfied: typing-extensions~=3.7.4 in /usr/local/lib/python3.7/dist-packages (from tensorflow->biobert-embedding==0.1.2) (3.7.4.3)\n",
            "Requirement already satisfied: termcolor~=1.1.0 in /usr/local/lib/python3.7/dist-packages (from tensorflow->biobert-embedding==0.1.2) (1.1.0)\n",
            "Collecting s3transfer<0.5.0,>=0.4.0\n",
            "\u001b[?25l  Downloading https://files.pythonhosted.org/packages/63/d0/693477c688348654ddc21dcdce0817653a294aa43f41771084c25e7ff9c7/s3transfer-0.4.2-py2.py3-none-any.whl (79kB)\n",
            "\u001b[K     |████████████████████████████████| 81kB 7.5MB/s \n",
            "\u001b[?25hCollecting botocore<1.21.0,>=1.20.86\n",
            "\u001b[?25l  Downloading https://files.pythonhosted.org/packages/73/7b/6869c8e68929313a182ba3c1becfee65a7de4cf6d9e7f691fcb42baec8b2/botocore-1.20.86-py2.py3-none-any.whl (7.6MB)\n",
            "\u001b[K     |████████████████████████████████| 7.6MB 36.2MB/s \n",
            "\u001b[?25hCollecting jmespath<1.0.0,>=0.7.1\n",
            "  Downloading https://files.pythonhosted.org/packages/07/cb/5f001272b6faeb23c1c9e0acc04d48eaaf5c862c17709d20e3469c6e0139/jmespath-0.10.0-py2.py3-none-any.whl\n",
            "Requirement already satisfied: chardet<4,>=3.0.2 in /usr/local/lib/python3.7/dist-packages (from requests->pytorch-pretrained-bert==0.6.2->biobert-embedding==0.1.2) (3.0.4)\n",
            "Requirement already satisfied: certifi>=2017.4.17 in /usr/local/lib/python3.7/dist-packages (from requests->pytorch-pretrained-bert==0.6.2->biobert-embedding==0.1.2) (2020.12.5)\n",
            "Requirement already satisfied: urllib3!=1.25.0,!=1.25.1,<1.26,>=1.21.1 in /usr/local/lib/python3.7/dist-packages (from requests->pytorch-pretrained-bert==0.6.2->biobert-embedding==0.1.2) (1.24.3)\n",
            "Requirement already satisfied: idna<3,>=2.5 in /usr/local/lib/python3.7/dist-packages (from requests->pytorch-pretrained-bert==0.6.2->biobert-embedding==0.1.2) (2.10)\n",
            "Requirement already satisfied: cached-property; python_version < \"3.8\" in /usr/local/lib/python3.7/dist-packages (from h5py~=3.1.0->tensorflow->biobert-embedding==0.1.2) (1.5.2)\n",
            "Requirement already satisfied: google-auth<2,>=1.6.3 in /usr/local/lib/python3.7/dist-packages (from tensorboard~=2.5->tensorflow->biobert-embedding==0.1.2) (1.30.0)\n",
            "Requirement already satisfied: google-auth-oauthlib<0.5,>=0.4.1 in /usr/local/lib/python3.7/dist-packages (from tensorboard~=2.5->tensorflow->biobert-embedding==0.1.2) (0.4.4)\n",
            "Requirement already satisfied: markdown>=2.6.8 in /usr/local/lib/python3.7/dist-packages (from tensorboard~=2.5->tensorflow->biobert-embedding==0.1.2) (3.3.4)\n",
            "Requirement already satisfied: setuptools>=41.0.0 in /usr/local/lib/python3.7/dist-packages (from tensorboard~=2.5->tensorflow->biobert-embedding==0.1.2) (57.0.0)\n",
            "Requirement already satisfied: tensorboard-data-server<0.7.0,>=0.6.0 in /usr/local/lib/python3.7/dist-packages (from tensorboard~=2.5->tensorflow->biobert-embedding==0.1.2) (0.6.1)\n",
            "Requirement already satisfied: tensorboard-plugin-wit>=1.6.0 in /usr/local/lib/python3.7/dist-packages (from tensorboard~=2.5->tensorflow->biobert-embedding==0.1.2) (1.8.0)\n",
            "Requirement already satisfied: werkzeug>=0.11.15 in /usr/local/lib/python3.7/dist-packages (from tensorboard~=2.5->tensorflow->biobert-embedding==0.1.2) (1.0.1)\n",
            "Requirement already satisfied: python-dateutil<3.0.0,>=2.1 in /usr/local/lib/python3.7/dist-packages (from botocore<1.21.0,>=1.20.86->boto3->pytorch-pretrained-bert==0.6.2->biobert-embedding==0.1.2) (2.8.1)\n",
            "Requirement already satisfied: rsa<5,>=3.1.4; python_version >= \"3.6\" in /usr/local/lib/python3.7/dist-packages (from google-auth<2,>=1.6.3->tensorboard~=2.5->tensorflow->biobert-embedding==0.1.2) (4.7.2)\n",
            "Requirement already satisfied: cachetools<5.0,>=2.0.0 in /usr/local/lib/python3.7/dist-packages (from google-auth<2,>=1.6.3->tensorboard~=2.5->tensorflow->biobert-embedding==0.1.2) (4.2.2)\n",
            "Requirement already satisfied: pyasn1-modules>=0.2.1 in /usr/local/lib/python3.7/dist-packages (from google-auth<2,>=1.6.3->tensorboard~=2.5->tensorflow->biobert-embedding==0.1.2) (0.2.8)\n",
            "Requirement already satisfied: requests-oauthlib>=0.7.0 in /usr/local/lib/python3.7/dist-packages (from google-auth-oauthlib<0.5,>=0.4.1->tensorboard~=2.5->tensorflow->biobert-embedding==0.1.2) (1.3.0)\n",
            "Requirement already satisfied: importlib-metadata; python_version < \"3.8\" in /usr/local/lib/python3.7/dist-packages (from markdown>=2.6.8->tensorboard~=2.5->tensorflow->biobert-embedding==0.1.2) (4.0.1)\n",
            "Requirement already satisfied: pyasn1>=0.1.3 in /usr/local/lib/python3.7/dist-packages (from rsa<5,>=3.1.4; python_version >= \"3.6\"->google-auth<2,>=1.6.3->tensorboard~=2.5->tensorflow->biobert-embedding==0.1.2) (0.4.8)\n",
            "Requirement already satisfied: oauthlib>=3.0.0 in /usr/local/lib/python3.7/dist-packages (from requests-oauthlib>=0.7.0->google-auth-oauthlib<0.5,>=0.4.1->tensorboard~=2.5->tensorflow->biobert-embedding==0.1.2) (3.1.0)\n",
            "Requirement already satisfied: zipp>=0.5 in /usr/local/lib/python3.7/dist-packages (from importlib-metadata; python_version < \"3.8\"->markdown>=2.6.8->tensorboard~=2.5->tensorflow->biobert-embedding==0.1.2) (3.4.1)\n",
            "Building wheels for collected packages: biobert-embedding\n",
            "  Building wheel for biobert-embedding (setup.py) ... \u001b[?25l\u001b[?25hdone\n",
            "  Created wheel for biobert-embedding: filename=biobert_embedding-0.1.2-cp37-none-any.whl size=5701 sha256=643bfa0ecda2f8a46595d73825fb902f2bb1353fa0041b9328be68e16850c5a3\n",
            "  Stored in directory: /root/.cache/pip/wheels/ad/15/65/3fc6192a7cb7920672bb46d566173decb0875f35bbe03cd09d\n",
            "Successfully built biobert-embedding\n",
            "\u001b[31mERROR: torchvision 0.9.1+cu101 has requirement torch==1.8.1, but you'll have torch 1.2.0+cu92 which is incompatible.\u001b[0m\n",
            "\u001b[31mERROR: torchtext 0.9.1 has requirement torch==1.8.1, but you'll have torch 1.2.0+cu92 which is incompatible.\u001b[0m\n",
            "\u001b[31mERROR: botocore 1.20.86 has requirement urllib3<1.27,>=1.25.4, but you'll have urllib3 1.24.3 which is incompatible.\u001b[0m\n",
            "Installing collected packages: torch, jmespath, botocore, s3transfer, boto3, pytorch-pretrained-bert, biobert-embedding\n",
            "  Found existing installation: torch 1.8.1+cu101\n",
            "    Uninstalling torch-1.8.1+cu101:\n",
            "      Successfully uninstalled torch-1.8.1+cu101\n",
            "Successfully installed biobert-embedding-0.1.2 boto3-1.17.86 botocore-1.20.86 jmespath-0.10.0 pytorch-pretrained-bert-0.6.2 s3transfer-0.4.2 torch-1.2.0+cu92\n"
          ],
          "name": "stdout"
        }
      ]
    },
    {
      "cell_type": "code",
      "metadata": {
        "id": "HfbitAA662gx"
      },
      "source": [
        "from biobert_embedding.embedding import BiobertEmbedding "
      ],
      "execution_count": null,
      "outputs": []
    },
    {
      "cell_type": "code",
      "metadata": {
        "colab": {
          "base_uri": "https://localhost:8080/"
        },
        "id": "BGY419Wa7iOl",
        "outputId": "cb8efc05-526d-4574-b036-37aad9b0b4ff"
      },
      "source": [
        "biobert = BiobertEmbedding()"
      ],
      "execution_count": null,
      "outputs": [
        {
          "output_type": "stream",
          "text": [
            "Downloading the biobert model, will take a minute...\n"
          ],
          "name": "stdout"
        },
        {
          "output_type": "stream",
          "text": [
            "/usr/local/lib/python3.7/dist-packages/urllib3/connectionpool.py:847: InsecureRequestWarning: Unverified HTTPS request is being made. Adding certificate verification is strongly advised. See: https://urllib3.readthedocs.io/en/latest/advanced-usage.html#ssl-warnings\n",
            "  InsecureRequestWarning)\n",
            "/usr/local/lib/python3.7/dist-packages/urllib3/connectionpool.py:847: InsecureRequestWarning: Unverified HTTPS request is being made. Adding certificate verification is strongly advised. See: https://urllib3.readthedocs.io/en/latest/advanced-usage.html#ssl-warnings\n",
            "  InsecureRequestWarning)\n",
            "/usr/local/lib/python3.7/dist-packages/urllib3/connectionpool.py:847: InsecureRequestWarning: Unverified HTTPS request is being made. Adding certificate verification is strongly advised. See: https://urllib3.readthedocs.io/en/latest/advanced-usage.html#ssl-warnings\n",
            "  InsecureRequestWarning)\n",
            "/usr/local/lib/python3.7/dist-packages/urllib3/connectionpool.py:847: InsecureRequestWarning: Unverified HTTPS request is being made. Adding certificate verification is strongly advised. See: https://urllib3.readthedocs.io/en/latest/advanced-usage.html#ssl-warnings\n",
            "  InsecureRequestWarning)\n",
            "/usr/local/lib/python3.7/dist-packages/urllib3/connectionpool.py:847: InsecureRequestWarning: Unverified HTTPS request is being made. Adding certificate verification is strongly advised. See: https://urllib3.readthedocs.io/en/latest/advanced-usage.html#ssl-warnings\n",
            "  InsecureRequestWarning)\n"
          ],
          "name": "stderr"
        }
      ]
    },
    {
      "cell_type": "code",
      "metadata": {
        "colab": {
          "base_uri": "https://localhost:8080/",
          "height": 402
        },
        "id": "NiKN6_PC7_AT",
        "outputId": "800ada21-cfb0-4bdd-d6df-fc6f1e794c00"
      },
      "source": [
        "df"
      ],
      "execution_count": null,
      "outputs": [
        {
          "output_type": "execute_result",
          "data": {
            "text/html": [
              "<div>\n",
              "<style scoped>\n",
              "    .dataframe tbody tr th:only-of-type {\n",
              "        vertical-align: middle;\n",
              "    }\n",
              "\n",
              "    .dataframe tbody tr th {\n",
              "        vertical-align: top;\n",
              "    }\n",
              "\n",
              "    .dataframe thead th {\n",
              "        text-align: right;\n",
              "    }\n",
              "</style>\n",
              "<table border=\"1\" class=\"dataframe\">\n",
              "  <thead>\n",
              "    <tr style=\"text-align: right;\">\n",
              "      <th></th>\n",
              "      <th>Unnamed: 0</th>\n",
              "      <th>observation</th>\n",
              "      <th>labels</th>\n",
              "    </tr>\n",
              "  </thead>\n",
              "  <tbody>\n",
              "    <tr>\n",
              "      <th>0</th>\n",
              "      <td>12606</td>\n",
              "      <td>early phase ii semi double blind study of the ...</td>\n",
              "      <td>0</td>\n",
              "    </tr>\n",
              "    <tr>\n",
              "      <th>1</th>\n",
              "      <td>685</td>\n",
              "      <td>cessation of mtx therapy led to complete regre...</td>\n",
              "      <td>0</td>\n",
              "    </tr>\n",
              "    <tr>\n",
              "      <th>2</th>\n",
              "      <td>5127</td>\n",
              "      <td>cutaneous biopsy showed hyphae and round inclu...</td>\n",
              "      <td>0</td>\n",
              "    </tr>\n",
              "    <tr>\n",
              "      <th>3</th>\n",
              "      <td>3158</td>\n",
              "      <td>she was treated with acyclovir and subsequentl...</td>\n",
              "      <td>1</td>\n",
              "    </tr>\n",
              "    <tr>\n",
              "      <th>4</th>\n",
              "      <td>10685</td>\n",
              "      <td>cisplatin was substituted and the patient achi...</td>\n",
              "      <td>0</td>\n",
              "    </tr>\n",
              "    <tr>\n",
              "      <th>...</th>\n",
              "      <td>...</td>\n",
              "      <td>...</td>\n",
              "      <td>...</td>\n",
              "    </tr>\n",
              "    <tr>\n",
              "      <th>23511</th>\n",
              "      <td>982</td>\n",
              "      <td>ticlopidine induced aplastic anemia  two new c...</td>\n",
              "      <td>1</td>\n",
              "    </tr>\n",
              "    <tr>\n",
              "      <th>23512</th>\n",
              "      <td>14487</td>\n",
              "      <td>the risks of sumatriptan administration in pat...</td>\n",
              "      <td>0</td>\n",
              "    </tr>\n",
              "    <tr>\n",
              "      <th>23513</th>\n",
              "      <td>4680</td>\n",
              "      <td>however   the spectrum of hosts and clinical p...</td>\n",
              "      <td>0</td>\n",
              "    </tr>\n",
              "    <tr>\n",
              "      <th>23514</th>\n",
              "      <td>2588</td>\n",
              "      <td>antibiotic treatment should be continued</td>\n",
              "      <td>0</td>\n",
              "    </tr>\n",
              "    <tr>\n",
              "      <th>23515</th>\n",
              "      <td>6571</td>\n",
              "      <td>in case     a total daily dose of    mg sertra...</td>\n",
              "      <td>1</td>\n",
              "    </tr>\n",
              "  </tbody>\n",
              "</table>\n",
              "<p>23516 rows × 3 columns</p>\n",
              "</div>"
            ],
            "text/plain": [
              "       Unnamed: 0                                        observation  labels\n",
              "0           12606  early phase ii semi double blind study of the ...       0\n",
              "1             685  cessation of mtx therapy led to complete regre...       0\n",
              "2            5127  cutaneous biopsy showed hyphae and round inclu...       0\n",
              "3            3158  she was treated with acyclovir and subsequentl...       1\n",
              "4           10685  cisplatin was substituted and the patient achi...       0\n",
              "...           ...                                                ...     ...\n",
              "23511         982  ticlopidine induced aplastic anemia  two new c...       1\n",
              "23512       14487  the risks of sumatriptan administration in pat...       0\n",
              "23513        4680  however   the spectrum of hosts and clinical p...       0\n",
              "23514        2588           antibiotic treatment should be continued       0\n",
              "23515        6571  in case     a total daily dose of    mg sertra...       1\n",
              "\n",
              "[23516 rows x 3 columns]"
            ]
          },
          "metadata": {
            "tags": []
          },
          "execution_count": 8
        }
      ]
    },
    {
      "cell_type": "code",
      "metadata": {
        "id": "l4yw0-e07sfi"
      },
      "source": [
        "df['sentence embedding'] = df['observation'].apply(lambda sentence: biobert.sentence_vector(sentence))"
      ],
      "execution_count": null,
      "outputs": []
    },
    {
      "cell_type": "code",
      "metadata": {
        "colab": {
          "base_uri": "https://localhost:8080/",
          "height": 1000
        },
        "id": "-6dZqrWN8HJm",
        "outputId": "2d480aea-953d-4f96-d44f-ab3afd2c93df"
      },
      "source": [
        "df"
      ],
      "execution_count": null,
      "outputs": [
        {
          "output_type": "execute_result",
          "data": {
            "text/html": [
              "<div>\n",
              "<style scoped>\n",
              "    .dataframe tbody tr th:only-of-type {\n",
              "        vertical-align: middle;\n",
              "    }\n",
              "\n",
              "    .dataframe tbody tr th {\n",
              "        vertical-align: top;\n",
              "    }\n",
              "\n",
              "    .dataframe thead th {\n",
              "        text-align: right;\n",
              "    }\n",
              "</style>\n",
              "<table border=\"1\" class=\"dataframe\">\n",
              "  <thead>\n",
              "    <tr style=\"text-align: right;\">\n",
              "      <th></th>\n",
              "      <th>Unnamed: 0</th>\n",
              "      <th>observation</th>\n",
              "      <th>labels</th>\n",
              "      <th>sentence embedding</th>\n",
              "    </tr>\n",
              "  </thead>\n",
              "  <tbody>\n",
              "    <tr>\n",
              "      <th>0</th>\n",
              "      <td>12606</td>\n",
              "      <td>early phase ii semi double blind study of the ...</td>\n",
              "      <td>0</td>\n",
              "      <td>[tensor(0.1063), tensor(-0.1751), tensor(0.054...</td>\n",
              "    </tr>\n",
              "    <tr>\n",
              "      <th>1</th>\n",
              "      <td>685</td>\n",
              "      <td>cessation of mtx therapy led to complete regre...</td>\n",
              "      <td>0</td>\n",
              "      <td>[tensor(0.1218), tensor(0.0149), tensor(0.0538...</td>\n",
              "    </tr>\n",
              "    <tr>\n",
              "      <th>2</th>\n",
              "      <td>5127</td>\n",
              "      <td>cutaneous biopsy showed hyphae and round inclu...</td>\n",
              "      <td>0</td>\n",
              "      <td>[tensor(0.2673), tensor(-0.4645), tensor(0.142...</td>\n",
              "    </tr>\n",
              "    <tr>\n",
              "      <th>3</th>\n",
              "      <td>3158</td>\n",
              "      <td>she was treated with acyclovir and subsequentl...</td>\n",
              "      <td>1</td>\n",
              "      <td>[tensor(0.2104), tensor(0.0648), tensor(0.1514...</td>\n",
              "    </tr>\n",
              "    <tr>\n",
              "      <th>4</th>\n",
              "      <td>10685</td>\n",
              "      <td>cisplatin was substituted and the patient achi...</td>\n",
              "      <td>0</td>\n",
              "      <td>[tensor(0.3071), tensor(0.0527), tensor(0.2132...</td>\n",
              "    </tr>\n",
              "    <tr>\n",
              "      <th>...</th>\n",
              "      <td>...</td>\n",
              "      <td>...</td>\n",
              "      <td>...</td>\n",
              "      <td>...</td>\n",
              "    </tr>\n",
              "    <tr>\n",
              "      <th>23511</th>\n",
              "      <td>982</td>\n",
              "      <td>ticlopidine induced aplastic anemia  two new c...</td>\n",
              "      <td>1</td>\n",
              "      <td>[tensor(0.2470), tensor(-0.0672), tensor(0.041...</td>\n",
              "    </tr>\n",
              "    <tr>\n",
              "      <th>23512</th>\n",
              "      <td>14487</td>\n",
              "      <td>the risks of sumatriptan administration in pat...</td>\n",
              "      <td>0</td>\n",
              "      <td>[tensor(0.3366), tensor(-0.1031), tensor(0.076...</td>\n",
              "    </tr>\n",
              "    <tr>\n",
              "      <th>23513</th>\n",
              "      <td>4680</td>\n",
              "      <td>however   the spectrum of hosts and clinical p...</td>\n",
              "      <td>0</td>\n",
              "      <td>[tensor(0.0419), tensor(-0.0837), tensor(-0.12...</td>\n",
              "    </tr>\n",
              "    <tr>\n",
              "      <th>23514</th>\n",
              "      <td>2588</td>\n",
              "      <td>antibiotic treatment should be continued</td>\n",
              "      <td>0</td>\n",
              "      <td>[tensor(0.1589), tensor(-0.0323), tensor(0.144...</td>\n",
              "    </tr>\n",
              "    <tr>\n",
              "      <th>23515</th>\n",
              "      <td>6571</td>\n",
              "      <td>in case     a total daily dose of    mg sertra...</td>\n",
              "      <td>1</td>\n",
              "      <td>[tensor(0.3317), tensor(-0.1566), tensor(0.090...</td>\n",
              "    </tr>\n",
              "  </tbody>\n",
              "</table>\n",
              "<p>23516 rows × 4 columns</p>\n",
              "</div>"
            ],
            "text/plain": [
              "       Unnamed: 0  ...                                 sentence embedding\n",
              "0           12606  ...  [tensor(0.1063), tensor(-0.1751), tensor(0.054...\n",
              "1             685  ...  [tensor(0.1218), tensor(0.0149), tensor(0.0538...\n",
              "2            5127  ...  [tensor(0.2673), tensor(-0.4645), tensor(0.142...\n",
              "3            3158  ...  [tensor(0.2104), tensor(0.0648), tensor(0.1514...\n",
              "4           10685  ...  [tensor(0.3071), tensor(0.0527), tensor(0.2132...\n",
              "...           ...  ...                                                ...\n",
              "23511         982  ...  [tensor(0.2470), tensor(-0.0672), tensor(0.041...\n",
              "23512       14487  ...  [tensor(0.3366), tensor(-0.1031), tensor(0.076...\n",
              "23513        4680  ...  [tensor(0.0419), tensor(-0.0837), tensor(-0.12...\n",
              "23514        2588  ...  [tensor(0.1589), tensor(-0.0323), tensor(0.144...\n",
              "23515        6571  ...  [tensor(0.3317), tensor(-0.1566), tensor(0.090...\n",
              "\n",
              "[23516 rows x 4 columns]"
            ]
          },
          "metadata": {
            "tags": []
          },
          "execution_count": 10
        }
      ]
    },
    {
      "cell_type": "code",
      "metadata": {
        "colab": {
          "base_uri": "https://localhost:8080/",
          "height": 1000
        },
        "id": "wI90y3UJWV9u",
        "outputId": "08e57070-6ba5-4e0a-80b7-67a85a45a6a9"
      },
      "source": [
        "str(df['sentence embedding'][0])"
      ],
      "execution_count": null,
      "outputs": [
        {
          "output_type": "execute_result",
          "data": {
            "application/vnd.google.colaboratory.intrinsic+json": {
              "type": "string"
            },
            "text/plain": [
              "'tensor([ 1.0630e-01, -1.7514e-01,  5.3981e-02,  5.7100e-02, -6.7401e-02,\\n        -2.2782e-01, -3.3018e-01, -3.6087e-02,  2.6421e-01, -4.6867e-03,\\n         2.8338e-02,  1.4366e-01, -2.7739e-01,  5.6030e-01, -1.7044e-01,\\n         6.0797e-02,  7.9031e-02, -3.1783e-02, -5.6769e-02, -1.3256e-01,\\n         1.5149e-01, -5.3740e-02, -1.8792e-01,  9.5438e-02,  1.7546e-01,\\n        -2.2365e-01,  3.1053e-01,  5.5525e-01, -6.4854e-02,  2.1539e-01,\\n         1.7027e-01, -8.1040e-02, -8.6806e-02,  1.9749e-01,  8.9627e-02,\\n         2.5893e-01,  8.8802e-03, -1.7284e-02, -1.5036e-01,  1.8266e-01,\\n         9.2708e-02, -1.2613e-01,  6.6318e-03, -9.1263e-02, -3.2770e-02,\\n        -3.3292e-01, -1.3071e-01, -1.7468e-01, -2.7177e-01,  9.3850e-02,\\n         4.2522e-01, -5.2253e-02,  2.6860e-01, -1.2664e-01, -3.1758e-02,\\n        -3.7674e-01, -6.4079e-02, -9.4595e-02,  1.8342e-01,  1.1529e-01,\\n         3.0250e-02, -1.4873e-01,  3.0300e-01,  1.3668e-02, -3.9916e-02,\\n         3.7813e-01, -2.2918e-01, -1.8344e-01,  7.7096e-02,  3.3833e-01,\\n        -4.9855e-02, -8.9371e-03, -5.7088e-02, -1.2486e-01,  1.6649e-01,\\n        -1.9853e-01,  2.5416e-02,  1.1416e-01,  2.3126e-01,  5.6400e-02,\\n         2.5981e-01, -2.0003e-01, -1.5719e-01,  2.7182e-01, -3.2972e-02,\\n         1.8259e-01,  1.5259e-01, -1.0439e-01, -1.6647e-01, -4.3766e-02,\\n         9.9293e-02, -1.5503e-03,  6.9801e-02, -5.2305e-02,  3.9945e-02,\\n         1.5560e-01, -3.7389e-02, -2.8313e-01,  1.3300e-01, -1.4027e-01,\\n         4.5321e-02,  1.1692e-01, -3.3674e-02,  1.6095e-02,  7.0209e-03,\\n        -2.2823e-01,  1.6166e-01, -2.9878e-01,  5.7825e-02,  4.9611e-01,\\n         1.5109e-01,  1.9772e-02,  2.2535e-01, -5.4849e-02,  5.6945e-02,\\n         1.8502e-01,  5.4870e-03,  2.5497e-01, -1.4407e-01, -1.9340e-01,\\n         2.4561e-01,  1.9093e-01, -1.2935e-02,  1.4894e-01,  2.9471e-02,\\n        -1.1700e-02,  9.5894e-02, -4.3214e-02,  7.9132e-02,  2.3304e-01,\\n        -2.9651e-01, -1.7141e-01,  9.6883e-02,  9.7067e-02, -1.9539e-01,\\n         2.7629e-01, -7.1947e-01, -1.1204e-01, -7.6990e-01, -2.2798e-01,\\n         5.3456e-02,  2.0817e-01, -7.7647e-03, -1.4206e-01,  1.9672e-01,\\n         1.5392e-01, -2.2751e-01, -1.7608e-01,  2.3504e-01,  2.9381e-02,\\n        -7.7257e-03, -3.8657e-01,  1.2286e-02, -1.0892e-01, -1.3255e-02,\\n        -1.0390e-01,  1.0295e-01, -3.1636e-01,  1.1921e-01,  3.6122e-02,\\n        -2.6278e-02,  7.8519e-02,  1.3668e-02,  1.9932e-01, -3.8192e-02,\\n        -3.4127e-02,  1.9553e-01,  1.3205e-01, -2.0287e-01,  4.7303e-02,\\n        -1.6731e-01, -5.2999e-02, -3.7072e-02,  3.4385e-01,  3.9296e-01,\\n         1.8079e-01,  2.4044e-01,  1.0544e-01, -3.5612e-01,  1.5295e-01,\\n        -1.4616e-01, -4.0370e-01, -6.5273e-02, -7.3107e-02, -2.3460e-01,\\n         2.3738e-02,  5.0680e-02, -1.1033e-01,  1.9722e-01,  1.0649e-01,\\n         4.1770e-01, -3.9973e-01, -2.7938e-01,  5.2732e-03, -1.9469e-01,\\n        -1.7114e-01, -7.6990e-02, -2.7612e-02,  2.9396e-01, -2.0898e-01,\\n         4.4763e-02,  1.9065e-03, -5.5261e-01, -4.0604e-02,  6.0768e-03,\\n        -3.5979e-01, -1.3741e-01,  5.8395e-02, -1.2525e-01,  6.2955e-02,\\n         7.3336e-02,  2.8602e-02,  6.1424e-02, -2.1725e-01, -1.4243e-01,\\n        -2.0265e-01,  1.1972e-01, -5.3115e-02,  1.4377e-01,  4.9783e-02,\\n        -1.0842e-01, -3.0341e-01,  2.1468e-02,  2.7971e-01, -3.2359e-02,\\n         2.6908e-01,  2.9754e-02, -8.1439e-02,  2.8032e-01,  7.7122e-02,\\n        -2.6510e-02,  1.9486e-01, -4.5562e-03, -8.4445e-02, -2.9687e-01,\\n        -1.3993e-01, -1.8701e-01,  2.3061e-01, -4.5775e-01,  1.8244e-01,\\n         3.3675e-02,  2.3701e-01,  3.2892e-01,  3.8355e-02,  2.7914e-01,\\n         1.7055e-01, -1.6952e-01,  3.7496e-01,  1.3908e-01,  2.3360e-01,\\n        -5.2917e-02, -2.8510e-02,  3.3312e-01, -1.8522e-02,  3.0851e-01,\\n         8.4696e-02,  5.3929e-02,  3.0085e-01, -4.8694e-01, -1.6272e-01,\\n         5.1350e-02, -2.2572e-02,  1.6220e-01, -1.6820e-01,  5.1418e-02,\\n        -7.2874e-03,  1.9139e-02,  3.7514e-01, -3.3147e-01,  3.2185e-01,\\n        -1.0069e-01,  2.6095e-01,  6.2965e-02,  3.5042e-01, -7.0558e-02,\\n         1.0601e-01,  9.2369e-02, -2.3685e-01,  3.7564e-01,  1.0052e-01,\\n         1.1521e-01,  8.2513e-03,  5.2519e-02, -1.4291e-01, -2.6822e-01,\\n         3.2797e-02,  2.9079e-01, -1.4145e-02,  2.4678e-02, -3.2594e-01,\\n         5.9499e-02,  6.7842e-02, -4.3767e-01, -1.1279e-01,  2.6717e-02,\\n        -4.8562e-03, -1.7727e-01,  7.7690e-02, -1.6189e-01, -4.5478e-02,\\n         8.5933e-02,  3.9695e-02,  2.5583e-02, -6.1864e-02, -5.9613e-02,\\n         2.8143e-01,  2.1033e-01,  3.2628e-01,  1.9774e-01,  1.8092e-01,\\n        -9.6733e-02,  7.5896e-02,  8.7547e-02, -2.6789e-01, -2.1650e-01,\\n        -2.5913e-02,  2.0399e-01,  1.3938e-01, -1.0738e-02, -4.7769e-03,\\n        -5.0855e-02, -5.2379e-02, -8.2871e-02, -1.8055e-01, -3.5656e-02,\\n        -2.2163e-01,  2.3532e-01, -8.3953e-02,  2.7535e-01, -2.5514e-01,\\n         5.3932e-02, -3.8568e-01, -1.1306e-01, -9.6872e-02,  7.9839e-02,\\n         1.3060e-02, -7.8292e-02,  4.5410e-01, -1.0131e-01,  2.0033e-01,\\n         2.2912e-01,  2.3052e-01,  2.6852e-01,  9.4792e-02,  2.2661e-02,\\n         2.6349e-01,  1.6105e-02, -1.4859e-01,  6.6788e-02,  5.7609e-02,\\n        -1.6959e-01, -7.6822e-02, -2.0030e-01, -4.6920e-03,  2.4379e-01,\\n         1.0576e-01,  5.2601e-03,  2.4241e-01, -3.0859e-02, -2.1901e-01,\\n         1.0496e-01,  1.0087e-01,  4.9075e-02,  2.9532e-03, -1.7949e-01,\\n        -3.4127e-01,  7.9867e-02,  1.8704e-01, -4.2295e-01, -9.5573e-02,\\n         3.3194e-01, -2.0665e-02,  2.8171e-01,  1.9401e-01, -6.5733e-02,\\n        -1.2956e-01, -4.8140e-02, -2.5953e-01,  5.8159e-03, -2.5894e-01,\\n        -1.4677e-01,  1.9471e-01,  1.0979e-01, -7.2202e-02,  2.2062e-02,\\n         2.7039e-01, -1.7100e-01, -4.4170e-02,  2.2730e-01, -4.9391e-02,\\n        -1.1654e-01,  3.8593e-02,  8.3597e-03, -1.3532e-01, -7.9279e-02,\\n        -9.2538e-02, -1.2552e-01, -5.1292e-03,  1.0950e-01, -1.2742e-01,\\n        -1.0510e-01,  1.0161e-01, -3.5329e-01,  9.3445e-02,  8.8409e-03,\\n         6.2668e-02,  4.4356e-02, -1.3543e-01,  5.3156e-02, -3.5915e-02,\\n        -3.4087e-02, -4.7826e-01, -1.2325e-01,  4.9345e-01,  3.2505e-01,\\n        -2.7282e-01,  1.1618e-01,  1.8769e-02,  4.7973e-01, -6.0686e-02,\\n        -2.7321e-01,  9.6846e-02, -5.8227e-02, -2.2173e-01,  3.9590e-01,\\n        -7.5581e-02,  6.5723e-02,  2.5967e-02, -9.3424e-02,  9.0145e-02,\\n         7.0304e-02,  2.2265e-01, -8.0390e-02, -1.4253e-01,  3.5600e-02,\\n         2.1181e-01,  3.0686e-02, -2.1327e-01,  2.4816e-01, -2.9425e-01,\\n         1.9158e-01, -4.2038e-01,  1.8076e-02, -1.7170e-01, -3.6199e-02,\\n        -1.3062e-02,  4.2753e-03, -1.3043e-01, -2.3113e-01, -9.2835e-03,\\n         8.2292e-02,  1.5850e-01, -2.6975e-02,  5.4391e-02,  2.3651e-02,\\n        -2.9103e-01,  2.0558e-01, -5.1228e-02, -1.6095e-01, -2.2249e-01,\\n        -6.0891e-02, -1.4581e-01,  5.8297e-02,  1.3129e-01,  1.9381e-01,\\n        -2.7835e-01, -8.4141e-02,  2.3827e-01,  2.9068e-02,  2.9216e-01,\\n        -8.0412e-02, -1.9175e-04,  2.5335e-01,  1.1359e-02, -2.1289e-01,\\n         1.8673e-01, -3.2311e-02,  3.5388e-01, -1.0213e-01,  3.0559e-01,\\n        -1.8486e-01,  2.7643e-02, -1.9747e-01,  2.5650e-01, -1.9195e-02,\\n         1.7277e-01,  4.1587e-01,  2.1881e-02, -2.8477e-01,  9.4448e-02,\\n         1.6366e-01, -9.1172e-02, -3.2077e-01,  1.3319e-01,  4.5268e-02,\\n         1.5840e-01, -5.3550e-03,  2.1898e-01,  1.1716e-02, -2.0132e-01,\\n        -1.0181e-01, -1.0411e-01, -8.0220e-02,  1.9489e-01, -3.4887e-02,\\n         1.3972e-01,  7.7749e-02,  2.4308e-01,  1.3607e-01, -2.8198e-01,\\n        -3.6862e-01, -5.9998e-01, -6.4589e-02,  1.3106e-01, -1.3695e-01,\\n        -1.7385e-01, -2.8709e-01, -4.7743e-02, -1.9325e-01, -1.9807e-01,\\n         2.0565e-01, -1.4126e-01, -1.7887e-01,  7.4837e-02, -4.0970e-01,\\n        -1.2575e-01,  3.9709e-01,  2.9356e-01, -2.0195e-01, -2.3410e-02,\\n         1.2047e-01, -3.7959e-02,  5.7272e-02, -1.3969e-01, -1.2249e-01,\\n         1.8852e-01, -1.3823e-03, -2.0367e-01,  1.3189e-01,  3.6734e-01,\\n        -2.2230e-01, -2.7134e-02, -5.1143e-02, -1.7343e-01,  2.2428e-01,\\n         9.3432e-02,  2.3348e-01,  2.7561e-01,  1.3852e-01, -2.0158e-03,\\n        -6.6639e-02,  1.0058e-01, -3.6122e-01, -3.2881e-02,  6.6828e-02,\\n         2.7216e-01,  1.2506e-01, -9.0913e+00,  1.5558e-01, -8.5755e-02,\\n         3.1462e-02, -8.4366e-02,  1.3097e-01,  2.2500e-01,  1.2835e-01,\\n        -6.1260e-02,  2.3508e-01,  7.9580e-02, -1.8786e-01,  2.3085e-01,\\n        -3.7930e-02,  7.7776e-02, -1.5735e-01,  2.5470e-01,  1.7782e-01,\\n         2.4945e-03, -1.7974e-02, -1.6253e-01, -2.1842e-02, -5.3469e-02,\\n         9.2684e-02,  1.8564e-01,  2.6954e-01,  8.5726e-02,  1.0884e-01,\\n         1.0072e-01,  2.7047e-02, -4.4931e-01,  2.2143e-01, -1.1346e-01,\\n        -2.6339e-01, -5.4155e-02,  7.1319e-02,  1.2364e-01,  1.3404e-01,\\n        -2.7344e-02, -1.7060e-01, -1.7975e-01, -5.2716e-02,  5.3135e-02,\\n        -2.6977e-01, -2.8721e-02, -1.1228e-01, -1.6165e-01, -1.2348e-01,\\n         6.9722e-02,  1.0201e-01,  2.0924e-01, -5.1059e-02, -1.0144e-02,\\n        -1.6891e-01, -1.9332e-01,  6.8584e-02, -1.6881e-01,  4.7216e-01,\\n         3.0020e-01,  1.4976e-01, -1.5447e-01, -1.5122e-01,  1.6626e-01,\\n        -5.3330e-01, -1.4993e-02,  1.0050e-01, -2.7827e-01,  1.8672e-01,\\n         7.1459e-02,  1.1691e-01, -2.2085e-01,  1.6611e-02,  1.0644e-01,\\n        -3.7508e-02,  2.1111e-01,  3.7519e-02, -3.3357e-02,  1.2923e-01,\\n        -2.4014e-02, -1.7307e-01,  2.4953e-01,  1.1159e-01,  1.5877e-01,\\n        -2.4307e-01, -1.1721e-01, -7.2262e-02, -6.2886e-01,  3.0348e-01,\\n         1.8652e-01,  3.2828e-02, -5.5130e-02,  1.2871e-01,  4.8905e-02,\\n        -1.6808e-01, -4.5623e-01,  1.0037e-01, -2.9078e-01, -1.3637e-01,\\n        -4.8683e-02, -1.5265e-02, -8.7537e-02,  2.5015e-01, -2.0847e-01,\\n        -9.4787e-02,  5.4679e-02, -1.3924e-01, -2.5595e-02,  4.4335e-02,\\n        -2.7963e-01,  1.9681e-01, -4.7309e-02,  1.0449e-01, -6.5568e-02,\\n        -2.2138e-01, -2.7507e-03, -1.4101e-01,  3.4095e-01,  2.9092e-02,\\n         3.4839e-01,  1.6681e-01,  4.5703e-02,  1.5697e-01, -1.2924e-01,\\n        -5.1448e-02,  1.9346e-01,  2.3869e-02,  1.6577e-01, -2.2958e-01,\\n        -1.8350e-02,  1.2397e-01,  1.8935e-01,  2.9310e-01, -3.5684e-01,\\n         2.7595e-01,  1.2176e-01, -4.2455e-02,  1.6196e-01, -6.8179e-02,\\n        -1.0277e-01, -2.8961e-01, -3.1394e-01,  1.8455e-01,  2.2412e-02,\\n         1.8024e-01,  1.1175e-01,  1.7316e-01, -4.4430e-02, -2.8269e-01,\\n        -4.8181e-01, -1.3785e-01, -7.3195e-02,  2.4299e-01,  1.2588e-02,\\n        -2.8864e-01,  2.9358e-01, -4.5151e-02,  1.9190e-01,  2.8527e-01,\\n        -1.1082e-01, -7.5759e-02, -2.1530e-01,  3.4644e-01,  5.9761e-01,\\n         1.7376e-02,  8.3842e-02, -3.1028e-01, -1.7477e-01,  3.0163e-02,\\n         7.0988e-02, -6.8346e-02, -8.8538e-02,  1.2763e-01,  1.7619e-01,\\n         3.2182e-02, -3.1225e-01,  9.8754e-02,  9.4521e-02, -1.5708e-01,\\n        -9.0545e-02,  1.6913e-01, -1.4329e-01, -5.9411e-02, -8.4040e-02,\\n        -1.9459e-01, -1.4082e-01,  2.3695e-02, -2.2221e-02, -1.6304e-01,\\n        -2.0782e-01,  5.5634e-02, -3.7323e-01, -2.5751e-01, -2.9440e-01,\\n         1.6249e-01,  9.0736e-02,  7.0874e-02, -1.6009e-01, -9.9673e-02,\\n         1.5400e-01,  2.6011e-01, -1.0872e-01, -6.3821e-02,  2.9575e-01,\\n        -3.1766e-01, -8.0661e-02,  1.4745e-01,  7.8391e-02,  1.9272e-01,\\n         2.1109e-01, -1.0725e-01,  1.3992e-01])'"
            ]
          },
          "metadata": {
            "tags": []
          },
          "execution_count": 11
        }
      ]
    },
    {
      "cell_type": "code",
      "metadata": {
        "colab": {
          "base_uri": "https://localhost:8080/"
        },
        "id": "Hpx5WTwNInyy",
        "outputId": "f540cb8f-d154-44f9-aaee-cccaee2ccd2a"
      },
      "source": [
        "type(df['sentence embedding'])"
      ],
      "execution_count": null,
      "outputs": [
        {
          "output_type": "execute_result",
          "data": {
            "text/plain": [
              "pandas.core.series.Series"
            ]
          },
          "metadata": {
            "tags": []
          },
          "execution_count": 12
        }
      ]
    },
    {
      "cell_type": "code",
      "metadata": {
        "id": "_jVQsBQXOeDN"
      },
      "source": [
        "df.to_csv('biobert_ade_preprocessed')"
      ],
      "execution_count": null,
      "outputs": []
    },
    {
      "cell_type": "code",
      "metadata": {
        "colab": {
          "base_uri": "https://localhost:8080/"
        },
        "id": "PdXS5YHzOpr-",
        "outputId": "0570c215-3429-4b28-933d-de6b7c993dd1"
      },
      "source": [
        "import nltk \n",
        "nltk.download('stopwords')\n",
        "nltk.download('punkt')"
      ],
      "execution_count": null,
      "outputs": [
        {
          "output_type": "stream",
          "text": [
            "[nltk_data] Downloading package stopwords to /root/nltk_data...\n",
            "[nltk_data]   Unzipping corpora/stopwords.zip.\n",
            "[nltk_data] Downloading package punkt to /root/nltk_data...\n",
            "[nltk_data]   Unzipping tokenizers/punkt.zip.\n"
          ],
          "name": "stdout"
        },
        {
          "output_type": "execute_result",
          "data": {
            "text/plain": [
              "True"
            ]
          },
          "metadata": {
            "tags": []
          },
          "execution_count": 14
        }
      ]
    },
    {
      "cell_type": "code",
      "metadata": {
        "id": "WgxyRRNTTDOd"
      },
      "source": [
        "df['sentence embedding']=df['sentence embedding'].str"
      ],
      "execution_count": null,
      "outputs": []
    },
    {
      "cell_type": "code",
      "metadata": {
        "colab": {
          "base_uri": "https://localhost:8080/"
        },
        "id": "Q2Kgivwmb9cQ",
        "outputId": "0fe5d60f-38bd-47f5-b02a-c10c68fee7b8"
      },
      "source": [
        "df['sentence embedding']"
      ],
      "execution_count": null,
      "outputs": [
        {
          "output_type": "execute_result",
          "data": {
            "text/plain": [
              "0        <pandas.core.strings.StringMethods object at 0...\n",
              "1        <pandas.core.strings.StringMethods object at 0...\n",
              "2        <pandas.core.strings.StringMethods object at 0...\n",
              "3        <pandas.core.strings.StringMethods object at 0...\n",
              "4        <pandas.core.strings.StringMethods object at 0...\n",
              "                               ...                        \n",
              "23511    <pandas.core.strings.StringMethods object at 0...\n",
              "23512    <pandas.core.strings.StringMethods object at 0...\n",
              "23513    <pandas.core.strings.StringMethods object at 0...\n",
              "23514    <pandas.core.strings.StringMethods object at 0...\n",
              "23515    <pandas.core.strings.StringMethods object at 0...\n",
              "Name: sentence embedding, Length: 23516, dtype: object"
            ]
          },
          "metadata": {
            "tags": []
          },
          "execution_count": 16
        }
      ]
    },
    {
      "cell_type": "code",
      "metadata": {
        "colab": {
          "base_uri": "https://localhost:8080/",
          "height": 1000
        },
        "id": "uue4tpGce53q",
        "outputId": "90f65377-1f4e-4ba0-d9c5-580840e11785"
      },
      "source": [
        "df"
      ],
      "execution_count": null,
      "outputs": [
        {
          "output_type": "execute_result",
          "data": {
            "text/html": [
              "<div>\n",
              "<style scoped>\n",
              "    .dataframe tbody tr th:only-of-type {\n",
              "        vertical-align: middle;\n",
              "    }\n",
              "\n",
              "    .dataframe tbody tr th {\n",
              "        vertical-align: top;\n",
              "    }\n",
              "\n",
              "    .dataframe thead th {\n",
              "        text-align: right;\n",
              "    }\n",
              "</style>\n",
              "<table border=\"1\" class=\"dataframe\">\n",
              "  <thead>\n",
              "    <tr style=\"text-align: right;\">\n",
              "      <th></th>\n",
              "      <th>Unnamed: 0</th>\n",
              "      <th>observation</th>\n",
              "      <th>labels</th>\n",
              "      <th>sentence embedding</th>\n",
              "    </tr>\n",
              "  </thead>\n",
              "  <tbody>\n",
              "    <tr>\n",
              "      <th>0</th>\n",
              "      <td>12606</td>\n",
              "      <td>early phase ii semi double blind study of the ...</td>\n",
              "      <td>0</td>\n",
              "      <td>&lt;pandas.core.strings.StringMethods object at 0...</td>\n",
              "    </tr>\n",
              "    <tr>\n",
              "      <th>1</th>\n",
              "      <td>685</td>\n",
              "      <td>cessation of mtx therapy led to complete regre...</td>\n",
              "      <td>0</td>\n",
              "      <td>&lt;pandas.core.strings.StringMethods object at 0...</td>\n",
              "    </tr>\n",
              "    <tr>\n",
              "      <th>2</th>\n",
              "      <td>5127</td>\n",
              "      <td>cutaneous biopsy showed hyphae and round inclu...</td>\n",
              "      <td>0</td>\n",
              "      <td>&lt;pandas.core.strings.StringMethods object at 0...</td>\n",
              "    </tr>\n",
              "    <tr>\n",
              "      <th>3</th>\n",
              "      <td>3158</td>\n",
              "      <td>she was treated with acyclovir and subsequentl...</td>\n",
              "      <td>1</td>\n",
              "      <td>&lt;pandas.core.strings.StringMethods object at 0...</td>\n",
              "    </tr>\n",
              "    <tr>\n",
              "      <th>4</th>\n",
              "      <td>10685</td>\n",
              "      <td>cisplatin was substituted and the patient achi...</td>\n",
              "      <td>0</td>\n",
              "      <td>&lt;pandas.core.strings.StringMethods object at 0...</td>\n",
              "    </tr>\n",
              "    <tr>\n",
              "      <th>...</th>\n",
              "      <td>...</td>\n",
              "      <td>...</td>\n",
              "      <td>...</td>\n",
              "      <td>...</td>\n",
              "    </tr>\n",
              "    <tr>\n",
              "      <th>23511</th>\n",
              "      <td>982</td>\n",
              "      <td>ticlopidine induced aplastic anemia  two new c...</td>\n",
              "      <td>1</td>\n",
              "      <td>&lt;pandas.core.strings.StringMethods object at 0...</td>\n",
              "    </tr>\n",
              "    <tr>\n",
              "      <th>23512</th>\n",
              "      <td>14487</td>\n",
              "      <td>the risks of sumatriptan administration in pat...</td>\n",
              "      <td>0</td>\n",
              "      <td>&lt;pandas.core.strings.StringMethods object at 0...</td>\n",
              "    </tr>\n",
              "    <tr>\n",
              "      <th>23513</th>\n",
              "      <td>4680</td>\n",
              "      <td>however   the spectrum of hosts and clinical p...</td>\n",
              "      <td>0</td>\n",
              "      <td>&lt;pandas.core.strings.StringMethods object at 0...</td>\n",
              "    </tr>\n",
              "    <tr>\n",
              "      <th>23514</th>\n",
              "      <td>2588</td>\n",
              "      <td>antibiotic treatment should be continued</td>\n",
              "      <td>0</td>\n",
              "      <td>&lt;pandas.core.strings.StringMethods object at 0...</td>\n",
              "    </tr>\n",
              "    <tr>\n",
              "      <th>23515</th>\n",
              "      <td>6571</td>\n",
              "      <td>in case     a total daily dose of    mg sertra...</td>\n",
              "      <td>1</td>\n",
              "      <td>&lt;pandas.core.strings.StringMethods object at 0...</td>\n",
              "    </tr>\n",
              "  </tbody>\n",
              "</table>\n",
              "<p>23516 rows × 4 columns</p>\n",
              "</div>"
            ],
            "text/plain": [
              "       Unnamed: 0  ...                                 sentence embedding\n",
              "0           12606  ...  <pandas.core.strings.StringMethods object at 0...\n",
              "1             685  ...  <pandas.core.strings.StringMethods object at 0...\n",
              "2            5127  ...  <pandas.core.strings.StringMethods object at 0...\n",
              "3            3158  ...  <pandas.core.strings.StringMethods object at 0...\n",
              "4           10685  ...  <pandas.core.strings.StringMethods object at 0...\n",
              "...           ...  ...                                                ...\n",
              "23511         982  ...  <pandas.core.strings.StringMethods object at 0...\n",
              "23512       14487  ...  <pandas.core.strings.StringMethods object at 0...\n",
              "23513        4680  ...  <pandas.core.strings.StringMethods object at 0...\n",
              "23514        2588  ...  <pandas.core.strings.StringMethods object at 0...\n",
              "23515        6571  ...  <pandas.core.strings.StringMethods object at 0...\n",
              "\n",
              "[23516 rows x 4 columns]"
            ]
          },
          "metadata": {
            "tags": []
          },
          "execution_count": 17
        }
      ]
    },
    {
      "cell_type": "code",
      "metadata": {
        "id": "y4AA99SmfDC3"
      },
      "source": [
        "df=pd.read_csv('/content/biobert_ade_preprocessed')"
      ],
      "execution_count": null,
      "outputs": []
    },
    {
      "cell_type": "code",
      "metadata": {
        "colab": {
          "base_uri": "https://localhost:8080/",
          "height": 1000
        },
        "id": "p0pHoxNqfIJp",
        "outputId": "b4606f79-0f59-4a96-ce90-9efb35a4127b"
      },
      "source": [
        "df"
      ],
      "execution_count": null,
      "outputs": [
        {
          "output_type": "execute_result",
          "data": {
            "text/html": [
              "<div>\n",
              "<style scoped>\n",
              "    .dataframe tbody tr th:only-of-type {\n",
              "        vertical-align: middle;\n",
              "    }\n",
              "\n",
              "    .dataframe tbody tr th {\n",
              "        vertical-align: top;\n",
              "    }\n",
              "\n",
              "    .dataframe thead th {\n",
              "        text-align: right;\n",
              "    }\n",
              "</style>\n",
              "<table border=\"1\" class=\"dataframe\">\n",
              "  <thead>\n",
              "    <tr style=\"text-align: right;\">\n",
              "      <th></th>\n",
              "      <th>Unnamed: 0</th>\n",
              "      <th>Unnamed: 0.1</th>\n",
              "      <th>observation</th>\n",
              "      <th>labels</th>\n",
              "      <th>sentence embedding</th>\n",
              "    </tr>\n",
              "  </thead>\n",
              "  <tbody>\n",
              "    <tr>\n",
              "      <th>0</th>\n",
              "      <td>0</td>\n",
              "      <td>12606</td>\n",
              "      <td>early phase ii semi double blind study of the ...</td>\n",
              "      <td>0</td>\n",
              "      <td>tensor([ 1.0630e-01, -1.7514e-01,  5.3981e-02,...</td>\n",
              "    </tr>\n",
              "    <tr>\n",
              "      <th>1</th>\n",
              "      <td>1</td>\n",
              "      <td>685</td>\n",
              "      <td>cessation of mtx therapy led to complete regre...</td>\n",
              "      <td>0</td>\n",
              "      <td>tensor([ 1.2176e-01,  1.4887e-02,  5.3779e-02,...</td>\n",
              "    </tr>\n",
              "    <tr>\n",
              "      <th>2</th>\n",
              "      <td>2</td>\n",
              "      <td>5127</td>\n",
              "      <td>cutaneous biopsy showed hyphae and round inclu...</td>\n",
              "      <td>0</td>\n",
              "      <td>tensor([ 2.6735e-01, -4.6452e-01,  1.4280e-01,...</td>\n",
              "    </tr>\n",
              "    <tr>\n",
              "      <th>3</th>\n",
              "      <td>3</td>\n",
              "      <td>3158</td>\n",
              "      <td>she was treated with acyclovir and subsequentl...</td>\n",
              "      <td>1</td>\n",
              "      <td>tensor([ 2.1039e-01,  6.4826e-02,  1.5143e-01,...</td>\n",
              "    </tr>\n",
              "    <tr>\n",
              "      <th>4</th>\n",
              "      <td>4</td>\n",
              "      <td>10685</td>\n",
              "      <td>cisplatin was substituted and the patient achi...</td>\n",
              "      <td>0</td>\n",
              "      <td>tensor([ 3.0714e-01,  5.2705e-02,  2.1322e-01,...</td>\n",
              "    </tr>\n",
              "    <tr>\n",
              "      <th>...</th>\n",
              "      <td>...</td>\n",
              "      <td>...</td>\n",
              "      <td>...</td>\n",
              "      <td>...</td>\n",
              "      <td>...</td>\n",
              "    </tr>\n",
              "    <tr>\n",
              "      <th>23511</th>\n",
              "      <td>23511</td>\n",
              "      <td>982</td>\n",
              "      <td>ticlopidine induced aplastic anemia  two new c...</td>\n",
              "      <td>1</td>\n",
              "      <td>tensor([ 2.4703e-01, -6.7190e-02,  4.1837e-02,...</td>\n",
              "    </tr>\n",
              "    <tr>\n",
              "      <th>23512</th>\n",
              "      <td>23512</td>\n",
              "      <td>14487</td>\n",
              "      <td>the risks of sumatriptan administration in pat...</td>\n",
              "      <td>0</td>\n",
              "      <td>tensor([ 3.3657e-01, -1.0307e-01,  7.6318e-02,...</td>\n",
              "    </tr>\n",
              "    <tr>\n",
              "      <th>23513</th>\n",
              "      <td>23513</td>\n",
              "      <td>4680</td>\n",
              "      <td>however   the spectrum of hosts and clinical p...</td>\n",
              "      <td>0</td>\n",
              "      <td>tensor([ 4.1880e-02, -8.3680e-02, -1.2667e-01,...</td>\n",
              "    </tr>\n",
              "    <tr>\n",
              "      <th>23514</th>\n",
              "      <td>23514</td>\n",
              "      <td>2588</td>\n",
              "      <td>antibiotic treatment should be continued</td>\n",
              "      <td>0</td>\n",
              "      <td>tensor([ 1.5891e-01, -3.2259e-02,  1.4395e-01,...</td>\n",
              "    </tr>\n",
              "    <tr>\n",
              "      <th>23515</th>\n",
              "      <td>23515</td>\n",
              "      <td>6571</td>\n",
              "      <td>in case     a total daily dose of    mg sertra...</td>\n",
              "      <td>1</td>\n",
              "      <td>tensor([ 3.3168e-01, -1.5663e-01,  9.0562e-02,...</td>\n",
              "    </tr>\n",
              "  </tbody>\n",
              "</table>\n",
              "<p>23516 rows × 5 columns</p>\n",
              "</div>"
            ],
            "text/plain": [
              "       Unnamed: 0  ...                                 sentence embedding\n",
              "0               0  ...  tensor([ 1.0630e-01, -1.7514e-01,  5.3981e-02,...\n",
              "1               1  ...  tensor([ 1.2176e-01,  1.4887e-02,  5.3779e-02,...\n",
              "2               2  ...  tensor([ 2.6735e-01, -4.6452e-01,  1.4280e-01,...\n",
              "3               3  ...  tensor([ 2.1039e-01,  6.4826e-02,  1.5143e-01,...\n",
              "4               4  ...  tensor([ 3.0714e-01,  5.2705e-02,  2.1322e-01,...\n",
              "...           ...  ...                                                ...\n",
              "23511       23511  ...  tensor([ 2.4703e-01, -6.7190e-02,  4.1837e-02,...\n",
              "23512       23512  ...  tensor([ 3.3657e-01, -1.0307e-01,  7.6318e-02,...\n",
              "23513       23513  ...  tensor([ 4.1880e-02, -8.3680e-02, -1.2667e-01,...\n",
              "23514       23514  ...  tensor([ 1.5891e-01, -3.2259e-02,  1.4395e-01,...\n",
              "23515       23515  ...  tensor([ 3.3168e-01, -1.5663e-01,  9.0562e-02,...\n",
              "\n",
              "[23516 rows x 5 columns]"
            ]
          },
          "metadata": {
            "tags": []
          },
          "execution_count": 19
        }
      ]
    },
    {
      "cell_type": "code",
      "metadata": {
        "id": "tyeR7ZJahHiJ"
      },
      "source": [
        ""
      ],
      "execution_count": null,
      "outputs": []
    }
  ]
}